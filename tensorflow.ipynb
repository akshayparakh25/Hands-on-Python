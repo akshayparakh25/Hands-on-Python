{
 "cells": [
  {
   "cell_type": "markdown",
   "metadata": {},
   "source": [
    "# Tensorflow \n",
    "Open source library for numerical computation using data flow graph. Created and Maintained by Google.<br><br>\n",
    "Tensorflow got it's name from **tensor**, array of arbitrary dmensions. Using Tensorflow, one can manipulate tensors with higher dimensions."
   ]
  },
  {
   "cell_type": "markdown",
   "metadata": {},
   "source": [
    "## Why Tensorflow?\n",
    "1. Efficient\n",
    "2. Scalable\n",
    "3. Maintainable\n",
    "4. Portable\n",
    "5. Flexible\n",
    "6. Visualization in TensorBoard\n",
    "7. Easy to save and restore models"
   ]
  },
  {
   "cell_type": "code",
   "execution_count": 1,
   "metadata": {},
   "outputs": [],
   "source": [
    "import os\n",
    "os.environ['TF_CPP_MIN_LOG_LEVEL']='2'\n",
    "import tensorflow as tf"
   ]
  },
  {
   "cell_type": "markdown",
   "metadata": {},
   "source": [
    "## How Tensorflow works?\n",
    "Tensorflow operations creates, destroys, and manipulates tensors. All the computation can be operations can be easily visualized using *computation graph* or *data flow graph*.<br>\n",
    "Graph's **nodes** are operations and **edges** are tensors. Tensors flows through graph, and gets manipulated at each node by an operation."
   ]
  },
  {
   "cell_type": "markdown",
   "metadata": {},
   "source": [
    "### Tensor\n",
    "A tensor is an n-d array,\n",
    "* 0-d tensor : scalar\n",
    "* 1-d tensor : vector\n",
    "* 2-d tensor : matrix\n",
    "<br>\n",
    "\n",
    "A tensor can be defined as a constant or a variable."
   ]
  },
  {
   "cell_type": "markdown",
   "metadata": {},
   "source": [
    "### Constants"
   ]
  },
  {
   "cell_type": "code",
   "execution_count": 2,
   "metadata": {},
   "outputs": [],
   "source": [
    "s = tf.constant(24)  #scalar\n",
    "v = tf.constant([1, 2, 3, 4], dtype=tf.int64, name='vector')  #vector\n",
    "m = tf.constant([[1,2], [3,4]]) #matrix"
   ]
  },
  {
   "cell_type": "markdown",
   "metadata": {},
   "source": [
    "## Using tf.Session() to evaluate the graph\n",
    "A Session object encapsulates the environment in which memory is allocated for storing values of variables, operations are executed, and tensors are evaluated."
   ]
  },
  {
   "cell_type": "code",
   "execution_count": 3,
   "metadata": {},
   "outputs": [
    {
     "name": "stdout",
     "output_type": "stream",
     "text": [
      "Tensor(\"add:0\", shape=(), dtype=int32)\n",
      "20\n"
     ]
    }
   ],
   "source": [
    "#Creating a graph\n",
    "g = tf.Graph()\n",
    "\n",
    "#Setting the generated graph as default graph\n",
    "with g.as_default():\n",
    "    x = tf.constant(5, name=\"x\")\n",
    "    y = tf.constant(4, name=\"y\")\n",
    "    \n",
    "    add = tf.add(x, y, name=\"add\")\n",
    "    mul = tf.multiply(x, y, name=\"mul\")\n",
    "    \n",
    "    with tf.Session() as sess:\n",
    "        print(add)\n",
    "        print(mul.eval())"
   ]
  },
  {
   "cell_type": "code",
   "execution_count": 4,
   "metadata": {},
   "outputs": [
    {
     "name": "stdout",
     "output_type": "stream",
     "text": [
      "9\n",
      "20\n"
     ]
    }
   ],
   "source": [
    "g = tf.Graph()\n",
    "\n",
    "with g.as_default():\n",
    "    x = tf.constant(5, name=\"x\")\n",
    "    y = tf.constant(4, name=\"y\")\n",
    "    \n",
    "    add = tf.add(x, y, name=\"add\")\n",
    "    mul = tf.multiply(x, y, name=\"mul\")\n",
    "    \n",
    "    with tf.Session() as sess:\n",
    "        #sess.run(fetchees) will help you fetch multiple values, eval() cannot.\n",
    "        a, m = sess.run(fetches=[add, mul])\n",
    "        print(a)\n",
    "        print(m)"
   ]
  },
  {
   "cell_type": "markdown",
   "metadata": {},
   "source": [
    "### Variables"
   ]
  },
  {
   "cell_type": "code",
   "execution_count": 5,
   "metadata": {},
   "outputs": [],
   "source": [
    "#Creating variable using Variable object\n",
    "v_s = tf.Variable(5)\n",
    "v_v = tf.Variable([1, 2, 3, 4], dtype=tf.int32)\n",
    "v_m = tf.Variable(tf.zeros([25,4]), dtype=tf.float32, name=\"matrix\")"
   ]
  },
  {
   "cell_type": "code",
   "execution_count": 6,
   "metadata": {},
   "outputs": [],
   "source": [
    "#Creating variable with tf.get_variable method\n",
    "Weights = tf.get_variable(\"Weigts\", shape=(25,4), initializer=tf.random_uniform_initializer())\n",
    "Bias = tf.get_variable(\"Bias\", initializer=tf.random.normal([25]))"
   ]
  },
  {
   "cell_type": "code",
   "execution_count": 7,
   "metadata": {},
   "outputs": [
    {
     "name": "stdout",
     "output_type": "stream",
     "text": [
      "[[0.17859161 0.662135   0.802531   0.8892286 ]\n",
      " [0.42852056 0.49400282 0.4478383  0.15403903]\n",
      " [0.9868784  0.5225543  0.35956573 0.87094367]\n",
      " [0.42644405 0.05526125 0.5771898  0.70351934]\n",
      " [0.8487822  0.52953184 0.22045517 0.3798436 ]\n",
      " [0.8742199  0.4068097  0.78645957 0.24451363]\n",
      " [0.89029527 0.05570257 0.3968346  0.10618329]\n",
      " [0.13092244 0.7392434  0.86539614 0.11351633]\n",
      " [0.15320158 0.18773556 0.80555    0.2700833 ]\n",
      " [0.3211782  0.04334092 0.20775473 0.50149536]\n",
      " [0.409405   0.8084732  0.9371854  0.05203116]\n",
      " [0.48291016 0.3844452  0.8324512  0.9114362 ]\n",
      " [0.36492896 0.48561502 0.59439087 0.37047064]\n",
      " [0.35242343 0.40764523 0.54853165 0.13580573]\n",
      " [0.26943994 0.22343302 0.7864845  0.65320015]\n",
      " [0.9292009  0.5090842  0.4413376  0.22849226]\n",
      " [0.71244705 0.629125   0.5613841  0.45466185]\n",
      " [0.07376182 0.08303785 0.47045946 0.5401523 ]\n",
      " [0.4683329  0.45486045 0.8270087  0.60877204]\n",
      " [0.9015933  0.3563552  0.22250581 0.47655463]\n",
      " [0.25416493 0.24735153 0.630803   0.07265353]\n",
      " [0.4899131  0.9869052  0.45449412 0.06009722]\n",
      " [0.22758555 0.41529083 0.69275963 0.10232759]\n",
      " [0.6861119  0.48223937 0.07246041 0.36958468]\n",
      " [0.91080654 0.72712505 0.77081347 0.45889854]]\n",
      "[ 0.13766342 -0.59229493 -1.9772595  -1.319154    2.1220477  -0.2242607\n",
      " -0.8384981   0.5655107  -0.9293951   0.3292163   0.26697248  0.5534515\n",
      " -0.36573836 -0.76283324 -1.0309794  -1.0143433  -0.04555688 -0.6584219\n",
      " -0.8273082   0.39012176  2.2944264  -0.54466546 -0.21398447 -0.48856148\n",
      " -0.6852268 ]\n"
     ]
    }
   ],
   "source": [
    "g = tf.Graph()\n",
    "\n",
    "with g.as_default():\n",
    "    weights = tf.get_variable(\"Weigts\", shape=(25,4), initializer=tf.random_uniform_initializer())\n",
    "    bias = tf.get_variable(\"Bias\", initializer=tf.random.normal([25]))\n",
    "    \n",
    "    with tf.Session() as sess:\n",
    "        #initialising all variables at once\n",
    "        sess.run(tf.global_variables_initializer())\n",
    "        print(weights.eval())\n",
    "        print(sess.run(bias))"
   ]
  },
  {
   "cell_type": "markdown",
   "metadata": {},
   "source": [
    "## Visualizing Graphs using TensorBoard"
   ]
  },
  {
   "cell_type": "code",
   "execution_count": 8,
   "metadata": {},
   "outputs": [
    {
     "name": "stdout",
     "output_type": "stream",
     "text": [
      "9 20\n"
     ]
    }
   ],
   "source": [
    "x = tf.constant(5, name=\"x\")\n",
    "y = tf.constant(4, name=\"y\")\n",
    "\n",
    "add = tf.add(x, y, name=\"add\")\n",
    "mul = tf.multiply(x, y, name=\"mul\")\n",
    "\n",
    "with tf.Session() as sess:\n",
    "    #Creates the summary writer\n",
    "    #After graph definition\n",
    "    #Before Session\n",
    "    #Since we not created a graph explicitly,\n",
    "    #Every operation is being done on default_graph\n",
    "    writer = tf.summary.FileWriter('./graphs', tf.get_default_graph())\n",
    "    a, m = sess.run(fetches=[add, mul])\n",
    "    print(a, m)\n",
    "    \n",
    "#To access graph in Tensorboard\n",
    "#1. Open terminal.\n",
    "#2. Check for graphs folder\n",
    "#3. Run: tensornoard --logdir=\"./graphs\" --port 6006\n",
    "#4. Open browser and go to: http://localhost:6006/"
   ]
  },
  {
   "cell_type": "markdown",
   "metadata": {},
   "source": [
    "### Placeholders\n",
    "A placeholder is simply a variable that we will assign data to at a later date. It allows us to create our operations and build our computation graph, without needing the data."
   ]
  },
  {
   "cell_type": "code",
   "execution_count": 9,
   "metadata": {},
   "outputs": [],
   "source": [
    "#creating a placeholder\n",
    "inputs = tf.placeholder(shape=[25,4], dtype=tf.float32)"
   ]
  },
  {
   "cell_type": "code",
   "execution_count": 10,
   "metadata": {},
   "outputs": [],
   "source": [
    "a = tf.placeholder(tf.float32, shape=[3])\n",
    "b = tf.constant([5, 5, 5], tf.float32)"
   ]
  },
  {
   "cell_type": "code",
   "execution_count": 11,
   "metadata": {},
   "outputs": [],
   "source": [
    "add = a+b"
   ]
  },
  {
   "cell_type": "code",
   "execution_count": 12,
   "metadata": {},
   "outputs": [
    {
     "name": "stdout",
     "output_type": "stream",
     "text": [
      "[9. 9. 9.]\n"
     ]
    }
   ],
   "source": [
    "#Value to the placeholder is provided during the run\n",
    "#Using feed_dict\n",
    "with tf.Session() as sess:\n",
    "    res = sess.run(add, feed_dict={a:[4,4,4]})\n",
    "    print(res)"
   ]
  },
  {
   "cell_type": "markdown",
   "metadata": {},
   "source": [
    "#### An example to show how Placeholders and Variables are created in data flow graph"
   ]
  },
  {
   "cell_type": "code",
   "execution_count": 13,
   "metadata": {},
   "outputs": [],
   "source": [
    "import numpy as np\n",
    "\n",
    "inp_data = np.linspace(0, 100, 100, dtype=np.float32).reshape(25,4)\n",
    "\n",
    "y = tf.matmul(inputs, tf.transpose(Weights)) + Bias\n",
    "\n",
    "with tf.Session() as sess:\n",
    "    writer = tf.summary.FileWriter('./graphs_linear', tf.get_default_graph())\n",
    "    sess.run(tf.initialize_all_variables())\n",
    "    res = sess.run(y, feed_dict={inputs:inp_data})\n",
    "    print(res)"
   ]
  },
  {
   "cell_type": "code",
   "execution_count": null,
   "metadata": {},
   "outputs": [],
   "source": []
  }
 ],
 "metadata": {
  "kernelspec": {
   "display_name": "Python 3",
   "language": "python",
   "name": "python3"
  },
  "language_info": {
   "codemirror_mode": {
    "name": "ipython",
    "version": 3
   },
   "file_extension": ".py",
   "mimetype": "text/x-python",
   "name": "python",
   "nbconvert_exporter": "python",
   "pygments_lexer": "ipython3",
   "version": "3.6.5"
  }
 },
 "nbformat": 4,
 "nbformat_minor": 2
}
