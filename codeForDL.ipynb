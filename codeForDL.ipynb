{
  "nbformat": 4,
  "nbformat_minor": 0,
  "metadata": {
    "colab": {
      "name": "codeForDL.ipynb",
      "provenance": [],
      "collapsed_sections": []
    },
    "kernelspec": {
      "name": "python3",
      "display_name": "Python 3"
    }
  },
  "cells": [
    {
      "cell_type": "markdown",
      "metadata": {
        "id": "7bbWnxwBPlAW",
        "colab_type": "text"
      },
      "source": [
        "# Numpy\n",
        "Numpy is one of the most-widely used package for scientific computing. It's core data-type is ndarray(N Dimensional Array) object. It is very useful in linear algebra computations.<br><br>\n",
        "**ndarray** is a table/list of elements of all the same type, usually numbers.\n"
      ]
    },
    {
      "cell_type": "code",
      "metadata": {
        "id": "MWDFpdi6PaSY",
        "colab_type": "code",
        "colab": {}
      },
      "source": [
        "#importing Numpy module as np\n",
        "#np is a short name that will be used throughout, whenever we refer numpy\n",
        "import numpy as np"
      ],
      "execution_count": 0,
      "outputs": []
    },
    {
      "cell_type": "markdown",
      "metadata": {
        "id": "OWJ-B-kAPxFd",
        "colab_type": "text"
      },
      "source": [
        "## Array Creation"
      ]
    },
    {
      "cell_type": "code",
      "metadata": {
        "id": "wUnqsePGPewd",
        "colab_type": "code",
        "colab": {}
      },
      "source": [
        "#Creating array from list with type of elements specified\n",
        "x = np.array([2,3,1,0], dtype=np.float16)"
      ],
      "execution_count": 0,
      "outputs": []
    },
    {
      "cell_type": "code",
      "metadata": {
        "id": "6eECKBCiP37z",
        "colab_type": "code",
        "outputId": "2e786c52-f23b-4ee7-b7cf-b352a361a0ee",
        "colab": {
          "base_uri": "https://localhost:8080/",
          "height": 34
        }
      },
      "source": [
        "#np.arrange() :: Creates array of regularly incrementing values\n",
        "#start by-default 0\n",
        "np.arange(10)"
      ],
      "execution_count": 0,
      "outputs": [
        {
          "output_type": "execute_result",
          "data": {
            "text/plain": [
              "array([0, 1, 2, 3, 4, 5, 6, 7, 8, 9])"
            ]
          },
          "metadata": {
            "tags": []
          },
          "execution_count": 4
        }
      ]
    },
    {
      "cell_type": "code",
      "metadata": {
        "id": "ZczItDgKP-V9",
        "colab_type": "code",
        "outputId": "cf548bf7-d4c0-4ee7-e30e-d468b079963f",
        "colab": {
          "base_uri": "https://localhost:8080/",
          "height": 52
        }
      },
      "source": [
        "#Creates array of given shape with random values \n",
        "#from uniform distribution over [0, 1)\n",
        "\n",
        "np.random.rand(2, 5)"
      ],
      "execution_count": 0,
      "outputs": [
        {
          "output_type": "execute_result",
          "data": {
            "text/plain": [
              "array([[0.30835763, 0.43188118, 0.0732357 , 0.7664821 , 0.43870507],\n",
              "       [0.37205795, 0.98693808, 0.26715031, 0.45346797, 0.89014979]])"
            ]
          },
          "metadata": {
            "tags": []
          },
          "execution_count": 6
        }
      ]
    },
    {
      "cell_type": "markdown",
      "metadata": {
        "id": "CHDFMNdVQKqu",
        "colab_type": "text"
      },
      "source": [
        "### ndarray attributes"
      ]
    },
    {
      "cell_type": "code",
      "metadata": {
        "id": "A1aEg6ZxQMab",
        "colab_type": "code",
        "outputId": "d5a3fb22-9b2e-4a85-eca2-bcd85e642763",
        "colab": {
          "base_uri": "https://localhost:8080/",
          "height": 191
        }
      },
      "source": [
        "Z = np.random.rand(5,4)\n",
        "print(Z)\n",
        "print(Z.ndim)\n",
        "print(Z.shape)\n",
        "print(Z.size)\n",
        "print(Z.dtype)\n",
        "print(type(Z)) "
      ],
      "execution_count": 0,
      "outputs": [
        {
          "output_type": "stream",
          "text": [
            "[[0.9129222  0.94398728 0.41386911 0.03219908]\n",
            " [0.46557232 0.79167961 0.98740905 0.34079439]\n",
            " [0.27859085 0.22602276 0.5808732  0.96452905]\n",
            " [0.32767997 0.56359721 0.66294197 0.88719815]\n",
            " [0.31594181 0.3501544  0.10946645 0.74050113]]\n",
            "2\n",
            "(5, 4)\n",
            "20\n",
            "float64\n",
            "<class 'numpy.ndarray'>\n"
          ],
          "name": "stdout"
        }
      ]
    },
    {
      "cell_type": "markdown",
      "metadata": {
        "id": "4QgJ3irNQsON",
        "colab_type": "text"
      },
      "source": [
        "## Reshaping an array"
      ]
    },
    {
      "cell_type": "code",
      "metadata": {
        "id": "DsxW0f4xQitT",
        "colab_type": "code",
        "outputId": "13f82cb9-7b55-4ba5-b033-0cb6bd709bc7",
        "colab": {
          "base_uri": "https://localhost:8080/",
          "height": 86
        }
      },
      "source": [
        "n = np.arange(12)\n",
        "print(n, n.shape)\n",
        "N = n.reshape((3,4))\n",
        "print(N, N.shape)"
      ],
      "execution_count": 0,
      "outputs": [
        {
          "output_type": "stream",
          "text": [
            "[ 0  1  2  3  4  5  6  7  8  9 10 11] (12,)\n",
            "[[ 0  1  2  3]\n",
            " [ 4  5  6  7]\n",
            " [ 8  9 10 11]] (3, 4)\n"
          ],
          "name": "stdout"
        }
      ]
    },
    {
      "cell_type": "markdown",
      "metadata": {
        "id": "ybijkBrKRLGd",
        "colab_type": "text"
      },
      "source": [
        "## Indexing\n",
        "Indexing element can be done using square brackets [ ]. <br>\n",
        "Index starts from 0."
      ]
    },
    {
      "cell_type": "code",
      "metadata": {
        "id": "CS0shIKBRCVr",
        "colab_type": "code",
        "outputId": "859f24f4-e4b3-4f15-b843-27244d11f77c",
        "colab": {
          "base_uri": "https://localhost:8080/",
          "height": 34
        }
      },
      "source": [
        "# n is 1d array, [index]\n",
        "#index ::  0 to len(array)-1\n",
        "#negitive indices starts from end\n",
        "n[5], n[-1]"
      ],
      "execution_count": 0,
      "outputs": [
        {
          "output_type": "execute_result",
          "data": {
            "text/plain": [
              "(5, 11)"
            ]
          },
          "metadata": {
            "tags": []
          },
          "execution_count": 9
        }
      ]
    },
    {
      "cell_type": "code",
      "metadata": {
        "id": "3LWa-fvqRTb5",
        "colab_type": "code",
        "outputId": "d938da85-6049-45a9-ffd9-0e1642813fb6",
        "colab": {
          "base_uri": "https://localhost:8080/",
          "height": 34
        }
      },
      "source": [
        "n[3:5] = [34, 45]\n",
        "n"
      ],
      "execution_count": 0,
      "outputs": [
        {
          "output_type": "execute_result",
          "data": {
            "text/plain": [
              "array([ 0,  1,  2, 34, 45,  5,  6,  7,  8,  9, 10, 11])"
            ]
          },
          "metadata": {
            "tags": []
          },
          "execution_count": 10
        }
      ]
    },
    {
      "cell_type": "code",
      "metadata": {
        "id": "qIWPTwICRXuN",
        "colab_type": "code",
        "outputId": "2be14dce-d943-41e8-fc96-57735a3aa204",
        "colab": {
          "base_uri": "https://localhost:8080/",
          "height": 34
        }
      },
      "source": [
        "#N is 2d array\n",
        "#[row, col]\n",
        "N[1,1]"
      ],
      "execution_count": 0,
      "outputs": [
        {
          "output_type": "execute_result",
          "data": {
            "text/plain": [
              "5"
            ]
          },
          "metadata": {
            "tags": []
          },
          "execution_count": 11
        }
      ]
    },
    {
      "cell_type": "code",
      "metadata": {
        "id": "ejvhyeJWRbll",
        "colab_type": "code",
        "outputId": "002e43c0-9caa-4fb4-d511-ae2d4fda295e",
        "colab": {
          "base_uri": "https://localhost:8080/",
          "height": 121
        }
      },
      "source": [
        "#Extracting a 3x3 Matrix from N\n",
        "M = N[0:3, 0:3]\n",
        "print(M)\n",
        "print(M.ndim)\n",
        "print(M.shape)\n",
        "print(M.size)"
      ],
      "execution_count": 0,
      "outputs": [
        {
          "output_type": "stream",
          "text": [
            "[[ 0  1  2]\n",
            " [45  5  6]\n",
            " [ 8  9 10]]\n",
            "2\n",
            "(3, 3)\n",
            "9\n"
          ],
          "name": "stdout"
        }
      ]
    },
    {
      "cell_type": "markdown",
      "metadata": {
        "id": "vL0y8oc9R1Zv",
        "colab_type": "text"
      },
      "source": [
        "## Linear Algebra"
      ]
    },
    {
      "cell_type": "code",
      "metadata": {
        "id": "3RaX5R4BRf5N",
        "colab_type": "code",
        "colab": {}
      },
      "source": [
        "#Vectors :: 1d Array\n",
        "v1 = np.array([2, 5, 0, 4])\n",
        "v2 = np.array([1, 9, 9, 1])"
      ],
      "execution_count": 0,
      "outputs": []
    },
    {
      "cell_type": "code",
      "metadata": {
        "id": "_6Hw51_hR5dl",
        "colab_type": "code",
        "outputId": "fb191a66-a46a-4798-f46f-55ed4ee22246",
        "colab": {
          "base_uri": "https://localhost:8080/",
          "height": 34
        }
      },
      "source": [
        "#Vector Sum\n",
        "v1 + v2"
      ],
      "execution_count": 0,
      "outputs": [
        {
          "output_type": "execute_result",
          "data": {
            "text/plain": [
              "array([ 3, 14,  9,  5])"
            ]
          },
          "metadata": {
            "tags": []
          },
          "execution_count": 14
        }
      ]
    },
    {
      "cell_type": "code",
      "metadata": {
        "id": "6qwjkuUMR76K",
        "colab_type": "code",
        "outputId": "9821130f-8c7d-4546-b201-6720f18b4a45",
        "colab": {
          "base_uri": "https://localhost:8080/",
          "height": 34
        }
      },
      "source": [
        "#Multiplication with Scalar\n",
        "v1 * 5"
      ],
      "execution_count": 0,
      "outputs": [
        {
          "output_type": "execute_result",
          "data": {
            "text/plain": [
              "array([10, 25,  0, 20])"
            ]
          },
          "metadata": {
            "tags": []
          },
          "execution_count": 15
        }
      ]
    },
    {
      "cell_type": "code",
      "metadata": {
        "id": "cAf2nbKMR-dI",
        "colab_type": "code",
        "outputId": "c11f11ef-18d8-48d3-cb40-65935db70e26",
        "colab": {
          "base_uri": "https://localhost:8080/",
          "height": 34
        }
      },
      "source": [
        "#Dot Product\n",
        "v1.dot(v2)"
      ],
      "execution_count": 0,
      "outputs": [
        {
          "output_type": "execute_result",
          "data": {
            "text/plain": [
              "51"
            ]
          },
          "metadata": {
            "tags": []
          },
          "execution_count": 16
        }
      ]
    },
    {
      "cell_type": "code",
      "metadata": {
        "id": "RIbAsHxUSErh",
        "colab_type": "code",
        "outputId": "8722b666-5a15-488a-988f-540f16afc621",
        "colab": {
          "base_uri": "https://localhost:8080/",
          "height": 69
        }
      },
      "source": [
        "#Matrix Multiplication 1\n",
        "M2 = np.dot(M, M)\n",
        "M2"
      ],
      "execution_count": 0,
      "outputs": [
        {
          "output_type": "execute_result",
          "data": {
            "text/plain": [
              "array([[ 61,  23,  26],\n",
              "       [273, 124, 180],\n",
              "       [485, 143, 170]])"
            ]
          },
          "metadata": {
            "tags": []
          },
          "execution_count": 17
        }
      ]
    },
    {
      "cell_type": "code",
      "metadata": {
        "id": "W42uEPbDSG8c",
        "colab_type": "code",
        "outputId": "ba55b4a7-bc57-43a0-d910-021715c65836",
        "colab": {
          "base_uri": "https://localhost:8080/",
          "height": 69
        }
      },
      "source": [
        "#Transpose\n",
        "M.T"
      ],
      "execution_count": 0,
      "outputs": [
        {
          "output_type": "execute_result",
          "data": {
            "text/plain": [
              "array([[ 0, 45,  8],\n",
              "       [ 1,  5,  9],\n",
              "       [ 2,  6, 10]])"
            ]
          },
          "metadata": {
            "tags": []
          },
          "execution_count": 18
        }
      ]
    },
    {
      "cell_type": "code",
      "metadata": {
        "id": "1VGIYlg5SMY1",
        "colab_type": "code",
        "outputId": "343fff3b-56b0-40fc-a585-57d5d321d6c4",
        "colab": {
          "base_uri": "https://localhost:8080/",
          "height": 69
        }
      },
      "source": [
        "#Inverse of a Matrix\n",
        "np.linalg.inv(M)"
      ],
      "execution_count": 0,
      "outputs": [
        {
          "output_type": "execute_result",
          "data": {
            "text/plain": [
              "array([[-0.01219512,  0.02439024, -0.01219512],\n",
              "       [-1.22560976, -0.04878049,  0.27439024],\n",
              "       [ 1.11280488,  0.02439024, -0.13719512]])"
            ]
          },
          "metadata": {
            "tags": []
          },
          "execution_count": 19
        }
      ]
    },
    {
      "cell_type": "markdown",
      "metadata": {
        "id": "eWL94qloUB9N",
        "colab_type": "text"
      },
      "source": [
        "# Pandas\n",
        "Pandas is one of the most widely used library for data analysis and manipulation. It offers data structures and operations for manipulating numerical tables and time series.\n",
        "\n",
        "Pandas Data Structures:\n",
        "1. Series: 1-d ndarray.\n",
        "2. Dataframes: 2 or more dimendional data structure. It resembes tables with rows and columns"
      ]
    },
    {
      "cell_type": "code",
      "metadata": {
        "id": "Kcr62e6eVmXj",
        "colab_type": "code",
        "colab": {}
      },
      "source": [
        "import pandas as pd"
      ],
      "execution_count": 0,
      "outputs": []
    },
    {
      "cell_type": "code",
      "metadata": {
        "id": "sRaK2WQhSO_K",
        "colab_type": "code",
        "outputId": "8447267c-46a3-492a-a62c-259db14c0d87",
        "colab": {
          "base_uri": "https://localhost:8080/",
          "height": 121
        }
      },
      "source": [
        "s = pd.Series(data=[1,2,3,4,5])\n",
        "s"
      ],
      "execution_count": 0,
      "outputs": [
        {
          "output_type": "execute_result",
          "data": {
            "text/plain": [
              "0    1\n",
              "1    2\n",
              "2    3\n",
              "3    4\n",
              "4    5\n",
              "dtype: int64"
            ]
          },
          "metadata": {
            "tags": []
          },
          "execution_count": 22
        }
      ]
    },
    {
      "cell_type": "markdown",
      "metadata": {
        "id": "43AymorHVttS",
        "colab_type": "text"
      },
      "source": [
        "## Reading a dataframe from csv file"
      ]
    },
    {
      "cell_type": "code",
      "metadata": {
        "id": "0U7LeAMJVs2G",
        "colab_type": "code",
        "colab": {}
      },
      "source": [
        "df = pd.read_csv('imdb_data.csv', sep='\\t', header=0, encoding = \"ISO-8859-1\")"
      ],
      "execution_count": 0,
      "outputs": []
    },
    {
      "cell_type": "code",
      "metadata": {
        "id": "EgZmf2IvVkZB",
        "colab_type": "code",
        "colab": {}
      },
      "source": [
        "#first few lines\n",
        "df.head()"
      ],
      "execution_count": 0,
      "outputs": []
    },
    {
      "cell_type": "code",
      "metadata": {
        "id": "XcuHUBQIW5GQ",
        "colab_type": "code",
        "colab": {}
      },
      "source": [
        "#last few lines\n",
        "df.tail()"
      ],
      "execution_count": 0,
      "outputs": []
    },
    {
      "cell_type": "code",
      "metadata": {
        "id": "cqoDan5eW9Ek",
        "colab_type": "code",
        "colab": {}
      },
      "source": [
        "#few random samples\n",
        "df.sample(4)"
      ],
      "execution_count": 0,
      "outputs": []
    },
    {
      "cell_type": "code",
      "metadata": {
        "id": "FWmmCahXXSsL",
        "colab_type": "code",
        "colab": {}
      },
      "source": [
        "ratings = df[\"Imdb Rating\"]\n",
        "earning = df[\"Gross(in Million Dollars)\"]"
      ],
      "execution_count": 0,
      "outputs": []
    },
    {
      "cell_type": "code",
      "metadata": {
        "id": "-2_OBWY7X6t_",
        "colab_type": "code",
        "colab": {}
      },
      "source": [
        "index = np.arange(len(ratings))"
      ],
      "execution_count": 0,
      "outputs": []
    },
    {
      "cell_type": "markdown",
      "metadata": {
        "id": "3oVLYkJBYSsa",
        "colab_type": "text"
      },
      "source": [
        "# Matplotlib\n",
        "Matplotlib is a Python 2D plotting library which produces publication quality figures in a variety of hardcopy formats and interactive environments across platforms."
      ]
    },
    {
      "cell_type": "code",
      "metadata": {
        "id": "TSwjzn1fYGbh",
        "colab_type": "code",
        "colab": {}
      },
      "source": [
        "import matplotlib.pyplot as plt"
      ],
      "execution_count": 0,
      "outputs": []
    },
    {
      "cell_type": "markdown",
      "metadata": {
        "id": "NArcDPlkuDMO",
        "colab_type": "text"
      },
      "source": [
        "### Line Plot"
      ]
    },
    {
      "cell_type": "code",
      "metadata": {
        "id": "8n_RyVuNYUDy",
        "colab_type": "code",
        "outputId": "b5c7ed2c-c16c-4777-9347-d747349e835f",
        "colab": {
          "base_uri": "https://localhost:8080/",
          "height": 312
        }
      },
      "source": [
        "plt.figure()\n",
        "plt.plot(index, ratings)\n",
        "plt.xlabel('Movies')\n",
        "plt.ylabel('IMDB Rating')\n",
        "plt.title('Movie-IMDB Rating plot')"
      ],
      "execution_count": 0,
      "outputs": [
        {
          "output_type": "execute_result",
          "data": {
            "text/plain": [
              "Text(0.5, 1.0, 'Movie-IMDB Rating plot')"
            ]
          },
          "metadata": {
            "tags": []
          },
          "execution_count": 50
        },
        {
          "output_type": "display_data",
          "data": {
            "image/png": "[encoded data removed]",
            "text/plain": [
              "<Figure size 432x288 with 1 Axes>"
            ]
          },
          "metadata": {
            "tags": []
          }
        }
      ]
    },
    {
      "cell_type": "markdown",
      "metadata": {
        "id": "enWpo3hHuGHz",
        "colab_type": "text"
      },
      "source": [
        "### Scatter Plot"
      ]
    },
    {
      "cell_type": "code",
      "metadata": {
        "id": "0bGAaDcqYdKg",
        "colab_type": "code",
        "outputId": "6148b8a8-8131-47f9-b991-38e33d0e57f3",
        "colab": {
          "base_uri": "https://localhost:8080/",
          "height": 312
        }
      },
      "source": [
        "plt.figure()\n",
        "plt.scatter(index, earning)\n",
        "plt.xlabel('Movies')\n",
        "plt.ylabel('Gross (Million Dollars)')\n",
        "plt.title('Movie-Revenue plot')"
      ],
      "execution_count": 0,
      "outputs": [
        {
          "output_type": "execute_result",
          "data": {
            "text/plain": [
              "Text(0.5, 1.0, 'Movie-Revenue plot')"
            ]
          },
          "metadata": {
            "tags": []
          },
          "execution_count": 58
        },
        {
          "output_type": "display_data",
          "data": {
            "image/png": "[encoded data removed]",
            "text/plain": [
              "<Figure size 432x288 with 1 Axes>"
            ]
          },
          "metadata": {
            "tags": []
          }
        }
      ]
    },
    {
      "cell_type": "markdown",
      "metadata": {
        "id": "u0x_zYAWuJfX",
        "colab_type": "text"
      },
      "source": [
        "### Histogram"
      ]
    },
    {
      "cell_type": "code",
      "metadata": {
        "id": "BC3_vLgpaCji",
        "colab_type": "code",
        "outputId": "750e2fd9-3047-415b-8a21-92b554d3e5fc",
        "colab": {
          "base_uri": "https://localhost:8080/",
          "height": 457
        }
      },
      "source": [
        "plt.figure(figsize=(10,5))\n",
        "plt.subplot(121)\n",
        "plt.hist(ratings)\n",
        "plt.xlabel('Movies')\n",
        "plt.ylabel('IMDB Rating')\n",
        "plt.title('Movie-IMDB Rating plot')\n",
        "plt.subplot(122)\n",
        "plt.hist(earning)\n",
        "plt.xlabel('Movies')\n",
        "plt.ylabel('Gross (Million Dollars)')\n",
        "plt.title('Movie-Revenue plot')"
      ],
      "execution_count": 0,
      "outputs": [
        {
          "output_type": "stream",
          "text": [
            "/usr/local/lib/python3.6/dist-packages/numpy/lib/histograms.py:839: RuntimeWarning: invalid value encountered in greater_equal\n",
            "  keep = (tmp_a >= first_edge)\n",
            "/usr/local/lib/python3.6/dist-packages/numpy/lib/histograms.py:840: RuntimeWarning: invalid value encountered in less_equal\n",
            "  keep &= (tmp_a <= last_edge)\n"
          ],
          "name": "stderr"
        },
        {
          "output_type": "execute_result",
          "data": {
            "text/plain": [
              "Text(0.5, 1.0, 'Movie-Revenue plot')"
            ]
          },
          "metadata": {
            "tags": []
          },
          "execution_count": 113
        },
        {
          "output_type": "display_data",
          "data": {
            "image/png": "[encoded data removed]",
            "text/plain": [
              "<Figure size 720x360 with 2 Axes>"
            ]
          },
          "metadata": {
            "tags": []
          }
        }
      ]
    },
    {
      "cell_type": "markdown",
      "metadata": {
        "id": "94vlZc5grFHe",
        "colab_type": "text"
      },
      "source": [
        "# Tensorflow \n",
        "Open source library for numerical computation using data flow graph. Created and Maintained by Google.<br><br>\n",
        "Tensorflow got it's name from **tensor**, array of arbitrary dmensions. Using Tensorflow, one can manipulate tensors with higher dimensions."
      ]
    },
    {
      "cell_type": "code",
      "metadata": {
        "id": "T_QxEqJ-mnJn",
        "colab_type": "code",
        "colab": {
          "base_uri": "https://localhost:8080/",
          "height": 65
        },
        "outputId": "b1bfe326-d0a0-42e9-d899-7f69f97a2916"
      },
      "source": [
        "import os\n",
        "os.environ['TF_CPP_MIN_LOG_LEVEL']='2'\n",
        "import tensorflow as tf"
      ],
      "execution_count": 1,
      "outputs": [
        {
          "output_type": "display_data",
          "data": {
            "text/html": [
              "<p style=\"color: red;\">\n",
              "The default version of TensorFlow in Colab will soon switch to TensorFlow 2.x.<br>\n",
              "We recommend you <a href=\"https://www.tensorflow.org/guide/migrate\" target=\"_blank\">upgrade</a> now \n",
              "or ensure your notebook will continue to use TensorFlow 1.x via the <code>%tensorflow_version 1.x</code> magic:\n",
              "<a href=\"https://colab.research.google.com/notebooks/tensorflow_version.ipynb\" target=\"_blank\">more info</a>.</p>\n"
            ],
            "text/plain": [
              "<IPython.core.display.HTML object>"
            ]
          },
          "metadata": {
            "tags": []
          }
        }
      ]
    },
    {
      "cell_type": "markdown",
      "metadata": {
        "id": "Af48Ry4KrX8T",
        "colab_type": "text"
      },
      "source": [
        "## How Tensorflow works?\n",
        "Tensorflow operations creates, destroys, and manipulates tensors. All the computation can be operations can be easily visualized using *computation graph* or *data flow graph*.<br>\n",
        "Graph's **nodes** are operations and **edges** are tensors. Tensors flows through graph, and gets manipulated at each node by an operation."
      ]
    },
    {
      "cell_type": "markdown",
      "metadata": {
        "id": "4lQfB9DWritJ",
        "colab_type": "text"
      },
      "source": [
        "### Tensor\n",
        "A tensor is an n-d array,\n",
        "* 0-d tensor : scalar\n",
        "* 1-d tensor : vector\n",
        "* 2-d tensor : matrix\n",
        "<br>\n",
        "\n",
        "A tensor can be defined as a constant or a variable."
      ]
    },
    {
      "cell_type": "markdown",
      "metadata": {
        "id": "exHF16Bdx8lK",
        "colab_type": "text"
      },
      "source": [
        "### Constants"
      ]
    },
    {
      "cell_type": "code",
      "metadata": {
        "id": "z3aY9HnrrPJR",
        "colab_type": "code",
        "colab": {}
      },
      "source": [
        "s = tf.constant(24)  #scalar\n",
        "v = tf.constant([1, 2, 3, 4], dtype=tf.int64, name='vector')  #vector\n",
        "m = tf.constant([[1,2], [3,4]]) #matrix"
      ],
      "execution_count": 0,
      "outputs": []
    },
    {
      "cell_type": "markdown",
      "metadata": {
        "id": "ZGulLGabrtlB",
        "colab_type": "text"
      },
      "source": [
        "## Using tf.Session() to evaluate the graph\n",
        "A Session object encapsulates the environment in which memory is allocated for storing values of variables, operations are executed, and tensors are evaluated."
      ]
    },
    {
      "cell_type": "markdown",
      "metadata": {
        "id": "DAVD6g5Sr6oA",
        "colab_type": "text"
      },
      "source": [
        "### Using eval()"
      ]
    },
    {
      "cell_type": "code",
      "metadata": {
        "id": "FY_hjhgNrTHZ",
        "colab_type": "code",
        "colab": {
          "base_uri": "https://localhost:8080/",
          "height": 54
        },
        "outputId": "786d2e1e-0da4-4095-d6eb-c0c00e5ea9f7"
      },
      "source": [
        "#Creating a graph\n",
        "g = tf.Graph()\n",
        "\n",
        "#Setting the generated graph as default graph\n",
        "with g.as_default():\n",
        "    x = tf.constant(5, name=\"x\")\n",
        "    y = tf.constant(4, name=\"y\")\n",
        "    \n",
        "    add = tf.add(x, y, name=\"add\")\n",
        "    mul = tf.multiply(x, y, name=\"mul\")\n",
        "    \n",
        "    with tf.Session() as sess:\n",
        "        print(add)\n",
        "        print(mul.eval())"
      ],
      "execution_count": 4,
      "outputs": [
        {
          "output_type": "stream",
          "text": [
            "Tensor(\"add:0\", shape=(), dtype=int32)\n",
            "20\n"
          ],
          "name": "stdout"
        }
      ]
    },
    {
      "cell_type": "markdown",
      "metadata": {
        "id": "iwyOWOu0sAVJ",
        "colab_type": "text"
      },
      "source": [
        "### Using Session.run(fetches=)"
      ]
    },
    {
      "cell_type": "code",
      "metadata": {
        "id": "b0UaCjyRryrc",
        "colab_type": "code",
        "colab": {
          "base_uri": "https://localhost:8080/",
          "height": 54
        },
        "outputId": "e8c484ea-78be-48bb-ad44-a42c895b5118"
      },
      "source": [
        "g = tf.Graph()\n",
        "\n",
        "with g.as_default():\n",
        "    x = tf.constant(5, name=\"x\")\n",
        "    y = tf.constant(4, name=\"y\")\n",
        "    \n",
        "    add = tf.add(x, y, name=\"add\")\n",
        "    mul = tf.multiply(x, y, name=\"mul\")\n",
        "    \n",
        "    with tf.Session() as sess:\n",
        "        #sess.run(fetchees) will help you fetch multiple values, eval() cannot.\n",
        "        a, m = sess.run(fetches=[add, mul])\n",
        "        print(a)\n",
        "        print(m)"
      ],
      "execution_count": 5,
      "outputs": [
        {
          "output_type": "stream",
          "text": [
            "9\n",
            "20\n"
          ],
          "name": "stdout"
        }
      ]
    },
    {
      "cell_type": "markdown",
      "metadata": {
        "id": "u2gFxZK2yDPx",
        "colab_type": "text"
      },
      "source": [
        "### Variables"
      ]
    },
    {
      "cell_type": "code",
      "metadata": {
        "id": "gUqJSf1_yHbQ",
        "colab_type": "code",
        "colab": {}
      },
      "source": [
        "#Creating variable using Variable object\n",
        "v_s = tf.Variable(5)\n",
        "v_v = tf.Variable([1, 2, 3, 4], dtype=tf.int32)\n",
        "v_m = tf.Variable(tf.zeros([25,4]), dtype=tf.float32, name=\"matrix\")"
      ],
      "execution_count": 0,
      "outputs": []
    },
    {
      "cell_type": "code",
      "metadata": {
        "id": "iqrq0T4iyGOE",
        "colab_type": "code",
        "colab": {}
      },
      "source": [
        "#Creating variable with tf.get_variable method\n",
        "Weights = tf.get_variable(\"Weigts\", shape=(25,4), initializer=tf.random_uniform_initializer())\n",
        "Bias = tf.get_variable(\"Bias\", initializer=tf.random.normal([25]))"
      ],
      "execution_count": 0,
      "outputs": []
    },
    {
      "cell_type": "code",
      "metadata": {
        "id": "AGMd7NM8yGFB",
        "colab_type": "code",
        "colab": {}
      },
      "source": [
        "g = tf.Graph()\n",
        "\n",
        "with g.as_default():\n",
        "    weights = tf.get_variable(\"Weigts\", shape=(25,4), initializer=tf.random_uniform_initializer())\n",
        "    bias = tf.get_variable(\"Bias\", initializer=tf.random.normal([25]))\n",
        "    \n",
        "    with tf.Session() as sess:\n",
        "        #initialising all variables at once\n",
        "        sess.run(tf.global_variables_initializer())\n",
        "        print(weights.eval())\n",
        "        print(sess.run(bias))"
      ],
      "execution_count": 0,
      "outputs": []
    },
    {
      "cell_type": "markdown",
      "metadata": {
        "id": "TpnFNQPJsM5E",
        "colab_type": "text"
      },
      "source": [
        "## Visualizing Graphs using TensorBoard"
      ]
    },
    {
      "cell_type": "code",
      "metadata": {
        "id": "gBhe-Ocnr13H",
        "colab_type": "code",
        "colab": {
          "base_uri": "https://localhost:8080/",
          "height": 35
        },
        "outputId": "96914100-746f-4de5-b92c-582338bcc92d"
      },
      "source": [
        "x = tf.constant(5, name=\"x\")\n",
        "y = tf.constant(4, name=\"y\")\n",
        "\n",
        "add = tf.add(x, y, name=\"add\")\n",
        "mul = tf.multiply(x, y, name=\"mul\")\n",
        "\n",
        "with tf.Session() as sess:\n",
        "    #Creates the summary writer\n",
        "    #After graph definition\n",
        "    #Before Session\n",
        "    #Since we not created a graph explicitly,\n",
        "    #Every operation is being done on default_graph\n",
        "    writer = tf.summary.FileWriter('./graphs', tf.get_default_graph())\n",
        "    a, m = sess.run(fetches=[add, mul])\n",
        "    print(a, m)\n",
        "    \n",
        "#To access graph in Tensorboard\n",
        "#1. Open terminal.\n",
        "#2. Check for graphs folder\n",
        "#3. Run: tensornoard --logdir=\"./graphs\" --port 6006\n",
        "#4. Open browser and go to: http://localhost:6006/"
      ],
      "execution_count": 7,
      "outputs": [
        {
          "output_type": "stream",
          "text": [
            "9 20\n"
          ],
          "name": "stdout"
        }
      ]
    },
    {
      "cell_type": "markdown",
      "metadata": {
        "id": "aiPc2NFb1_4v",
        "colab_type": "text"
      },
      "source": [
        "## Placeholders\n",
        "A placeholder is simply a variable that we will assign data to at a later date. It allows us to create our operations and build our computation graph, without needing the data."
      ]
    },
    {
      "cell_type": "code",
      "metadata": {
        "id": "nj5dXb1SsLlD",
        "colab_type": "code",
        "colab": {}
      },
      "source": [
        "#creating a placeholder\n",
        "inputs = tf.placeholder(shape=[25,4], dtype=tf.float32)"
      ],
      "execution_count": 0,
      "outputs": []
    },
    {
      "cell_type": "code",
      "metadata": {
        "id": "NLhDJhrAAnY_",
        "colab_type": "code",
        "colab": {}
      },
      "source": [
        "a = tf.placeholder(tf.float32, shape=[3])\n",
        "b = tf.constant([5, 5, 5], tf.float32)"
      ],
      "execution_count": 0,
      "outputs": []
    },
    {
      "cell_type": "code",
      "metadata": {
        "id": "W8aLMy3RAqEl",
        "colab_type": "code",
        "colab": {}
      },
      "source": [
        "add = a+b"
      ],
      "execution_count": 0,
      "outputs": []
    },
    {
      "cell_type": "code",
      "metadata": {
        "id": "aEY4t581Ar8p",
        "colab_type": "code",
        "colab": {
          "base_uri": "https://localhost:8080/",
          "height": 35
        },
        "outputId": "5f97092b-1a8b-44f0-b498-18e171c6429b"
      },
      "source": [
        "#Value to the placeholder is provided during the run\n",
        "#Using feed_dict\n",
        "with tf.Session() as sess:\n",
        "    res = sess.run(add, feed_dict={a:[4,4,4]})\n",
        "    print(res)"
      ],
      "execution_count": 15,
      "outputs": [
        {
          "output_type": "stream",
          "text": [
            "[9. 9. 9.]\n"
          ],
          "name": "stdout"
        }
      ]
    },
    {
      "cell_type": "markdown",
      "metadata": {
        "id": "thfk-hgcAzOB",
        "colab_type": "text"
      },
      "source": [
        "#### An example to show how Placeholders and Variables are created in data flow graph"
      ]
    },
    {
      "cell_type": "code",
      "metadata": {
        "id": "gui77TPeAufT",
        "colab_type": "code",
        "colab": {
          "base_uri": "https://localhost:8080/",
          "height": 622
        },
        "outputId": "0a588e53-13ff-4007-962f-3f6ec3ed8f39"
      },
      "source": [
        "import numpy as np\n",
        "\n",
        "inp_data = np.linspace(0, 100, 100, dtype=np.float32).reshape(25,4)\n",
        "\n",
        "W = tf.get_variable(\"Weigts\", shape=(1, 4), initializer=tf.random_uniform_initializer())\n",
        "B = tf.get_variable(\"Bias\", initializer=tf.random.normal([25,1]))\n",
        "\n",
        "inp = tf.placeholder(shape=[25,4], dtype=tf.float32)\n",
        "\n",
        "y = tf.matmul(inp, tf.transpose(W)) + B\n",
        "\n",
        "with tf.Session() as sess:\n",
        "    writer = tf.summary.FileWriter('./graphs_linear', tf.get_default_graph())\n",
        "    sess.run(tf.initialize_all_variables())\n",
        "    res = sess.run(y, feed_dict={inputs:inp_data})\n",
        "    print(res)"
      ],
      "execution_count": 16,
      "outputs": [
        {
          "output_type": "error",
          "ename": "ValueError",
          "evalue": "ignored",
          "traceback": [
            "\u001b[0;31m---------------------------------------------------------------------------\u001b[0m",
            "\u001b[0;31mValueError\u001b[0m                                Traceback (most recent call last)",
            "\u001b[0;32m<ipython-input-16-c388dee4cadb>\u001b[0m in \u001b[0;36m<module>\u001b[0;34m()\u001b[0m\n\u001b[1;32m      3\u001b[0m \u001b[0minp_data\u001b[0m \u001b[0;34m=\u001b[0m \u001b[0mnp\u001b[0m\u001b[0;34m.\u001b[0m\u001b[0mlinspace\u001b[0m\u001b[0;34m(\u001b[0m\u001b[0;36m0\u001b[0m\u001b[0;34m,\u001b[0m \u001b[0;36m100\u001b[0m\u001b[0;34m,\u001b[0m \u001b[0;36m100\u001b[0m\u001b[0;34m,\u001b[0m \u001b[0mdtype\u001b[0m\u001b[0;34m=\u001b[0m\u001b[0mnp\u001b[0m\u001b[0;34m.\u001b[0m\u001b[0mfloat32\u001b[0m\u001b[0;34m)\u001b[0m\u001b[0;34m.\u001b[0m\u001b[0mreshape\u001b[0m\u001b[0;34m(\u001b[0m\u001b[0;36m25\u001b[0m\u001b[0;34m,\u001b[0m\u001b[0;36m4\u001b[0m\u001b[0;34m)\u001b[0m\u001b[0;34m\u001b[0m\u001b[0;34m\u001b[0m\u001b[0m\n\u001b[1;32m      4\u001b[0m \u001b[0;34m\u001b[0m\u001b[0m\n\u001b[0;32m----> 5\u001b[0;31m \u001b[0mW\u001b[0m \u001b[0;34m=\u001b[0m \u001b[0mtf\u001b[0m\u001b[0;34m.\u001b[0m\u001b[0mget_variable\u001b[0m\u001b[0;34m(\u001b[0m\u001b[0;34m\"Weigts\"\u001b[0m\u001b[0;34m,\u001b[0m \u001b[0mshape\u001b[0m\u001b[0;34m=\u001b[0m\u001b[0;34m(\u001b[0m\u001b[0;36m1\u001b[0m\u001b[0;34m,\u001b[0m \u001b[0;36m4\u001b[0m\u001b[0;34m)\u001b[0m\u001b[0;34m,\u001b[0m \u001b[0minitializer\u001b[0m\u001b[0;34m=\u001b[0m\u001b[0mtf\u001b[0m\u001b[0;34m.\u001b[0m\u001b[0mrandom_uniform_initializer\u001b[0m\u001b[0;34m(\u001b[0m\u001b[0;34m)\u001b[0m\u001b[0;34m)\u001b[0m\u001b[0;34m\u001b[0m\u001b[0;34m\u001b[0m\u001b[0m\n\u001b[0m\u001b[1;32m      6\u001b[0m \u001b[0mB\u001b[0m \u001b[0;34m=\u001b[0m \u001b[0mtf\u001b[0m\u001b[0;34m.\u001b[0m\u001b[0mget_variable\u001b[0m\u001b[0;34m(\u001b[0m\u001b[0;34m\"Bias\"\u001b[0m\u001b[0;34m,\u001b[0m \u001b[0minitializer\u001b[0m\u001b[0;34m=\u001b[0m\u001b[0mtf\u001b[0m\u001b[0;34m.\u001b[0m\u001b[0mrandom\u001b[0m\u001b[0;34m.\u001b[0m\u001b[0mnormal\u001b[0m\u001b[0;34m(\u001b[0m\u001b[0;34m[\u001b[0m\u001b[0;36m25\u001b[0m\u001b[0;34m,\u001b[0m\u001b[0;36m1\u001b[0m\u001b[0;34m]\u001b[0m\u001b[0;34m)\u001b[0m\u001b[0;34m)\u001b[0m\u001b[0;34m\u001b[0m\u001b[0;34m\u001b[0m\u001b[0m\n\u001b[1;32m      7\u001b[0m \u001b[0;34m\u001b[0m\u001b[0m\n",
            "\u001b[0;32m/usr/local/lib/python3.6/dist-packages/tensorflow_core/python/ops/variable_scope.py\u001b[0m in \u001b[0;36mget_variable\u001b[0;34m(name, shape, dtype, initializer, regularizer, trainable, collections, caching_device, partitioner, validate_shape, use_resource, custom_getter, constraint, synchronization, aggregation)\u001b[0m\n\u001b[1;32m   1498\u001b[0m       \u001b[0mconstraint\u001b[0m\u001b[0;34m=\u001b[0m\u001b[0mconstraint\u001b[0m\u001b[0;34m,\u001b[0m\u001b[0;34m\u001b[0m\u001b[0;34m\u001b[0m\u001b[0m\n\u001b[1;32m   1499\u001b[0m       \u001b[0msynchronization\u001b[0m\u001b[0;34m=\u001b[0m\u001b[0msynchronization\u001b[0m\u001b[0;34m,\u001b[0m\u001b[0;34m\u001b[0m\u001b[0;34m\u001b[0m\u001b[0m\n\u001b[0;32m-> 1500\u001b[0;31m       aggregation=aggregation)\n\u001b[0m\u001b[1;32m   1501\u001b[0m \u001b[0;34m\u001b[0m\u001b[0m\n\u001b[1;32m   1502\u001b[0m \u001b[0;34m\u001b[0m\u001b[0m\n",
            "\u001b[0;32m/usr/local/lib/python3.6/dist-packages/tensorflow_core/python/ops/variable_scope.py\u001b[0m in \u001b[0;36mget_variable\u001b[0;34m(self, var_store, name, shape, dtype, initializer, regularizer, reuse, trainable, collections, caching_device, partitioner, validate_shape, use_resource, custom_getter, constraint, synchronization, aggregation)\u001b[0m\n\u001b[1;32m   1241\u001b[0m           \u001b[0mconstraint\u001b[0m\u001b[0;34m=\u001b[0m\u001b[0mconstraint\u001b[0m\u001b[0;34m,\u001b[0m\u001b[0;34m\u001b[0m\u001b[0;34m\u001b[0m\u001b[0m\n\u001b[1;32m   1242\u001b[0m           \u001b[0msynchronization\u001b[0m\u001b[0;34m=\u001b[0m\u001b[0msynchronization\u001b[0m\u001b[0;34m,\u001b[0m\u001b[0;34m\u001b[0m\u001b[0;34m\u001b[0m\u001b[0m\n\u001b[0;32m-> 1243\u001b[0;31m           aggregation=aggregation)\n\u001b[0m\u001b[1;32m   1244\u001b[0m \u001b[0;34m\u001b[0m\u001b[0m\n\u001b[1;32m   1245\u001b[0m   def _get_partitioned_variable(self,\n",
            "\u001b[0;32m/usr/local/lib/python3.6/dist-packages/tensorflow_core/python/ops/variable_scope.py\u001b[0m in \u001b[0;36mget_variable\u001b[0;34m(self, name, shape, dtype, initializer, regularizer, reuse, trainable, collections, caching_device, partitioner, validate_shape, use_resource, custom_getter, constraint, synchronization, aggregation)\u001b[0m\n\u001b[1;32m    565\u001b[0m           \u001b[0mconstraint\u001b[0m\u001b[0;34m=\u001b[0m\u001b[0mconstraint\u001b[0m\u001b[0;34m,\u001b[0m\u001b[0;34m\u001b[0m\u001b[0;34m\u001b[0m\u001b[0m\n\u001b[1;32m    566\u001b[0m           \u001b[0msynchronization\u001b[0m\u001b[0;34m=\u001b[0m\u001b[0msynchronization\u001b[0m\u001b[0;34m,\u001b[0m\u001b[0;34m\u001b[0m\u001b[0;34m\u001b[0m\u001b[0m\n\u001b[0;32m--> 567\u001b[0;31m           aggregation=aggregation)\n\u001b[0m\u001b[1;32m    568\u001b[0m \u001b[0;34m\u001b[0m\u001b[0m\n\u001b[1;32m    569\u001b[0m   def _get_partitioned_variable(self,\n",
            "\u001b[0;32m/usr/local/lib/python3.6/dist-packages/tensorflow_core/python/ops/variable_scope.py\u001b[0m in \u001b[0;36m_true_getter\u001b[0;34m(name, shape, dtype, initializer, regularizer, reuse, trainable, collections, caching_device, partitioner, validate_shape, use_resource, constraint, synchronization, aggregation)\u001b[0m\n\u001b[1;32m    517\u001b[0m           \u001b[0mconstraint\u001b[0m\u001b[0;34m=\u001b[0m\u001b[0mconstraint\u001b[0m\u001b[0;34m,\u001b[0m\u001b[0;34m\u001b[0m\u001b[0;34m\u001b[0m\u001b[0m\n\u001b[1;32m    518\u001b[0m           \u001b[0msynchronization\u001b[0m\u001b[0;34m=\u001b[0m\u001b[0msynchronization\u001b[0m\u001b[0;34m,\u001b[0m\u001b[0;34m\u001b[0m\u001b[0;34m\u001b[0m\u001b[0m\n\u001b[0;32m--> 519\u001b[0;31m           aggregation=aggregation)\n\u001b[0m\u001b[1;32m    520\u001b[0m \u001b[0;34m\u001b[0m\u001b[0m\n\u001b[1;32m    521\u001b[0m     synchronization, aggregation, trainable = (\n",
            "\u001b[0;32m/usr/local/lib/python3.6/dist-packages/tensorflow_core/python/ops/variable_scope.py\u001b[0m in \u001b[0;36m_get_single_variable\u001b[0;34m(self, name, shape, dtype, initializer, regularizer, partition_info, reuse, trainable, collections, caching_device, validate_shape, use_resource, constraint, synchronization, aggregation)\u001b[0m\n\u001b[1;32m    866\u001b[0m         \u001b[0mtb\u001b[0m \u001b[0;34m=\u001b[0m \u001b[0;34m[\u001b[0m\u001b[0mx\u001b[0m \u001b[0;32mfor\u001b[0m \u001b[0mx\u001b[0m \u001b[0;32min\u001b[0m \u001b[0mtb\u001b[0m \u001b[0;32mif\u001b[0m \u001b[0;34m\"tensorflow/python\"\u001b[0m \u001b[0;32mnot\u001b[0m \u001b[0;32min\u001b[0m \u001b[0mx\u001b[0m\u001b[0;34m[\u001b[0m\u001b[0;36m0\u001b[0m\u001b[0;34m]\u001b[0m\u001b[0;34m]\u001b[0m\u001b[0;34m[\u001b[0m\u001b[0;34m:\u001b[0m\u001b[0;36m5\u001b[0m\u001b[0;34m]\u001b[0m\u001b[0;34m\u001b[0m\u001b[0;34m\u001b[0m\u001b[0m\n\u001b[1;32m    867\u001b[0m         raise ValueError(\"%s Originally defined at:\\n\\n%s\" %\n\u001b[0;32m--> 868\u001b[0;31m                          (err_msg, \"\".join(traceback.format_list(tb))))\n\u001b[0m\u001b[1;32m    869\u001b[0m       \u001b[0mfound_var\u001b[0m \u001b[0;34m=\u001b[0m \u001b[0mself\u001b[0m\u001b[0;34m.\u001b[0m\u001b[0m_vars\u001b[0m\u001b[0;34m[\u001b[0m\u001b[0mname\u001b[0m\u001b[0;34m]\u001b[0m\u001b[0;34m\u001b[0m\u001b[0;34m\u001b[0m\u001b[0m\n\u001b[1;32m    870\u001b[0m       \u001b[0;32mif\u001b[0m \u001b[0;32mnot\u001b[0m \u001b[0mshape\u001b[0m\u001b[0;34m.\u001b[0m\u001b[0mis_compatible_with\u001b[0m\u001b[0;34m(\u001b[0m\u001b[0mfound_var\u001b[0m\u001b[0;34m.\u001b[0m\u001b[0mget_shape\u001b[0m\u001b[0;34m(\u001b[0m\u001b[0;34m)\u001b[0m\u001b[0;34m)\u001b[0m\u001b[0;34m:\u001b[0m\u001b[0;34m\u001b[0m\u001b[0;34m\u001b[0m\u001b[0m\n",
            "\u001b[0;31mValueError\u001b[0m: Variable Weigts already exists, disallowed. Did you mean to set reuse=True or reuse=tf.AUTO_REUSE in VarScope? Originally defined at:\n\n  File \"/usr/local/lib/python3.6/dist-packages/tensorflow_core/python/framework/ops.py\", line 1748, in __init__\n    self._traceback = tf_stack.extract_stack()\n  File \"/usr/local/lib/python3.6/dist-packages/tensorflow_core/python/framework/ops.py\", line 3426, in _create_op_internal\n    op_def=op_def)\n  File \"/usr/local/lib/python3.6/dist-packages/tensorflow_core/python/framework/ops.py\", line 3357, in create_op\n    attrs, op_def, compute_device)\n  File \"/usr/local/lib/python3.6/dist-packages/tensorflow_core/python/util/deprecation.py\", line 507, in new_func\n    return func(*args, **kwargs)\n  File \"/usr/local/lib/python3.6/dist-packages/tensorflow_core/python/framework/op_def_library.py\", line 794, in _apply_op_helper\n    op_def=op_def)\n"
          ]
        }
      ]
    },
    {
      "cell_type": "code",
      "metadata": {
        "id": "LiSsJEj6ButZ",
        "colab_type": "code",
        "colab": {}
      },
      "source": [
        ""
      ],
      "execution_count": 0,
      "outputs": []
    }
  ]
}