{
 "cells": [
  {
   "cell_type": "markdown",
   "metadata": {},
   "source": [
    "# Tensorflow \n",
    "Open source library for numerical computation using data flow graph. Created and Maintained by Google.<br><br>\n",
    "Tensorflow got it's name from **tensor**, array of arbitrary dmensions. Using Tensorflow, one can manipulate tensors with higher dimensions."
   ]
  },
  {
   "cell_type": "markdown",
   "metadata": {},
   "source": [
    "## Why Tensorflow?\n",
    "1. Efficient\n",
    "2. Scalable\n",
    "3. Maintainable\n",
    "4. Portable\n",
    "5. Flexible\n",
    "6. Visualization in TensorBoard\n",
    "7. Easy to save and restore models"
   ]
  },
  {
   "cell_type": "code",
   "execution_count": null,
   "metadata": {},
   "outputs": [],
   "source": [
    "import os\n",
    "os.environ['TF_CPP_MIN_LOG_LEVEL']='2'\n",
    "import tensorflow as tf"
   ]
  },
  {
   "cell_type": "markdown",
   "metadata": {},
   "source": [
    "## How Tensorflow works?\n",
    "Tensorflow operations creates, destroys, and manipulates tensors. All the computation can be operations can be easily visualized using *computation graph* or *data flow graph*.<br>\n",
    "Graph's **nodes** are operations and **edges** are tensors. Tensors flows through graph, and gets manipulated at each node by an operation."
   ]
  },
  {
   "cell_type": "markdown",
   "metadata": {},
   "source": [
    "### Tensor\n",
    "A tensor is an n-d array,\n",
    "* 0-d tensor : scalar\n",
    "* 1-d tensor : vector\n",
    "* 2-d tensor : matrix\n",
    "<br>\n",
    "\n",
    "A tensor can be defined as a constant or a variable."
   ]
  },
  {
   "cell_type": "markdown",
   "metadata": {},
   "source": [
    "### Constants"
   ]
  },
  {
   "cell_type": "code",
   "execution_count": null,
   "metadata": {},
   "outputs": [],
   "source": [
    "s = tf.constant(24)  #scalar\n",
    "v = tf.constant([1, 2, 3, 4], dtype=tf.int64, name='vector')  #vector\n",
    "m = tf.constant([[1,2], [3,4]]) #matrix"
   ]
  },
  {
   "cell_type": "markdown",
   "metadata": {},
   "source": [
    "## Using tf.Session() to evaluate the graph\n",
    "A Session object encapsulates the environment in which memory is allocated for storing values of variables, operations are executed, and tensors are evaluated."
   ]
  },
  {
   "cell_type": "code",
   "execution_count": null,
   "metadata": {},
   "outputs": [],
   "source": [
    "#Creating a graph\n",
    "g = tf.Graph()\n",
    "\n",
    "#Setting the generated graph as default graph\n",
    "with g.as_default():\n",
    "    x = tf.constant(5, name=\"x\")\n",
    "    y = tf.constant(4, name=\"y\")\n",
    "    \n",
    "    add = tf.add(x, y, name=\"add\")\n",
    "    mul = tf.multiply(x, y, name=\"mul\")\n",
    "    \n",
    "    with tf.Session() as sess:\n",
    "        print(add)\n",
    "        print(mul.eval())"
   ]
  },
  {
   "cell_type": "code",
   "execution_count": null,
   "metadata": {},
   "outputs": [],
   "source": [
    "g = tf.Graph()\n",
    "\n",
    "with g.as_default():\n",
    "    x = tf.constant(5, name=\"x\")\n",
    "    y = tf.constant(4, name=\"y\")\n",
    "    \n",
    "    add = tf.add(x, y, name=\"add\")\n",
    "    mul = tf.multiply(x, y, name=\"mul\")\n",
    "    \n",
    "    with tf.Session() as sess:\n",
    "        #sess.run(fetchees) will help you fetch multiple values, eval() cannot.\n",
    "        a, m = sess.run(fetches=[add, mul])\n",
    "        print(a)\n",
    "        print(m)"
   ]
  },
  {
   "cell_type": "markdown",
   "metadata": {},
   "source": [
    "### Variables"
   ]
  },
  {
   "cell_type": "code",
   "execution_count": null,
   "metadata": {},
   "outputs": [],
   "source": [
    "#Creating variable using Variable object\n",
    "v_s = tf.Variable(5)\n",
    "v_v = tf.Variable([1, 2, 3, 4], dtype=tf.int32)\n",
    "v_m = tf.Variable(tf.zeros([25,4]), dtype=tf.float32, name=\"matrix\")"
   ]
  },
  {
   "cell_type": "code",
   "execution_count": null,
   "metadata": {},
   "outputs": [],
   "source": [
    "#Creating variable with tf.get_variable method\n",
    "Weights = tf.get_variable(\"Weights\", shape=(25,4), initializer=tf.random_uniform_initializer())\n",
    "Bias = tf.get_variable(\"Bias\", initializer=tf.random.normal([25]))"
   ]
  },
  {
   "cell_type": "code",
   "execution_count": null,
   "metadata": {},
   "outputs": [],
   "source": [
    "g = tf.Graph()\n",
    "\n",
    "with g.as_default():\n",
    "    weights = tf.get_variable(\"Weights\", shape=(25,4), initializer=tf.random_uniform_initializer())\n",
    "    bias = tf.get_variable(\"Bias\", initializer=tf.random.normal([25]))\n",
    "    \n",
    "    with tf.Session() as sess:\n",
    "        #initialising all variables at once\n",
    "        sess.run(tf.global_variables_initializer())\n",
    "        print(weights.eval())\n",
    "        print(sess.run(bias))"
   ]
  },
  {
   "cell_type": "markdown",
   "metadata": {},
   "source": [
    "## Visualizing Graphs using TensorBoard"
   ]
  },
  {
   "cell_type": "code",
   "execution_count": null,
   "metadata": {},
   "outputs": [],
   "source": [
    "x = tf.constant(5, name=\"x\")\n",
    "y = tf.constant(4, name=\"y\")\n",
    "\n",
    "add = tf.add(x, y, name=\"add\")\n",
    "mul = tf.multiply(x, y, name=\"mul\")\n",
    "\n",
    "with tf.Session() as sess:\n",
    "    #Creates the summary writer\n",
    "    #After graph definition\n",
    "    #Before Session\n",
    "    #Since we not created a graph explicitly,\n",
    "    #Every operation is being done on default_graph\n",
    "    writer = tf.summary.FileWriter('./graphs', tf.get_default_graph())\n",
    "    a, m = sess.run(fetches=[add, mul])\n",
    "    print(a, m)\n",
    "    \n",
    "#To access graph in Tensorboard\n",
    "#0. Copy the code. Add import tensorflow as tf (at the top). Save the file as tboard.py.\n",
    "#1. Open terminal. Run python(or python3) tboard.py.\n",
    "#2. Check for graphs folder in the same directory. \n",
    "#3. If it is present. Run: tensorboard --logdir=\"./graphs\" --port 6006\n",
    "#4. Open browser and go to: http://localhost:6006/"
   ]
  },
  {
   "cell_type": "code",
   "execution_count": null,
   "metadata": {},
   "outputs": [],
   "source": [
    "#If you are using Jypyter Notebook, You can try the following command (uncomment next line)\n",
    "#!tensorboard --logdir=\"./graphs\" --port 6008\n",
    "#Open browser and go to: http://localhost:6006/"
   ]
  },
  {
   "cell_type": "markdown",
   "metadata": {},
   "source": [
    "### Placeholders\n",
    "A placeholder is simply a variable that we will assign data to at a later date. It allows us to create our operations and build our computation graph, without needing the data.\n",
    "<br>\n",
    "Placeholders are simplest way to load data, but it is not efficient for loading large data. You can go for estimators or other options that follows in eager execution mode or tensorflow==2.x"
   ]
  },
  {
   "cell_type": "code",
   "execution_count": null,
   "metadata": {},
   "outputs": [],
   "source": [
    "#creating a placeholder\n",
    "inputs = tf.placeholder(shape=[25,4], dtype=tf.float32)"
   ]
  },
  {
   "cell_type": "code",
   "execution_count": null,
   "metadata": {},
   "outputs": [],
   "source": [
    "a = tf.placeholder(tf.float32, shape=[3])\n",
    "b = tf.constant([5, 5, 5], tf.float32)"
   ]
  },
  {
   "cell_type": "code",
   "execution_count": null,
   "metadata": {},
   "outputs": [],
   "source": [
    "add = a+b"
   ]
  },
  {
   "cell_type": "code",
   "execution_count": null,
   "metadata": {},
   "outputs": [],
   "source": [
    "#Value to the placeholder is provided during the run\n",
    "#Using feed_dict\n",
    "with tf.Session() as sess:\n",
    "    res = sess.run(add, feed_dict={a:[4,4,4]})\n",
    "    print(res)"
   ]
  },
  {
   "cell_type": "markdown",
   "metadata": {},
   "source": [
    "#### An example to show how Placeholders and Variables are created in data flow graph"
   ]
  },
  {
   "cell_type": "code",
   "execution_count": null,
   "metadata": {},
   "outputs": [],
   "source": [
    "import numpy as np\n",
    "\n",
    "inp_data = np.linspace(0, 100, 100, dtype=np.float32).reshape(25,4)\n",
    "\n",
    "W = tf.get_variable(\"W\", shape=(1, 4), initializer=tf.random_uniform_initializer())\n",
    "B = tf.get_variable(\"B\", initializer=tf.random.normal([25,1]))\n",
    "\n",
    "y = tf.matmul(inputs, tf.transpose(W)) + B\n",
    "\n",
    "with tf.Session() as sess:\n",
    "    writer = tf.summary.FileWriter('./graphs_linear', tf.get_default_graph())\n",
    "    sess.run(tf.initialize_all_variables())\n",
    "    res = sess.run(y, feed_dict={inputs:inp_data})\n",
    "    print(res)"
   ]
  },
  {
   "cell_type": "code",
   "execution_count": null,
   "metadata": {},
   "outputs": [],
   "source": []
  }
 ],
 "metadata": {
  "kernelspec": {
   "display_name": "Python 3",
   "language": "python",
   "name": "python3"
  },
  "language_info": {
   "codemirror_mode": {
    "name": "ipython",
    "version": 3
   },
   "file_extension": ".py",
   "mimetype": "text/x-python",
   "name": "python",
   "nbconvert_exporter": "python",
   "pygments_lexer": "ipython3",
   "version": "3.6.5"
  }
 },
 "nbformat": 4,
 "nbformat_minor": 2
}
