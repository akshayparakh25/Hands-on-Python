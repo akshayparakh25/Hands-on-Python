{
 "cells": [
  {
   "cell_type": "markdown",
   "metadata": {},
   "source": [
    "# Matplotlib\n",
    "Matplotlib is a Python 2D plotting library which produces publication quality figures in a variety of hardcopy formats and interactive environments across platforms."
   ]
  },
  {
   "cell_type": "code",
   "execution_count": null,
   "metadata": {},
   "outputs": [],
   "source": [
    "#Impporting the pyplot module from matplotlib\n",
    "import matplotlib.pyplot as plt\n",
    "import numpy as np"
   ]
  },
  {
   "cell_type": "code",
   "execution_count": null,
   "metadata": {},
   "outputs": [],
   "source": [
    "X = np.arange(0, 10, 0.5)\n",
    "Y = X ** 2\n",
    "Z = X ** 3"
   ]
  },
  {
   "cell_type": "code",
   "execution_count": null,
   "metadata": {},
   "outputs": [],
   "source": [
    "plt.figure()\n",
    "plt.plot(X, Y)"
   ]
  },
  {
   "cell_type": "code",
   "execution_count": null,
   "metadata": {},
   "outputs": [],
   "source": [
    "plt.figure()\n",
    "plt.plot(X, Y)\n",
    "#adding labels for x-axis and y-axis\n",
    "plt.xlabel('Number')\n",
    "plt.ylabel('Squares')"
   ]
  },
  {
   "cell_type": "code",
   "execution_count": null,
   "metadata": {},
   "outputs": [],
   "source": [
    "plt.figure()\n",
    "plt.plot(X, Y)\n",
    "plt.xlabel('Number')\n",
    "plt.ylabel('Squares')\n",
    "#Adding title to the plot\n",
    "plt.title('Number-Square Plot')"
   ]
  },
  {
   "cell_type": "code",
   "execution_count": null,
   "metadata": {},
   "outputs": [],
   "source": [
    "plt.figure()\n",
    "plt.plot(X, Y)\n",
    "#adding another line to a plot\n",
    "plt.plot(X, Z)\n",
    "plt.xlabel('Number')\n",
    "plt.ylabel('Squares')\n",
    "plt.title('Number-Square Plot')"
   ]
  },
  {
   "cell_type": "code",
   "execution_count": null,
   "metadata": {},
   "outputs": [],
   "source": [
    "plt.figure()\n",
    "#adding label to a line\n",
    "plt.plot(X, Y, label='Y=X^2')\n",
    "plt.plot(X, Z, label='Z=X^3')\n",
    "plt.xlabel('Number')\n",
    "plt.ylabel('Squares')\n",
    "plt.title('Number-Square Plot')\n",
    "#adding legend\n",
    "plt.legend()"
   ]
  },
  {
   "cell_type": "code",
   "execution_count": null,
   "metadata": {},
   "outputs": [],
   "source": [
    "plt.figure()\n",
    "#adding colors to a line\n",
    "plt.plot(X, X, label='Y=X', color='blue')\n",
    "plt.plot(X, Y, label='Y=X^2', color='red')\n",
    "plt.plot(X, Z, label='Y=X^3', color='green')\n",
    "plt.xlabel('Number')\n",
    "plt.ylabel('Squares')\n",
    "plt.title('Number-Square Plot')\n",
    "plt.legend()"
   ]
  },
  {
   "cell_type": "code",
   "execution_count": null,
   "metadata": {},
   "outputs": [],
   "source": [
    "plt.figure()\n",
    "#adding linestyle to a line\n",
    "plt.plot(X, X, label='Y=X', color='blue', linestyle='-')\n",
    "plt.plot(X, Y, label='Y=X^2', color='red', linestyle='--')\n",
    "plt.plot(X, Z, label='Y=X^3', color='green', linestyle='-.')\n",
    "plt.xlabel('Number')\n",
    "plt.ylabel('Squares')\n",
    "plt.title('Number-Square Plot')\n",
    "plt.legend()"
   ]
  },
  {
   "cell_type": "code",
   "execution_count": null,
   "metadata": {},
   "outputs": [],
   "source": [
    "plt.figure()\n",
    "plt.plot(X, X, label='Y=X', color='blue', linestyle='-')\n",
    "plt.plot(X, Y, label='Y=X^2', color='red', linestyle='--')\n",
    "plt.plot(X, Z, label='Y=X^3', color='green', linestyle='-.')\n",
    "plt.xlabel('Number')\n",
    "plt.ylabel('Squares')\n",
    "plt.title('Number-Square Plot')\n",
    "plt.legend()\n",
    "#Adding Grid to a plot\n",
    "plt.grid(True)"
   ]
  },
  {
   "cell_type": "markdown",
   "metadata": {},
   "source": [
    "## Using Layout Manager Subplot\n",
    "Provides handle to manage plot and subplots"
   ]
  },
  {
   "cell_type": "code",
   "execution_count": null,
   "metadata": {},
   "outputs": [],
   "source": [
    "fig, ax = plt.subplots(figsize=(6,5))\n",
    "\n",
    "ax.plot(X, X+1, color=\"red\", alpha=0.5) # half-transparant red\n",
    "ax.plot(X, X+2, color=\"#1155dd\")        # RGB hex code for a bluish color\n",
    "ax.plot(X, X+3, color=\"#15cc55\")        # RGB hex code for a greenish color"
   ]
  },
  {
   "cell_type": "code",
   "execution_count": null,
   "metadata": {},
   "outputs": [],
   "source": [
    "#Plotting 2 plots together using subplot\n",
    "fig, axes = plt.subplots(1, 2, figsize=(10,3))\n",
    "\n",
    "# default grid appearance\n",
    "axes[0].plot(X, Y, X, Z)\n",
    "axes[0].grid(True)\n",
    "\n",
    "# custom grid appearance\n",
    "axes[1].plot(X, Y, X, Z)\n",
    "axes[1].grid(color='b', alpha=0.5, linestyle='dashed', linewidth=0.5)"
   ]
  },
  {
   "cell_type": "code",
   "execution_count": null,
   "metadata": {},
   "outputs": [],
   "source": [
    "fig = plt.figure(figsize=(12,8))\n",
    "\n",
    "#2 rows 2 cols index 1\n",
    "ax0 = plt.subplot(221)\n",
    "ax0.plot(X, Y, X, Z)\n",
    "#2 rows 2 cols index 2\n",
    "ax1 = plt.subplot(222)\n",
    "ax1.plot(X, Y, X, Z)\n",
    "#2 rows 2 cols index 3\n",
    "ax3 = plt.subplot(223)\n",
    "ax3.plot(X, Y, X, Z)\n",
    "#2 rows 2 cols index 4\n",
    "ax4 = plt.subplot(224)\n",
    "ax4.plot(X, Y, X, Z)"
   ]
  },
  {
   "cell_type": "markdown",
   "metadata": {},
   "source": [
    "## Scatter Plot, Step Plot, Bar Plot, and Histogram"
   ]
  },
  {
   "cell_type": "code",
   "execution_count": null,
   "metadata": {},
   "outputs": [],
   "source": [
    "n = np.arange(10)\n",
    "x = np.arange(100)\n",
    "m = np.random.randn(100)"
   ]
  },
  {
   "cell_type": "code",
   "execution_count": null,
   "metadata": {},
   "outputs": [],
   "source": [
    "fig, axes = plt.subplots(2, 2, figsize=(20,16))\n",
    "#Scatter Plot\n",
    "axes[0][0].scatter(x, m)\n",
    "axes[0][0].set_title(\"scatter\")\n",
    "#Step Plot\n",
    "axes[0][1].step(n, n**2, lw=2)\n",
    "axes[0][1].set_title(\"step\")\n",
    "#Bar Plot\n",
    "axes[1][0].bar(n, n**2, align=\"center\", width=0.5, alpha=0.5)\n",
    "axes[1][0].set_title(\"bar\")\n",
    "#Histogram\n",
    "axes[1][1].hist(m)\n",
    "axes[1][1].set_title(\"histogram\")"
   ]
  },
  {
   "cell_type": "markdown",
   "metadata": {},
   "source": [
    "## Reading a csv file using Pandas"
   ]
  },
  {
   "cell_type": "code",
   "execution_count": null,
   "metadata": {},
   "outputs": [],
   "source": [
    "import pandas as pd"
   ]
  },
  {
   "cell_type": "code",
   "execution_count": null,
   "metadata": {},
   "outputs": [],
   "source": [
    "df = pd.read_csv('../data/titanic.csv', header=0)"
   ]
  },
  {
   "cell_type": "code",
   "execution_count": null,
   "metadata": {},
   "outputs": [],
   "source": [
    "df.head()"
   ]
  },
  {
   "cell_type": "code",
   "execution_count": null,
   "metadata": {},
   "outputs": [],
   "source": [
    "surv = np.array(df['survived'])"
   ]
  },
  {
   "cell_type": "code",
   "execution_count": null,
   "metadata": {},
   "outputs": [],
   "source": [
    "def bins_labels(bins, **kwargs):\n",
    "    bin_w = (max(bins) - min(bins)) / (len(bins) - 1)\n",
    "    plt.xticks(np.arange(min(bins)+bin_w/2, max(bins), bin_w), bins, **kwargs)\n",
    "    plt.xlim(bins[0], bins[-1])\n",
    "\n",
    "plt.figure()\n",
    "bins = range(3)\n",
    "plt.hist(surv, bins=bins)\n",
    "bins_labels(bins, fontsize=20)\n",
    "plt.show()"
   ]
  },
  {
   "cell_type": "markdown",
   "metadata": {},
   "source": [
    "## Tutorial\n",
    "https://matplotlib.org/3.1.1/tutorials/introductory/pyplot.html#sphx-glr-tutorials-introductory-pyplot-py"
   ]
  }
 ],
 "metadata": {
  "kernelspec": {
   "display_name": "Python 3",
   "language": "python",
   "name": "python3"
  },
  "language_info": {
   "codemirror_mode": {
    "name": "ipython",
    "version": 3
   },
   "file_extension": ".py",
   "mimetype": "text/x-python",
   "name": "python",
   "nbconvert_exporter": "python",
   "pygments_lexer": "ipython3",
   "version": "3.6.5"
  }
 },
 "nbformat": 4,
 "nbformat_minor": 2
}
