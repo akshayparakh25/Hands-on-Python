{
 "cells": [
  {
   "cell_type": "markdown",
   "metadata": {},
   "source": [
    "# Object-oriented in Python"
   ]
  },
  {
   "cell_type": "markdown",
   "metadata": {},
   "source": [
    "## Classes and Objects\n",
    "A Class is a user-defned type that contains arbitrary information about something. It is kind of a blueprint. <br>\n",
    "An Object is an instance of a class, with actual values."
   ]
  },
  {
   "cell_type": "code",
   "execution_count": 23,
   "metadata": {},
   "outputs": [
    {
     "name": "stdout",
     "output_type": "stream",
     "text": [
      "<class '__main__.Point'>\n"
     ]
    }
   ],
   "source": [
    "#class declaration\n",
    "class Point():\n",
    "    \"\"\"represents a point in 2-D space.\n",
    "        attributes : x, y\n",
    "    \"\"\"\n",
    "    \n",
    "print(Point)"
   ]
  },
  {
   "cell_type": "code",
   "execution_count": 24,
   "metadata": {},
   "outputs": [
    {
     "name": "stdout",
     "output_type": "stream",
     "text": [
      "<__main__.Point object at 0x7fd1402570f0>\n"
     ]
    }
   ],
   "source": [
    "#Object Creation\n",
    "p1 = Point()\n",
    "\n",
    "print(p1)"
   ]
  },
  {
   "cell_type": "code",
   "execution_count": 27,
   "metadata": {},
   "outputs": [
    {
     "name": "stdout",
     "output_type": "stream",
     "text": [
      "10 20\n"
     ]
    }
   ],
   "source": [
    "#defining attributes for Point p1\n",
    "#'.' operator is used to access members (attributes and methods) of class\n",
    "p1.x = 10\n",
    "p1.y = 20\n",
    "\n",
    "print(p1.x, p1.y)"
   ]
  },
  {
   "cell_type": "code",
   "execution_count": 28,
   "metadata": {},
   "outputs": [
    {
     "name": "stdout",
     "output_type": "stream",
     "text": [
      "True\n",
      "False\n"
     ]
    }
   ],
   "source": [
    "#If you try to access an attribute that does not exist, You get am ERROR : AttributeError\n",
    "#hasattr() : built-in function\n",
    "print(hasattr(p1, 'x'))\n",
    "print(hasattr(p1, 'z'))"
   ]
  },
  {
   "cell_type": "markdown",
   "metadata": {},
   "source": [
    "## Classes and Functions\n",
    "Can pass object as an arguement to a function. <br>\n",
    "A Function can return object of a class."
   ]
  },
  {
   "cell_type": "code",
   "execution_count": 34,
   "metadata": {},
   "outputs": [],
   "source": [
    "def printPoint(p):\n",
    "    print(\"(%.2f, %.2f)\" % (p.x, p.y))"
   ]
  },
  {
   "cell_type": "code",
   "execution_count": 35,
   "metadata": {},
   "outputs": [],
   "source": [
    "def midPoint(p1, p2):\n",
    "    mp = Point()\n",
    "    mp.x = (p1.x + p2.x)/2\n",
    "    mp.y = (p1.y + p2.y)/2\n",
    "    \n",
    "    return mp"
   ]
  },
  {
   "cell_type": "code",
   "execution_count": 36,
   "metadata": {},
   "outputs": [
    {
     "name": "stdout",
     "output_type": "stream",
     "text": [
      "(12.50, 22.50)\n"
     ]
    }
   ],
   "source": [
    "p2 = Point()\n",
    "p2.x = 15.0\n",
    "p2.y = 25.0\n",
    "\n",
    "mid = midPoint(p1, p2)\n",
    "printPoint(mid)"
   ]
  },
  {
   "cell_type": "markdown",
   "metadata": {},
   "source": [
    "## Classes and Methods\n",
    "A methods is a function, that is associated with a particular class."
   ]
  },
  {
   "cell_type": "code",
   "execution_count": 65,
   "metadata": {},
   "outputs": [],
   "source": [
    "from math import sqrt\n",
    "\n",
    "class Point():\n",
    "    \"\"\"represents a point in 2-D space.\n",
    "        attributes : x, y\n",
    "    \"\"\"\n",
    "    #attribute variable or class attribute\n",
    "    dim = 2\n",
    "    \n",
    "    #init method is a special method that is used to instantiate a class object\n",
    "    #Initialize x and y with 0, if object is created without any arguemennt\n",
    "    def __init__(self, x=0.0, y=0.0):\n",
    "        #instance variable\n",
    "        self.x = x\n",
    "        self.y = y\n",
    "        \n",
    "    #It returns string representation of an object\n",
    "    def __str__(self):\n",
    "        return \"(%.2f, %0.2f)\" % (self.x, self.y)\n",
    "    \n",
    "    #Instance method\n",
    "    def distanceFromOrigin(self):\n",
    "        return sqrt(pow((self.x), 2) + pow((self.y), 2))"
   ]
  },
  {
   "cell_type": "code",
   "execution_count": 66,
   "metadata": {},
   "outputs": [
    {
     "data": {
      "text/plain": [
       "(0.0, 0.0)"
      ]
     },
     "execution_count": 66,
     "metadata": {},
     "output_type": "execute_result"
    }
   ],
   "source": [
    "o = Point()\n",
    "o.x, o.y"
   ]
  },
  {
   "cell_type": "code",
   "execution_count": 67,
   "metadata": {},
   "outputs": [
    {
     "name": "stdout",
     "output_type": "stream",
     "text": [
      "(3.00, 4.00)\n"
     ]
    }
   ],
   "source": [
    "#When an arguement is provided, it overrides the default the value\n",
    "p1 = Point(3.0, 4.0)\n",
    "#prin function invokes __str__ method\n",
    "print(p1)"
   ]
  },
  {
   "cell_type": "code",
   "execution_count": 68,
   "metadata": {},
   "outputs": [
    {
     "name": "stdout",
     "output_type": "stream",
     "text": [
      "5.0\n"
     ]
    }
   ],
   "source": [
    "print(p1.distanceFromOrigin())"
   ]
  },
  {
   "cell_type": "code",
   "execution_count": 69,
   "metadata": {},
   "outputs": [
    {
     "name": "stdout",
     "output_type": "stream",
     "text": [
      "2\n"
     ]
    }
   ],
   "source": [
    "print(p1.dim)"
   ]
  },
  {
   "cell_type": "markdown",
   "metadata": {},
   "source": [
    "## Inheritence\n",
    "Inheritence is the ability to define a new class that is modified/extended version of an existing class"
   ]
  },
  {
   "cell_type": "code",
   "execution_count": 7,
   "metadata": {},
   "outputs": [],
   "source": [
    "class Shape():\n",
    "    #class attribute\n",
    "    sides = 0\n",
    "    \n",
    "    def __init__(self):\n",
    "        pass"
   ]
  },
  {
   "cell_type": "code",
   "execution_count": 9,
   "metadata": {},
   "outputs": [],
   "source": [
    "class Rectangle(Shape):\n",
    "    \"\"\"When init function is added to the child class,\n",
    "        it will no longer inherit the init function\n",
    "        from parent class\"\"\"\n",
    "    def __init__(self, length, bredth):\n",
    "        self.length = length\n",
    "        self.bredth = bredth"
   ]
  },
  {
   "cell_type": "code",
   "execution_count": 10,
   "metadata": {},
   "outputs": [],
   "source": [
    "r1 = Rectangle(10, 15)"
   ]
  },
  {
   "cell_type": "code",
   "execution_count": 12,
   "metadata": {},
   "outputs": [
    {
     "data": {
      "text/plain": [
       "(0, 10, 15)"
      ]
     },
     "execution_count": 12,
     "metadata": {},
     "output_type": "execute_result"
    }
   ],
   "source": [
    "r1.sides, r1.length, r1.bredth"
   ]
  },
  {
   "cell_type": "code",
   "execution_count": null,
   "metadata": {},
   "outputs": [],
   "source": []
  }
 ],
 "metadata": {
  "kernelspec": {
   "display_name": "Python 3",
   "language": "python",
   "name": "python3"
  },
  "language_info": {
   "codemirror_mode": {
    "name": "ipython",
    "version": 3
   },
   "file_extension": ".py",
   "mimetype": "text/x-python",
   "name": "python",
   "nbconvert_exporter": "python",
   "pygments_lexer": "ipython3",
   "version": "3.6.5"
  }
 },
 "nbformat": 4,
 "nbformat_minor": 2
}
