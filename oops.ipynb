{
 "cells": [
  {
   "cell_type": "markdown",
   "metadata": {},
   "source": [
    "# Object-oriented in Python"
   ]
  },
  {
   "cell_type": "markdown",
   "metadata": {},
   "source": [
    "## Classes and Objects\n",
    "A Class is a user-defned type that contains arbitrary information about something. It is kind of a blueprint. <br>\n",
    "An Object is an instance of a class, with actual values."
   ]
  },
  {
   "cell_type": "code",
   "execution_count": 23,
   "metadata": {},
   "outputs": [
    {
     "name": "stdout",
     "output_type": "stream",
     "text": [
      "<class '__main__.Point'>\n"
     ]
    }
   ],
   "source": [
    "#class declaration\n",
    "class Point():\n",
    "    \"\"\"represents a point in 2-D space.\n",
    "        attributes : x, y\n",
    "    \"\"\"\n",
    "    \n",
    "print(Point)"
   ]
  },
  {
   "cell_type": "code",
   "execution_count": 24,
   "metadata": {},
   "outputs": [
    {
     "name": "stdout",
     "output_type": "stream",
     "text": [
      "<__main__.Point object at 0x7fd1402570f0>\n"
     ]
    }
   ],
   "source": [
    "#Object Creation\n",
    "p1 = Point()\n",
    "\n",
    "print(p1)"
   ]
  },
  {
   "cell_type": "code",
   "execution_count": 27,
   "metadata": {},
   "outputs": [
    {
     "name": "stdout",
     "output_type": "stream",
     "text": [
      "10 20\n"
     ]
    }
   ],
   "source": [
    "#defining attributes for Point p1\n",
    "#'.' operator is used to access members (attributes and methods) of class\n",
    "p1.x = 10\n",
    "p1.y = 20\n",
    "\n",
    "print(p1.x, p1.y)"
   ]
  },
  {
   "cell_type": "code",
   "execution_count": 28,
   "metadata": {},
   "outputs": [
    {
     "name": "stdout",
     "output_type": "stream",
     "text": [
      "True\n",
      "False\n"
     ]
    }
   ],
   "source": [
    "#If you try to access an attribute that does not exist, You get am ERROR : AttributeError\n",
    "#hasattr() : built-in function\n",
    "print(hasattr(p1, 'x'))\n",
    "print(hasattr(p1, 'z'))"
   ]
  },
  {
   "cell_type": "markdown",
   "metadata": {},
   "source": [
    "## Classes and Functions\n",
    "Can pass object as an arguement to a function. <br>\n",
    "A Function can return object of a class."
   ]
  },
  {
   "cell_type": "code",
   "execution_count": 34,
   "metadata": {},
   "outputs": [],
   "source": [
    "def printPoint(p):\n",
    "    print(\"(%.2f, %.2f)\" % (p.x, p.y))"
   ]
  },
  {
   "cell_type": "code",
   "execution_count": 35,
   "metadata": {},
   "outputs": [],
   "source": [
    "def midPoint(p1, p2):\n",
    "    mp = Point()\n",
    "    mp.x = (p1.x + p2.x)/2\n",
    "    mp.y = (p1.y + p2.y)/2\n",
    "    \n",
    "    return mp"
   ]
  },
  {
   "cell_type": "code",
   "execution_count": 36,
   "metadata": {},
   "outputs": [
    {
     "name": "stdout",
     "output_type": "stream",
     "text": [
      "(12.50, 22.50)\n"
     ]
    }
   ],
   "source": [
    "p2 = Point()\n",
    "p2.x = 15.0\n",
    "p2.y = 25.0\n",
    "\n",
    "mid = midPoint(p1, p2)\n",
    "printPoint(mid)"
   ]
  },
  {
   "cell_type": "markdown",
   "metadata": {},
   "source": [
    "## Classes and Methods\n",
    "A methods is a function, that is associated with a particular class."
   ]
  },
  {
   "cell_type": "code",
   "execution_count": 65,
   "metadata": {},
   "outputs": [],
   "source": [
    "from math import sqrt\n",
    "\n",
    "class Point():\n",
    "    \"\"\"represents a point in 2-D space.\n",
    "        attributes : x, y\n",
    "    \"\"\"\n",
    "    #attribute variable or class attribute\n",
    "    dim = 2\n",
    "    \n",
    "    #init method is a special method that is used to instantiate a class object\n",
    "    #Initialize x and y with 0, if object is created without any arguemennt\n",
    "    def __init__(self, x=0.0, y=0.0):\n",
    "        #instance variable\n",
    "        self.x = x\n",
    "        self.y = y\n",
    "        \n",
    "    #It returns string representation of an object\n",
    "    def __str__(self):\n",
    "        return \"(%.2f, %0.2f)\" % (self.x, self.y)\n",
    "    \n",
    "    #Instance method\n",
    "    def distanceFromOrigin(self):\n",
    "        return sqrt(pow((self.x), 2) + pow((self.y), 2))"
   ]
  },
  {
   "cell_type": "code",
   "execution_count": 66,
   "metadata": {},
   "outputs": [
    {
     "data": {
      "text/plain": [
       "(0.0, 0.0)"
      ]
     },
     "execution_count": 66,
     "metadata": {},
     "output_type": "execute_result"
    }
   ],
   "source": [
    "o = Point()\n",
    "o.x, o.y"
   ]
  },
  {
   "cell_type": "code",
   "execution_count": 67,
   "metadata": {},
   "outputs": [
    {
     "name": "stdout",
     "output_type": "stream",
     "text": [
      "(3.00, 4.00)\n"
     ]
    }
   ],
   "source": [
    "#When an arguement is provided, it overrides the default the value\n",
    "p1 = Point(3.0, 4.0)\n",
    "#prin function invokes __str__ method\n",
    "print(p1)"
   ]
  },
  {
   "cell_type": "code",
   "execution_count": 68,
   "metadata": {},
   "outputs": [
    {
     "name": "stdout",
     "output_type": "stream",
     "text": [
      "5.0\n"
     ]
    }
   ],
   "source": [
    "print(p1.distanceFromOrigin())"
   ]
  },
  {
   "cell_type": "code",
   "execution_count": 69,
   "metadata": {},
   "outputs": [
    {
     "name": "stdout",
     "output_type": "stream",
     "text": [
      "2\n"
     ]
    }
   ],
   "source": [
    "print(p1.dim)"
   ]
  },
  {
   "cell_type": "markdown",
   "metadata": {},
   "source": [
    "## Inheritence\n",
    "Inheritence is the ability to define a new class that is modified/extended version of an existing class"
   ]
  },
  {
   "cell_type": "code",
   "execution_count": 54,
   "metadata": {},
   "outputs": [],
   "source": [
    "#Base/Parent Class\n",
    "class Shape():\n",
    "    #class attribute\n",
    "    def __init__(self, sides=0):\n",
    "        self.sides = sides\n",
    "    def __str__(self):\n",
    "        return 'Shape undefined with {} sides.'.format(self.sides)"
   ]
  },
  {
   "cell_type": "code",
   "execution_count": 55,
   "metadata": {},
   "outputs": [
    {
     "name": "stdout",
     "output_type": "stream",
     "text": [
      "Shape undefined with 0 sides.\n"
     ]
    }
   ],
   "source": [
    "s = Shape()\n",
    "print(s)"
   ]
  },
  {
   "cell_type": "code",
   "execution_count": 58,
   "metadata": {},
   "outputs": [],
   "source": [
    "from math import pi\n",
    "#Child Class\n",
    "class Circle(Shape):\n",
    "    \"\"\"When init function is added to the child class,\n",
    "        it will no longer inherit the init function\n",
    "        from parent class\"\"\"\n",
    "    #init function overrides the parent class init function\n",
    "    def __init__(self, radius=0):\n",
    "        self.radius = radius\n",
    "  \n",
    "    def __str__(self):\n",
    "        return 'Circle with radius {}'.format(self.radius)\n",
    "    \n",
    "    def area(self):\n",
    "        return pi*pow(self.radius, 2)"
   ]
  },
  {
   "cell_type": "code",
   "execution_count": 61,
   "metadata": {},
   "outputs": [
    {
     "name": "stdout",
     "output_type": "stream",
     "text": [
      "Circle with radius 10\n",
      "314.1592653589793\n"
     ]
    }
   ],
   "source": [
    "c = Circle(10)\n",
    "print(c)\n",
    "print(c.area())"
   ]
  },
  {
   "cell_type": "code",
   "execution_count": 62,
   "metadata": {},
   "outputs": [],
   "source": [
    "#Child Class\n",
    "class Rectangle(Shape):\n",
    "    #By using the super() function, you do not have to use the name of the parent element,\n",
    "    #it will automatically inherit the methods and properties from its parent.\n",
    "    def __init__(self, sides, length=0, bredth=0):\n",
    "        super().__init__(sides)\n",
    "        self.length = length\n",
    "        self.bredth = bredth\n",
    "        \n",
    "    def __str__(self):\n",
    "        return 'Rectangle has {} sides.\\nTwo lengths of size {}cm and Two breadths of size {}cm'.format(self.sides, self.length, self.bredth)\n",
    "    \n",
    "    def area(self):\n",
    "        return self.length*self.bredth"
   ]
  },
  {
   "cell_type": "code",
   "execution_count": 63,
   "metadata": {},
   "outputs": [
    {
     "name": "stdout",
     "output_type": "stream",
     "text": [
      "Rectangle has 4 sides.\n",
      "Two lengths of size 10cm and Two breadths of size 15cm\n",
      "150\n"
     ]
    }
   ],
   "source": [
    "r = Rectangle(4, 10, 15)\n",
    "print(r)\n",
    "print(r.area())"
   ]
  },
  {
   "cell_type": "code",
   "execution_count": null,
   "metadata": {},
   "outputs": [],
   "source": []
  }
 ],
 "metadata": {
  "kernelspec": {
   "display_name": "Python 3",
   "language": "python",
   "name": "python3"
  },
  "language_info": {
   "codemirror_mode": {
    "name": "ipython",
    "version": 3
   },
   "file_extension": ".py",
   "mimetype": "text/x-python",
   "name": "python",
   "nbconvert_exporter": "python",
   "pygments_lexer": "ipython3",
   "version": "3.6.5"
  }
 },
 "nbformat": 4,
 "nbformat_minor": 2
}
