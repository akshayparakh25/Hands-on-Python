{
 "cells": [
  {
   "cell_type": "code",
   "execution_count": 1,
   "metadata": {},
   "outputs": [],
   "source": [
    "import torch\n",
    "import numpy as np\n",
    "import matplotlib.pyplot as plt"
   ]
  },
  {
   "cell_type": "code",
   "execution_count": 2,
   "metadata": {},
   "outputs": [],
   "source": [
    "#helper function to summarize the properties of a tensor\n",
    "def describe(x):\n",
    "    print(\"Type :: {}\".format(x.type()))\n",
    "    print(\"Data Type :: {}\".format(x.dtype))\n",
    "    print(\"Size :: {}\".format(x.size()))\n",
    "    print(\"Shape :: {}\".format(x.shape))\n",
    "    print(\"Dimension :: {}\".format(x.dim()))\n",
    "    print(\"Data :: \\n{}\".format(x))"
   ]
  },
  {
   "cell_type": "markdown",
   "metadata": {},
   "source": [
    "### Scalar (0-d)"
   ]
  },
  {
   "cell_type": "code",
   "execution_count": 3,
   "metadata": {},
   "outputs": [
    {
     "name": "stdout",
     "output_type": "stream",
     "text": [
      "Type :: torch.LongTensor\n",
      "Data Type :: torch.int64\n",
      "Size :: torch.Size([])\n",
      "Shape :: torch.Size([])\n",
      "Dimension :: 0\n",
      "Data :: \n",
      "2504\n"
     ]
    }
   ],
   "source": [
    "#Scalar (o-d Tensor)\n",
    "s = torch.tensor(2504)\n",
    "describe(s)"
   ]
  },
  {
   "cell_type": "markdown",
   "metadata": {},
   "source": [
    "### Vector (1-d)"
   ]
  },
  {
   "cell_type": "code",
   "execution_count": 4,
   "metadata": {},
   "outputs": [
    {
     "name": "stdout",
     "output_type": "stream",
     "text": [
      "Type :: torch.FloatTensor\n",
      "Data Type :: torch.float32\n",
      "Size :: torch.Size([2])\n",
      "Shape :: torch.Size([2])\n",
      "Dimension :: 1\n",
      "Data :: \n",
      "tensor([25.,  4.])\n"
     ]
    }
   ],
   "source": [
    "#Constructing a Tensor directly using python list\n",
    "m = torch.Tensor([25, 4])\n",
    "describe(m)"
   ]
  },
  {
   "cell_type": "markdown",
   "metadata": {},
   "source": [
    "torch.tensor() infer the type of the data automatically, <br>\n",
    "torch.Tensor() is an alias of torch.FloatTensor() <br>\n",
    "prefer torch.tensor()"
   ]
  },
  {
   "cell_type": "markdown",
   "metadata": {},
   "source": [
    "### Matrix (2-d)"
   ]
  },
  {
   "cell_type": "code",
   "execution_count": 5,
   "metadata": {},
   "outputs": [
    {
     "name": "stdout",
     "output_type": "stream",
     "text": [
      "Type :: torch.FloatTensor\n",
      "Data Type :: torch.float32\n",
      "Size :: torch.Size([25, 4])\n",
      "Shape :: torch.Size([25, 4])\n",
      "Dimension :: 2\n",
      "Data :: \n",
      "tensor([[-2.9605e+07,  4.5744e-41, -2.9605e+07,  4.5744e-41],\n",
      "        [ 1.1910e+14, -1.0310e-10, -3.1337e+07,  4.5744e-41],\n",
      "        [-3.1370e+07,  4.5744e-41, -5.3531e-19,  1.4888e+38],\n",
      "        [-3.1338e+07,  4.5744e-41, -3.1369e+07,  4.5744e-41],\n",
      "        [ 7.3920e+14,  3.4332e-27, -2.0063e+05,  4.5744e-41],\n",
      "        [ 1.4600e-38,  0.0000e+00,  4.7660e-06, -1.0084e-08],\n",
      "        [-2.2964e+05,  4.5744e-41, -1.8772e+06,  4.5744e-41],\n",
      "        [-2.9343e+31,  3.5991e-09,  0.0000e+00,  0.0000e+00],\n",
      "        [ 0.0000e+00,  0.0000e+00,  5.8475e-40,  2.1321e-26],\n",
      "        [ 0.0000e+00,  0.0000e+00,  0.0000e+00,  0.0000e+00],\n",
      "        [-4.9702e-30,  1.5749e+32,  0.0000e+00,  0.0000e+00],\n",
      "        [ 0.0000e+00,  0.0000e+00, -2.9343e+31,  3.5991e-09],\n",
      "        [ 0.0000e+00,  0.0000e+00,  0.0000e+00,  0.0000e+00],\n",
      "        [ 5.8475e-40,  2.1321e-26,  0.0000e+00,  0.0000e+00],\n",
      "        [ 0.0000e+00,  0.0000e+00, -4.9702e-30,  1.5749e+32],\n",
      "        [ 0.0000e+00,  0.0000e+00,  0.0000e+00,  0.0000e+00],\n",
      "        [-2.9343e+31,  3.5991e-09,  0.0000e+00,  0.0000e+00],\n",
      "        [ 0.0000e+00,  0.0000e+00,  5.8475e-40,  2.1321e-26],\n",
      "        [ 0.0000e+00,  0.0000e+00,  3.1529e-43,  0.0000e+00],\n",
      "        [-2.9604e+07,  4.5744e-41, -2.9604e+07,  4.5744e-41],\n",
      "        [ 0.0000e+00,  0.0000e+00, -2.9343e+31,  3.5991e-09],\n",
      "        [ 0.0000e+00,  0.0000e+00,  0.0000e+00,  0.0000e+00],\n",
      "        [-1.5007e+04,  1.6987e-28, -9.0471e-23,  4.5744e-41],\n",
      "        [-5.7311e-08,  4.5744e-41,  5.8475e-40,  2.1321e-26],\n",
      "        [ 0.0000e+00,  0.0000e+00,  0.0000e+00,  0.0000e+00]])\n"
     ]
    }
   ],
   "source": [
    "#Constructing a Tensor directly \n",
    "#Creates an unitilised matrix of size 25x4\n",
    "c = torch.Tensor(25,4)\n",
    "describe(c)"
   ]
  },
  {
   "cell_type": "code",
   "execution_count": 6,
   "metadata": {},
   "outputs": [
    {
     "name": "stdout",
     "output_type": "stream",
     "text": [
      "Type :: torch.IntTensor\n",
      "Data Type :: torch.int32\n",
      "Size :: torch.Size([2])\n",
      "Shape :: torch.Size([2])\n",
      "Dimension :: 1\n",
      "Data :: \n",
      "tensor([25,  4], dtype=torch.int32)\n"
     ]
    }
   ],
   "source": [
    "#Changing Data type\n",
    "m = m.int()\n",
    "describe(m)"
   ]
  },
  {
   "cell_type": "code",
   "execution_count": 8,
   "metadata": {},
   "outputs": [
    {
     "name": "stdout",
     "output_type": "stream",
     "text": [
      "Type :: torch.IntTensor\n",
      "Data Type :: torch.int32\n",
      "Size :: torch.Size([2])\n",
      "Shape :: torch.Size([2])\n",
      "Dimension :: 1\n",
      "Data :: \n",
      "tensor([25,  4], dtype=torch.int32)\n"
     ]
    }
   ],
   "source": [
    "#Using torch.tensor(), can specify data types\n",
    "m = torch.tensor([25, 4], dtype=torch.int32)\n",
    "describe(m)"
   ]
  },
  {
   "cell_type": "markdown",
   "metadata": {},
   "source": [
    "### Initialising using numpy array"
   ]
  },
  {
   "cell_type": "code",
   "execution_count": 10,
   "metadata": {},
   "outputs": [
    {
     "name": "stdout",
     "output_type": "stream",
     "text": [
      "Type :: torch.IntTensor\n",
      "Data Type :: torch.int32\n",
      "Size :: torch.Size([2])\n",
      "Shape :: torch.Size([2])\n",
      "Dimension :: 1\n",
      "Data :: \n",
      "tensor([25,  4], dtype=torch.int32)\n"
     ]
    }
   ],
   "source": [
    "#Initialized with numpy array\n",
    "n = torch.tensor(np.array([25, 4], dtype=np.int32))\n",
    "describe(n)"
   ]
  },
  {
   "cell_type": "code",
   "execution_count": 11,
   "metadata": {},
   "outputs": [
    {
     "name": "stdout",
     "output_type": "stream",
     "text": [
      "Type :: torch.DoubleTensor\n",
      "Data Type :: torch.float64\n",
      "Size :: torch.Size([10])\n",
      "Shape :: torch.Size([10])\n",
      "Dimension :: 1\n",
      "Data :: \n",
      "tensor([0.9465, 0.1284, 0.4673, 0.3721, 0.6517, 0.9694, 0.4873, 0.5321, 0.3029,\n",
      "        0.7919], dtype=torch.float64)\n"
     ]
    }
   ],
   "source": [
    "#From numpy array\n",
    "a = np.random.rand(10)\n",
    "tensor_a = torch.from_numpy(a)\n",
    "describe(tensor_a)"
   ]
  },
  {
   "cell_type": "code",
   "execution_count": 12,
   "metadata": {},
   "outputs": [
    {
     "data": {
      "text/plain": [
       "(array([0.94654122, 0.12844508, 0.46733646, 0.37214219, 0.65169258,\n",
       "        0.96942189, 0.48729477, 0.53208292, 0.30294736, 0.79190413]),\n",
       " dtype('float64'))"
      ]
     },
     "execution_count": 12,
     "metadata": {},
     "output_type": "execute_result"
    }
   ],
   "source": [
    "#To numpy array\n",
    "back_to_numpy_a = tensor_a.numpy()\n",
    "back_to_numpy_a, back_to_numpy_a.dtype"
   ]
  },
  {
   "cell_type": "markdown",
   "metadata": {},
   "source": [
    "### Different Tensor Creation"
   ]
  },
  {
   "cell_type": "code",
   "execution_count": 14,
   "metadata": {},
   "outputs": [
    {
     "name": "stdout",
     "output_type": "stream",
     "text": [
      "Type :: torch.FloatTensor\n",
      "Data Type :: torch.float32\n",
      "Size :: torch.Size([10])\n",
      "Shape :: torch.Size([10])\n",
      "Dimension :: 1\n",
      "Data :: \n",
      "tensor([4.2196e-37, 0.0000e+00, 3.9913e-37, 4.4842e-44, 4.4842e-44, 3.9913e-37,\n",
      "        1.5835e-43, 0.0000e+00, 4.5824e-37, 0.0000e+00])\n"
     ]
    }
   ],
   "source": [
    "#1 Empty\n",
    "empt = torch.empty(10)\n",
    "describe(empt)"
   ]
  },
  {
   "cell_type": "code",
   "execution_count": 15,
   "metadata": {},
   "outputs": [
    {
     "name": "stdout",
     "output_type": "stream",
     "text": [
      "Type :: torch.FloatTensor\n",
      "Data Type :: torch.float32\n",
      "Size :: torch.Size([2, 3, 4])\n",
      "Shape :: torch.Size([2, 3, 4])\n",
      "Dimension :: 3\n",
      "Data :: \n",
      "tensor([[[0., 0., 0., 0.],\n",
      "         [0., 0., 0., 0.],\n",
      "         [0., 0., 0., 0.]],\n",
      "\n",
      "        [[0., 0., 0., 0.],\n",
      "         [0., 0., 0., 0.],\n",
      "         [0., 0., 0., 0.]]])\n"
     ]
    }
   ],
   "source": [
    "#2 Zero\n",
    "z = torch.zeros(2,3,4)\n",
    "describe(z)"
   ]
  },
  {
   "cell_type": "code",
   "execution_count": 17,
   "metadata": {},
   "outputs": [
    {
     "name": "stdout",
     "output_type": "stream",
     "text": [
      "Type :: torch.FloatTensor\n",
      "Data Type :: torch.float32\n",
      "Size :: torch.Size([2, 3, 4])\n",
      "Shape :: torch.Size([2, 3, 4])\n",
      "Dimension :: 3\n",
      "Data :: \n",
      "tensor([[[1., 1., 1., 1.],\n",
      "         [1., 1., 1., 1.],\n",
      "         [1., 1., 1., 1.]],\n",
      "\n",
      "        [[1., 1., 1., 1.],\n",
      "         [1., 1., 1., 1.],\n",
      "         [1., 1., 1., 1.]]])\n"
     ]
    }
   ],
   "source": [
    "#3 One\n",
    "#torch.ones()\n",
    "#Constructing a tensor using the existing Tensor\n",
    "o = torch.ones_like(z)\n",
    "describe(o)"
   ]
  },
  {
   "cell_type": "code",
   "execution_count": 19,
   "metadata": {},
   "outputs": [
    {
     "name": "stdout",
     "output_type": "stream",
     "text": [
      "Type :: torch.FloatTensor\n",
      "Data Type :: torch.float32\n",
      "Size :: torch.Size([2, 3, 4])\n",
      "Shape :: torch.Size([2, 3, 4])\n",
      "Dimension :: 3\n",
      "Data :: \n",
      "tensor([[[25., 25., 25., 25.],\n",
      "         [25., 25., 25., 25.],\n",
      "         [25., 25., 25., 25.]],\n",
      "\n",
      "        [[25., 25., 25., 25.],\n",
      "         [25., 25., 25., 25.],\n",
      "         [25., 25., 25., 25.]]])\n"
     ]
    }
   ],
   "source": [
    "#4 Filled with a value\n",
    "#can also create tensor filled with same value\n",
    "#torch.fill(shape)\n",
    "z.fill_(25) #_ ===> in-place operation\n",
    "describe(z)"
   ]
  },
  {
   "cell_type": "code",
   "execution_count": 20,
   "metadata": {},
   "outputs": [
    {
     "name": "stdout",
     "output_type": "stream",
     "text": [
      "Type :: torch.FloatTensor\n",
      "Data Type :: torch.float32\n",
      "Size :: torch.Size([4, 4])\n",
      "Shape :: torch.Size([4, 4])\n",
      "Dimension :: 2\n",
      "Data :: \n",
      "tensor([[1., 0., 0., 0.],\n",
      "        [0., 2., 0., 0.],\n",
      "        [0., 0., 3., 0.],\n",
      "        [0., 0., 0., 4.]])\n"
     ]
    }
   ],
   "source": [
    "#5 Diagonal Matrix\n",
    "#Creating a diagonal matrix tensor using the data\n",
    "d = torch.diag(torch.Tensor([1,2,3,4]))\n",
    "describe(d)"
   ]
  },
  {
   "cell_type": "code",
   "execution_count": 21,
   "metadata": {},
   "outputs": [
    {
     "name": "stdout",
     "output_type": "stream",
     "text": [
      "Type :: torch.FloatTensor\n",
      "Data Type :: torch.float32\n",
      "Size :: torch.Size([5, 5])\n",
      "Shape :: torch.Size([5, 5])\n",
      "Dimension :: 2\n",
      "Data :: \n",
      "tensor([[1., 0., 0., 0., 0.],\n",
      "        [0., 1., 0., 0., 0.],\n",
      "        [0., 0., 1., 0., 0.],\n",
      "        [0., 0., 0., 1., 0.],\n",
      "        [0., 0., 0., 0., 1.]])\n"
     ]
    }
   ],
   "source": [
    "#Creating an identity matrix\n",
    "i = torch.eye(5,5)\n",
    "describe(i)"
   ]
  },
  {
   "cell_type": "code",
   "execution_count": 22,
   "metadata": {},
   "outputs": [
    {
     "name": "stdout",
     "output_type": "stream",
     "text": [
      "Type :: torch.FloatTensor\n",
      "Data Type :: torch.float32\n",
      "Size :: torch.Size([10])\n",
      "Shape :: torch.Size([10])\n",
      "Dimension :: 1\n",
      "Data :: \n",
      "tensor([0.1564, 0.7739, 0.2580, 0.9800, 0.7930, 0.9585, 0.6061, 0.8082, 0.0367,\n",
      "        0.1082])\n"
     ]
    }
   ],
   "source": [
    "#Creates a tensor insitialised with 10 uniform random values\n",
    "x = torch.rand(10)\n",
    "describe(x)"
   ]
  },
  {
   "cell_type": "code",
   "execution_count": 23,
   "metadata": {},
   "outputs": [
    {
     "name": "stdout",
     "output_type": "stream",
     "text": [
      "Type :: torch.FloatTensor\n",
      "Data Type :: torch.float32\n",
      "Size :: torch.Size([10])\n",
      "Shape :: torch.Size([10])\n",
      "Dimension :: 1\n",
      "Data :: \n",
      "tensor([ 0.6418, -1.5015, -0.2970,  0.3956, -1.3283,  0.5136, -0.1836,  1.2539,\n",
      "        -0.4568, -0.1882])\n"
     ]
    }
   ],
   "source": [
    "#Creating a normal distribution tensor of shape x\n",
    "x_normal = torch.randn_like(x)\n",
    "describe(x_normal)"
   ]
  },
  {
   "cell_type": "code",
   "execution_count": 24,
   "metadata": {},
   "outputs": [
    {
     "name": "stdout",
     "output_type": "stream",
     "text": [
      "Type :: torch.LongTensor\n",
      "Data Type :: torch.int64\n",
      "Size :: torch.Size([5, 4])\n",
      "Shape :: torch.Size([5, 4])\n",
      "Dimension :: 2\n",
      "Data :: \n",
      "tensor([[56, 99, 76, 79],\n",
      "        [36, 29, 99, 54],\n",
      "        [93, 82, 78, 36],\n",
      "        [ 7, 87, 15, 98],\n",
      "        [56, 63, 96, 98]])\n"
     ]
    }
   ],
   "source": [
    "# randint(start, end, size(must be a tuple))\n",
    "rand_ints = torch.randint(0, 100, (5, 4))\n",
    "describe(rand_ints)"
   ]
  },
  {
   "cell_type": "markdown",
   "metadata": {},
   "source": [
    "### Using Sequences"
   ]
  },
  {
   "cell_type": "code",
   "execution_count": 28,
   "metadata": {},
   "outputs": [
    {
     "name": "stdout",
     "output_type": "stream",
     "text": [
      "Type :: torch.FloatTensor\n",
      "Data Type :: torch.float32\n",
      "Size :: torch.Size([25])\n",
      "Shape :: torch.Size([25])\n",
      "Dimension :: 1\n",
      "Data :: \n",
      "tensor([20.0000, 20.4167, 20.8333, 21.2500, 21.6667, 22.0833, 22.5000, 22.9167,\n",
      "        23.3333, 23.7500, 24.1667, 24.5833, 25.0000, 25.4167, 25.8333, 26.2500,\n",
      "        26.6667, 27.0833, 27.5000, 27.9167, 28.3333, 28.7500, 29.1667, 29.5833,\n",
      "        30.0000])\n"
     ]
    }
   ],
   "source": [
    "#linspace(start, end, number of elements)\n",
    "ls = torch.linspace(20, 30, 25)\n",
    "describe(ls)"
   ]
  },
  {
   "cell_type": "code",
   "execution_count": 33,
   "metadata": {},
   "outputs": [
    {
     "name": "stdout",
     "output_type": "stream",
     "text": [
      "Type :: torch.FloatTensor\n",
      "Data Type :: torch.float32\n",
      "Size :: torch.Size([34])\n",
      "Shape :: torch.Size([34])\n",
      "Dimension :: 1\n",
      "Data :: \n",
      "tensor([ 0.,  3.,  6.,  9., 12., 15., 18., 21., 24., 27., 30., 33., 36., 39.,\n",
      "        42., 45., 48., 51., 54., 57., 60., 63., 66., 69., 72., 75., 78., 81.,\n",
      "        84., 87., 90., 93., 96., 99.])\n"
     ]
    },
    {
     "name": "stderr",
     "output_type": "stream",
     "text": [
      "/home/akshay/venv/lib/python3.6/site-packages/ipykernel_launcher.py:2: UserWarning: torch.range is deprecated in favor of torch.arange and will be removed in 0.5. Note that arange generates values in [start; end), not [start; end].\n",
      "  \n"
     ]
    }
   ],
   "source": [
    "#range(start, end, skip)\n",
    "rg = torch.range(0, 100, 3)\n",
    "describe(rg)"
   ]
  },
  {
   "cell_type": "markdown",
   "metadata": {},
   "source": [
    "### Indexing & Slicing\n",
    "Accessing elements, rows, columns, sub-tensor from a tensor"
   ]
  },
  {
   "cell_type": "code",
   "execution_count": 32,
   "metadata": {},
   "outputs": [
    {
     "data": {
      "text/plain": [
       "tensor([82, 78])"
      ]
     },
     "execution_count": 32,
     "metadata": {},
     "output_type": "execute_result"
    }
   ],
   "source": [
    "#Indexing and Slicing\n",
    "#3rd row, 2nd and 3rd column\n",
    "rand_ints[2, 1:3]"
   ]
  },
  {
   "cell_type": "code",
   "execution_count": null,
   "metadata": {},
   "outputs": [],
   "source": [
    "rand_ints[2, 1:3] = torch.Tensor([19, 91])\n",
    "rand_ints"
   ]
  },
  {
   "cell_type": "code",
   "execution_count": null,
   "metadata": {},
   "outputs": [],
   "source": [
    "#first column\n",
    "rand_ints[:, 0]"
   ]
  },
  {
   "cell_type": "code",
   "execution_count": null,
   "metadata": {},
   "outputs": [],
   "source": [
    "#first 2 row\n",
    "rand_ints[:2,:]"
   ]
  },
  {
   "cell_type": "code",
   "execution_count": null,
   "metadata": {},
   "outputs": [],
   "source": [
    "#last 3 column\n",
    "rand_ints[:,-3:]"
   ]
  },
  {
   "cell_type": "code",
   "execution_count": null,
   "metadata": {},
   "outputs": [],
   "source": [
    "#last row\n",
    "rand_ints[-1,:]"
   ]
  },
  {
   "cell_type": "code",
   "execution_count": 34,
   "metadata": {},
   "outputs": [
    {
     "name": "stdout",
     "output_type": "stream",
     "text": [
      "Type :: torch.LongTensor\n",
      "Data Type :: torch.int64\n",
      "Size :: torch.Size([5, 2])\n",
      "Shape :: torch.Size([5, 2])\n",
      "Dimension :: 2\n",
      "Data :: \n",
      "tensor([[99, 79],\n",
      "        [29, 54],\n",
      "        [82, 36],\n",
      "        [87, 98],\n",
      "        [63, 98]])\n"
     ]
    }
   ],
   "source": [
    "#Non-contiguous indexing, access 2nd and 4th col\n",
    "indices = torch.LongTensor([1,3])\n",
    "describe(torch.index_select(rand_ints, dim=1, index=indices))"
   ]
  },
  {
   "cell_type": "code",
   "execution_count": 35,
   "metadata": {},
   "outputs": [
    {
     "name": "stdout",
     "output_type": "stream",
     "text": [
      "Type :: torch.LongTensor\n",
      "Data Type :: torch.int64\n",
      "Size :: torch.Size([2, 4])\n",
      "Shape :: torch.Size([2, 4])\n",
      "Dimension :: 2\n",
      "Data :: \n",
      "tensor([[36, 29, 99, 54],\n",
      "        [ 7, 87, 15, 98]])\n"
     ]
    }
   ],
   "source": [
    "#access 2nd and 4th row\n",
    "describe(torch.index_select(rand_ints, dim=0, index=indices))"
   ]
  },
  {
   "cell_type": "markdown",
   "metadata": {},
   "source": [
    "### Reshaping"
   ]
  },
  {
   "cell_type": "code",
   "execution_count": 37,
   "metadata": {},
   "outputs": [
    {
     "name": "stdout",
     "output_type": "stream",
     "text": [
      "Type :: torch.IntTensor\n",
      "Data Type :: torch.int32\n",
      "Size :: torch.Size([2, 2, 5])\n",
      "Shape :: torch.Size([2, 2, 5])\n",
      "Dimension :: 3\n",
      "Data :: \n",
      "tensor([[[ 0,  1,  2,  3,  4],\n",
      "         [ 5,  6,  7,  8,  9]],\n",
      "\n",
      "        [[10, 11, 12, 13, 14],\n",
      "         [15, 16, 17, 18, 19]]], dtype=torch.int32)\n"
     ]
    }
   ],
   "source": [
    "a = torch.arange(20, dtype=torch.int32)\n",
    "a = a.view(2,2,5)\n",
    "describe(a)"
   ]
  },
  {
   "cell_type": "code",
   "execution_count": null,
   "metadata": {},
   "outputs": [],
   "source": [
    "#Some functions\n",
    "# For 3d tensors, dim=0 represents 2D tensors, dim=1 represents rows, dim=2 represents column\n",
    "a.sum(), a.sum(dim=0), a.sum(dim=1), a.sum(dim=2)"
   ]
  },
  {
   "cell_type": "code",
   "execution_count": 38,
   "metadata": {},
   "outputs": [
    {
     "name": "stdout",
     "output_type": "stream",
     "text": [
      "Type :: torch.IntTensor\n",
      "Data Type :: torch.int32\n",
      "Size :: torch.Size([10, 2])\n",
      "Shape :: torch.Size([10, 2])\n",
      "Dimension :: 2\n",
      "Data :: \n",
      "tensor([[ 0,  1],\n",
      "        [ 2,  3],\n",
      "        [ 4,  5],\n",
      "        [ 6,  7],\n",
      "        [ 8,  9],\n",
      "        [10, 11],\n",
      "        [12, 13],\n",
      "        [14, 15],\n",
      "        [16, 17],\n",
      "        [18, 19]], dtype=torch.int32)\n",
      "Type :: torch.IntTensor\n",
      "Data Type :: torch.int32\n",
      "Size :: torch.Size([5, 4])\n",
      "Shape :: torch.Size([5, 4])\n",
      "Dimension :: 2\n",
      "Data :: \n",
      "tensor([[ 0,  1,  2,  3],\n",
      "        [ 4,  5,  6,  7],\n",
      "        [ 8,  9, 10, 11],\n",
      "        [12, 13, 14, 15],\n",
      "        [16, 17, 18, 19]], dtype=torch.int32)\n"
     ]
    }
   ],
   "source": [
    "# -1 is inferred from other dimension\n",
    "a = a.view(-1, 2)\n",
    "describe(a)\n",
    "a = a.view(5, -1)\n",
    "describe(a)"
   ]
  },
  {
   "cell_type": "code",
   "execution_count": 39,
   "metadata": {},
   "outputs": [
    {
     "name": "stdout",
     "output_type": "stream",
     "text": [
      "Type :: torch.IntTensor\n",
      "Data Type :: torch.int32\n",
      "Size :: torch.Size([4, 10])\n",
      "Shape :: torch.Size([4, 10])\n",
      "Dimension :: 2\n",
      "Data :: \n",
      "tensor([[ 0,  1,  2,  3,  4,  0,  1,  2,  3,  4],\n",
      "        [ 5,  6,  7,  8,  9,  5,  6,  7,  8,  9],\n",
      "        [10, 11, 12, 13, 14, 10, 11, 12, 13, 14],\n",
      "        [15, 16, 17, 18, 19, 15, 16, 17, 18, 19]], dtype=torch.int32)\n",
      "\n",
      "\n",
      "Type :: torch.IntTensor\n",
      "Data Type :: torch.int32\n",
      "Size :: torch.Size([8, 5])\n",
      "Shape :: torch.Size([8, 5])\n",
      "Dimension :: 2\n",
      "Data :: \n",
      "tensor([[ 0,  1,  2,  3,  4],\n",
      "        [ 5,  6,  7,  8,  9],\n",
      "        [10, 11, 12, 13, 14],\n",
      "        [15, 16, 17, 18, 19],\n",
      "        [ 0,  1,  2,  3,  4],\n",
      "        [ 5,  6,  7,  8,  9],\n",
      "        [10, 11, 12, 13, 14],\n",
      "        [15, 16, 17, 18, 19]], dtype=torch.int32)\n"
     ]
    }
   ],
   "source": [
    "a = a.view(4, 5)\n",
    "describe(torch.cat((a,a), dim=1))\n",
    "print(\"\\n\")\n",
    "describe(torch.cat((a,a), dim=0))"
   ]
  },
  {
   "cell_type": "markdown",
   "metadata": {},
   "source": [
    "### Loading dataset from sklearn"
   ]
  },
  {
   "cell_type": "code",
   "execution_count": 40,
   "metadata": {},
   "outputs": [
    {
     "data": {
      "text/plain": [
       "\".. _boston_dataset:\\n\\nBoston house prices dataset\\n---------------------------\\n\\n**Data Set Characteristics:**  \\n\\n    :Number of Instances: 506 \\n\\n    :Number of Attributes: 13 numeric/categorical predictive. Median Value (attribute 14) is usually the target.\\n\\n    :Attribute Information (in order):\\n        - CRIM     per capita crime rate by town\\n        - ZN       proportion of residential land zoned for lots over 25,000 sq.ft.\\n        - INDUS    proportion of non-retail business acres per town\\n        - CHAS     Charles River dummy variable (= 1 if tract bounds river; 0 otherwise)\\n        - NOX      nitric oxides concentration (parts per 10 million)\\n        - RM       average number of rooms per dwelling\\n        - AGE      proportion of owner-occupied units built prior to 1940\\n        - DIS      weighted distances to five Boston employment centres\\n        - RAD      index of accessibility to radial highways\\n        - TAX      full-value property-tax rate per $10,000\\n        - PTRATIO  pupil-teacher ratio by town\\n        - B        1000(Bk - 0.63)^2 where Bk is the proportion of blacks by town\\n        - LSTAT    % lower status of the population\\n        - MEDV     Median value of owner-occupied homes in $1000's\\n\\n    :Missing Attribute Values: None\\n\\n    :Creator: Harrison, D. and Rubinfeld, D.L.\\n\\nThis is a copy of UCI ML housing dataset.\\nhttps://archive.ics.uci.edu/ml/machine-learning-databases/housing/\\n\\n\\nThis dataset was taken from the StatLib library which is maintained at Carnegie Mellon University.\\n\\nThe Boston house-price data of Harrison, D. and Rubinfeld, D.L. 'Hedonic\\nprices and the demand for clean air', J. Environ. Economics & Management,\\nvol.5, 81-102, 1978.   Used in Belsley, Kuh & Welsch, 'Regression diagnostics\\n...', Wiley, 1980.   N.B. Various transformations are used in the table on\\npages 244-261 of the latter.\\n\\nThe Boston house-price data has been used in many machine learning papers that address regression\\nproblems.   \\n     \\n.. topic:: References\\n\\n   - Belsley, Kuh & Welsch, 'Regression diagnostics: Identifying Influential Data and Sources of Collinearity', Wiley, 1980. 244-261.\\n   - Quinlan,R. (1993). Combining Instance-Based and Model-Based Learning. In Proceedings on the Tenth International Conference of Machine Learning, 236-243, University of Massachusetts, Amherst. Morgan Kaufmann.\\n\""
      ]
     },
     "execution_count": 40,
     "metadata": {},
     "output_type": "execute_result"
    }
   ],
   "source": [
    "#matrix of size 506x13\n",
    "from sklearn.datasets import load_boston\n",
    "boston = load_boston()\n",
    "\n",
    "boston.DESCR"
   ]
  },
  {
   "cell_type": "code",
   "execution_count": 41,
   "metadata": {},
   "outputs": [
    {
     "data": {
      "text/plain": [
       "array(['CRIM', 'ZN', 'INDUS', 'CHAS', 'NOX', 'RM', 'AGE', 'DIS', 'RAD',\n",
       "       'TAX', 'PTRATIO', 'B', 'LSTAT'], dtype='<U7')"
      ]
     },
     "execution_count": 41,
     "metadata": {},
     "output_type": "execute_result"
    }
   ],
   "source": [
    "boston.feature_names"
   ]
  },
  {
   "cell_type": "code",
   "execution_count": 42,
   "metadata": {},
   "outputs": [
    {
     "data": {
      "text/plain": [
       "array([24. , 21.6, 34.7, 33.4, 36.2, 28.7, 22.9, 27.1, 16.5, 18.9, 15. ,\n",
       "       18.9, 21.7, 20.4, 18.2, 19.9, 23.1, 17.5, 20.2, 18.2, 13.6, 19.6,\n",
       "       15.2, 14.5, 15.6, 13.9, 16.6, 14.8, 18.4, 21. , 12.7, 14.5, 13.2,\n",
       "       13.1, 13.5, 18.9, 20. , 21. , 24.7, 30.8, 34.9, 26.6, 25.3, 24.7,\n",
       "       21.2, 19.3, 20. , 16.6, 14.4, 19.4, 19.7, 20.5, 25. , 23.4, 18.9,\n",
       "       35.4, 24.7, 31.6, 23.3, 19.6, 18.7, 16. , 22.2, 25. , 33. , 23.5,\n",
       "       19.4, 22. , 17.4, 20.9, 24.2, 21.7, 22.8, 23.4, 24.1, 21.4, 20. ,\n",
       "       20.8, 21.2, 20.3, 28. , 23.9, 24.8, 22.9, 23.9, 26.6, 22.5, 22.2,\n",
       "       23.6, 28.7, 22.6, 22. , 22.9, 25. , 20.6, 28.4, 21.4, 38.7, 43.8,\n",
       "       33.2, 27.5, 26.5, 18.6, 19.3, 20.1, 19.5, 19.5, 20.4, 19.8, 19.4,\n",
       "       21.7, 22.8, 18.8, 18.7, 18.5, 18.3, 21.2, 19.2, 20.4, 19.3, 22. ,\n",
       "       20.3, 20.5, 17.3, 18.8, 21.4, 15.7, 16.2, 18. , 14.3, 19.2, 19.6,\n",
       "       23. , 18.4, 15.6, 18.1, 17.4, 17.1, 13.3, 17.8, 14. , 14.4, 13.4,\n",
       "       15.6, 11.8, 13.8, 15.6, 14.6, 17.8, 15.4, 21.5, 19.6, 15.3, 19.4,\n",
       "       17. , 15.6, 13.1, 41.3, 24.3, 23.3, 27. , 50. , 50. , 50. , 22.7,\n",
       "       25. , 50. , 23.8, 23.8, 22.3, 17.4, 19.1, 23.1, 23.6, 22.6, 29.4,\n",
       "       23.2, 24.6, 29.9, 37.2, 39.8, 36.2, 37.9, 32.5, 26.4, 29.6, 50. ,\n",
       "       32. , 29.8, 34.9, 37. , 30.5, 36.4, 31.1, 29.1, 50. , 33.3, 30.3,\n",
       "       34.6, 34.9, 32.9, 24.1, 42.3, 48.5, 50. , 22.6, 24.4, 22.5, 24.4,\n",
       "       20. , 21.7, 19.3, 22.4, 28.1, 23.7, 25. , 23.3, 28.7, 21.5, 23. ,\n",
       "       26.7, 21.7, 27.5, 30.1, 44.8, 50. , 37.6, 31.6, 46.7, 31.5, 24.3,\n",
       "       31.7, 41.7, 48.3, 29. , 24. , 25.1, 31.5, 23.7, 23.3, 22. , 20.1,\n",
       "       22.2, 23.7, 17.6, 18.5, 24.3, 20.5, 24.5, 26.2, 24.4, 24.8, 29.6,\n",
       "       42.8, 21.9, 20.9, 44. , 50. , 36. , 30.1, 33.8, 43.1, 48.8, 31. ,\n",
       "       36.5, 22.8, 30.7, 50. , 43.5, 20.7, 21.1, 25.2, 24.4, 35.2, 32.4,\n",
       "       32. , 33.2, 33.1, 29.1, 35.1, 45.4, 35.4, 46. , 50. , 32.2, 22. ,\n",
       "       20.1, 23.2, 22.3, 24.8, 28.5, 37.3, 27.9, 23.9, 21.7, 28.6, 27.1,\n",
       "       20.3, 22.5, 29. , 24.8, 22. , 26.4, 33.1, 36.1, 28.4, 33.4, 28.2,\n",
       "       22.8, 20.3, 16.1, 22.1, 19.4, 21.6, 23.8, 16.2, 17.8, 19.8, 23.1,\n",
       "       21. , 23.8, 23.1, 20.4, 18.5, 25. , 24.6, 23. , 22.2, 19.3, 22.6,\n",
       "       19.8, 17.1, 19.4, 22.2, 20.7, 21.1, 19.5, 18.5, 20.6, 19. , 18.7,\n",
       "       32.7, 16.5, 23.9, 31.2, 17.5, 17.2, 23.1, 24.5, 26.6, 22.9, 24.1,\n",
       "       18.6, 30.1, 18.2, 20.6, 17.8, 21.7, 22.7, 22.6, 25. , 19.9, 20.8,\n",
       "       16.8, 21.9, 27.5, 21.9, 23.1, 50. , 50. , 50. , 50. , 50. , 13.8,\n",
       "       13.8, 15. , 13.9, 13.3, 13.1, 10.2, 10.4, 10.9, 11.3, 12.3,  8.8,\n",
       "        7.2, 10.5,  7.4, 10.2, 11.5, 15.1, 23.2,  9.7, 13.8, 12.7, 13.1,\n",
       "       12.5,  8.5,  5. ,  6.3,  5.6,  7.2, 12.1,  8.3,  8.5,  5. , 11.9,\n",
       "       27.9, 17.2, 27.5, 15. , 17.2, 17.9, 16.3,  7. ,  7.2,  7.5, 10.4,\n",
       "        8.8,  8.4, 16.7, 14.2, 20.8, 13.4, 11.7,  8.3, 10.2, 10.9, 11. ,\n",
       "        9.5, 14.5, 14.1, 16.1, 14.3, 11.7, 13.4,  9.6,  8.7,  8.4, 12.8,\n",
       "       10.5, 17.1, 18.4, 15.4, 10.8, 11.8, 14.9, 12.6, 14.1, 13. , 13.4,\n",
       "       15.2, 16.1, 17.8, 14.9, 14.1, 12.7, 13.5, 14.9, 20. , 16.4, 17.7,\n",
       "       19.5, 20.2, 21.4, 19.9, 19. , 19.1, 19.1, 20.1, 19.9, 19.6, 23.2,\n",
       "       29.8, 13.8, 13.3, 16.7, 12. , 14.6, 21.4, 23. , 23.7, 25. , 21.8,\n",
       "       20.6, 21.2, 19.1, 20.6, 15.2,  7. ,  8.1, 13.6, 20.1, 21.8, 24.5,\n",
       "       23.1, 19.7, 18.3, 21.2, 17.5, 16.8, 22.4, 20.6, 23.9, 22. , 11.9])"
      ]
     },
     "execution_count": 42,
     "metadata": {},
     "output_type": "execute_result"
    }
   ],
   "source": [
    "boston.target"
   ]
  },
  {
   "cell_type": "code",
   "execution_count": 44,
   "metadata": {},
   "outputs": [
    {
     "data": {
      "text/plain": [
       "torch.Size([506, 13])"
      ]
     },
     "execution_count": 44,
     "metadata": {},
     "output_type": "execute_result"
    }
   ],
   "source": [
    "# from_numpy converts numpy array to pytorch tensor\n",
    "boston_data = torch.from_numpy(boston.data)\n",
    "boston_data.size()"
   ]
  },
  {
   "cell_type": "code",
   "execution_count": 45,
   "metadata": {},
   "outputs": [
    {
     "data": {
      "text/plain": [
       "tensor([[ 0.0000,  0.5380,  6.5750, 65.2000,  4.0900],\n",
       "        [ 0.0000,  0.4690,  6.4210, 78.9000,  4.9671]], dtype=torch.float64)"
      ]
     },
     "execution_count": 45,
     "metadata": {},
     "output_type": "execute_result"
    }
   ],
   "source": [
    "#slicing element from columns 3 to 7 from first 2 rows of a tensor\n",
    "boston_data[:2, 3:8]"
   ]
  },
  {
   "cell_type": "markdown",
   "metadata": {},
   "source": [
    "### Arithmetic"
   ]
  },
  {
   "cell_type": "code",
   "execution_count": 46,
   "metadata": {},
   "outputs": [
    {
     "data": {
      "text/plain": [
       "tensor([[0.7445, 0.8295],\n",
       "        [0.9542, 0.2731]])"
      ]
     },
     "execution_count": 46,
     "metadata": {},
     "output_type": "execute_result"
    }
   ],
   "source": [
    "#Arithmetic operations +-*/\n",
    "a = torch.rand(2,2)\n",
    "b = torch.rand(2,2)\n",
    "\n",
    "c = a+b\n",
    "c"
   ]
  },
  {
   "cell_type": "code",
   "execution_count": 47,
   "metadata": {},
   "outputs": [
    {
     "data": {
      "text/plain": [
       "tensor([[0.7445, 0.8295],\n",
       "        [0.9542, 0.2731]])"
      ]
     },
     "execution_count": 47,
     "metadata": {},
     "output_type": "execute_result"
    }
   ],
   "source": [
    "#_ signifies for inplace operation(Here, addition)\n",
    "a.add_(b)"
   ]
  },
  {
   "cell_type": "code",
   "execution_count": 48,
   "metadata": {},
   "outputs": [
    {
     "name": "stdout",
     "output_type": "stream",
     "text": [
      "Type :: torch.IntTensor\n",
      "Data Type :: torch.int32\n",
      "Size :: torch.Size([1])\n",
      "Shape :: torch.Size([1])\n",
      "Dimension :: 1\n",
      "Data :: \n",
      "tensor([25], dtype=torch.int32)\n"
     ]
    },
    {
     "data": {
      "text/plain": [
       "25"
      ]
     },
     "execution_count": 48,
     "metadata": {},
     "output_type": "execute_result"
    }
   ],
   "source": [
    "one_value_tensor = torch.tensor([25], dtype=torch.int32)\n",
    "describe(one_value_tensor)\n",
    "one_value_tensor.item()"
   ]
  },
  {
   "cell_type": "code",
   "execution_count": 49,
   "metadata": {},
   "outputs": [
    {
     "name": "stdout",
     "output_type": "stream",
     "text": [
      "x1 \n",
      "============\n",
      "Type :: torch.LongTensor\n",
      "Data Type :: torch.int64\n",
      "Size :: torch.Size([2, 3])\n",
      "Shape :: torch.Size([2, 3])\n",
      "Dimension :: 2\n",
      "Data :: \n",
      "tensor([[0, 1, 2],\n",
      "        [3, 4, 5]])\n",
      "============\n",
      "\n",
      "x2 \n",
      "============\n",
      "Type :: torch.LongTensor\n",
      "Data Type :: torch.int64\n",
      "Size :: torch.Size([3, 1])\n",
      "Shape :: torch.Size([3, 1])\n",
      "Dimension :: 2\n",
      "Data :: \n",
      "tensor([[10],\n",
      "        [ 7],\n",
      "        [ 4]])\n",
      "============\n",
      "\n",
      "x1 matmul x2 \n",
      "============\n",
      "Type :: torch.LongTensor\n",
      "Data Type :: torch.int64\n",
      "Size :: torch.Size([2, 1])\n",
      "Shape :: torch.Size([2, 1])\n",
      "Dimension :: 2\n",
      "Data :: \n",
      "tensor([[15],\n",
      "        [78]])\n",
      "============\n",
      "\n",
      "x1 transpose \n",
      "============\n",
      "Type :: torch.LongTensor\n",
      "Data Type :: torch.int64\n",
      "Size :: torch.Size([3, 2])\n",
      "Shape :: torch.Size([3, 2])\n",
      "Dimension :: 2\n",
      "Data :: \n",
      "tensor([[0, 3],\n",
      "        [1, 4],\n",
      "        [2, 5]])\n",
      "============\n",
      "\n"
     ]
    }
   ],
   "source": [
    "#Linear Algebra\n",
    "x1 = torch.arange(6).view(2,3)\n",
    "x2 = torch.randint(1, 11, (3,1))\n",
    "print(\"x1\", \"\\n============\")\n",
    "describe(x1)\n",
    "print(\"============\\n\")\n",
    "print(\"x2\", \"\\n============\")\n",
    "describe(x2)\n",
    "print(\"============\\n\")\n",
    "print(\"x1 matmul x2\", \"\\n============\")\n",
    "describe(torch.matmul(x1, x2))\n",
    "print(\"============\\n\")\n",
    "print(\"x1 transpose\", \"\\n============\")\n",
    "describe(torch.transpose(x1, 0, 1))\n",
    "print(\"============\\n\")"
   ]
  },
  {
   "cell_type": "code",
   "execution_count": 74,
   "metadata": {},
   "outputs": [
    {
     "data": {
      "text/plain": [
       "tensor(32)"
      ]
     },
     "execution_count": 74,
     "metadata": {},
     "output_type": "execute_result"
    }
   ],
   "source": [
    "#Vector Dot Product\n",
    "v1 = torch.tensor([1,2,3])\n",
    "v2 = torch.tensor([4,5,6])\n",
    "v1.dot(v2)"
   ]
  },
  {
   "cell_type": "code",
   "execution_count": 75,
   "metadata": {},
   "outputs": [
    {
     "data": {
      "text/plain": [
       "tensor([ 4, 10, 18])"
      ]
     },
     "execution_count": 75,
     "metadata": {},
     "output_type": "execute_result"
    }
   ],
   "source": [
    "#Element wise product\n",
    "v1*v2"
   ]
  },
  {
   "cell_type": "code",
   "execution_count": 62,
   "metadata": {},
   "outputs": [
    {
     "data": {
      "text/plain": [
       "(tensor([[1., 1.],\n",
       "         [1., 1.]], requires_grad=True), True)"
      ]
     },
     "execution_count": 62,
     "metadata": {},
     "output_type": "execute_result"
    }
   ],
   "source": [
    "# Variables are wrapper around the tensor ith gradient and reference to a function that created it.\n",
    "from torch.autograd import Variable\n",
    "x = Variable(torch.ones(2,2), requires_grad=True)\n",
    "x, x.requires_grad"
   ]
  },
  {
   "cell_type": "code",
   "execution_count": 51,
   "metadata": {},
   "outputs": [
    {
     "name": "stdout",
     "output_type": "stream",
     "text": [
      "tensor([[3., 3.],\n",
      "        [3., 3.]], grad_fn=<AddBackward0>)\n"
     ]
    }
   ],
   "source": [
    "y = x + 2\n",
    "print(y)"
   ]
  },
  {
   "cell_type": "code",
   "execution_count": 52,
   "metadata": {},
   "outputs": [
    {
     "name": "stdout",
     "output_type": "stream",
     "text": [
      "<AddBackward0 object at 0x7f8440a8ea58>\n"
     ]
    }
   ],
   "source": [
    "print(y.grad_fn)"
   ]
  },
  {
   "cell_type": "code",
   "execution_count": 53,
   "metadata": {},
   "outputs": [
    {
     "name": "stdout",
     "output_type": "stream",
     "text": [
      "tensor([[27., 27.],\n",
      "        [27., 27.]], grad_fn=<MulBackward0>) tensor(27., grad_fn=<MeanBackward0>)\n"
     ]
    }
   ],
   "source": [
    "z = y * y * 3\n",
    "out = z.mean()\n",
    "\n",
    "print(z, out)"
   ]
  },
  {
   "cell_type": "code",
   "execution_count": 54,
   "metadata": {},
   "outputs": [],
   "source": [
    "#Will give None\n",
    "x.grad"
   ]
  },
  {
   "cell_type": "code",
   "execution_count": 55,
   "metadata": {},
   "outputs": [],
   "source": [
    "#will calculate d(out)/dx\n",
    "out.backward()"
   ]
  },
  {
   "cell_type": "code",
   "execution_count": 56,
   "metadata": {},
   "outputs": [
    {
     "name": "stdout",
     "output_type": "stream",
     "text": [
      "tensor([[4.5000, 4.5000],\n",
      "        [4.5000, 4.5000]])\n"
     ]
    }
   ],
   "source": [
    "#Gradient wrt x\n",
    "print(x.grad)"
   ]
  },
  {
   "cell_type": "code",
   "execution_count": 63,
   "metadata": {},
   "outputs": [
    {
     "data": {
      "text/plain": [
       "tensor([[1., 1.],\n",
       "        [1., 1.]])"
      ]
     },
     "execution_count": 63,
     "metadata": {},
     "output_type": "execute_result"
    }
   ],
   "source": [
    "#Raw data\n",
    "x.data"
   ]
  },
  {
   "cell_type": "code",
   "execution_count": 58,
   "metadata": {},
   "outputs": [
    {
     "data": {
      "text/plain": [
       "(<AddBackward0 at 0x7f8440a8ec18>,\n",
       " <MulBackward0 at 0x7f8440a8e7f0>,\n",
       " <MeanBackward0 at 0x7f8440a8ef28>)"
      ]
     },
     "execution_count": 58,
     "metadata": {},
     "output_type": "execute_result"
    }
   ],
   "source": [
    "#reference to the function that has created the variable\n",
    "y.grad_fn, z.grad_fn, out.grad_fn"
   ]
  },
  {
   "cell_type": "code",
   "execution_count": 65,
   "metadata": {},
   "outputs": [],
   "source": [
    "#Will give None\n",
    "x.grad_fn"
   ]
  },
  {
   "cell_type": "code",
   "execution_count": 68,
   "metadata": {},
   "outputs": [
    {
     "data": {
      "text/plain": [
       "(tensor([[1., 1., 1., 1., 1.],\n",
       "         [1., 1., 1., 1., 1.]]), False)"
      ]
     },
     "execution_count": 68,
     "metadata": {},
     "output_type": "execute_result"
    }
   ],
   "source": [
    "t = torch.ones(2,5)\n",
    "t, t.requires_grad"
   ]
  },
  {
   "cell_type": "code",
   "execution_count": 73,
   "metadata": {},
   "outputs": [
    {
     "data": {
      "text/plain": [
       "True"
      ]
     },
     "execution_count": 73,
     "metadata": {},
     "output_type": "execute_result"
    }
   ],
   "source": [
    "t.requires_grad_(True)\n",
    "(t**2).requires_grad"
   ]
  },
  {
   "cell_type": "code",
   "execution_count": 72,
   "metadata": {},
   "outputs": [
    {
     "name": "stdout",
     "output_type": "stream",
     "text": [
      "False\n"
     ]
    }
   ],
   "source": [
    "#Sometimes some parameters need not to be updated: Use with torch.no_grad()\n",
    "with torch.no_grad():\n",
    "    print((t**2).requires_grad)"
   ]
  },
  {
   "cell_type": "markdown",
   "metadata": {},
   "source": [
    "### Tensor on GPU"
   ]
  },
  {
   "cell_type": "code",
   "execution_count": null,
   "metadata": {},
   "outputs": [],
   "source": [
    "#Tensors can be moved to any device.\n",
    "#Following code checks if GPU is available, maked cuda (GPU) default device.\n",
    "device = torch.device(\"cuda\" if torch.cuda.is_available() else \"cpu\")\n",
    "x3 = torch.rand(2,5).to(device)\n",
    "if device == \"cuda\":\n",
    "    print(torch.cuda.get_device_name(0))\n",
    "    print(x3.type())\n",
    "else:\n",
    "    print(device)\n",
    "    print(x3.type())"
   ]
  },
  {
   "cell_type": "code",
   "execution_count": null,
   "metadata": {},
   "outputs": [],
   "source": []
  }
 ],
 "metadata": {
  "kernelspec": {
   "display_name": "Python 3",
   "language": "python",
   "name": "python3"
  },
  "language_info": {
   "codemirror_mode": {
    "name": "ipython",
    "version": 3
   },
   "file_extension": ".py",
   "mimetype": "text/x-python",
   "name": "python",
   "nbconvert_exporter": "python",
   "pygments_lexer": "ipython3",
   "version": "3.6.8"
  }
 },
 "nbformat": 4,
 "nbformat_minor": 2
}
