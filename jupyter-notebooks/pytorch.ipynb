{
  "nbformat": 4,
  "nbformat_minor": 0,
  "metadata": {
    "kernelspec": {
      "display_name": "Python 3",
      "language": "python",
      "name": "python3"
    },
    "language_info": {
      "codemirror_mode": {
        "name": "ipython",
        "version": 3
      },
      "file_extension": ".py",
      "mimetype": "text/x-python",
      "name": "python",
      "nbconvert_exporter": "python",
      "pygments_lexer": "ipython3",
      "version": "3.6.8"
    },
    "colab": {
      "name": "pytorch.ipynb",
      "provenance": []
    },
    "accelerator": "GPU"
  },
  "cells": [
    {
      "cell_type": "code",
      "metadata": {
        "id": "u4LfrKIVVzBS",
        "colab_type": "code",
        "colab": {
          "base_uri": "https://localhost:8080/",
          "height": 35
        },
        "outputId": "62a8ab00-5909-40e8-f3cb-835a7a9321e7"
      },
      "source": [
        "import torch\n",
        "import numpy as np\n",
        "import matplotlib.pyplot as plt\n",
        "import pandas as pd\n",
        "\n",
        "# Ignore warnings\n",
        "import warnings\n",
        "warnings.filterwarnings(\"ignore\")\n",
        "\n",
        "torch.__version__"
      ],
      "execution_count": null,
      "outputs": [
        {
          "output_type": "execute_result",
          "data": {
            "application/vnd.google.colaboratory.intrinsic+json": {
              "type": "string"
            },
            "text/plain": [
              "'1.6.0+cu101'"
            ]
          },
          "metadata": {
            "tags": []
          },
          "execution_count": 1
        }
      ]
    },
    {
      "cell_type": "code",
      "metadata": {
        "id": "h2Ra0MMSVzBi",
        "colab_type": "code",
        "colab": {}
      },
      "source": [
        "#helper function to summarize the properties of a tensor\n",
        "def describe(x):\n",
        "    print(\"Python Type :: {}\".format(type(x)))\n",
        "    print(\"Type :: {}\".format(x.type()))\n",
        "    print(\"Data Type :: {}\".format(x.dtype))\n",
        "    print(\"Size :: {}\".format(x.size()))\n",
        "    print(\"Number of elements :: {}\".format(x.numel()))\n",
        "    # Dimension :: x.ndimension()\n",
        "    print(\"Dimension :: {}\".format(x.dim()))\n",
        "    print(\"Data :: \\n{}\".format(x))\n",
        "    print('-----'*5)"
      ],
      "execution_count": null,
      "outputs": []
    },
    {
      "cell_type": "markdown",
      "metadata": {
        "id": "VvK3OmVAVzBu",
        "colab_type": "text"
      },
      "source": [
        "## Tensors\n",
        "\n",
        "A Pytorch tensor is a data structure that is similar to numpy arrays. Tensors can also be used on GPUs."
      ]
    },
    {
      "cell_type": "markdown",
      "metadata": {
        "id": "TMirw6BiVzBv",
        "colab_type": "text"
      },
      "source": [
        "### Scalar (0-d Tensor)"
      ]
    },
    {
      "cell_type": "code",
      "metadata": {
        "id": "8NofePk5VzBx",
        "colab_type": "code",
        "colab": {
          "base_uri": "https://localhost:8080/",
          "height": 173
        },
        "outputId": "6dbdea03-a325-4d96-f705-0778e6c1919f"
      },
      "source": [
        "#Scalar (o-d Tensor)\n",
        "s = torch.tensor(2504)\n",
        "describe(s)"
      ],
      "execution_count": null,
      "outputs": [
        {
          "output_type": "stream",
          "text": [
            "Python Type :: <class 'torch.Tensor'>\n",
            "Type :: torch.LongTensor\n",
            "Data Type :: torch.int64\n",
            "Size :: torch.Size([])\n",
            "Number of elements :: 1\n",
            "Dimension :: 0\n",
            "Data :: \n",
            "2504\n",
            "-------------------------\n"
          ],
          "name": "stdout"
        }
      ]
    },
    {
      "cell_type": "markdown",
      "metadata": {
        "id": "maswCZpOVzB7",
        "colab_type": "text"
      },
      "source": [
        "### Vector (1-d Tensor)"
      ]
    },
    {
      "cell_type": "markdown",
      "metadata": {
        "id": "SyeEsHf-VzB8",
        "colab_type": "text"
      },
      "source": [
        "#### Constructing a Tensor directly using python list\n",
        "\n",
        "Using Tensor object"
      ]
    },
    {
      "cell_type": "code",
      "metadata": {
        "id": "nPU-JWGrVzB-",
        "colab_type": "code",
        "colab": {
          "base_uri": "https://localhost:8080/",
          "height": 173
        },
        "outputId": "dba853b1-b472-4fac-dcdd-af3bde647ead"
      },
      "source": [
        "m = torch.Tensor([25, 4])\n",
        "describe(m)"
      ],
      "execution_count": null,
      "outputs": [
        {
          "output_type": "stream",
          "text": [
            "Python Type :: <class 'torch.Tensor'>\n",
            "Type :: torch.FloatTensor\n",
            "Data Type :: torch.float32\n",
            "Size :: torch.Size([2])\n",
            "Number of elements :: 2\n",
            "Dimension :: 1\n",
            "Data :: \n",
            "tensor([25.,  4.])\n",
            "-------------------------\n"
          ],
          "name": "stdout"
        }
      ]
    },
    {
      "cell_type": "markdown",
      "metadata": {
        "id": "ACNRMR_eXG8S",
        "colab_type": "text"
      },
      "source": [
        "Tensor object will always create FloatTensor."
      ]
    },
    {
      "cell_type": "markdown",
      "metadata": {
        "id": "k1G7nVSBVzCG",
        "colab_type": "text"
      },
      "source": [
        "##### Changing Data type of tensor"
      ]
    },
    {
      "cell_type": "code",
      "metadata": {
        "id": "pai2t9ATVzCH",
        "colab_type": "code",
        "colab": {
          "base_uri": "https://localhost:8080/",
          "height": 191
        },
        "outputId": "b14738bb-c18e-4b35-9a1d-6b50ef897023"
      },
      "source": [
        "print(\"Original type of tensor m : \", m.type())\n",
        "m = m.type(torch.LongTensor)\n",
        "describe(m)"
      ],
      "execution_count": null,
      "outputs": [
        {
          "output_type": "stream",
          "text": [
            "Original type of tensor m :  torch.FloatTensor\n",
            "Python Type :: <class 'torch.Tensor'>\n",
            "Type :: torch.LongTensor\n",
            "Data Type :: torch.int64\n",
            "Size :: torch.Size([2])\n",
            "Number of elements :: 2\n",
            "Dimension :: 1\n",
            "Data :: \n",
            "tensor([25,  4])\n",
            "-------------------------\n"
          ],
          "name": "stdout"
        }
      ]
    },
    {
      "cell_type": "markdown",
      "metadata": {
        "id": "yczeShTdVzCQ",
        "colab_type": "text"
      },
      "source": [
        "Using tensor() method"
      ]
    },
    {
      "cell_type": "code",
      "metadata": {
        "id": "g_5y89UUVzCS",
        "colab_type": "code",
        "colab": {
          "base_uri": "https://localhost:8080/",
          "height": 173
        },
        "outputId": "01aafcc2-70ed-4f41-c059-d151e2c70683"
      },
      "source": [
        "#Using torch.tensor(), can specify data types. If no dtype is assigned, it will infer from the data.\n",
        "m = torch.tensor([25, 4], dtype=torch.int32)\n",
        "describe(m)"
      ],
      "execution_count": null,
      "outputs": [
        {
          "output_type": "stream",
          "text": [
            "Python Type :: <class 'torch.Tensor'>\n",
            "Type :: torch.IntTensor\n",
            "Data Type :: torch.int32\n",
            "Size :: torch.Size([2])\n",
            "Number of elements :: 2\n",
            "Dimension :: 1\n",
            "Data :: \n",
            "tensor([25,  4], dtype=torch.int32)\n",
            "-------------------------\n"
          ],
          "name": "stdout"
        }
      ]
    },
    {
      "cell_type": "markdown",
      "metadata": {
        "id": "rFTFI7PDVzCZ",
        "colab_type": "text"
      },
      "source": [
        "torch.tensor() infer the type of the data automatically, <br>\n",
        "torch.Tensor() is an alias of torch.FloatTensor() <br>\n",
        "prefer torch.tensor()"
      ]
    },
    {
      "cell_type": "markdown",
      "metadata": {
        "id": "IJtUnB_8VzCa",
        "colab_type": "text"
      },
      "source": [
        "#### Integer and Float lists to Tensor"
      ]
    },
    {
      "cell_type": "code",
      "metadata": {
        "id": "jIOBNgB9VzCb",
        "colab_type": "code",
        "colab": {}
      },
      "source": [
        "int_list = [1,2,3,4,5]\n",
        "float_list = [1.0,2.0,3.0,4.0,5.0]"
      ],
      "execution_count": null,
      "outputs": []
    },
    {
      "cell_type": "code",
      "metadata": {
        "id": "NkHFDtZtYW4O",
        "colab_type": "code",
        "colab": {
          "base_uri": "https://localhost:8080/",
          "height": 173
        },
        "outputId": "ca3239fa-b9e6-4e28-b600-d091bfbf4578"
      },
      "source": [
        "int_tensor = torch.tensor(int_list)\n",
        "describe(int_tensor)\n"
      ],
      "execution_count": null,
      "outputs": [
        {
          "output_type": "stream",
          "text": [
            "Python Type :: <class 'torch.Tensor'>\n",
            "Type :: torch.LongTensor\n",
            "Data Type :: torch.int64\n",
            "Size :: torch.Size([5])\n",
            "Number of elements :: 5\n",
            "Dimension :: 1\n",
            "Data :: \n",
            "tensor([1, 2, 3, 4, 5])\n",
            "-------------------------\n"
          ],
          "name": "stdout"
        }
      ]
    },
    {
      "cell_type": "code",
      "metadata": {
        "id": "1Q1JFivgYfes",
        "colab_type": "code",
        "colab": {
          "base_uri": "https://localhost:8080/",
          "height": 173
        },
        "outputId": "b1c3dc3f-580d-4e4d-8b60-e552d5160700"
      },
      "source": [
        "float_int_tensor = torch.tensor(float_list, dtype=torch.int64)\n",
        "describe(float_int_tensor)"
      ],
      "execution_count": null,
      "outputs": [
        {
          "output_type": "stream",
          "text": [
            "Python Type :: <class 'torch.Tensor'>\n",
            "Type :: torch.LongTensor\n",
            "Data Type :: torch.int64\n",
            "Size :: torch.Size([5])\n",
            "Number of elements :: 5\n",
            "Dimension :: 1\n",
            "Data :: \n",
            "tensor([1, 2, 3, 4, 5])\n",
            "-------------------------\n"
          ],
          "name": "stdout"
        }
      ]
    },
    {
      "cell_type": "code",
      "metadata": {
        "id": "ZBHzvNMIYlu5",
        "colab_type": "code",
        "colab": {
          "base_uri": "https://localhost:8080/",
          "height": 173
        },
        "outputId": "bd69cdb3-c852-4380-a55a-b32680dfa4c9"
      },
      "source": [
        "float_tensor = torch.tensor(float_list)\n",
        "describe(float_tensor)"
      ],
      "execution_count": null,
      "outputs": [
        {
          "output_type": "stream",
          "text": [
            "Python Type :: <class 'torch.Tensor'>\n",
            "Type :: torch.FloatTensor\n",
            "Data Type :: torch.float32\n",
            "Size :: torch.Size([5])\n",
            "Number of elements :: 5\n",
            "Dimension :: 1\n",
            "Data :: \n",
            "tensor([1., 2., 3., 4., 5.])\n",
            "-------------------------\n"
          ],
          "name": "stdout"
        }
      ]
    },
    {
      "cell_type": "code",
      "metadata": {
        "id": "V-GT5iU4YrXP",
        "colab_type": "code",
        "colab": {
          "base_uri": "https://localhost:8080/",
          "height": 173
        },
        "outputId": "b442922b-e26d-447a-e01e-8cc3199aa4ba"
      },
      "source": [
        "int_float_tensor = torch.FloatTensor(int_list)\n",
        "describe(int_float_tensor)"
      ],
      "execution_count": null,
      "outputs": [
        {
          "output_type": "stream",
          "text": [
            "Python Type :: <class 'torch.Tensor'>\n",
            "Type :: torch.FloatTensor\n",
            "Data Type :: torch.float32\n",
            "Size :: torch.Size([5])\n",
            "Number of elements :: 5\n",
            "Dimension :: 1\n",
            "Data :: \n",
            "tensor([1., 2., 3., 4., 5.])\n",
            "-------------------------\n"
          ],
          "name": "stdout"
        }
      ]
    },
    {
      "cell_type": "code",
      "metadata": {
        "id": "AXZ1g08cYuOv",
        "colab_type": "code",
        "colab": {
          "base_uri": "https://localhost:8080/",
          "height": 173
        },
        "outputId": "170768c0-2808-4d48-b0ef-1dba674c69e5"
      },
      "source": [
        "new_flot_tensor = torch.tensor(int_list, dtype=torch.float64)\n",
        "describe(new_flot_tensor)"
      ],
      "execution_count": null,
      "outputs": [
        {
          "output_type": "stream",
          "text": [
            "Python Type :: <class 'torch.Tensor'>\n",
            "Type :: torch.DoubleTensor\n",
            "Data Type :: torch.float64\n",
            "Size :: torch.Size([5])\n",
            "Number of elements :: 5\n",
            "Dimension :: 1\n",
            "Data :: \n",
            "tensor([1., 2., 3., 4., 5.], dtype=torch.float64)\n",
            "-------------------------\n"
          ],
          "name": "stdout"
        }
      ]
    },
    {
      "cell_type": "markdown",
      "metadata": {
        "id": "dq18HViuVzCi",
        "colab_type": "text"
      },
      "source": [
        "#### Tensor to list"
      ]
    },
    {
      "cell_type": "code",
      "metadata": {
        "id": "sNXyJO5JVzCj",
        "colab_type": "code",
        "colab": {
          "base_uri": "https://localhost:8080/",
          "height": 34
        },
        "outputId": "cf7413bc-ac2f-41e8-be38-2bddccef8031"
      },
      "source": [
        "new_flot_tensor.tolist()"
      ],
      "execution_count": null,
      "outputs": [
        {
          "output_type": "execute_result",
          "data": {
            "text/plain": [
              "[1.0, 2.0, 3.0, 4.0, 5.0]"
            ]
          },
          "metadata": {
            "tags": []
          },
          "execution_count": 13
        }
      ]
    },
    {
      "cell_type": "markdown",
      "metadata": {
        "id": "QtqtjFpAVzCq",
        "colab_type": "text"
      },
      "source": [
        "### Matrix (2-d)"
      ]
    },
    {
      "cell_type": "code",
      "metadata": {
        "id": "qyl-F7OKVzCs",
        "colab_type": "code",
        "colab": {
          "base_uri": "https://localhost:8080/",
          "height": 243
        },
        "outputId": "980ee145-c0c2-4ba2-ca05-52b1a41a1acc"
      },
      "source": [
        "#Constructing a Tensor directly \n",
        "#Creates an unitilised matrix of size 5x4\n",
        "c = torch.Tensor(5,4)\n",
        "describe(c)"
      ],
      "execution_count": null,
      "outputs": [
        {
          "output_type": "stream",
          "text": [
            "Python Type :: <class 'torch.Tensor'>\n",
            "Type :: torch.FloatTensor\n",
            "Data Type :: torch.float32\n",
            "Size :: torch.Size([5, 4])\n",
            "Number of elements :: 20\n",
            "Dimension :: 2\n",
            "Data :: \n",
            "tensor([[2.7933e-36, 0.0000e+00, 7.0065e-44, 6.7262e-44],\n",
            "        [6.3058e-44, 6.7262e-44, 7.8473e-44, 6.3058e-44],\n",
            "        [7.0065e-44, 6.8664e-44, 1.1771e-43, 6.8664e-44],\n",
            "        [6.8664e-44, 8.1275e-44, 7.2868e-44, 7.2868e-44],\n",
            "        [8.1275e-44, 6.8664e-44, 7.8473e-44, 6.4460e-44]])\n",
            "-------------------------\n"
          ],
          "name": "stdout"
        }
      ]
    },
    {
      "cell_type": "markdown",
      "metadata": {
        "id": "AKtNNRlXVzCz",
        "colab_type": "text"
      },
      "source": [
        "### Initialising with a numpy array"
      ]
    },
    {
      "cell_type": "code",
      "metadata": {
        "id": "p3rdRYOfVzCz",
        "colab_type": "code",
        "colab": {
          "base_uri": "https://localhost:8080/",
          "height": 173
        },
        "outputId": "0eed0b66-6e9d-4935-e316-d76c442867a8"
      },
      "source": [
        "#Initialized with numpy array\n",
        "n = torch.tensor(np.array([25, 4], dtype=np.int32))\n",
        "describe(n)"
      ],
      "execution_count": null,
      "outputs": [
        {
          "output_type": "stream",
          "text": [
            "Python Type :: <class 'torch.Tensor'>\n",
            "Type :: torch.IntTensor\n",
            "Data Type :: torch.int32\n",
            "Size :: torch.Size([2])\n",
            "Number of elements :: 2\n",
            "Dimension :: 1\n",
            "Data :: \n",
            "tensor([25,  4], dtype=torch.int32)\n",
            "-------------------------\n"
          ],
          "name": "stdout"
        }
      ]
    },
    {
      "cell_type": "markdown",
      "metadata": {
        "id": "OuX9txMJVzC8",
        "colab_type": "text"
      },
      "source": [
        "### Creating tensor from numpy array"
      ]
    },
    {
      "cell_type": "code",
      "metadata": {
        "id": "es2ahvraVzC-",
        "colab_type": "code",
        "colab": {
          "base_uri": "https://localhost:8080/",
          "height": 243
        },
        "outputId": "a2199c41-2a55-4df5-d3e9-a87aca437acc"
      },
      "source": [
        "a = np.random.rand(10)\n",
        "print(a)\n",
        "print(type(a))\n",
        "tensor_a = torch.from_numpy(a)\n",
        "describe(tensor_a)"
      ],
      "execution_count": null,
      "outputs": [
        {
          "output_type": "stream",
          "text": [
            "[0.04267802 0.79536498 0.32808156 0.08185835 0.42374061 0.97338086\n",
            " 0.31498937 0.21311742 0.34410358 0.28414537]\n",
            "<class 'numpy.ndarray'>\n",
            "Python Type :: <class 'torch.Tensor'>\n",
            "Type :: torch.DoubleTensor\n",
            "Data Type :: torch.float64\n",
            "Size :: torch.Size([10])\n",
            "Number of elements :: 10\n",
            "Dimension :: 1\n",
            "Data :: \n",
            "tensor([0.0427, 0.7954, 0.3281, 0.0819, 0.4237, 0.9734, 0.3150, 0.2131, 0.3441,\n",
            "        0.2841], dtype=torch.float64)\n",
            "-------------------------\n"
          ],
          "name": "stdout"
        }
      ]
    },
    {
      "cell_type": "markdown",
      "metadata": {
        "id": "Z_u_OA-jVzDF",
        "colab_type": "text"
      },
      "source": [
        "### To numpy array"
      ]
    },
    {
      "cell_type": "code",
      "metadata": {
        "id": "U7Fh5md7VzDG",
        "colab_type": "code",
        "colab": {
          "base_uri": "https://localhost:8080/",
          "height": 69
        },
        "outputId": "52cdb851-3042-4757-dbc8-39a034555687"
      },
      "source": [
        "back_to_numpy_a = tensor_a.numpy()\n",
        "back_to_numpy_a, back_to_numpy_a.dtype"
      ],
      "execution_count": null,
      "outputs": [
        {
          "output_type": "execute_result",
          "data": {
            "text/plain": [
              "(array([0.04267802, 0.79536498, 0.32808156, 0.08185835, 0.42374061,\n",
              "        0.97338086, 0.31498937, 0.21311742, 0.34410358, 0.28414537]),\n",
              " dtype('float64'))"
            ]
          },
          "metadata": {
            "tags": []
          },
          "execution_count": 17
        }
      ]
    },
    {
      "cell_type": "markdown",
      "metadata": {
        "id": "nwxCpCc9VzDN",
        "colab_type": "text"
      },
      "source": [
        "### From Pandas Series"
      ]
    },
    {
      "cell_type": "code",
      "metadata": {
        "id": "oEEpll_0VzDO",
        "colab_type": "code",
        "colab": {
          "base_uri": "https://localhost:8080/",
          "height": 295
        },
        "outputId": "0ac862bf-0b00-471b-b809-784d934ce203"
      },
      "source": [
        "pd_series = pd.Series(np.arange(1,11,2))\n",
        "print(pd_series)\n",
        "print(type(pd_series))\n",
        "tensor_from_series = torch.from_numpy(pd_series.values)\n",
        "describe(tensor_from_series)"
      ],
      "execution_count": null,
      "outputs": [
        {
          "output_type": "stream",
          "text": [
            "0    1\n",
            "1    3\n",
            "2    5\n",
            "3    7\n",
            "4    9\n",
            "dtype: int64\n",
            "<class 'pandas.core.series.Series'>\n",
            "Python Type :: <class 'torch.Tensor'>\n",
            "Type :: torch.LongTensor\n",
            "Data Type :: torch.int64\n",
            "Size :: torch.Size([5])\n",
            "Number of elements :: 5\n",
            "Dimension :: 1\n",
            "Data :: \n",
            "tensor([1, 3, 5, 7, 9])\n",
            "-------------------------\n"
          ],
          "name": "stdout"
        }
      ]
    },
    {
      "cell_type": "code",
      "metadata": {
        "id": "YsVuJhZWVzDV",
        "colab_type": "code",
        "colab": {
          "base_uri": "https://localhost:8080/",
          "height": 295
        },
        "outputId": "3bc5c685-9fa7-4fb2-a326-0982ec04f265"
      },
      "source": [
        "df = pd.DataFrame({'a':[11,21,31],'b':[12,22,32], 'c':[13,23,33]})\n",
        "print(df)\n",
        "print(type(df))\n",
        "\n",
        "tensor_fron_dataframe = torch.from_numpy(df.values)\n",
        "describe(tensor_fron_dataframe)"
      ],
      "execution_count": null,
      "outputs": [
        {
          "output_type": "stream",
          "text": [
            "    a   b   c\n",
            "0  11  12  13\n",
            "1  21  22  23\n",
            "2  31  32  33\n",
            "<class 'pandas.core.frame.DataFrame'>\n",
            "Python Type :: <class 'torch.Tensor'>\n",
            "Type :: torch.LongTensor\n",
            "Data Type :: torch.int64\n",
            "Size :: torch.Size([3, 3])\n",
            "Number of elements :: 9\n",
            "Dimension :: 2\n",
            "Data :: \n",
            "tensor([[11, 12, 13],\n",
            "        [21, 22, 23],\n",
            "        [31, 32, 33]])\n",
            "-------------------------\n"
          ],
          "name": "stdout"
        }
      ]
    },
    {
      "cell_type": "markdown",
      "metadata": {
        "id": "n30XOwUPVzDb",
        "colab_type": "text"
      },
      "source": [
        "### Different Tensor Creation"
      ]
    },
    {
      "cell_type": "markdown",
      "metadata": {
        "id": "ERMMuB1HVzDc",
        "colab_type": "text"
      },
      "source": [
        "#### Empty\n",
        "\n",
        "Creates an unitialised tensor"
      ]
    },
    {
      "cell_type": "code",
      "metadata": {
        "id": "E-Az7jWfVzDe",
        "colab_type": "code",
        "colab": {
          "base_uri": "https://localhost:8080/",
          "height": 191
        },
        "outputId": "d1651712-3de4-4c02-b78b-f520e86cfd66"
      },
      "source": [
        "empt = torch.empty(10)\n",
        "describe(empt)"
      ],
      "execution_count": null,
      "outputs": [
        {
          "output_type": "stream",
          "text": [
            "Python Type :: <class 'torch.Tensor'>\n",
            "Type :: torch.FloatTensor\n",
            "Data Type :: torch.float32\n",
            "Size :: torch.Size([10])\n",
            "Number of elements :: 10\n",
            "Dimension :: 1\n",
            "Data :: \n",
            "tensor([2.9697e-36, 0.0000e+00, 3.3631e-44, 0.0000e+00,        nan, 0.0000e+00,\n",
            "        1.1578e+27, 1.1362e+30, 7.1547e+22, 4.5828e+30])\n",
            "-------------------------\n"
          ],
          "name": "stdout"
        }
      ]
    },
    {
      "cell_type": "markdown",
      "metadata": {
        "id": "HyZGDR_GVzDk",
        "colab_type": "text"
      },
      "source": [
        "#### Zeros\n",
        "\n",
        "Created a tensor initialised with zeros"
      ]
    },
    {
      "cell_type": "code",
      "metadata": {
        "id": "D2j300Y6VzDl",
        "colab_type": "code",
        "colab": {
          "base_uri": "https://localhost:8080/",
          "height": 278
        },
        "outputId": "a1fd7422-ca70-40a6-8653-ea17c9ccd994"
      },
      "source": [
        "z = torch.zeros(2,3,4)\n",
        "describe(z)"
      ],
      "execution_count": null,
      "outputs": [
        {
          "output_type": "stream",
          "text": [
            "Python Type :: <class 'torch.Tensor'>\n",
            "Type :: torch.FloatTensor\n",
            "Data Type :: torch.float32\n",
            "Size :: torch.Size([2, 3, 4])\n",
            "Number of elements :: 24\n",
            "Dimension :: 3\n",
            "Data :: \n",
            "tensor([[[0., 0., 0., 0.],\n",
            "         [0., 0., 0., 0.],\n",
            "         [0., 0., 0., 0.]],\n",
            "\n",
            "        [[0., 0., 0., 0.],\n",
            "         [0., 0., 0., 0.],\n",
            "         [0., 0., 0., 0.]]])\n",
            "-------------------------\n"
          ],
          "name": "stdout"
        }
      ]
    },
    {
      "cell_type": "markdown",
      "metadata": {
        "id": "2DnhbYszVzDp",
        "colab_type": "text"
      },
      "source": [
        "#### Ones\n",
        "\n",
        "Creates a tensor initialised with ones"
      ]
    },
    {
      "cell_type": "code",
      "metadata": {
        "id": "xsgiEr3oVzDq",
        "colab_type": "code",
        "colab": {
          "base_uri": "https://localhost:8080/",
          "height": 278
        },
        "outputId": "f0561a1e-66dc-439e-93ab-8eaa88b468fb"
      },
      "source": [
        "#torch.ones()\n",
        "#_like :: Constructing a tensor using the existing Tensor; \n",
        "#         These methods will reuse properties of the input tensor, e.g. dtype, unless new values are provided\n",
        "o = torch.ones_like(z)\n",
        "describe(o)"
      ],
      "execution_count": null,
      "outputs": [
        {
          "output_type": "stream",
          "text": [
            "Python Type :: <class 'torch.Tensor'>\n",
            "Type :: torch.FloatTensor\n",
            "Data Type :: torch.float32\n",
            "Size :: torch.Size([2, 3, 4])\n",
            "Number of elements :: 24\n",
            "Dimension :: 3\n",
            "Data :: \n",
            "tensor([[[1., 1., 1., 1.],\n",
            "         [1., 1., 1., 1.],\n",
            "         [1., 1., 1., 1.]],\n",
            "\n",
            "        [[1., 1., 1., 1.],\n",
            "         [1., 1., 1., 1.],\n",
            "         [1., 1., 1., 1.]]])\n",
            "-------------------------\n"
          ],
          "name": "stdout"
        }
      ]
    },
    {
      "cell_type": "markdown",
      "metadata": {
        "id": "pxDmSh4wVzDw",
        "colab_type": "text"
      },
      "source": [
        "#### Filled with a value\n",
        "\n",
        "Creates a tensor filled with the same value"
      ]
    },
    {
      "cell_type": "code",
      "metadata": {
        "id": "NMKq3Z73VzDx",
        "colab_type": "code",
        "colab": {
          "base_uri": "https://localhost:8080/",
          "height": 278
        },
        "outputId": "d8340675-138e-4a6e-ea07-485d3a4e3fdb"
      },
      "source": [
        "#can also create tensor filled with same value\n",
        "#torch.fill(shape, val)\n",
        "z.fill_(25) #_ ===> in-place operation\n",
        "describe(z)"
      ],
      "execution_count": null,
      "outputs": [
        {
          "output_type": "stream",
          "text": [
            "Python Type :: <class 'torch.Tensor'>\n",
            "Type :: torch.FloatTensor\n",
            "Data Type :: torch.float32\n",
            "Size :: torch.Size([2, 3, 4])\n",
            "Number of elements :: 24\n",
            "Dimension :: 3\n",
            "Data :: \n",
            "tensor([[[25., 25., 25., 25.],\n",
            "         [25., 25., 25., 25.],\n",
            "         [25., 25., 25., 25.]],\n",
            "\n",
            "        [[25., 25., 25., 25.],\n",
            "         [25., 25., 25., 25.],\n",
            "         [25., 25., 25., 25.]]])\n",
            "-------------------------\n"
          ],
          "name": "stdout"
        }
      ]
    },
    {
      "cell_type": "markdown",
      "metadata": {
        "id": "5p306-wWVzD1",
        "colab_type": "text"
      },
      "source": [
        "#### Diagonal Matrix"
      ]
    },
    {
      "cell_type": "code",
      "metadata": {
        "id": "wUxpCs0CVzD2",
        "colab_type": "code",
        "colab": {
          "base_uri": "https://localhost:8080/",
          "height": 225
        },
        "outputId": "59d0b909-b643-441e-b29c-d54e24c79b52"
      },
      "source": [
        "#Creating a diagonal matrix tensor using the input data\n",
        "#input data must be a torch tensor\n",
        "d = torch.diag(torch.Tensor([1,2,3,4]))\n",
        "describe(d)"
      ],
      "execution_count": null,
      "outputs": [
        {
          "output_type": "stream",
          "text": [
            "Python Type :: <class 'torch.Tensor'>\n",
            "Type :: torch.FloatTensor\n",
            "Data Type :: torch.float32\n",
            "Size :: torch.Size([4, 4])\n",
            "Number of elements :: 16\n",
            "Dimension :: 2\n",
            "Data :: \n",
            "tensor([[1., 0., 0., 0.],\n",
            "        [0., 2., 0., 0.],\n",
            "        [0., 0., 3., 0.],\n",
            "        [0., 0., 0., 4.]])\n",
            "-------------------------\n"
          ],
          "name": "stdout"
        }
      ]
    },
    {
      "cell_type": "markdown",
      "metadata": {
        "id": "aPX3rED-VzD6",
        "colab_type": "text"
      },
      "source": [
        "#### Identity Matrix"
      ]
    },
    {
      "cell_type": "code",
      "metadata": {
        "id": "jaRkgTrfVzD-",
        "colab_type": "code",
        "colab": {
          "base_uri": "https://localhost:8080/",
          "height": 243
        },
        "outputId": "c9f4c8ac-e8be-42b1-dedd-98830641ca64"
      },
      "source": [
        "#Creating an identity matrix\n",
        "#default dtype is float\n",
        "i = torch.eye(5,5, dtype=torch.int64)\n",
        "describe(i)"
      ],
      "execution_count": null,
      "outputs": [
        {
          "output_type": "stream",
          "text": [
            "Python Type :: <class 'torch.Tensor'>\n",
            "Type :: torch.LongTensor\n",
            "Data Type :: torch.int64\n",
            "Size :: torch.Size([5, 5])\n",
            "Number of elements :: 25\n",
            "Dimension :: 2\n",
            "Data :: \n",
            "tensor([[1, 0, 0, 0, 0],\n",
            "        [0, 1, 0, 0, 0],\n",
            "        [0, 0, 1, 0, 0],\n",
            "        [0, 0, 0, 1, 0],\n",
            "        [0, 0, 0, 0, 1]])\n",
            "-------------------------\n"
          ],
          "name": "stdout"
        }
      ]
    },
    {
      "cell_type": "markdown",
      "metadata": {
        "id": "DU3_GbF8VzED",
        "colab_type": "text"
      },
      "source": [
        "#### Initialised with random values"
      ]
    },
    {
      "cell_type": "code",
      "metadata": {
        "id": "3KikOsIGVzEF",
        "colab_type": "code",
        "colab": {
          "base_uri": "https://localhost:8080/",
          "height": 191
        },
        "outputId": "0005a1f1-b78d-4b38-88a1-ea2846701a86"
      },
      "source": [
        "#Creates a tensor insitialised with 10 uniform random values\n",
        "x = torch.rand(10)\n",
        "describe(x)"
      ],
      "execution_count": null,
      "outputs": [
        {
          "output_type": "stream",
          "text": [
            "Python Type :: <class 'torch.Tensor'>\n",
            "Type :: torch.FloatTensor\n",
            "Data Type :: torch.float32\n",
            "Size :: torch.Size([10])\n",
            "Number of elements :: 10\n",
            "Dimension :: 1\n",
            "Data :: \n",
            "tensor([0.9840, 0.8141, 0.7900, 0.4159, 0.5992, 0.7381, 0.5376, 0.6625, 0.9687,\n",
            "        0.4605])\n",
            "-------------------------\n"
          ],
          "name": "stdout"
        }
      ]
    },
    {
      "cell_type": "code",
      "metadata": {
        "id": "QPO7paK_VzEI",
        "colab_type": "code",
        "colab": {
          "base_uri": "https://localhost:8080/",
          "height": 191
        },
        "outputId": "a1958ad5-7a20-4c3a-fc19-97a469cef2e2"
      },
      "source": [
        "#Creating a normal distribution tensor of shape x\n",
        "#x_normal = torch.randn(shape)\n",
        "x_normal = torch.randn_like(x)\n",
        "describe(x_normal)"
      ],
      "execution_count": null,
      "outputs": [
        {
          "output_type": "stream",
          "text": [
            "Python Type :: <class 'torch.Tensor'>\n",
            "Type :: torch.FloatTensor\n",
            "Data Type :: torch.float32\n",
            "Size :: torch.Size([10])\n",
            "Number of elements :: 10\n",
            "Dimension :: 1\n",
            "Data :: \n",
            "tensor([ 1.7878, -0.2396, -0.2670, -0.0455,  1.1813, -0.6873, -0.5476, -1.0975,\n",
            "         0.6102, -0.7388])\n",
            "-------------------------\n"
          ],
          "name": "stdout"
        }
      ]
    },
    {
      "cell_type": "code",
      "metadata": {
        "id": "rEj7acKaVzEO",
        "colab_type": "code",
        "colab": {
          "base_uri": "https://localhost:8080/",
          "height": 243
        },
        "outputId": "63fee68a-8f4a-4a8d-a05f-039700fd2727"
      },
      "source": [
        "# randint(start, end, size(must be a tuple))\n",
        "rand_ints = torch.randint(0, 100, (5, 4))\n",
        "describe(rand_ints)"
      ],
      "execution_count": null,
      "outputs": [
        {
          "output_type": "stream",
          "text": [
            "Python Type :: <class 'torch.Tensor'>\n",
            "Type :: torch.LongTensor\n",
            "Data Type :: torch.int64\n",
            "Size :: torch.Size([5, 4])\n",
            "Number of elements :: 20\n",
            "Dimension :: 2\n",
            "Data :: \n",
            "tensor([[75, 54, 84,  6],\n",
            "        [61, 28, 22, 34],\n",
            "        [54, 88, 46, 91],\n",
            "        [99, 14, 99, 95],\n",
            "        [67, 52, 21, 81]])\n",
            "-------------------------\n"
          ],
          "name": "stdout"
        }
      ]
    },
    {
      "cell_type": "markdown",
      "metadata": {
        "id": "Yq6gIduqVzER",
        "colab_type": "text"
      },
      "source": [
        "#### Using Sequences"
      ]
    },
    {
      "cell_type": "code",
      "metadata": {
        "id": "WN9QygXGVzES",
        "colab_type": "code",
        "colab": {
          "base_uri": "https://localhost:8080/",
          "height": 382
        },
        "outputId": "3cf27c26-18f1-4e15-8cca-3b6bcfee1d7d"
      },
      "source": [
        "#linspace(start, end, number of elements)\n",
        "# Linespace returns evenly spaced numbers over a specified interval.\n",
        "ls = torch.linspace(20, 30, 100)\n",
        "describe(ls)"
      ],
      "execution_count": null,
      "outputs": [
        {
          "output_type": "stream",
          "text": [
            "Python Type :: <class 'torch.Tensor'>\n",
            "Type :: torch.FloatTensor\n",
            "Data Type :: torch.float32\n",
            "Size :: torch.Size([100])\n",
            "Number of elements :: 100\n",
            "Dimension :: 1\n",
            "Data :: \n",
            "tensor([20.0000, 20.1010, 20.2020, 20.3030, 20.4040, 20.5051, 20.6061, 20.7071,\n",
            "        20.8081, 20.9091, 21.0101, 21.1111, 21.2121, 21.3131, 21.4141, 21.5152,\n",
            "        21.6162, 21.7172, 21.8182, 21.9192, 22.0202, 22.1212, 22.2222, 22.3232,\n",
            "        22.4242, 22.5253, 22.6263, 22.7273, 22.8283, 22.9293, 23.0303, 23.1313,\n",
            "        23.2323, 23.3333, 23.4343, 23.5354, 23.6364, 23.7374, 23.8384, 23.9394,\n",
            "        24.0404, 24.1414, 24.2424, 24.3434, 24.4444, 24.5455, 24.6465, 24.7475,\n",
            "        24.8485, 24.9495, 25.0505, 25.1515, 25.2525, 25.3535, 25.4545, 25.5556,\n",
            "        25.6566, 25.7576, 25.8586, 25.9596, 26.0606, 26.1616, 26.2626, 26.3636,\n",
            "        26.4646, 26.5657, 26.6667, 26.7677, 26.8687, 26.9697, 27.0707, 27.1717,\n",
            "        27.2727, 27.3737, 27.4747, 27.5758, 27.6768, 27.7778, 27.8788, 27.9798,\n",
            "        28.0808, 28.1818, 28.2828, 28.3838, 28.4848, 28.5859, 28.6869, 28.7879,\n",
            "        28.8889, 28.9899, 29.0909, 29.1919, 29.2929, 29.3939, 29.4949, 29.5960,\n",
            "        29.6970, 29.7980, 29.8990, 30.0000])\n",
            "-------------------------\n"
          ],
          "name": "stdout"
        }
      ]
    },
    {
      "cell_type": "code",
      "metadata": {
        "id": "vVgnskDqVzEW",
        "colab_type": "code",
        "colab": {
          "base_uri": "https://localhost:8080/",
          "height": 208
        },
        "outputId": "1b385954-6da2-49f7-c324-1ff566ef2365"
      },
      "source": [
        "#range(start, end, skip)\n",
        "rg = torch.range(0, 100, 3)\n",
        "describe(rg)"
      ],
      "execution_count": null,
      "outputs": [
        {
          "output_type": "stream",
          "text": [
            "Python Type :: <class 'torch.Tensor'>\n",
            "Type :: torch.FloatTensor\n",
            "Data Type :: torch.float32\n",
            "Size :: torch.Size([34])\n",
            "Number of elements :: 34\n",
            "Dimension :: 1\n",
            "Data :: \n",
            "tensor([ 0.,  3.,  6.,  9., 12., 15., 18., 21., 24., 27., 30., 33., 36., 39.,\n",
            "        42., 45., 48., 51., 54., 57., 60., 63., 66., 69., 72., 75., 78., 81.,\n",
            "        84., 87., 90., 93., 96., 99.])\n",
            "-------------------------\n"
          ],
          "name": "stdout"
        }
      ]
    },
    {
      "cell_type": "markdown",
      "metadata": {
        "id": "APXpPPkAVzEa",
        "colab_type": "text"
      },
      "source": [
        "## Indexing & Slicing\n",
        "Accessing elements, rows, columns, sub-tensor from a tensor"
      ]
    },
    {
      "cell_type": "code",
      "metadata": {
        "id": "ImJc56ShVzEb",
        "colab_type": "code",
        "colab": {
          "base_uri": "https://localhost:8080/",
          "height": 104
        },
        "outputId": "65878ea8-ecec-45dc-aa01-1a76520bc728"
      },
      "source": [
        "rand_ints.data"
      ],
      "execution_count": null,
      "outputs": [
        {
          "output_type": "execute_result",
          "data": {
            "text/plain": [
              "tensor([[75, 54, 84,  6],\n",
              "        [61, 28, 22, 34],\n",
              "        [54, 88, 46, 91],\n",
              "        [99, 14, 99, 95],\n",
              "        [67, 52, 21, 81]])"
            ]
          },
          "metadata": {
            "tags": []
          },
          "execution_count": 31
        }
      ]
    },
    {
      "cell_type": "code",
      "metadata": {
        "id": "bcypNmokcfKR",
        "colab_type": "code",
        "colab": {
          "base_uri": "https://localhost:8080/",
          "height": 34
        },
        "outputId": "f910f95b-5fac-4720-fcf0-1d1dcb6cabda"
      },
      "source": [
        "rand_ints[0][2]"
      ],
      "execution_count": null,
      "outputs": [
        {
          "output_type": "execute_result",
          "data": {
            "text/plain": [
              "tensor(84)"
            ]
          },
          "metadata": {
            "tags": []
          },
          "execution_count": 32
        }
      ]
    },
    {
      "cell_type": "markdown",
      "metadata": {
        "id": "lbce4K-HclIp",
        "colab_type": "text"
      },
      "source": [
        "Accessing an element from a tensor returns tensor object. To get the element use `.item()`"
      ]
    },
    {
      "cell_type": "code",
      "metadata": {
        "id": "X4Vvtgk7c3yl",
        "colab_type": "code",
        "colab": {
          "base_uri": "https://localhost:8080/",
          "height": 34
        },
        "outputId": "13205a86-da10-4d5f-fef4-231bcaa60c72"
      },
      "source": [
        "rand_ints[0][2].item()"
      ],
      "execution_count": null,
      "outputs": [
        {
          "output_type": "execute_result",
          "data": {
            "text/plain": [
              "84"
            ]
          },
          "metadata": {
            "tags": []
          },
          "execution_count": 33
        }
      ]
    },
    {
      "cell_type": "code",
      "metadata": {
        "id": "3kU7C7uxVzEg",
        "colab_type": "code",
        "colab": {
          "base_uri": "https://localhost:8080/",
          "height": 34
        },
        "outputId": "d4d841dd-4852-44b0-d4ad-aba755c24112"
      },
      "source": [
        "#Indexing and Slicing\n",
        "#3rd row, 2nd and 3rd column\n",
        "rand_ints[2, 1:3]"
      ],
      "execution_count": null,
      "outputs": [
        {
          "output_type": "execute_result",
          "data": {
            "text/plain": [
              "tensor([88, 46])"
            ]
          },
          "metadata": {
            "tags": []
          },
          "execution_count": 34
        }
      ]
    },
    {
      "cell_type": "code",
      "metadata": {
        "id": "XLztJGXxVzEl",
        "colab_type": "code",
        "colab": {
          "base_uri": "https://localhost:8080/",
          "height": 104
        },
        "outputId": "cac42e25-444c-41b4-e6ce-637a3bb288ff"
      },
      "source": [
        "#Updating the tensor\n",
        "rand_ints[2, 1:3] = torch.Tensor([19, 91])\n",
        "rand_ints.data"
      ],
      "execution_count": null,
      "outputs": [
        {
          "output_type": "execute_result",
          "data": {
            "text/plain": [
              "tensor([[75, 54, 84,  6],\n",
              "        [61, 28, 22, 34],\n",
              "        [54, 19, 91, 91],\n",
              "        [99, 14, 99, 95],\n",
              "        [67, 52, 21, 81]])"
            ]
          },
          "metadata": {
            "tags": []
          },
          "execution_count": 35
        }
      ]
    },
    {
      "cell_type": "code",
      "metadata": {
        "id": "0kACHZOCVzEn",
        "colab_type": "code",
        "colab": {
          "base_uri": "https://localhost:8080/",
          "height": 34
        },
        "outputId": "ae713c21-c142-48bf-dcce-9e1cf7061778"
      },
      "source": [
        "#first column\n",
        "rand_ints[:, 0]"
      ],
      "execution_count": null,
      "outputs": [
        {
          "output_type": "execute_result",
          "data": {
            "text/plain": [
              "tensor([75, 61, 54, 99, 67])"
            ]
          },
          "metadata": {
            "tags": []
          },
          "execution_count": 36
        }
      ]
    },
    {
      "cell_type": "code",
      "metadata": {
        "id": "KG9hWXRBVzEr",
        "colab_type": "code",
        "colab": {
          "base_uri": "https://localhost:8080/",
          "height": 52
        },
        "outputId": "a6eb1c8c-74b8-4ded-b5ff-52a3cc35d8ac"
      },
      "source": [
        "#first 2 row\n",
        "rand_ints[:2,:]"
      ],
      "execution_count": null,
      "outputs": [
        {
          "output_type": "execute_result",
          "data": {
            "text/plain": [
              "tensor([[75, 54, 84,  6],\n",
              "        [61, 28, 22, 34]])"
            ]
          },
          "metadata": {
            "tags": []
          },
          "execution_count": 37
        }
      ]
    },
    {
      "cell_type": "code",
      "metadata": {
        "id": "tKca1Q0oVzEx",
        "colab_type": "code",
        "colab": {
          "base_uri": "https://localhost:8080/",
          "height": 104
        },
        "outputId": "5534331e-1a1e-449a-a6bf-e1d01673b6d5"
      },
      "source": [
        "#last 3 column\n",
        "rand_ints[:,-3:]"
      ],
      "execution_count": null,
      "outputs": [
        {
          "output_type": "execute_result",
          "data": {
            "text/plain": [
              "tensor([[54, 84,  6],\n",
              "        [28, 22, 34],\n",
              "        [19, 91, 91],\n",
              "        [14, 99, 95],\n",
              "        [52, 21, 81]])"
            ]
          },
          "metadata": {
            "tags": []
          },
          "execution_count": 38
        }
      ]
    },
    {
      "cell_type": "code",
      "metadata": {
        "id": "-SBACDKkVzE1",
        "colab_type": "code",
        "colab": {
          "base_uri": "https://localhost:8080/",
          "height": 34
        },
        "outputId": "3590f751-c52f-4da8-8a26-78db299568a3"
      },
      "source": [
        "#last row\n",
        "rand_ints[-1,:]"
      ],
      "execution_count": null,
      "outputs": [
        {
          "output_type": "execute_result",
          "data": {
            "text/plain": [
              "tensor([67, 52, 21, 81])"
            ]
          },
          "metadata": {
            "tags": []
          },
          "execution_count": 39
        }
      ]
    },
    {
      "cell_type": "markdown",
      "metadata": {
        "id": "Vnrn5OA4VzE5",
        "colab_type": "text"
      },
      "source": [
        "#### Non-contiguous indexing"
      ]
    },
    {
      "cell_type": "code",
      "metadata": {
        "id": "at0N-nxhVzE6",
        "colab_type": "code",
        "colab": {
          "base_uri": "https://localhost:8080/",
          "height": 243
        },
        "outputId": "f5840bc3-bac2-4e7c-d8fc-9aebfc2e3593"
      },
      "source": [
        "#Access 2nd and 4th col\n",
        "indices = torch.LongTensor([1,3]) # Index must be integers\n",
        "describe(torch.index_select(rand_ints, dim=1, index=indices))"
      ],
      "execution_count": null,
      "outputs": [
        {
          "output_type": "stream",
          "text": [
            "Python Type :: <class 'torch.Tensor'>\n",
            "Type :: torch.LongTensor\n",
            "Data Type :: torch.int64\n",
            "Size :: torch.Size([5, 2])\n",
            "Number of elements :: 10\n",
            "Dimension :: 2\n",
            "Data :: \n",
            "tensor([[54,  6],\n",
            "        [28, 34],\n",
            "        [19, 91],\n",
            "        [14, 95],\n",
            "        [52, 81]])\n",
            "-------------------------\n"
          ],
          "name": "stdout"
        }
      ]
    },
    {
      "cell_type": "code",
      "metadata": {
        "id": "GFeAi3mRVzE9",
        "colab_type": "code",
        "colab": {
          "base_uri": "https://localhost:8080/",
          "height": 191
        },
        "outputId": "57376d79-ec37-4549-e03e-168bb3494daf"
      },
      "source": [
        "#access 2nd and 4th row\n",
        "describe(torch.index_select(rand_ints, dim=0, index=indices))"
      ],
      "execution_count": null,
      "outputs": [
        {
          "output_type": "stream",
          "text": [
            "Python Type :: <class 'torch.Tensor'>\n",
            "Type :: torch.LongTensor\n",
            "Data Type :: torch.int64\n",
            "Size :: torch.Size([2, 4])\n",
            "Number of elements :: 8\n",
            "Dimension :: 2\n",
            "Data :: \n",
            "tensor([[61, 28, 22, 34],\n",
            "        [99, 14, 99, 95]])\n",
            "-------------------------\n"
          ],
          "name": "stdout"
        }
      ]
    },
    {
      "cell_type": "markdown",
      "metadata": {
        "id": "quy_3o7mVzFA",
        "colab_type": "text"
      },
      "source": [
        "### Reshaping"
      ]
    },
    {
      "cell_type": "code",
      "metadata": {
        "id": "CB7osVMOVzFB",
        "colab_type": "code",
        "colab": {
          "base_uri": "https://localhost:8080/",
          "height": 416
        },
        "outputId": "fe8d12a8-6239-4fba-a5a1-5834e8be3cbe"
      },
      "source": [
        "a = torch.arange(1, 21, dtype=torch.int32)\n",
        "describe(a)\n",
        "reshaped_a = a.view(2,2,5)\n",
        "describe(reshaped_a)"
      ],
      "execution_count": null,
      "outputs": [
        {
          "output_type": "stream",
          "text": [
            "Python Type :: <class 'torch.Tensor'>\n",
            "Type :: torch.IntTensor\n",
            "Data Type :: torch.int32\n",
            "Size :: torch.Size([20])\n",
            "Number of elements :: 20\n",
            "Dimension :: 1\n",
            "Data :: \n",
            "tensor([ 1,  2,  3,  4,  5,  6,  7,  8,  9, 10, 11, 12, 13, 14, 15, 16, 17, 18,\n",
            "        19, 20], dtype=torch.int32)\n",
            "-------------------------\n",
            "Python Type :: <class 'torch.Tensor'>\n",
            "Type :: torch.IntTensor\n",
            "Data Type :: torch.int32\n",
            "Size :: torch.Size([2, 2, 5])\n",
            "Number of elements :: 20\n",
            "Dimension :: 3\n",
            "Data :: \n",
            "tensor([[[ 1,  2,  3,  4,  5],\n",
            "         [ 6,  7,  8,  9, 10]],\n",
            "\n",
            "        [[11, 12, 13, 14, 15],\n",
            "         [16, 17, 18, 19, 20]]], dtype=torch.int32)\n",
            "-------------------------\n"
          ],
          "name": "stdout"
        }
      ]
    },
    {
      "cell_type": "code",
      "metadata": {
        "id": "IGkSDDzFVzFE",
        "colab_type": "code",
        "colab": {
          "base_uri": "https://localhost:8080/",
          "height": 816
        },
        "outputId": "23c50c08-e545-49b6-86d6-76ce473f7259"
      },
      "source": [
        "# For dynamic size arrays or when size is unknown\n",
        "# -1 is inferred from other dimension\n",
        "reshaped_a = a.view(-1,1)\n",
        "describe(reshaped_a)\n",
        "reshaped_a = a.view(10,-1)\n",
        "describe(reshaped_a)"
      ],
      "execution_count": null,
      "outputs": [
        {
          "output_type": "stream",
          "text": [
            "Python Type :: <class 'torch.Tensor'>\n",
            "Type :: torch.IntTensor\n",
            "Data Type :: torch.int32\n",
            "Size :: torch.Size([20, 1])\n",
            "Number of elements :: 20\n",
            "Dimension :: 2\n",
            "Data :: \n",
            "tensor([[ 1],\n",
            "        [ 2],\n",
            "        [ 3],\n",
            "        [ 4],\n",
            "        [ 5],\n",
            "        [ 6],\n",
            "        [ 7],\n",
            "        [ 8],\n",
            "        [ 9],\n",
            "        [10],\n",
            "        [11],\n",
            "        [12],\n",
            "        [13],\n",
            "        [14],\n",
            "        [15],\n",
            "        [16],\n",
            "        [17],\n",
            "        [18],\n",
            "        [19],\n",
            "        [20]], dtype=torch.int32)\n",
            "-------------------------\n",
            "Python Type :: <class 'torch.Tensor'>\n",
            "Type :: torch.IntTensor\n",
            "Data Type :: torch.int32\n",
            "Size :: torch.Size([10, 2])\n",
            "Number of elements :: 20\n",
            "Dimension :: 2\n",
            "Data :: \n",
            "tensor([[ 1,  2],\n",
            "        [ 3,  4],\n",
            "        [ 5,  6],\n",
            "        [ 7,  8],\n",
            "        [ 9, 10],\n",
            "        [11, 12],\n",
            "        [13, 14],\n",
            "        [15, 16],\n",
            "        [17, 18],\n",
            "        [19, 20]], dtype=torch.int32)\n",
            "-------------------------\n"
          ],
          "name": "stdout"
        }
      ]
    },
    {
      "cell_type": "markdown",
      "metadata": {
        "id": "RVgOiwPoVzFG",
        "colab_type": "text"
      },
      "source": [
        "### Tensor Functions\n",
        "#### sum(), max(), mean(), median(), min(), std(), etc"
      ]
    },
    {
      "cell_type": "code",
      "metadata": {
        "id": "TWzh0wnOVzFH",
        "colab_type": "code",
        "colab": {
          "base_uri": "https://localhost:8080/",
          "height": 86
        },
        "outputId": "614d0266-a17a-4b3f-afac-a1fea35773de"
      },
      "source": [
        "# For 3d tensors, dim=0 represents 2D tenasors, dim=1 represents rows, dim=2 represents column\n",
        "a = a.view(2,2,5)\n",
        "a.sum(), a.sum(dim=0), a.sum(dim=1), a.sum(dim=2)"
      ],
      "execution_count": null,
      "outputs": [
        {
          "output_type": "execute_result",
          "data": {
            "text/plain": [
              "(tensor(210), tensor([[12, 14, 16, 18, 20],\n",
              "         [22, 24, 26, 28, 30]]), tensor([[ 7,  9, 11, 13, 15],\n",
              "         [27, 29, 31, 33, 35]]), tensor([[15, 40],\n",
              "         [65, 90]]))"
            ]
          },
          "metadata": {
            "tags": []
          },
          "execution_count": 44
        }
      ]
    },
    {
      "cell_type": "markdown",
      "metadata": {
        "id": "4K-5eOa0VzFL",
        "colab_type": "text"
      },
      "source": [
        "#### concatenation of tensors: cat()"
      ]
    },
    {
      "cell_type": "code",
      "metadata": {
        "id": "XBOO2yo1VzFL",
        "colab_type": "code",
        "colab": {
          "base_uri": "https://localhost:8080/",
          "height": 538
        },
        "outputId": "007815a2-22de-4cb7-faa6-8ea3e4af12f3"
      },
      "source": [
        "a = a.view(4, 5)\n",
        "describe(torch.cat((a,a), dim=1))\n",
        "print(\"\\n\")\n",
        "describe(torch.cat((a,a), dim=0))"
      ],
      "execution_count": null,
      "outputs": [
        {
          "output_type": "stream",
          "text": [
            "Python Type :: <class 'torch.Tensor'>\n",
            "Type :: torch.IntTensor\n",
            "Data Type :: torch.int32\n",
            "Size :: torch.Size([4, 10])\n",
            "Number of elements :: 40\n",
            "Dimension :: 2\n",
            "Data :: \n",
            "tensor([[ 1,  2,  3,  4,  5,  1,  2,  3,  4,  5],\n",
            "        [ 6,  7,  8,  9, 10,  6,  7,  8,  9, 10],\n",
            "        [11, 12, 13, 14, 15, 11, 12, 13, 14, 15],\n",
            "        [16, 17, 18, 19, 20, 16, 17, 18, 19, 20]], dtype=torch.int32)\n",
            "-------------------------\n",
            "\n",
            "\n",
            "Python Type :: <class 'torch.Tensor'>\n",
            "Type :: torch.IntTensor\n",
            "Data Type :: torch.int32\n",
            "Size :: torch.Size([8, 5])\n",
            "Number of elements :: 40\n",
            "Dimension :: 2\n",
            "Data :: \n",
            "tensor([[ 1,  2,  3,  4,  5],\n",
            "        [ 6,  7,  8,  9, 10],\n",
            "        [11, 12, 13, 14, 15],\n",
            "        [16, 17, 18, 19, 20],\n",
            "        [ 1,  2,  3,  4,  5],\n",
            "        [ 6,  7,  8,  9, 10],\n",
            "        [11, 12, 13, 14, 15],\n",
            "        [16, 17, 18, 19, 20]], dtype=torch.int32)\n",
            "-------------------------\n"
          ],
          "name": "stdout"
        }
      ]
    },
    {
      "cell_type": "code",
      "metadata": {
        "id": "YF20SBZ_VzFO",
        "colab_type": "code",
        "colab": {}
      },
      "source": [
        "tnsr = torch.linspace(0, 2*np.pi, 100)\n",
        "sin_tnsr = torch.sin(tnsr)"
      ],
      "execution_count": null,
      "outputs": []
    },
    {
      "cell_type": "code",
      "metadata": {
        "id": "sbjV4zU8VzFR",
        "colab_type": "code",
        "colab": {}
      },
      "source": [
        "# command \"matplotlib inline\" to display the plot.\n",
        "%matplotlib inline"
      ],
      "execution_count": null,
      "outputs": []
    },
    {
      "cell_type": "code",
      "metadata": {
        "id": "mThL4KO7VzFW",
        "colab_type": "code",
        "colab": {
          "base_uri": "https://localhost:8080/",
          "height": 282
        },
        "outputId": "2880096f-a3ec-4b62-f875-11102c7384e3"
      },
      "source": [
        "plt.plot(tnsr.numpy(), sin_tnsr.numpy())"
      ],
      "execution_count": null,
      "outputs": [
        {
          "output_type": "execute_result",
          "data": {
            "text/plain": [
              "[<matplotlib.lines.Line2D at 0x7fe2f8c2a2e8>]"
            ]
          },
          "metadata": {
            "tags": []
          },
          "execution_count": 48
        },
        {
          "output_type": "display_data",
          "data": {
            "image/png": "[encoded data removed]",
            "text/plain": [
              "<Figure size 432x288 with 1 Axes>"
            ]
          },
          "metadata": {
            "tags": [],
            "needs_background": "light"
          }
        }
      ]
    },
    {
      "cell_type": "markdown",
      "metadata": {
        "id": "0sRE-yGoVzFc",
        "colab_type": "text"
      },
      "source": [
        "### Loading Dataset and converting to tensor"
      ]
    },
    {
      "cell_type": "code",
      "metadata": {
        "id": "YMTssxnxVzFc",
        "colab_type": "code",
        "colab": {
          "base_uri": "https://localhost:8080/",
          "height": 140
        },
        "outputId": "71cbda4b-974c-4cd6-f460-fe1c501f249f"
      },
      "source": [
        "#matrix of size 506x13\n",
        "from sklearn.datasets import load_boston\n",
        "boston = load_boston()\n",
        "\n",
        "boston.DESCR"
      ],
      "execution_count": null,
      "outputs": [
        {
          "output_type": "execute_result",
          "data": {
            "application/vnd.google.colaboratory.intrinsic+json": {
              "type": "string"
            },
            "text/plain": [
              "\".. _boston_dataset:\\n\\nBoston house prices dataset\\n---------------------------\\n\\n**Data Set Characteristics:**  \\n\\n    :Number of Instances: 506 \\n\\n    :Number of Attributes: 13 numeric/categorical predictive. Median Value (attribute 14) is usually the target.\\n\\n    :Attribute Information (in order):\\n        - CRIM     per capita crime rate by town\\n        - ZN       proportion of residential land zoned for lots over 25,000 sq.ft.\\n        - INDUS    proportion of non-retail business acres per town\\n        - CHAS     Charles River dummy variable (= 1 if tract bounds river; 0 otherwise)\\n        - NOX      nitric oxides concentration (parts per 10 million)\\n        - RM       average number of rooms per dwelling\\n        - AGE      proportion of owner-occupied units built prior to 1940\\n        - DIS      weighted distances to five Boston employment centres\\n        - RAD      index of accessibility to radial highways\\n        - TAX      full-value property-tax rate per $10,000\\n        - PTRATIO  pupil-teacher ratio by town\\n        - B        1000(Bk - 0.63)^2 where Bk is the proportion of blacks by town\\n        - LSTAT    % lower status of the population\\n        - MEDV     Median value of owner-occupied homes in $1000's\\n\\n    :Missing Attribute Values: None\\n\\n    :Creator: Harrison, D. and Rubinfeld, D.L.\\n\\nThis is a copy of UCI ML housing dataset.\\nhttps://archive.ics.uci.edu/ml/machine-learning-databases/housing/\\n\\n\\nThis dataset was taken from the StatLib library which is maintained at Carnegie Mellon University.\\n\\nThe Boston house-price data of Harrison, D. and Rubinfeld, D.L. 'Hedonic\\nprices and the demand for clean air', J. Environ. Economics & Management,\\nvol.5, 81-102, 1978.   Used in Belsley, Kuh & Welsch, 'Regression diagnostics\\n...', Wiley, 1980.   N.B. Various transformations are used in the table on\\npages 244-261 of the latter.\\n\\nThe Boston house-price data has been used in many machine learning papers that address regression\\nproblems.   \\n     \\n.. topic:: References\\n\\n   - Belsley, Kuh & Welsch, 'Regression diagnostics: Identifying Influential Data and Sources of Collinearity', Wiley, 1980. 244-261.\\n   - Quinlan,R. (1993). Combining Instance-Based and Model-Based Learning. In Proceedings on the Tenth International Conference of Machine Learning, 236-243, University of Massachusetts, Amherst. Morgan Kaufmann.\\n\""
            ]
          },
          "metadata": {
            "tags": []
          },
          "execution_count": 49
        }
      ]
    },
    {
      "cell_type": "code",
      "metadata": {
        "id": "URTMUHRJVzFf",
        "colab_type": "code",
        "colab": {
          "base_uri": "https://localhost:8080/",
          "height": 52
        },
        "outputId": "6cca2829-fa16-423f-b87f-2aa2a185f687"
      },
      "source": [
        "boston.feature_names"
      ],
      "execution_count": null,
      "outputs": [
        {
          "output_type": "execute_result",
          "data": {
            "text/plain": [
              "array(['CRIM', 'ZN', 'INDUS', 'CHAS', 'NOX', 'RM', 'AGE', 'DIS', 'RAD',\n",
              "       'TAX', 'PTRATIO', 'B', 'LSTAT'], dtype='<U7')"
            ]
          },
          "metadata": {
            "tags": []
          },
          "execution_count": 50
        }
      ]
    },
    {
      "cell_type": "code",
      "metadata": {
        "id": "gWFYROKfVzFk",
        "colab_type": "code",
        "colab": {
          "base_uri": "https://localhost:8080/",
          "height": 816
        },
        "outputId": "4549db01-fce9-434c-a282-57fdd693ed0c"
      },
      "source": [
        "boston.target"
      ],
      "execution_count": null,
      "outputs": [
        {
          "output_type": "execute_result",
          "data": {
            "text/plain": [
              "array([24. , 21.6, 34.7, 33.4, 36.2, 28.7, 22.9, 27.1, 16.5, 18.9, 15. ,\n",
              "       18.9, 21.7, 20.4, 18.2, 19.9, 23.1, 17.5, 20.2, 18.2, 13.6, 19.6,\n",
              "       15.2, 14.5, 15.6, 13.9, 16.6, 14.8, 18.4, 21. , 12.7, 14.5, 13.2,\n",
              "       13.1, 13.5, 18.9, 20. , 21. , 24.7, 30.8, 34.9, 26.6, 25.3, 24.7,\n",
              "       21.2, 19.3, 20. , 16.6, 14.4, 19.4, 19.7, 20.5, 25. , 23.4, 18.9,\n",
              "       35.4, 24.7, 31.6, 23.3, 19.6, 18.7, 16. , 22.2, 25. , 33. , 23.5,\n",
              "       19.4, 22. , 17.4, 20.9, 24.2, 21.7, 22.8, 23.4, 24.1, 21.4, 20. ,\n",
              "       20.8, 21.2, 20.3, 28. , 23.9, 24.8, 22.9, 23.9, 26.6, 22.5, 22.2,\n",
              "       23.6, 28.7, 22.6, 22. , 22.9, 25. , 20.6, 28.4, 21.4, 38.7, 43.8,\n",
              "       33.2, 27.5, 26.5, 18.6, 19.3, 20.1, 19.5, 19.5, 20.4, 19.8, 19.4,\n",
              "       21.7, 22.8, 18.8, 18.7, 18.5, 18.3, 21.2, 19.2, 20.4, 19.3, 22. ,\n",
              "       20.3, 20.5, 17.3, 18.8, 21.4, 15.7, 16.2, 18. , 14.3, 19.2, 19.6,\n",
              "       23. , 18.4, 15.6, 18.1, 17.4, 17.1, 13.3, 17.8, 14. , 14.4, 13.4,\n",
              "       15.6, 11.8, 13.8, 15.6, 14.6, 17.8, 15.4, 21.5, 19.6, 15.3, 19.4,\n",
              "       17. , 15.6, 13.1, 41.3, 24.3, 23.3, 27. , 50. , 50. , 50. , 22.7,\n",
              "       25. , 50. , 23.8, 23.8, 22.3, 17.4, 19.1, 23.1, 23.6, 22.6, 29.4,\n",
              "       23.2, 24.6, 29.9, 37.2, 39.8, 36.2, 37.9, 32.5, 26.4, 29.6, 50. ,\n",
              "       32. , 29.8, 34.9, 37. , 30.5, 36.4, 31.1, 29.1, 50. , 33.3, 30.3,\n",
              "       34.6, 34.9, 32.9, 24.1, 42.3, 48.5, 50. , 22.6, 24.4, 22.5, 24.4,\n",
              "       20. , 21.7, 19.3, 22.4, 28.1, 23.7, 25. , 23.3, 28.7, 21.5, 23. ,\n",
              "       26.7, 21.7, 27.5, 30.1, 44.8, 50. , 37.6, 31.6, 46.7, 31.5, 24.3,\n",
              "       31.7, 41.7, 48.3, 29. , 24. , 25.1, 31.5, 23.7, 23.3, 22. , 20.1,\n",
              "       22.2, 23.7, 17.6, 18.5, 24.3, 20.5, 24.5, 26.2, 24.4, 24.8, 29.6,\n",
              "       42.8, 21.9, 20.9, 44. , 50. , 36. , 30.1, 33.8, 43.1, 48.8, 31. ,\n",
              "       36.5, 22.8, 30.7, 50. , 43.5, 20.7, 21.1, 25.2, 24.4, 35.2, 32.4,\n",
              "       32. , 33.2, 33.1, 29.1, 35.1, 45.4, 35.4, 46. , 50. , 32.2, 22. ,\n",
              "       20.1, 23.2, 22.3, 24.8, 28.5, 37.3, 27.9, 23.9, 21.7, 28.6, 27.1,\n",
              "       20.3, 22.5, 29. , 24.8, 22. , 26.4, 33.1, 36.1, 28.4, 33.4, 28.2,\n",
              "       22.8, 20.3, 16.1, 22.1, 19.4, 21.6, 23.8, 16.2, 17.8, 19.8, 23.1,\n",
              "       21. , 23.8, 23.1, 20.4, 18.5, 25. , 24.6, 23. , 22.2, 19.3, 22.6,\n",
              "       19.8, 17.1, 19.4, 22.2, 20.7, 21.1, 19.5, 18.5, 20.6, 19. , 18.7,\n",
              "       32.7, 16.5, 23.9, 31.2, 17.5, 17.2, 23.1, 24.5, 26.6, 22.9, 24.1,\n",
              "       18.6, 30.1, 18.2, 20.6, 17.8, 21.7, 22.7, 22.6, 25. , 19.9, 20.8,\n",
              "       16.8, 21.9, 27.5, 21.9, 23.1, 50. , 50. , 50. , 50. , 50. , 13.8,\n",
              "       13.8, 15. , 13.9, 13.3, 13.1, 10.2, 10.4, 10.9, 11.3, 12.3,  8.8,\n",
              "        7.2, 10.5,  7.4, 10.2, 11.5, 15.1, 23.2,  9.7, 13.8, 12.7, 13.1,\n",
              "       12.5,  8.5,  5. ,  6.3,  5.6,  7.2, 12.1,  8.3,  8.5,  5. , 11.9,\n",
              "       27.9, 17.2, 27.5, 15. , 17.2, 17.9, 16.3,  7. ,  7.2,  7.5, 10.4,\n",
              "        8.8,  8.4, 16.7, 14.2, 20.8, 13.4, 11.7,  8.3, 10.2, 10.9, 11. ,\n",
              "        9.5, 14.5, 14.1, 16.1, 14.3, 11.7, 13.4,  9.6,  8.7,  8.4, 12.8,\n",
              "       10.5, 17.1, 18.4, 15.4, 10.8, 11.8, 14.9, 12.6, 14.1, 13. , 13.4,\n",
              "       15.2, 16.1, 17.8, 14.9, 14.1, 12.7, 13.5, 14.9, 20. , 16.4, 17.7,\n",
              "       19.5, 20.2, 21.4, 19.9, 19. , 19.1, 19.1, 20.1, 19.9, 19.6, 23.2,\n",
              "       29.8, 13.8, 13.3, 16.7, 12. , 14.6, 21.4, 23. , 23.7, 25. , 21.8,\n",
              "       20.6, 21.2, 19.1, 20.6, 15.2,  7. ,  8.1, 13.6, 20.1, 21.8, 24.5,\n",
              "       23.1, 19.7, 18.3, 21.2, 17.5, 16.8, 22.4, 20.6, 23.9, 22. , 11.9])"
            ]
          },
          "metadata": {
            "tags": []
          },
          "execution_count": 51
        }
      ]
    },
    {
      "cell_type": "code",
      "metadata": {
        "id": "7pKwZmu_VzFn",
        "colab_type": "code",
        "colab": {
          "base_uri": "https://localhost:8080/",
          "height": 34
        },
        "outputId": "d7ea372f-7494-4ff5-c3f5-765a743fbdc6"
      },
      "source": [
        "# from_numpy converts numpy array to pytorch tensor\n",
        "boston_data = torch.from_numpy(boston.data)\n",
        "boston_data.size()"
      ],
      "execution_count": null,
      "outputs": [
        {
          "output_type": "execute_result",
          "data": {
            "text/plain": [
              "torch.Size([506, 13])"
            ]
          },
          "metadata": {
            "tags": []
          },
          "execution_count": 52
        }
      ]
    },
    {
      "cell_type": "code",
      "metadata": {
        "id": "asHrgKIMVzF8",
        "colab_type": "code",
        "colab": {
          "base_uri": "https://localhost:8080/",
          "height": 52
        },
        "outputId": "a079bc6e-1f5f-40a4-efb1-2097e763a4f2"
      },
      "source": [
        "#slicing element from columns 3 to 7 from first 2 rows of a tensor\n",
        "boston_data[:2, 3:8]"
      ],
      "execution_count": null,
      "outputs": [
        {
          "output_type": "execute_result",
          "data": {
            "text/plain": [
              "tensor([[ 0.0000,  0.5380,  6.5750, 65.2000,  4.0900],\n",
              "        [ 0.0000,  0.4690,  6.4210, 78.9000,  4.9671]], dtype=torch.float64)"
            ]
          },
          "metadata": {
            "tags": []
          },
          "execution_count": 53
        }
      ]
    },
    {
      "cell_type": "markdown",
      "metadata": {
        "id": "LPaWdZ_wVzGA",
        "colab_type": "text"
      },
      "source": [
        "### Arithmetic"
      ]
    },
    {
      "cell_type": "code",
      "metadata": {
        "id": "KKurX3ZeVzGB",
        "colab_type": "code",
        "colab": {
          "base_uri": "https://localhost:8080/",
          "height": 121
        },
        "outputId": "6e5e7902-c5d6-43a4-9a51-ed558306bd66"
      },
      "source": [
        "#Arithmetic operations +, -, *, /\n",
        "a = torch.rand(2,2)\n",
        "print(a)\n",
        "b = torch.rand(2,2)\n",
        "print(b)\n",
        "\n",
        "c = a+b\n",
        "c"
      ],
      "execution_count": null,
      "outputs": [
        {
          "output_type": "stream",
          "text": [
            "tensor([[0.7007, 0.0243],\n",
            "        [0.5740, 0.6823]])\n",
            "tensor([[0.1549, 0.6867],\n",
            "        [0.2126, 0.0022]])\n"
          ],
          "name": "stdout"
        },
        {
          "output_type": "execute_result",
          "data": {
            "text/plain": [
              "tensor([[0.8556, 0.7111],\n",
              "        [0.7866, 0.6845]])"
            ]
          },
          "metadata": {
            "tags": []
          },
          "execution_count": 54
        }
      ]
    },
    {
      "cell_type": "code",
      "metadata": {
        "id": "ksQk8U5RVzGE",
        "colab_type": "code",
        "colab": {
          "base_uri": "https://localhost:8080/",
          "height": 52
        },
        "outputId": "b52cce8f-7767-4204-bfd4-5a243ee01b0e"
      },
      "source": [
        "#_ signifies for inplace operation(Here, addition)\n",
        "a.add_(b)"
      ],
      "execution_count": null,
      "outputs": [
        {
          "output_type": "execute_result",
          "data": {
            "text/plain": [
              "tensor([[0.8556, 0.7111],\n",
              "        [0.7866, 0.6845]])"
            ]
          },
          "metadata": {
            "tags": []
          },
          "execution_count": 55
        }
      ]
    },
    {
      "cell_type": "code",
      "metadata": {
        "id": "NuAMlJC_VzGR",
        "colab_type": "code",
        "colab": {
          "base_uri": "https://localhost:8080/",
          "height": 1000
        },
        "outputId": "b25edf21-b25a-4930-acea-58ed942d55a0"
      },
      "source": [
        "#Linear Algebra\n",
        "x1 = torch.arange(6).view(2,3)\n",
        "x2 = torch.randint(1, 11, (3,1))\n",
        "print(\"x1\", \"\\n============\")\n",
        "describe(x1)\n",
        "print(\"============\\n\")\n",
        "print(\"x2\", \"\\n============\")\n",
        "describe(x2)\n",
        "print(\"============\\n\")\n",
        "print(\"x1 matmul x2\", \"\\n============\")\n",
        "describe(torch.matmul(x1, x2))\n",
        "print(\"============\\n\")\n",
        "print(\"x1 transpose\", \"\\n============\")\n",
        "describe(torch.transpose(x1, 0, 1))\n",
        "print(\"============\\n\")"
      ],
      "execution_count": null,
      "outputs": [
        {
          "output_type": "stream",
          "text": [
            "x1 \n",
            "============\n",
            "Python Type :: <class 'torch.Tensor'>\n",
            "Type :: torch.LongTensor\n",
            "Data Type :: torch.int64\n",
            "Size :: torch.Size([2, 3])\n",
            "Number of elements :: 6\n",
            "Dimension :: 2\n",
            "Data :: \n",
            "tensor([[0, 1, 2],\n",
            "        [3, 4, 5]])\n",
            "-------------------------\n",
            "============\n",
            "\n",
            "x2 \n",
            "============\n",
            "Python Type :: <class 'torch.Tensor'>\n",
            "Type :: torch.LongTensor\n",
            "Data Type :: torch.int64\n",
            "Size :: torch.Size([3, 1])\n",
            "Number of elements :: 3\n",
            "Dimension :: 2\n",
            "Data :: \n",
            "tensor([[5],\n",
            "        [7],\n",
            "        [8]])\n",
            "-------------------------\n",
            "============\n",
            "\n",
            "x1 matmul x2 \n",
            "============\n",
            "Python Type :: <class 'torch.Tensor'>\n",
            "Type :: torch.LongTensor\n",
            "Data Type :: torch.int64\n",
            "Size :: torch.Size([2, 1])\n",
            "Number of elements :: 2\n",
            "Dimension :: 2\n",
            "Data :: \n",
            "tensor([[23],\n",
            "        [83]])\n",
            "-------------------------\n",
            "============\n",
            "\n",
            "x1 transpose \n",
            "============\n",
            "Python Type :: <class 'torch.Tensor'>\n",
            "Type :: torch.LongTensor\n",
            "Data Type :: torch.int64\n",
            "Size :: torch.Size([3, 2])\n",
            "Number of elements :: 6\n",
            "Dimension :: 2\n",
            "Data :: \n",
            "tensor([[0, 3],\n",
            "        [1, 4],\n",
            "        [2, 5]])\n",
            "-------------------------\n",
            "============\n",
            "\n"
          ],
          "name": "stdout"
        }
      ]
    },
    {
      "cell_type": "code",
      "metadata": {
        "id": "bEPn0qV_VzGU",
        "colab_type": "code",
        "colab": {
          "base_uri": "https://localhost:8080/",
          "height": 34
        },
        "outputId": "02ccabae-89db-40f0-9d36-c09e6f34b590"
      },
      "source": [
        "#Vector Dot Product\n",
        "v1 = torch.tensor([1,2,3])\n",
        "v2 = torch.tensor([4,5,6])\n",
        "v1.dot(v2)"
      ],
      "execution_count": null,
      "outputs": [
        {
          "output_type": "execute_result",
          "data": {
            "text/plain": [
              "tensor(32)"
            ]
          },
          "metadata": {
            "tags": []
          },
          "execution_count": 57
        }
      ]
    },
    {
      "cell_type": "code",
      "metadata": {
        "id": "-LXbDeARVzGX",
        "colab_type": "code",
        "colab": {
          "base_uri": "https://localhost:8080/",
          "height": 34
        },
        "outputId": "24a877d1-6c1e-4f9b-baf6-1623e9b002c2"
      },
      "source": [
        "#Hadamard Product (Element wise product)\n",
        "v1*v2"
      ],
      "execution_count": null,
      "outputs": [
        {
          "output_type": "execute_result",
          "data": {
            "text/plain": [
              "tensor([ 4, 10, 18])"
            ]
          },
          "metadata": {
            "tags": []
          },
          "execution_count": 58
        }
      ]
    },
    {
      "cell_type": "markdown",
      "metadata": {
        "id": "MQ-4E4e_VzGZ",
        "colab_type": "text"
      },
      "source": [
        "## Derivatives and tensors"
      ]
    },
    {
      "cell_type": "code",
      "metadata": {
        "id": "ycE1D16BVzGa",
        "colab_type": "code",
        "colab": {
          "base_uri": "https://localhost:8080/",
          "height": 34
        },
        "outputId": "fa5d4ced-546a-42cf-f498-45b98d791089"
      },
      "source": [
        "t = torch.ones(2,5)\n",
        "print(t.requires_grad)"
      ],
      "execution_count": null,
      "outputs": [
        {
          "output_type": "stream",
          "text": [
            "False\n"
          ],
          "name": "stdout"
        }
      ]
    },
    {
      "cell_type": "code",
      "metadata": {
        "id": "6Sl4AjfdVzGd",
        "colab_type": "code",
        "colab": {
          "base_uri": "https://localhost:8080/",
          "height": 52
        },
        "outputId": "5fa83957-82f5-4cf7-ba90-2fb5fbdb3ffb"
      },
      "source": [
        "#x is a tensor initialised with value 2\n",
        "#requires_grad as True, it starts to track all operations on it.\n",
        "x = torch.tensor(25, dtype=torch.float64, requires_grad=True)\n",
        "print(x)\n",
        "#y = f(x)\n",
        "y = x**2\n",
        "print(y)"
      ],
      "execution_count": null,
      "outputs": [
        {
          "output_type": "stream",
          "text": [
            "tensor(25., dtype=torch.float64, requires_grad=True)\n",
            "tensor(625., dtype=torch.float64, grad_fn=<PowBackward0>)\n"
          ],
          "name": "stdout"
        }
      ]
    },
    {
      "cell_type": "markdown",
      "metadata": {
        "id": "mm_efXssVzGg",
        "colab_type": "text"
      },
      "source": [
        "#### Calculating derivative using backward()"
      ]
    },
    {
      "cell_type": "code",
      "metadata": {
        "id": "a-CLkQQtVzGh",
        "colab_type": "code",
        "colab": {
          "base_uri": "https://localhost:8080/",
          "height": 86
        },
        "outputId": "58e41b5b-a237-44e4-fee0-16ba8fc2da83"
      },
      "source": [
        "print(\"x ::\", x)\n",
        "print(\"x data :: \", x.data)\n",
        "print(\"x  gradient :: \", x.grad)\n",
        "print(\"x gradient function :: \", x.grad_fn)"
      ],
      "execution_count": null,
      "outputs": [
        {
          "output_type": "stream",
          "text": [
            "x :: tensor(25., dtype=torch.float64, requires_grad=True)\n",
            "x data ::  tensor(25., dtype=torch.float64)\n",
            "x  gradient ::  None\n",
            "x gradient function ::  None\n"
          ],
          "name": "stdout"
        }
      ]
    },
    {
      "cell_type": "code",
      "metadata": {
        "id": "A8blvccJVzGl",
        "colab_type": "code",
        "colab": {
          "base_uri": "https://localhost:8080/",
          "height": 86
        },
        "outputId": "21a1057a-e694-4d35-c558-129e80fe4148"
      },
      "source": [
        "print(\"y ::\", y)\n",
        "print(\"y data :: \", y.data)\n",
        "print(\"y  gradient :: \", y.grad)\n",
        "print(\"y gradient function :: \", y.grad_fn)"
      ],
      "execution_count": null,
      "outputs": [
        {
          "output_type": "stream",
          "text": [
            "y :: tensor(625., dtype=torch.float64, grad_fn=<PowBackward0>)\n",
            "y data ::  tensor(625., dtype=torch.float64)\n",
            "y  gradient ::  None\n",
            "y gradient function ::  <PowBackward0 object at 0x7fe2ecc06fd0>\n"
          ],
          "name": "stdout"
        }
      ]
    },
    {
      "cell_type": "code",
      "metadata": {
        "id": "JTzclYE9VzGn",
        "colab_type": "code",
        "colab": {}
      },
      "source": [
        "#finish all computation then can call .backward() and have all the gradients computed automatically.\n",
        "y.backward()"
      ],
      "execution_count": null,
      "outputs": []
    },
    {
      "cell_type": "markdown",
      "metadata": {
        "id": "pCM7XLdSVzGp",
        "colab_type": "text"
      },
      "source": [
        "y = x ** 2 <br>\n",
        "dy/dx = 2 * x <br>\n",
        "dy/dx at x=25 :: 2 * 25 :: 50 => x.grad <br>\n",
        "The gradient for this tensor will be accumulated into .grad attribute. <br>\n",
        " .grad_fn attribute that references a Function that has created the Tensor"
      ]
    },
    {
      "cell_type": "code",
      "metadata": {
        "id": "Df9o55J-VzGq",
        "colab_type": "code",
        "colab": {
          "base_uri": "https://localhost:8080/",
          "height": 86
        },
        "outputId": "eb181d0f-39bc-4797-f7e5-025cf60d3606"
      },
      "source": [
        "print(\"x ::\", x)\n",
        "print(\"x data :: \", x.data)\n",
        "print(\"x  gradient :: \", x.grad)\n",
        "print(\"x gradient function :: \", x.grad_fn)"
      ],
      "execution_count": null,
      "outputs": [
        {
          "output_type": "stream",
          "text": [
            "x :: tensor(25., dtype=torch.float64, requires_grad=True)\n",
            "x data ::  tensor(25., dtype=torch.float64)\n",
            "x  gradient ::  tensor(50., dtype=torch.float64)\n",
            "x gradient function ::  None\n"
          ],
          "name": "stdout"
        }
      ]
    },
    {
      "cell_type": "code",
      "metadata": {
        "id": "oV2wyBR_VzGs",
        "colab_type": "code",
        "colab": {
          "base_uri": "https://localhost:8080/",
          "height": 86
        },
        "outputId": "fc31a09a-3f69-435f-a145-3713be4c2b87"
      },
      "source": [
        "print(\"y ::\", y)\n",
        "print(\"y data :: \", y.data)\n",
        "print(\"y  gradient :: \", y.grad)\n",
        "print(\"y gradient function :: \", y.grad_fn)"
      ],
      "execution_count": null,
      "outputs": [
        {
          "output_type": "stream",
          "text": [
            "y :: tensor(625., dtype=torch.float64, grad_fn=<PowBackward0>)\n",
            "y data ::  tensor(625., dtype=torch.float64)\n",
            "y  gradient ::  None\n",
            "y gradient function ::  <PowBackward0 object at 0x7fe2ecc06fd0>\n"
          ],
          "name": "stdout"
        }
      ]
    },
    {
      "cell_type": "markdown",
      "metadata": {
        "id": "Bxur6pKqVzGv",
        "colab_type": "text"
      },
      "source": [
        "### Chain Rule: dz/dx = dz/dy * dy/dx"
      ]
    },
    {
      "cell_type": "code",
      "metadata": {
        "id": "Z18NDY1hVzGx",
        "colab_type": "code",
        "colab": {}
      },
      "source": [
        "x = torch.tensor(2, dtype=torch.float64, requires_grad=True)\n",
        "y = x ** 2\n",
        "z = (y ** 3) * 3\n",
        "\n",
        "z.backward()"
      ],
      "execution_count": null,
      "outputs": []
    },
    {
      "cell_type": "code",
      "metadata": {
        "id": "YLVbMRUeVzG0",
        "colab_type": "code",
        "colab": {
          "base_uri": "https://localhost:8080/",
          "height": 86
        },
        "outputId": "3f6ed3a1-1129-4b2b-9540-4318b518f540"
      },
      "source": [
        "print(\"x ::\", x)\n",
        "print(\"x data :: \", x.data)\n",
        "print(\"x  gradient :: \", x.grad)\n",
        "print(\"x gradient function :: \", x.grad_fn)"
      ],
      "execution_count": null,
      "outputs": [
        {
          "output_type": "stream",
          "text": [
            "x :: tensor(2., dtype=torch.float64, requires_grad=True)\n",
            "x data ::  tensor(2., dtype=torch.float64)\n",
            "x  gradient ::  tensor(576., dtype=torch.float64)\n",
            "x gradient function ::  None\n"
          ],
          "name": "stdout"
        }
      ]
    },
    {
      "cell_type": "code",
      "metadata": {
        "id": "1zzA2KHiVzG4",
        "colab_type": "code",
        "colab": {
          "base_uri": "https://localhost:8080/",
          "height": 86
        },
        "outputId": "be905cc9-ffd9-4601-dd8e-cbfb2a7c2398"
      },
      "source": [
        "print(\"y ::\", y)\n",
        "print(\"y data :: \", y.data)\n",
        "print(\"y  gradient :: \", y.grad)\n",
        "print(\"y gradient function :: \", y.grad_fn)"
      ],
      "execution_count": null,
      "outputs": [
        {
          "output_type": "stream",
          "text": [
            "y :: tensor(4., dtype=torch.float64, grad_fn=<PowBackward0>)\n",
            "y data ::  tensor(4., dtype=torch.float64)\n",
            "y  gradient ::  None\n",
            "y gradient function ::  <PowBackward0 object at 0x7fe2ecc06c18>\n"
          ],
          "name": "stdout"
        }
      ]
    },
    {
      "cell_type": "code",
      "metadata": {
        "id": "KpYRuIxZVzG_",
        "colab_type": "code",
        "colab": {
          "base_uri": "https://localhost:8080/",
          "height": 86
        },
        "outputId": "0b24c3bf-17f9-4e17-832e-6f9eb5436f59"
      },
      "source": [
        "print(\"z ::\", z)\n",
        "print(\"z data :: \", z.data)\n",
        "print(\"z  gradient :: \", z.grad)\n",
        "print(\"z gradient function :: \", z.grad_fn)"
      ],
      "execution_count": null,
      "outputs": [
        {
          "output_type": "stream",
          "text": [
            "z :: tensor(192., dtype=torch.float64, grad_fn=<MulBackward0>)\n",
            "z data ::  tensor(192., dtype=torch.float64)\n",
            "z  gradient ::  None\n",
            "z gradient function ::  <MulBackward0 object at 0x7fe2ecc06c18>\n"
          ],
          "name": "stdout"
        }
      ]
    },
    {
      "cell_type": "markdown",
      "metadata": {
        "id": "layWU0yQVzHC",
        "colab_type": "text"
      },
      "source": [
        "### Partial Derivatives"
      ]
    },
    {
      "cell_type": "code",
      "metadata": {
        "id": "xxfHE6-1VzHE",
        "colab_type": "code",
        "colab": {
          "base_uri": "https://localhost:8080/",
          "height": 34
        },
        "outputId": "f043c90b-d27f-4004-9cb7-177699c59d18"
      },
      "source": [
        "u = torch.tensor(2, dtype=torch.float64)\n",
        "u.requires_grad_(True)\n",
        "print(u)"
      ],
      "execution_count": null,
      "outputs": [
        {
          "output_type": "stream",
          "text": [
            "tensor(2., dtype=torch.float64, requires_grad=True)\n"
          ],
          "name": "stdout"
        }
      ]
    },
    {
      "cell_type": "code",
      "metadata": {
        "id": "acadAV9KVzHG",
        "colab_type": "code",
        "colab": {
          "base_uri": "https://localhost:8080/",
          "height": 34
        },
        "outputId": "0e2046f1-82d9-47b9-8312-9789a012f8dc"
      },
      "source": [
        "v = torch.tensor(3, dtype=torch.float64, requires_grad=True)\n",
        "print(v)"
      ],
      "execution_count": null,
      "outputs": [
        {
          "output_type": "stream",
          "text": [
            "tensor(3., dtype=torch.float64, requires_grad=True)\n"
          ],
          "name": "stdout"
        }
      ]
    },
    {
      "cell_type": "code",
      "metadata": {
        "id": "DMQfgw5TVzHJ",
        "colab_type": "code",
        "colab": {
          "base_uri": "https://localhost:8080/",
          "height": 34
        },
        "outputId": "0d443681-05d2-47e9-de0b-57211b5972a3"
      },
      "source": [
        "# y = f(u, v)\n",
        "y = u*v + u**2\n",
        "print(y)"
      ],
      "execution_count": null,
      "outputs": [
        {
          "output_type": "stream",
          "text": [
            "tensor(10., dtype=torch.float64, grad_fn=<AddBackward0>)\n"
          ],
          "name": "stdout"
        }
      ]
    },
    {
      "cell_type": "code",
      "metadata": {
        "id": "t7VbBQ_CVzHM",
        "colab_type": "code",
        "colab": {}
      },
      "source": [
        "y.backward()"
      ],
      "execution_count": null,
      "outputs": []
    },
    {
      "cell_type": "markdown",
      "metadata": {
        "id": "jzD0f7oFVzHP",
        "colab_type": "text"
      },
      "source": [
        "dy/du = df(u, v)/du = v + 2u = 3 + 2 * 2 = 7 => u.grad"
      ]
    },
    {
      "cell_type": "code",
      "metadata": {
        "id": "LhQeWj2gVzHQ",
        "colab_type": "code",
        "colab": {
          "base_uri": "https://localhost:8080/",
          "height": 86
        },
        "outputId": "3b37594f-6179-4e89-ba35-bb11b8dfa727"
      },
      "source": [
        "print(\"u ::\", u)\n",
        "print(\"u data :: \", u.data)\n",
        "print(\"u  gradient :: \", u.grad)\n",
        "print(\"u gradient function :: \", u.grad_fn)"
      ],
      "execution_count": null,
      "outputs": [
        {
          "output_type": "stream",
          "text": [
            "u :: tensor(2., dtype=torch.float64, requires_grad=True)\n",
            "u data ::  tensor(2., dtype=torch.float64)\n",
            "u  gradient ::  tensor(7., dtype=torch.float64)\n",
            "u gradient function ::  None\n"
          ],
          "name": "stdout"
        }
      ]
    },
    {
      "cell_type": "markdown",
      "metadata": {
        "id": "JaKd85weVzHR",
        "colab_type": "text"
      },
      "source": [
        "dy/dv = df(u, v)/dv = u = 2 => v.grad"
      ]
    },
    {
      "cell_type": "code",
      "metadata": {
        "id": "VxkTvCpDVzHT",
        "colab_type": "code",
        "colab": {
          "base_uri": "https://localhost:8080/",
          "height": 86
        },
        "outputId": "4ac34bb4-0e97-4092-a90c-7837f4677730"
      },
      "source": [
        "print(\"v ::\", v)\n",
        "print(\"v data :: \", v.data)\n",
        "print(\"v  gradient :: \", v.grad)\n",
        "print(\"v gradient function :: \", v.grad_fn)"
      ],
      "execution_count": null,
      "outputs": [
        {
          "output_type": "stream",
          "text": [
            "v :: tensor(3., dtype=torch.float64, requires_grad=True)\n",
            "v data ::  tensor(3., dtype=torch.float64)\n",
            "v  gradient ::  tensor(2., dtype=torch.float64)\n",
            "v gradient function ::  None\n"
          ],
          "name": "stdout"
        }
      ]
    },
    {
      "cell_type": "code",
      "metadata": {
        "id": "C9MYXxqIVzHV",
        "colab_type": "code",
        "colab": {
          "base_uri": "https://localhost:8080/",
          "height": 86
        },
        "outputId": "c128cb56-d25a-4ac8-a74b-f072638873b1"
      },
      "source": [
        "print(\"y ::\", y)\n",
        "print(\"y data :: \", y.data)\n",
        "print(\"y  gradient :: \", y.grad)\n",
        "print(\"y gradient function :: \", y.grad_fn)"
      ],
      "execution_count": null,
      "outputs": [
        {
          "output_type": "stream",
          "text": [
            "y :: tensor(10., dtype=torch.float64, grad_fn=<AddBackward0>)\n",
            "y data ::  tensor(10., dtype=torch.float64)\n",
            "y  gradient ::  None\n",
            "y gradient function ::  <AddBackward0 object at 0x7fe2ecc19710>\n"
          ],
          "name": "stdout"
        }
      ]
    },
    {
      "cell_type": "markdown",
      "metadata": {
        "id": "6arav57cVzHX",
        "colab_type": "text"
      },
      "source": [
        "#### Sometimes some parameters need not to be updated: Use with torch.no_grad()"
      ]
    },
    {
      "cell_type": "code",
      "metadata": {
        "id": "M_bfKIReVzHY",
        "colab_type": "code",
        "colab": {
          "base_uri": "https://localhost:8080/",
          "height": 52
        },
        "outputId": "a96931c3-87bb-4e9a-a479-95cbb411fae2"
      },
      "source": [
        "print(t)"
      ],
      "execution_count": null,
      "outputs": [
        {
          "output_type": "stream",
          "text": [
            "tensor([[1., 1., 1., 1., 1.],\n",
            "        [1., 1., 1., 1., 1.]])\n"
          ],
          "name": "stdout"
        }
      ]
    },
    {
      "cell_type": "code",
      "metadata": {
        "id": "3NVrbsDcVzHb",
        "colab_type": "code",
        "colab": {
          "base_uri": "https://localhost:8080/",
          "height": 69
        },
        "outputId": "0ad89b20-52bd-4e6f-c5cd-bea160e0f3e5"
      },
      "source": [
        "t.requires_grad_(True)\n",
        "print(t)\n",
        "with torch.no_grad():\n",
        "    print((t**2).requires_grad)"
      ],
      "execution_count": null,
      "outputs": [
        {
          "output_type": "stream",
          "text": [
            "tensor([[1., 1., 1., 1., 1.],\n",
            "        [1., 1., 1., 1., 1.]], requires_grad=True)\n",
            "False\n"
          ],
          "name": "stdout"
        }
      ]
    },
    {
      "cell_type": "code",
      "metadata": {
        "id": "9kL3SsUZVzHc",
        "colab_type": "code",
        "colab": {
          "base_uri": "https://localhost:8080/",
          "height": 86
        },
        "outputId": "32d43321-aa04-43a3-a7e6-405f7e14ca53"
      },
      "source": [
        "#To stop a tensor from tracking history, you can call .detach()\n",
        "#particularly helpful when evaluating a model \n",
        "#because the model may have trainable parameters with requires_grad=True, \n",
        "#but for which we don’t need the gradients.\n",
        "print(t)\n",
        "t.detach_()\n",
        "print(t)"
      ],
      "execution_count": null,
      "outputs": [
        {
          "output_type": "stream",
          "text": [
            "tensor([[1., 1., 1., 1., 1.],\n",
            "        [1., 1., 1., 1., 1.]], requires_grad=True)\n",
            "tensor([[1., 1., 1., 1., 1.],\n",
            "        [1., 1., 1., 1., 1.]])\n"
          ],
          "name": "stdout"
        }
      ]
    },
    {
      "cell_type": "code",
      "metadata": {
        "id": "BePWFGOuVzHg",
        "colab_type": "code",
        "colab": {
          "base_uri": "https://localhost:8080/",
          "height": 350
        },
        "outputId": "77852a0b-bcb0-4a19-c89b-dfffb4ebe55a"
      },
      "source": [
        "x = torch.linspace(-10, 10, 10, requires_grad = True)\n",
        "w = torch.linspace(-10, 10, 10, requires_grad = True)\n",
        "\n",
        "Y = x ** 2\n",
        "Z = torch.relu(w)\n",
        "\n",
        "y = torch.sum(Y)\n",
        "z = torch.mean(Z)\n",
        "\n",
        "#torch.autograd cannot compute full Jacobian directly\n",
        "#input to backward must be scalar.\n",
        "#if it is not scalar, need to pass a vector for vector jacobian product.\n",
        "y.backward()\n",
        "z.backward()\n",
        "\n",
        "plt.figure(figsize=(12, 5))\n",
        "\n",
        "ax0 = plt.subplot(121)\n",
        "ax0.plot(x.detach().numpy(), Y.detach().numpy(), label = 'function')\n",
        "ax0.plot(x.detach().numpy(), x.grad.detach().numpy(), label = 'derivative')\n",
        "ax0.set_xlabel('x')\n",
        "ax0.set_title('Square Function')\n",
        "\n",
        "ax1 = plt.subplot(122)\n",
        "ax1.plot(w.detach().numpy(), Z.detach().numpy(), label = 'function')\n",
        "ax1.plot(w.detach().numpy(), w.grad.detach().numpy(), label = 'derivative')\n",
        "ax1.set_xlabel('w')\n",
        "ax1.set_title('Relu Function')\n",
        "\n",
        "plt.legend()\n",
        "plt.show()"
      ],
      "execution_count": null,
      "outputs": [
        {
          "output_type": "display_data",
          "data": {
            "image/png": "[encoded data removed]",
            "text/plain": [
              "<Figure size 864x360 with 2 Axes>"
            ]
          },
          "metadata": {
            "tags": [],
            "needs_background": "light"
          }
        }
      ]
    },
    {
      "cell_type": "markdown",
      "metadata": {
        "id": "r0k0BSLTVzHk",
        "colab_type": "text"
      },
      "source": [
        "Check this [link](https://pytorch.org/tutorials/beginner/blitz/autograd_tutorial.html) for detailed explaination."
      ]
    },
    {
      "cell_type": "markdown",
      "metadata": {
        "id": "HKHErHniVzHk",
        "colab_type": "text"
      },
      "source": [
        "## Variables"
      ]
    },
    {
      "cell_type": "code",
      "metadata": {
        "id": "sO_3Va-sVzHk",
        "colab_type": "code",
        "colab": {
          "base_uri": "https://localhost:8080/",
          "height": 52
        },
        "outputId": "09a042d1-b000-42b4-e6e2-c6dcdc2a4eba"
      },
      "source": [
        "# Variables are wrapper around the tensor ith gradient and reference to a function that created it.\n",
        "from torch.autograd import Variable\n",
        "x = Variable(torch.ones(2,2), requires_grad=True)\n",
        "x"
      ],
      "execution_count": null,
      "outputs": [
        {
          "output_type": "execute_result",
          "data": {
            "text/plain": [
              "tensor([[1., 1.],\n",
              "        [1., 1.]], requires_grad=True)"
            ]
          },
          "metadata": {
            "tags": []
          },
          "execution_count": 81
        }
      ]
    },
    {
      "cell_type": "markdown",
      "metadata": {
        "id": "XYrVu-2_VzHo",
        "colab_type": "text"
      },
      "source": [
        "### Tensor on GPU"
      ]
    },
    {
      "cell_type": "code",
      "metadata": {
        "id": "NMk3RFhSVzHp",
        "colab_type": "code",
        "colab": {
          "base_uri": "https://localhost:8080/",
          "height": 52
        },
        "outputId": "b75670ba-88b6-4089-a629-239f946c6084"
      },
      "source": [
        "#Tensors can be moved to any device.\n",
        "#Following code checks if GPU is available, maked cuda (GPU) default device.\n",
        "device = torch.device(\"cuda\" if torch.cuda.is_available() else \"cpu\")\n",
        "# use ``torch.device`` objects to move tensors in and out of GPU\n",
        "x3 = torch.rand(2,5).to(device)\n",
        "if device == \"cuda\":\n",
        "    print(torch.cuda.get_device_name(0))\n",
        "    print(x3.type())\n",
        "else:\n",
        "    print(device)\n",
        "    print(x3.type())"
      ],
      "execution_count": null,
      "outputs": [
        {
          "output_type": "stream",
          "text": [
            "cuda\n",
            "torch.cuda.FloatTensor\n"
          ],
          "name": "stdout"
        }
      ]
    },
    {
      "cell_type": "markdown",
      "metadata": {
        "id": "CbdDLcjoVzHr",
        "colab_type": "text"
      },
      "source": [
        "## Dataset class and loading dataset"
      ]
    },
    {
      "cell_type": "code",
      "metadata": {
        "id": "A7GIJ1vQVzHs",
        "colab_type": "code",
        "colab": {
          "base_uri": "https://localhost:8080/",
          "height": 34
        },
        "outputId": "0e510916-976f-4197-e3db-54f52863ed80"
      },
      "source": [
        "from torch.utils.data import Dataset\n",
        "#Forces to give same random number every time it gets compiled\n",
        "torch.manual_seed(1)"
      ],
      "execution_count": null,
      "outputs": [
        {
          "output_type": "execute_result",
          "data": {
            "text/plain": [
              "<torch._C.Generator at 0x7fe3433300c0>"
            ]
          },
          "metadata": {
            "tags": []
          },
          "execution_count": 83
        }
      ]
    },
    {
      "cell_type": "markdown",
      "metadata": {
        "id": "MXepmR5wVzHv",
        "colab_type": "text"
      },
      "source": [
        "`torch.utils.data.Dataset` is an abstract class representing a dataset. Custom dataset should inherit Dataset and override,\n",
        "1. __init__()\n",
        "2. __len__()\n",
        "3. __getitem__()"
      ]
    },
    {
      "cell_type": "code",
      "metadata": {
        "id": "SzdQsuYjVzHv",
        "colab_type": "code",
        "colab": {}
      },
      "source": [
        "#Class to load sample dummy dataset\n",
        "class toyDataset(Dataset):\n",
        "    #Constructor with default values\n",
        "    def __init__(self, length=10, transform=None):\n",
        "        self.len = length\n",
        "        #x :: input features\n",
        "        self.x = 2 * torch.randint(0, 101,(length, 2), dtype=torch.float64)\n",
        "        #y :: target labels\n",
        "        self.y = torch.ones(length, 1)\n",
        "        #Whether data need to transformed (like, normalization, etc)\n",
        "        self.transform = transform\n",
        "        \n",
        "    #Method overriding to return the total number of instances \n",
        "    def __len__(self):\n",
        "        return self.len\n",
        "    \n",
        "    #Method overriding to return data samples\n",
        "    def __getitem__(self, index):\n",
        "        sample = self.x[index], self.y[index]\n",
        "        if self.transform:\n",
        "            sample = self.transform(sample)\n",
        "        return sample"
      ],
      "execution_count": null,
      "outputs": []
    },
    {
      "cell_type": "code",
      "metadata": {
        "id": "Y0GXXAsRVzHx",
        "colab_type": "code",
        "colab": {
          "base_uri": "https://localhost:8080/",
          "height": 104
        },
        "outputId": "2dc24bdb-dd8e-4b16-9cf0-a565a1e012a9"
      },
      "source": [
        "#Creating instance of toyDataset and accessing example instances\n",
        "data = toyDataset()\n",
        "for i in range(5):\n",
        "    print(data[i])"
      ],
      "execution_count": null,
      "outputs": [
        {
          "output_type": "stream",
          "text": [
            "(tensor([46., 50.], dtype=torch.float64), tensor([1.]))\n",
            "(tensor([ 74., 200.], dtype=torch.float64), tensor([1.]))\n",
            "(tensor([200., 190.], dtype=torch.float64), tensor([1.]))\n",
            "(tensor([144.,  28.], dtype=torch.float64), tensor([1.]))\n",
            "(tensor([ 98., 168.], dtype=torch.float64), tensor([1.]))\n"
          ],
          "name": "stdout"
        }
      ]
    },
    {
      "cell_type": "markdown",
      "metadata": {
        "id": "4aw9H56WVzH0",
        "colab_type": "text"
      },
      "source": [
        "### Transform\n",
        "Most of time, we need to do some type of tranformation in the dataset, like normalising the data, setting the image size, etc. Thus, there is need to write some pre-processing code. <br>\n",
        "It is ideal to implement them as class rather than functions."
      ]
    },
    {
      "cell_type": "code",
      "metadata": {
        "id": "jwFIZhQsVzH0",
        "colab_type": "code",
        "colab": {}
      },
      "source": [
        "class transform_my_data(object):\n",
        "    def __init__(self, tranformation_params):\n",
        "        \"\"\"\n",
        "            Constructor\n",
        "        \"\"\"\n",
        "        self.tranformation_params = tranformation_params\n",
        "    \n",
        "    def __call__(self, sample):\n",
        "        \"\"\"\n",
        "            Executor:\n",
        "            Necessary tranformation\n",
        "            to each instance of data.\n",
        "            \n",
        "        \"\"\"\n",
        "        x, y = sample\n",
        "        x *= self.tranformation_params\n",
        "        \n",
        "        return x, y       "
      ],
      "execution_count": null,
      "outputs": []
    },
    {
      "cell_type": "code",
      "metadata": {
        "id": "dHUelmYiVzH2",
        "colab_type": "code",
        "colab": {}
      },
      "source": [
        "class normalise_my_data(object):\n",
        "    def __init__(self, total_instances):\n",
        "        \"\"\"\n",
        "            Constructor\n",
        "        \"\"\"\n",
        "        self.total_instances = total_instances\n",
        "    \n",
        "    def __call__(self, sample):\n",
        "        \"\"\"\n",
        "            Executor:\n",
        "            Necessary tranformation\n",
        "            to each instance of data.\n",
        "        \"\"\"\n",
        "        x, y = sample\n",
        "        x /= self.total_instances\n",
        "        \n",
        "        return x, y"
      ],
      "execution_count": null,
      "outputs": []
    },
    {
      "cell_type": "markdown",
      "metadata": {
        "id": "OPc3y7amVzH_",
        "colab_type": "text"
      },
      "source": [
        "Creating instance of transform and using tranform parameter from out dataset's constructor, we can initialise transformation in our dataset."
      ]
    },
    {
      "cell_type": "code",
      "metadata": {
        "id": "A3bIiCDjVzIC",
        "colab_type": "code",
        "colab": {
          "base_uri": "https://localhost:8080/",
          "height": 34
        },
        "outputId": "31ee0a24-a830-47b5-9400-d7bcaa5227c4"
      },
      "source": [
        "print(len(data))"
      ],
      "execution_count": null,
      "outputs": [
        {
          "output_type": "stream",
          "text": [
            "10\n"
          ],
          "name": "stdout"
        }
      ]
    },
    {
      "cell_type": "code",
      "metadata": {
        "id": "lMF3FeVaVzIF",
        "colab_type": "code",
        "colab": {}
      },
      "source": [
        "transform = transform_my_data(0.2)\n",
        "normalise = normalise_my_data(len(data))"
      ],
      "execution_count": null,
      "outputs": []
    },
    {
      "cell_type": "code",
      "metadata": {
        "id": "xcoUHtGGVzIH",
        "colab_type": "code",
        "colab": {}
      },
      "source": [
        "transformed_dataset = toyDataset(transform=transform)"
      ],
      "execution_count": null,
      "outputs": []
    },
    {
      "cell_type": "code",
      "metadata": {
        "id": "G8uP-WGLVzIJ",
        "colab_type": "code",
        "colab": {}
      },
      "source": [
        "normalised_dataset = toyDataset(transform=normalise)"
      ],
      "execution_count": null,
      "outputs": []
    },
    {
      "cell_type": "code",
      "metadata": {
        "id": "fBaFITlDVzIM",
        "colab_type": "code",
        "colab": {
          "base_uri": "https://localhost:8080/",
          "height": 278
        },
        "outputId": "211bd629-ca3f-48d3-e087-5debb0211025"
      },
      "source": [
        "# Use loop to print out first 10 elements in dataset\n",
        "\n",
        "for i in range(5):\n",
        "    print(data[i])\n",
        "    print(transformed_dataset[i])\n",
        "    print(normalised_dataset[i])"
      ],
      "execution_count": null,
      "outputs": [
        {
          "output_type": "stream",
          "text": [
            "(tensor([46., 50.], dtype=torch.float64), tensor([1.]))\n",
            "(tensor([17.2000,  6.4000], dtype=torch.float64), tensor([1.]))\n",
            "(tensor([ 4.0000, 18.6000], dtype=torch.float64), tensor([1.]))\n",
            "(tensor([ 74., 200.], dtype=torch.float64), tensor([1.]))\n",
            "(tensor([31.6000, 37.6000], dtype=torch.float64), tensor([1.]))\n",
            "(tensor([3.0000, 3.8000], dtype=torch.float64), tensor([1.]))\n",
            "(tensor([200., 190.], dtype=torch.float64), tensor([1.]))\n",
            "(tensor([ 3.2000, 38.4000], dtype=torch.float64), tensor([1.]))\n",
            "(tensor([7.8000, 8.8000], dtype=torch.float64), tensor([1.]))\n",
            "(tensor([144.,  28.], dtype=torch.float64), tensor([1.]))\n",
            "(tensor([12.8000,  4.8000], dtype=torch.float64), tensor([1.]))\n",
            "(tensor([15.0000,  1.6000], dtype=torch.float64), tensor([1.]))\n",
            "(tensor([ 98., 168.], dtype=torch.float64), tensor([1.]))\n",
            "(tensor([35.2000,  3.2000], dtype=torch.float64), tensor([1.]))\n",
            "(tensor([14.8000, 14.6000], dtype=torch.float64), tensor([1.]))\n"
          ],
          "name": "stdout"
        }
      ]
    },
    {
      "cell_type": "markdown",
      "metadata": {
        "id": "BDAqYNwtVzIO",
        "colab_type": "text"
      },
      "source": [
        "### Composing multiple transform"
      ]
    },
    {
      "cell_type": "code",
      "metadata": {
        "id": "XR-ki0sKVzIP",
        "colab_type": "code",
        "colab": {}
      },
      "source": [
        "from torchvision import transforms"
      ],
      "execution_count": null,
      "outputs": []
    },
    {
      "cell_type": "code",
      "metadata": {
        "id": "NOkl25tAVzIS",
        "colab_type": "code",
        "colab": {
          "base_uri": "https://localhost:8080/",
          "height": 86
        },
        "outputId": "1448d6df-51e0-42d9-eeab-962af02da1dc"
      },
      "source": [
        "data_transform = transforms.Compose([transform, normalise])\n",
        "data_transform"
      ],
      "execution_count": null,
      "outputs": [
        {
          "output_type": "execute_result",
          "data": {
            "text/plain": [
              "Compose(\n",
              "    <__main__.transform_my_data object at 0x7fe2e47a9048>\n",
              "    <__main__.normalise_my_data object at 0x7fe2ecc29208>\n",
              ")"
            ]
          },
          "metadata": {
            "tags": []
          },
          "execution_count": 94
        }
      ]
    },
    {
      "cell_type": "code",
      "metadata": {
        "id": "YwZuI_f_VzIT",
        "colab_type": "code",
        "colab": {
          "base_uri": "https://localhost:8080/",
          "height": 34
        },
        "outputId": "d1f19863-f30e-4f1d-a0c8-3dce18d9dbf3"
      },
      "source": [
        "data_transform(data[0])"
      ],
      "execution_count": null,
      "outputs": [
        {
          "output_type": "execute_result",
          "data": {
            "text/plain": [
              "(tensor([0.9200, 1.0000], dtype=torch.float64), tensor([1.]))"
            ]
          },
          "metadata": {
            "tags": []
          },
          "execution_count": 95
        }
      ]
    },
    {
      "cell_type": "markdown",
      "metadata": {
        "id": "YrU2zzbbVzIV",
        "colab_type": "text"
      },
      "source": [
        "The Compose object wil perform each transorm concurrently"
      ]
    },
    {
      "cell_type": "code",
      "metadata": {
        "id": "Bq-sMdUpVzIW",
        "colab_type": "code",
        "colab": {}
      },
      "source": [
        "dataset = toyDataset(transform=data_transform)"
      ],
      "execution_count": null,
      "outputs": []
    },
    {
      "cell_type": "code",
      "metadata": {
        "id": "rUCBsO75VzIY",
        "colab_type": "code",
        "colab": {
          "base_uri": "https://localhost:8080/",
          "height": 104
        },
        "outputId": "033d8692-ffae-4ad3-d40a-4876f695e94a"
      },
      "source": [
        "for i in range(5):\n",
        "    print(dataset[i])"
      ],
      "execution_count": null,
      "outputs": [
        {
          "output_type": "stream",
          "text": [
            "(tensor([0.1200, 1.0800], dtype=torch.float64), tensor([1.]))\n",
            "(tensor([3.9600, 2.0800], dtype=torch.float64), tensor([1.]))\n",
            "(tensor([0.3200, 1.1600], dtype=torch.float64), tensor([1.]))\n",
            "(tensor([1.2800, 3.5600], dtype=torch.float64), tensor([1.]))\n",
            "(tensor([3.7600, 0.5200], dtype=torch.float64), tensor([1.]))\n"
          ],
          "name": "stdout"
        }
      ]
    },
    {
      "cell_type": "markdown",
      "metadata": {
        "id": "bZzmunOOVzIb",
        "colab_type": "text"
      },
      "source": [
        "### Dealing with real dataset\n",
        "\n",
        "So far,\n",
        "1. dataset was not real and was small, therefore we initialised at __init__(), which must not be done for real datasets, as it will load the entire dataset at once, consuming large memory.\n",
        "2. we have iterated through the dataset using for loop, where we miss various features like, batching, shuffling, load the data in multiprocessing environment. Hence we will use dataloader (iterator)."
      ]
    },
    {
      "cell_type": "code",
      "metadata": {
        "id": "h_flX_XjVzIc",
        "colab_type": "code",
        "colab": {}
      },
      "source": [
        "from matplotlib.pyplot import imshow\n",
        "import matplotlib.pylab as plt\n",
        "from PIL import Image\n",
        "import os"
      ],
      "execution_count": null,
      "outputs": []
    },
    {
      "cell_type": "code",
      "metadata": {
        "id": "4-REesjOVzId",
        "colab_type": "code",
        "colab": {
          "base_uri": "https://localhost:8080/",
          "height": 34
        },
        "outputId": "0fc3e132-2bc1-4863-e2bc-e1ba3055e403"
      },
      "source": [
        "from torch.utils.data import Dataset, DataLoader\n",
        "torch.manual_seed(0)"
      ],
      "execution_count": null,
      "outputs": [
        {
          "output_type": "execute_result",
          "data": {
            "text/plain": [
              "<torch._C.Generator at 0x7fe3433300c0>"
            ]
          },
          "metadata": {
            "tags": []
          },
          "execution_count": 99
        }
      ]
    },
    {
      "cell_type": "code",
      "metadata": {
        "id": "DpYDEVpdVzIf",
        "colab_type": "code",
        "colab": {}
      },
      "source": [
        "directory = \"./../data/fMNIST/\"\n",
        "csv_file = \"index.csv\"\n",
        "csv_path = os.path.join(directory+csv_file)"
      ],
      "execution_count": null,
      "outputs": []
    },
    {
      "cell_type": "code",
      "metadata": {
        "id": "tLMWLcGaVzIi",
        "colab_type": "code",
        "colab": {
          "base_uri": "https://localhost:8080/",
          "height": 400
        },
        "outputId": "2b633bed-36d9-4cb7-ffd3-697d69bcfbe1"
      },
      "source": [
        "data_name = pd.read_csv(csv_path)\n",
        "data_name.head()"
      ],
      "execution_count": null,
      "outputs": [
        {
          "output_type": "error",
          "ename": "FileNotFoundError",
          "evalue": "ignored",
          "traceback": [
            "\u001b[0;31m---------------------------------------------------------------------------\u001b[0m",
            "\u001b[0;31mFileNotFoundError\u001b[0m                         Traceback (most recent call last)",
            "\u001b[0;32m<ipython-input-101-2bbb4bcaae9a>\u001b[0m in \u001b[0;36m<module>\u001b[0;34m()\u001b[0m\n\u001b[0;32m----> 1\u001b[0;31m \u001b[0mdata_name\u001b[0m \u001b[0;34m=\u001b[0m \u001b[0mpd\u001b[0m\u001b[0;34m.\u001b[0m\u001b[0mread_csv\u001b[0m\u001b[0;34m(\u001b[0m\u001b[0mcsv_path\u001b[0m\u001b[0;34m)\u001b[0m\u001b[0;34m\u001b[0m\u001b[0;34m\u001b[0m\u001b[0m\n\u001b[0m\u001b[1;32m      2\u001b[0m \u001b[0mdata_name\u001b[0m\u001b[0;34m.\u001b[0m\u001b[0mhead\u001b[0m\u001b[0;34m(\u001b[0m\u001b[0;34m)\u001b[0m\u001b[0;34m\u001b[0m\u001b[0;34m\u001b[0m\u001b[0m\n",
            "\u001b[0;32m/usr/local/lib/python3.6/dist-packages/pandas/io/parsers.py\u001b[0m in \u001b[0;36mparser_f\u001b[0;34m(filepath_or_buffer, sep, delimiter, header, names, index_col, usecols, squeeze, prefix, mangle_dupe_cols, dtype, engine, converters, true_values, false_values, skipinitialspace, skiprows, skipfooter, nrows, na_values, keep_default_na, na_filter, verbose, skip_blank_lines, parse_dates, infer_datetime_format, keep_date_col, date_parser, dayfirst, cache_dates, iterator, chunksize, compression, thousands, decimal, lineterminator, quotechar, quoting, doublequote, escapechar, comment, encoding, dialect, error_bad_lines, warn_bad_lines, delim_whitespace, low_memory, memory_map, float_precision)\u001b[0m\n\u001b[1;32m    674\u001b[0m         )\n\u001b[1;32m    675\u001b[0m \u001b[0;34m\u001b[0m\u001b[0m\n\u001b[0;32m--> 676\u001b[0;31m         \u001b[0;32mreturn\u001b[0m \u001b[0m_read\u001b[0m\u001b[0;34m(\u001b[0m\u001b[0mfilepath_or_buffer\u001b[0m\u001b[0;34m,\u001b[0m \u001b[0mkwds\u001b[0m\u001b[0;34m)\u001b[0m\u001b[0;34m\u001b[0m\u001b[0;34m\u001b[0m\u001b[0m\n\u001b[0m\u001b[1;32m    677\u001b[0m \u001b[0;34m\u001b[0m\u001b[0m\n\u001b[1;32m    678\u001b[0m     \u001b[0mparser_f\u001b[0m\u001b[0;34m.\u001b[0m\u001b[0m__name__\u001b[0m \u001b[0;34m=\u001b[0m \u001b[0mname\u001b[0m\u001b[0;34m\u001b[0m\u001b[0;34m\u001b[0m\u001b[0m\n",
            "\u001b[0;32m/usr/local/lib/python3.6/dist-packages/pandas/io/parsers.py\u001b[0m in \u001b[0;36m_read\u001b[0;34m(filepath_or_buffer, kwds)\u001b[0m\n\u001b[1;32m    446\u001b[0m \u001b[0;34m\u001b[0m\u001b[0m\n\u001b[1;32m    447\u001b[0m     \u001b[0;31m# Create the parser.\u001b[0m\u001b[0;34m\u001b[0m\u001b[0;34m\u001b[0m\u001b[0;34m\u001b[0m\u001b[0m\n\u001b[0;32m--> 448\u001b[0;31m     \u001b[0mparser\u001b[0m \u001b[0;34m=\u001b[0m \u001b[0mTextFileReader\u001b[0m\u001b[0;34m(\u001b[0m\u001b[0mfp_or_buf\u001b[0m\u001b[0;34m,\u001b[0m \u001b[0;34m**\u001b[0m\u001b[0mkwds\u001b[0m\u001b[0;34m)\u001b[0m\u001b[0;34m\u001b[0m\u001b[0;34m\u001b[0m\u001b[0m\n\u001b[0m\u001b[1;32m    449\u001b[0m \u001b[0;34m\u001b[0m\u001b[0m\n\u001b[1;32m    450\u001b[0m     \u001b[0;32mif\u001b[0m \u001b[0mchunksize\u001b[0m \u001b[0;32mor\u001b[0m \u001b[0miterator\u001b[0m\u001b[0;34m:\u001b[0m\u001b[0;34m\u001b[0m\u001b[0;34m\u001b[0m\u001b[0m\n",
            "\u001b[0;32m/usr/local/lib/python3.6/dist-packages/pandas/io/parsers.py\u001b[0m in \u001b[0;36m__init__\u001b[0;34m(self, f, engine, **kwds)\u001b[0m\n\u001b[1;32m    878\u001b[0m             \u001b[0mself\u001b[0m\u001b[0;34m.\u001b[0m\u001b[0moptions\u001b[0m\u001b[0;34m[\u001b[0m\u001b[0;34m\"has_index_names\"\u001b[0m\u001b[0;34m]\u001b[0m \u001b[0;34m=\u001b[0m \u001b[0mkwds\u001b[0m\u001b[0;34m[\u001b[0m\u001b[0;34m\"has_index_names\"\u001b[0m\u001b[0;34m]\u001b[0m\u001b[0;34m\u001b[0m\u001b[0;34m\u001b[0m\u001b[0m\n\u001b[1;32m    879\u001b[0m \u001b[0;34m\u001b[0m\u001b[0m\n\u001b[0;32m--> 880\u001b[0;31m         \u001b[0mself\u001b[0m\u001b[0;34m.\u001b[0m\u001b[0m_make_engine\u001b[0m\u001b[0;34m(\u001b[0m\u001b[0mself\u001b[0m\u001b[0;34m.\u001b[0m\u001b[0mengine\u001b[0m\u001b[0;34m)\u001b[0m\u001b[0;34m\u001b[0m\u001b[0;34m\u001b[0m\u001b[0m\n\u001b[0m\u001b[1;32m    881\u001b[0m \u001b[0;34m\u001b[0m\u001b[0m\n\u001b[1;32m    882\u001b[0m     \u001b[0;32mdef\u001b[0m \u001b[0mclose\u001b[0m\u001b[0;34m(\u001b[0m\u001b[0mself\u001b[0m\u001b[0;34m)\u001b[0m\u001b[0;34m:\u001b[0m\u001b[0;34m\u001b[0m\u001b[0;34m\u001b[0m\u001b[0m\n",
            "\u001b[0;32m/usr/local/lib/python3.6/dist-packages/pandas/io/parsers.py\u001b[0m in \u001b[0;36m_make_engine\u001b[0;34m(self, engine)\u001b[0m\n\u001b[1;32m   1112\u001b[0m     \u001b[0;32mdef\u001b[0m \u001b[0m_make_engine\u001b[0m\u001b[0;34m(\u001b[0m\u001b[0mself\u001b[0m\u001b[0;34m,\u001b[0m \u001b[0mengine\u001b[0m\u001b[0;34m=\u001b[0m\u001b[0;34m\"c\"\u001b[0m\u001b[0;34m)\u001b[0m\u001b[0;34m:\u001b[0m\u001b[0;34m\u001b[0m\u001b[0;34m\u001b[0m\u001b[0m\n\u001b[1;32m   1113\u001b[0m         \u001b[0;32mif\u001b[0m \u001b[0mengine\u001b[0m \u001b[0;34m==\u001b[0m \u001b[0;34m\"c\"\u001b[0m\u001b[0;34m:\u001b[0m\u001b[0;34m\u001b[0m\u001b[0;34m\u001b[0m\u001b[0m\n\u001b[0;32m-> 1114\u001b[0;31m             \u001b[0mself\u001b[0m\u001b[0;34m.\u001b[0m\u001b[0m_engine\u001b[0m \u001b[0;34m=\u001b[0m \u001b[0mCParserWrapper\u001b[0m\u001b[0;34m(\u001b[0m\u001b[0mself\u001b[0m\u001b[0;34m.\u001b[0m\u001b[0mf\u001b[0m\u001b[0;34m,\u001b[0m \u001b[0;34m**\u001b[0m\u001b[0mself\u001b[0m\u001b[0;34m.\u001b[0m\u001b[0moptions\u001b[0m\u001b[0;34m)\u001b[0m\u001b[0;34m\u001b[0m\u001b[0;34m\u001b[0m\u001b[0m\n\u001b[0m\u001b[1;32m   1115\u001b[0m         \u001b[0;32melse\u001b[0m\u001b[0;34m:\u001b[0m\u001b[0;34m\u001b[0m\u001b[0;34m\u001b[0m\u001b[0m\n\u001b[1;32m   1116\u001b[0m             \u001b[0;32mif\u001b[0m \u001b[0mengine\u001b[0m \u001b[0;34m==\u001b[0m \u001b[0;34m\"python\"\u001b[0m\u001b[0;34m:\u001b[0m\u001b[0;34m\u001b[0m\u001b[0;34m\u001b[0m\u001b[0m\n",
            "\u001b[0;32m/usr/local/lib/python3.6/dist-packages/pandas/io/parsers.py\u001b[0m in \u001b[0;36m__init__\u001b[0;34m(self, src, **kwds)\u001b[0m\n\u001b[1;32m   1889\u001b[0m         \u001b[0mkwds\u001b[0m\u001b[0;34m[\u001b[0m\u001b[0;34m\"usecols\"\u001b[0m\u001b[0;34m]\u001b[0m \u001b[0;34m=\u001b[0m \u001b[0mself\u001b[0m\u001b[0;34m.\u001b[0m\u001b[0musecols\u001b[0m\u001b[0;34m\u001b[0m\u001b[0;34m\u001b[0m\u001b[0m\n\u001b[1;32m   1890\u001b[0m \u001b[0;34m\u001b[0m\u001b[0m\n\u001b[0;32m-> 1891\u001b[0;31m         \u001b[0mself\u001b[0m\u001b[0;34m.\u001b[0m\u001b[0m_reader\u001b[0m \u001b[0;34m=\u001b[0m \u001b[0mparsers\u001b[0m\u001b[0;34m.\u001b[0m\u001b[0mTextReader\u001b[0m\u001b[0;34m(\u001b[0m\u001b[0msrc\u001b[0m\u001b[0;34m,\u001b[0m \u001b[0;34m**\u001b[0m\u001b[0mkwds\u001b[0m\u001b[0;34m)\u001b[0m\u001b[0;34m\u001b[0m\u001b[0;34m\u001b[0m\u001b[0m\n\u001b[0m\u001b[1;32m   1892\u001b[0m         \u001b[0mself\u001b[0m\u001b[0;34m.\u001b[0m\u001b[0munnamed_cols\u001b[0m \u001b[0;34m=\u001b[0m \u001b[0mself\u001b[0m\u001b[0;34m.\u001b[0m\u001b[0m_reader\u001b[0m\u001b[0;34m.\u001b[0m\u001b[0munnamed_cols\u001b[0m\u001b[0;34m\u001b[0m\u001b[0;34m\u001b[0m\u001b[0m\n\u001b[1;32m   1893\u001b[0m \u001b[0;34m\u001b[0m\u001b[0m\n",
            "\u001b[0;32mpandas/_libs/parsers.pyx\u001b[0m in \u001b[0;36mpandas._libs.parsers.TextReader.__cinit__\u001b[0;34m()\u001b[0m\n",
            "\u001b[0;32mpandas/_libs/parsers.pyx\u001b[0m in \u001b[0;36mpandas._libs.parsers.TextReader._setup_parser_source\u001b[0;34m()\u001b[0m\n",
            "\u001b[0;31mFileNotFoundError\u001b[0m: [Errno 2] File ./../data/fMNIST/index.csv does not exist: './../data/fMNIST/index.csv'"
          ]
        }
      ]
    },
    {
      "cell_type": "code",
      "metadata": {
        "id": "YB8O3kyRVzIk",
        "colab_type": "code",
        "colab": {}
      },
      "source": [
        "#Filename, Label/class\n",
        "data_name.iloc[0,1], data_name.iloc[0,0]"
      ],
      "execution_count": null,
      "outputs": []
    },
    {
      "cell_type": "code",
      "metadata": {
        "id": "t46WFjuaVzI3",
        "colab_type": "code",
        "colab": {}
      },
      "source": [
        "image_name = data_name.iloc[0,1]\n",
        "image_path = os.path.join(directory+image_name)\n",
        "image = Image.open(image_path)\n",
        "plt.imshow(image,cmap='gray', vmin=0, vmax=255)\n",
        "plt.title(data_name.iloc[0, 0])\n",
        "plt.show()"
      ],
      "execution_count": null,
      "outputs": []
    },
    {
      "cell_type": "code",
      "metadata": {
        "id": "rqftCg4eVzI6",
        "colab_type": "code",
        "colab": {}
      },
      "source": [
        "class fashionDataset(Dataset):\n",
        "    def __init__(self, csv_file, root_dir, transform=None):\n",
        "        \"\"\"\n",
        "        Args:\n",
        "            csv_file (string): Path to the csv file with annotations.\n",
        "            root_dir (string): Directory with all the images.\n",
        "            transform (callable, optional): Optional transform to be applied\n",
        "                on a sample.\n",
        "        \"\"\"\n",
        "        self.root_dir = root_dir\n",
        "        csv_path = os.path.join(root_dir+csv_file)\n",
        "        self.csv_file = pd.read_csv(csv_path)\n",
        "        self.transform = transform\n",
        "    \n",
        "    def __len__(self):\n",
        "        return len(self.csv_file)\n",
        "    \n",
        "    def __getitem__(self, idx):\n",
        "        \"\"\"\n",
        "            to fetch instances of dataset\n",
        "            idx :: index\n",
        "        \"\"\"\n",
        "        #Loading the image\n",
        "        img_name = os.path.join(self.root_dir+self.csv_file.iloc[idx, 1])\n",
        "        image = Image.open(img_name)\n",
        "        \n",
        "        #Loading the label\n",
        "        label = self.csv_file.iloc[idx, 0]\n",
        "        \n",
        "        #Applying transformation\n",
        "        if self.transform:\n",
        "            image = self.transform(image)\n",
        "            \n",
        "        return image, label"
      ],
      "execution_count": null,
      "outputs": []
    },
    {
      "cell_type": "code",
      "metadata": {
        "id": "u7t7D9g5VzI_",
        "colab_type": "code",
        "colab": {}
      },
      "source": [
        "#Creating object of dataset\n",
        "fdata = fashionDataset(csv_file, directory)"
      ],
      "execution_count": null,
      "outputs": []
    },
    {
      "cell_type": "code",
      "metadata": {
        "id": "Z8TfeV4lVzJF",
        "colab_type": "code",
        "colab": {}
      },
      "source": [
        "#fetching length of total instances\n",
        "len(fdata)"
      ],
      "execution_count": null,
      "outputs": []
    },
    {
      "cell_type": "code",
      "metadata": {
        "id": "DEC6bdS8VzJH",
        "colab_type": "code",
        "colab": {}
      },
      "source": [
        "#Accessing a particulare instance of a dataset\n",
        "img = fdata[100]\n",
        "\n",
        "plt.imshow(img[0],cmap='gray', vmin=0, vmax=255)\n",
        "plt.title(img[1])\n",
        "plt.show()"
      ],
      "execution_count": null,
      "outputs": []
    },
    {
      "cell_type": "markdown",
      "metadata": {
        "id": "8vlxME9TVzJJ",
        "colab_type": "text"
      },
      "source": [
        "As part of transform, torchvision provides several built-in transformation for images, like, CenterCrop, ColorJitter, Pad, ToTensor, etc. Click [here](https://pytorch.org/docs/stable/torchvision/transforms.html) for more."
      ]
    },
    {
      "cell_type": "code",
      "metadata": {
        "id": "Ihik7R4TVzJJ",
        "colab_type": "code",
        "colab": {}
      },
      "source": [
        "img_transformation = transforms.Compose([transforms.CenterCrop(20), transforms.ToTensor()])\n",
        "newFData = fashionDataset(csv_file=csv_file, root_dir=directory, transform=img_transformation)"
      ],
      "execution_count": null,
      "outputs": []
    },
    {
      "cell_type": "code",
      "metadata": {
        "id": "U91v_kv7VzJN",
        "colab_type": "code",
        "colab": {}
      },
      "source": [
        "#function to load the image for display\n",
        "def show(sample, shape=(28,28)):\n",
        "    plt.imshow(sample[0].numpy().reshape(shape), cmap='gray')\n",
        "    plt.title(sample[1])\n",
        "    plt.show()"
      ],
      "execution_count": null,
      "outputs": []
    },
    {
      "cell_type": "code",
      "metadata": {
        "id": "ANbdLyfvVzJQ",
        "colab_type": "code",
        "colab": {}
      },
      "source": [
        "#Accessing a particulare instance of a dataset\n",
        "img = newFData[100]\n",
        "show(img, shape=(20,20))"
      ],
      "execution_count": null,
      "outputs": []
    },
    {
      "cell_type": "code",
      "metadata": {
        "id": "6c6aDF-HVzJS",
        "colab_type": "code",
        "colab": {}
      },
      "source": [
        "for i in range(5):\n",
        "    show(newFData[i], shape=(20,20))"
      ],
      "execution_count": null,
      "outputs": []
    },
    {
      "cell_type": "markdown",
      "metadata": {
        "id": "mJLeQsa1VzJV",
        "colab_type": "text"
      },
      "source": [
        "#### Iterating over dataset using DataLoader"
      ]
    },
    {
      "cell_type": "code",
      "metadata": {
        "id": "KhOpU68aVzJV",
        "colab_type": "code",
        "colab": {}
      },
      "source": [
        "from torch.utils.data import DataLoader"
      ],
      "execution_count": null,
      "outputs": []
    },
    {
      "cell_type": "code",
      "metadata": {
        "id": "InrBgwNIVzJX",
        "colab_type": "code",
        "colab": {}
      },
      "source": [
        "dataloader = DataLoader(newFData, batch_size=5, shuffle=True, num_workers=5)"
      ],
      "execution_count": null,
      "outputs": []
    },
    {
      "cell_type": "code",
      "metadata": {
        "id": "FmDvtPbJVzJa",
        "colab_type": "code",
        "colab": {}
      },
      "source": [
        "for i_batch, sample_batched in enumerate(dataloader):\n",
        "    for i in range(sample_batched[0].shape[0]):\n",
        "        sample = (sample_batched[0][i], sample_batched[1][i])\n",
        "        show(sample, shape=(20,20))\n",
        "    if i_batch == 2:\n",
        "        break"
      ],
      "execution_count": null,
      "outputs": []
    },
    {
      "cell_type": "markdown",
      "metadata": {
        "id": "UGzfrgSsVzJc",
        "colab_type": "text"
      },
      "source": [
        "### Working with torchvision/torch pre-build datasets\n",
        "\n",
        "Click [here](https://pytorch.org/docs/stable/torchvision/datasets.html) to explore different datasets."
      ]
    },
    {
      "cell_type": "code",
      "metadata": {
        "id": "x2Z07daLVzJc",
        "colab_type": "code",
        "colab": {}
      },
      "source": [
        "import torchvision.datasets as dsets"
      ],
      "execution_count": null,
      "outputs": []
    },
    {
      "cell_type": "code",
      "metadata": {
        "id": "68LnGbCFVzJd",
        "colab_type": "code",
        "colab": {}
      },
      "source": [
        "#importing the pre-built mnist dataset\n",
        "mnist_dataset = dsets.MNIST(root='./../data/',\n",
        "                           train=False, # If True, creates dataset from training.pt, otherwise from test.pt.\n",
        "                           download=True,\n",
        "                           transform = transforms.ToTensor())"
      ],
      "execution_count": null,
      "outputs": []
    },
    {
      "cell_type": "markdown",
      "metadata": {
        "id": "B_BrgEnGVzJg",
        "colab_type": "text"
      },
      "source": [
        "Each element of the dataset object contains a tuple."
      ]
    },
    {
      "cell_type": "code",
      "metadata": {
        "id": "VDCqjHrlVzJg",
        "colab_type": "code",
        "colab": {}
      },
      "source": [
        "mnist_dataset[0][0].shape"
      ],
      "execution_count": null,
      "outputs": []
    },
    {
      "cell_type": "code",
      "metadata": {
        "id": "AbXPHeJgVzJi",
        "colab_type": "code",
        "colab": {}
      },
      "source": [
        "mnist_dataset[0][1]"
      ],
      "execution_count": null,
      "outputs": []
    },
    {
      "cell_type": "code",
      "metadata": {
        "id": "XB_sl2R0VzJk",
        "colab_type": "code",
        "colab": {}
      },
      "source": [
        "show(mnist_dataset[0])"
      ],
      "execution_count": null,
      "outputs": []
    },
    {
      "cell_type": "markdown",
      "metadata": {
        "id": "Qzj7Zr2NVzJn",
        "colab_type": "text"
      },
      "source": [
        "### Training a simple Linear Regression model"
      ]
    },
    {
      "cell_type": "code",
      "metadata": {
        "id": "wYaRqgJCVzJn",
        "colab_type": "code",
        "colab": {}
      },
      "source": [
        "#Using the previously referred boston housing dataset from sklearn\n",
        "boston.feature_names"
      ],
      "execution_count": null,
      "outputs": []
    },
    {
      "cell_type": "code",
      "metadata": {
        "id": "L82q3NMNVzJp",
        "colab_type": "code",
        "colab": {}
      },
      "source": [
        "def get_input_data():\n",
        "    inp_data = boston.data\n",
        "    age = inp_data[:, 6]\n",
        "    targets = boston.target\n",
        "    \n",
        "    X = Variable(torch.from_numpy(age).type(torch.FloatTensor), requires_grad=False).view(506,1)\n",
        "    y = Variable(torch.from_numpy(targets).type(torch.FloatTensor), requires_grad=False)\n",
        "    \n",
        "    return X, y"
      ],
      "execution_count": null,
      "outputs": []
    },
    {
      "cell_type": "code",
      "metadata": {
        "id": "jtuB7p4XVzJr",
        "colab_type": "code",
        "colab": {}
      },
      "source": [
        "#Defining Weights and bias for Linear Regression\n",
        "W = Variable(torch.randn(1), requires_grad=True)\n",
        "b = Variable(torch.randn(1), requires_grad=True)"
      ],
      "execution_count": null,
      "outputs": []
    },
    {
      "cell_type": "code",
      "metadata": {
        "id": "z0aM9qhqVzJt",
        "colab_type": "code",
        "colab": {}
      },
      "source": [
        "lr = 1e-4\n",
        "losses = []"
      ],
      "execution_count": null,
      "outputs": []
    },
    {
      "cell_type": "code",
      "metadata": {
        "id": "6JOvem2-VzJv",
        "colab_type": "code",
        "colab": {}
      },
      "source": [
        "X, y = get_input_data()\n",
        "for i in range(10):\n",
        "    y_pred = torch.matmul(X, W) + b\n",
        "    \n",
        "    loss = (y - y_pred).pow(2).mean()\n",
        "    for param in [W, b]:\n",
        "        if param.grad is not None:\n",
        "            param.grad.data.zero_()\n",
        "    loss.backward()\n",
        "    loss = loss.data.item()\n",
        "    losses.append(loss)\n",
        "    if i%2 == 0:\n",
        "        print(loss)\n",
        "    \n",
        "    W.data -= lr * W.grad.data\n",
        "    b.data -= lr * b.grad.data"
      ],
      "execution_count": null,
      "outputs": []
    },
    {
      "cell_type": "code",
      "metadata": {
        "id": "WiqsEEbdVzJx",
        "colab_type": "code",
        "colab": {}
      },
      "source": [
        "xplot = np.arange(10)\n",
        "yplot = np.array(losses)\n",
        "plt.plot(xplot,yplot)"
      ],
      "execution_count": null,
      "outputs": []
    }
  ]
}