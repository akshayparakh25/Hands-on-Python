{
 "cells": [
  {
   "cell_type": "markdown",
   "metadata": {},
   "source": [
    "# Python"
   ]
  },
  {
   "cell_type": "markdown",
   "metadata": {},
   "source": [
    "ABC is a general-purpose programming language and programming environment, which was developed in the Netherlands, Amsterdam, at the CWI (Centrum Wiskunde & Informatica). The greatest achievement of ABC was to influence the design of Python. <br>\n",
    "\n",
    "Python was conceptualized in the late 1980s by Guido van Rossum. Guido Van Rossum published the first version of Python code (version 0.9.0) at alt.sources in February 1991. Python version 1.0 was released in January 1994. Six and a half years later in October 2000, Python 2.0 was introduced. Python flourished for another 8 years in the versions 2.x before the next major release as Python 3.0 (also known as \"Python 3000\" and \"Py3K\") was released. Python 3 is not backwards compatible with Python 2.x.<br>\n",
    "\n",
    "Python is a high-level programing language. Python is simple to use, allows you to split your program into modules that can be reused in other Python programs, enables programs to be written compactly and readably, and is extensible. Python is considered as interpreted programming language as it is executed by interpreter (not compiler). <br>"
   ]
  },
  {
   "cell_type": "markdown",
   "metadata": {},
   "source": [
    "#### Compiler\n",
    "<br>\n",
    "A compiler is a computer program that transforms (translates) source code of a programming language (the source language) into another computer language (the target language). In most cases compilers are used to transform source code into executable program, i.e. they translate code from high-level programming languages into low (or lower) level languages, mostly assembly or machine code."
   ]
  },
  {
   "cell_type": "markdown",
   "metadata": {},
   "source": [
    "#### Interpreter\n",
    "<br>\n",
    "An interpreter is a computer program that executes instructions written in a programming language. It can either execute the source code directly or translate the source code in a first step into a more efficient representation and execute this code."
   ]
  },
  {
   "cell_type": "markdown",
   "metadata": {},
   "source": [
    "## Python operates on 2 modes: *interactive mode* and *script mode*. "
   ]
  },
  {
   "cell_type": "markdown",
   "metadata": {},
   "source": [
    "### Interactive Mode\n",
    "\n",
    "The interactive shell is between the user and the operating system (e.g. Linux, Unix, Windows or others). Instead of an operating system an interpreter can be used for a programming language like Python as well. The Python interpreter can be used from an interactive shell. Python offers a comfortable command line interface with the Python Shell, which is also known as the \"Python Interactive Shell\".<br>\n",
    "\n",
    "You can start interactive mode Python3 mode by following (Linux/Mac):\n",
    "1. Start Terminal\n",
    "2. Type Python3 and press enter.\n",
    "\n",
    "In Windows you can start *idle* application.\n"
   ]
  },
  {
   "cell_type": "code",
   "execution_count": null,
   "metadata": {},
   "outputs": [],
   "source": [
    "print(\"Hello World\")"
   ]
  },
  {
   "cell_type": "code",
   "execution_count": null,
   "metadata": {},
   "outputs": [],
   "source": [
    "\"Hello World\""
   ]
  },
  {
   "cell_type": "code",
   "execution_count": null,
   "metadata": {},
   "outputs": [],
   "source": [
    "# The Shell as a Simple Calculator\n",
    "25*4"
   ]
  },
  {
   "cell_type": "markdown",
   "metadata": {},
   "source": [
    "**Benifits of interactive mode:** Can test bits/chunks of code beforehand.<br>\n",
    "You can either use exit() or Ctrl-D (i.e. EOF) to exit python shell."
   ]
  },
  {
   "cell_type": "markdown",
   "metadata": {},
   "source": [
    "### Script Mode\n",
    "\n",
    "1. Open a code-editor or IDE like Notepad, Sublime text, Pycharm, etc.\n",
    "2. Write any python code. As simple as following line,<br>\n",
    "    print(\"This is my first python program.\")\n",
    "3. Save the file with .py extension. For example, first.py\n",
    "4. Open Terminal(Linux/Mac) or cmd(Windows) and type,<br>\n",
    "    python3 first.py"
   ]
  },
  {
   "cell_type": "code",
   "execution_count": null,
   "metadata": {},
   "outputs": [],
   "source": [
    "!python3 ../pythonFiles/script.py"
   ]
  },
  {
   "cell_type": "code",
   "execution_count": null,
   "metadata": {},
   "outputs": [],
   "source": [
    "#Built-in function that gives useful documentation\n",
    "help('print')"
   ]
  },
  {
   "cell_type": "code",
   "execution_count": null,
   "metadata": {},
   "outputs": [],
   "source": [
    "help()"
   ]
  },
  {
   "cell_type": "code",
   "execution_count": null,
   "metadata": {},
   "outputs": [],
   "source": [
    "print('Hello World!\\nSo typical.')"
   ]
  },
  {
   "cell_type": "markdown",
   "metadata": {},
   "source": [
    "## Data types in Python"
   ]
  },
  {
   "cell_type": "code",
   "execution_count": null,
   "metadata": {},
   "outputs": [],
   "source": [
    "type('Hi')"
   ]
  },
  {
   "cell_type": "code",
   "execution_count": null,
   "metadata": {},
   "outputs": [],
   "source": [
    "type(17)"
   ]
  },
  {
   "cell_type": "code",
   "execution_count": null,
   "metadata": {},
   "outputs": [],
   "source": [
    "type(25.4)"
   ]
  },
  {
   "cell_type": "code",
   "execution_count": null,
   "metadata": {},
   "outputs": [],
   "source": [
    "type(True)"
   ]
  },
  {
   "cell_type": "markdown",
   "metadata": {},
   "source": [
    "## Variables\n",
    "\n",
    "A variable can be seen as a container (or some say a pigeonhole) to store certain values. While the program is running, variables are accessed and sometimes changed, i.e., a new value will be assigned to a variable. There is no declaration of variables required in Python, which makes it quite easy. It's not even possible to declare the variables. If there is need for a variable, you should think of a name and start using it as a variable.<br>\n",
    "Python variables are references to objects, but the actual data is contained in the objects. As variables are pointing to objects and objects can be of arbitrary data types, variables cannot have types associated with them. This is a huge difference from C, C++ or Java, where a variable is associated with a fixed data type."
   ]
  },
  {
   "cell_type": "code",
   "execution_count": null,
   "metadata": {},
   "outputs": [],
   "source": [
    "#Variable Declaration and initialization\n",
    "#String\n",
    "string = \"Have a good day.\" #Single quotes and Double quotes both are accpetable for string\n",
    "\n",
    "#Numbers\n",
    "n = 25\n",
    "pi = 3.14\n",
    "\n",
    "#Boolean\n",
    "truth_value = True"
   ]
  },
  {
   "cell_type": "code",
   "execution_count": null,
   "metadata": {},
   "outputs": [],
   "source": [
    "#Accessing the variable\n",
    "pi"
   ]
  },
  {
   "cell_type": "code",
   "execution_count": null,
   "metadata": {},
   "outputs": [],
   "source": [
    "n = 25.0\n",
    "n"
   ]
  },
  {
   "cell_type": "markdown",
   "metadata": {},
   "source": [
    "## Operators\n",
    "<br>\n",
    "Similar to other programming languages, Some extra (oftenly used) are:"
   ]
  },
  {
   "cell_type": "code",
   "execution_count": null,
   "metadata": {},
   "outputs": [],
   "source": [
    "#Arithmetic Operators\n",
    "# +  Addition\n",
    "# -  Subtraction\n",
    "# *  Multiplication\n",
    "# /  Division"
   ]
  },
  {
   "cell_type": "code",
   "execution_count": null,
   "metadata": {},
   "outputs": [],
   "source": [
    "#Exponentiation\n",
    "5**3"
   ]
  },
  {
   "cell_type": "code",
   "execution_count": null,
   "metadata": {},
   "outputs": [],
   "source": [
    "#Normal Division\n",
    "59/60"
   ]
  },
  {
   "cell_type": "code",
   "execution_count": null,
   "metadata": {},
   "outputs": [],
   "source": [
    "#Floor Division\n",
    "61//60"
   ]
  },
  {
   "cell_type": "markdown",
   "metadata": {},
   "source": [
    "### String Operations"
   ]
  },
  {
   "cell_type": "code",
   "execution_count": null,
   "metadata": {},
   "outputs": [],
   "source": [
    "'String ' + 'Concatenation'"
   ]
  },
  {
   "cell_type": "code",
   "execution_count": null,
   "metadata": {},
   "outputs": [],
   "source": [
    "'String' * 4"
   ]
  },
  {
   "cell_type": "code",
   "execution_count": null,
   "metadata": {},
   "outputs": [],
   "source": [
    "### Boolean/Comparison Operation\n",
    "# ==  Comparator \"Equals to\"\n",
    "# !=  \"Not equals to\"\n",
    "# >  \"Greater than\"\n",
    "# <  \"Less than\"\n",
    "# <=  \"Greater than equals to\"\n",
    "# >=  \"Less than equals to\""
   ]
  },
  {
   "cell_type": "code",
   "execution_count": null,
   "metadata": {},
   "outputs": [],
   "source": [
    "100%2 == 0"
   ]
  },
  {
   "cell_type": "code",
   "execution_count": null,
   "metadata": {},
   "outputs": [],
   "source": [
    "### Logical operators\n",
    "# and\n",
    "# or\n",
    "# not   negation"
   ]
  },
  {
   "cell_type": "code",
   "execution_count": null,
   "metadata": {},
   "outputs": [],
   "source": [
    "a, b, c = 2, 3, 5\n",
    "not((a>b and a>c) or (a+b == c))"
   ]
  },
  {
   "cell_type": "markdown",
   "metadata": {},
   "source": [
    "### Membership Operator : in"
   ]
  },
  {
   "cell_type": "code",
   "execution_count": null,
   "metadata": {},
   "outputs": [],
   "source": [
    "print('c' in 'miracle')"
   ]
  },
  {
   "cell_type": "markdown",
   "metadata": {},
   "source": [
    "### Identity Operator : is"
   ]
  },
  {
   "cell_type": "code",
   "execution_count": null,
   "metadata": {},
   "outputs": [],
   "source": [
    "print('a' is 'A')"
   ]
  },
  {
   "cell_type": "markdown",
   "metadata": {},
   "source": [
    "## Functions\n",
    "\n",
    "A function is a structuring element in programming languages to group a bunch of statements so they can be utilized in a program more than once. Using functions usually enhances the comprehensibility and quality of a program. It also lowers the cost for development and maintenance of the software."
   ]
  },
  {
   "cell_type": "markdown",
   "metadata": {},
   "source": [
    "### Function Calls\n",
    "<br>\n",
    "Similar to other programing languages: <br>\n",
    "function_name( arguement/s )"
   ]
  },
  {
   "cell_type": "code",
   "execution_count": null,
   "metadata": {},
   "outputs": [],
   "source": [
    "#To check the type of a variable\n",
    "real = 25.4\n",
    "type(real)"
   ]
  },
  {
   "cell_type": "code",
   "execution_count": null,
   "metadata": {},
   "outputs": [],
   "source": [
    "#To print\n",
    "print(\"This is print function.\")"
   ]
  },
  {
   "cell_type": "code",
   "execution_count": null,
   "metadata": {},
   "outputs": [],
   "source": [
    "#Type Conversion\n",
    "str(25)"
   ]
  },
  {
   "cell_type": "code",
   "execution_count": null,
   "metadata": {},
   "outputs": [],
   "source": [
    "int('25')"
   ]
  },
  {
   "cell_type": "code",
   "execution_count": null,
   "metadata": {},
   "outputs": [],
   "source": [
    "bool(100)"
   ]
  },
  {
   "cell_type": "code",
   "execution_count": null,
   "metadata": {},
   "outputs": [],
   "source": [
    "#Int conversion does not rounds up\n",
    "int(25.4), int(19.9)"
   ]
  },
  {
   "cell_type": "markdown",
   "metadata": {},
   "source": [
    "### Using functions from modules"
   ]
  },
  {
   "cell_type": "markdown",
   "metadata": {},
   "source": [
    "#### Import a module first"
   ]
  },
  {
   "cell_type": "code",
   "execution_count": null,
   "metadata": {},
   "outputs": [],
   "source": [
    "import math"
   ]
  },
  {
   "cell_type": "code",
   "execution_count": null,
   "metadata": {},
   "outputs": [],
   "source": [
    "print(math)"
   ]
  },
  {
   "cell_type": "code",
   "execution_count": null,
   "metadata": {},
   "outputs": [],
   "source": [
    "math.sqrt(4.0)"
   ]
  },
  {
   "cell_type": "code",
   "execution_count": null,
   "metadata": {},
   "outputs": [],
   "source": [
    "#Alternate way to import a module\n",
    "import math as m"
   ]
  },
  {
   "cell_type": "code",
   "execution_count": null,
   "metadata": {},
   "outputs": [],
   "source": [
    "m.pow(25, 4)"
   ]
  },
  {
   "cell_type": "code",
   "execution_count": null,
   "metadata": {},
   "outputs": [],
   "source": [
    "#Pre-defined constant in math module\n",
    "m.pi"
   ]
  },
  {
   "cell_type": "markdown",
   "metadata": {},
   "source": [
    "#### Using from to import specific functon or constant from a module\n",
    "<br>\n",
    "Helps make the code more precise"
   ]
  },
  {
   "cell_type": "code",
   "execution_count": null,
   "metadata": {},
   "outputs": [],
   "source": [
    "from math import pow\n",
    "print(pow(2,5))"
   ]
  },
  {
   "cell_type": "code",
   "execution_count": null,
   "metadata": {},
   "outputs": [],
   "source": [
    "#importing everything from module\n",
    "from math import *"
   ]
  },
  {
   "cell_type": "code",
   "execution_count": null,
   "metadata": {},
   "outputs": [],
   "source": [
    "cos(90/360)"
   ]
  },
  {
   "cell_type": "code",
   "execution_count": null,
   "metadata": {},
   "outputs": [],
   "source": [
    "sin(90/360)"
   ]
  },
  {
   "cell_type": "markdown",
   "metadata": {},
   "source": [
    "### Defining a Function\n",
    "A function in Python is defined by a def statement. The parameter list consists of none or more parameters. Parameters are called arguments, if the function is called. The function body consists of indented statements. The function body gets executed every time the function is called."
   ]
  },
  {
   "cell_type": "markdown",
   "metadata": {},
   "source": [
    "#### def function_name( parameters ):\n",
    "<br>\n",
    "def is a keyword, that indicates function definition."
   ]
  },
  {
   "cell_type": "code",
   "execution_count": 42,
   "metadata": {},
   "outputs": [],
   "source": [
    "def greetings(name):\n",
    "    print('Hello '+name)"
   ]
  },
  {
   "cell_type": "code",
   "execution_count": 43,
   "metadata": {},
   "outputs": [
    {
     "name": "stdout",
     "output_type": "stream",
     "text": [
      "Hello Mr. President\n"
     ]
    }
   ],
   "source": [
    "greetings('Mr. President')"
   ]
  },
  {
   "cell_type": "code",
   "execution_count": 44,
   "metadata": {},
   "outputs": [
    {
     "data": {
      "text/plain": [
       "function"
      ]
     },
     "execution_count": 44,
     "metadata": {},
     "output_type": "execute_result"
    }
   ],
   "source": [
    "#Function definition creates a variable with the same name of type function\n",
    "type(greetings)"
   ]
  },
  {
   "cell_type": "code",
   "execution_count": null,
   "metadata": {},
   "outputs": [],
   "source": [
    "#Keyword arguement \"n\" initialised with a default value\n",
    "#Unlike C functions, Python functions can return multiple values, sing Tuples ( discussed in the later section)\n",
    "def operations(m, n=1):\n",
    "    return m*n, m/n"
   ]
  },
  {
   "cell_type": "code",
   "execution_count": null,
   "metadata": {},
   "outputs": [],
   "source": [
    "m, d = operations(10, 2)\n",
    "print(m, d)"
   ]
  },
  {
   "cell_type": "code",
   "execution_count": null,
   "metadata": {},
   "outputs": [],
   "source": [
    "operations(10)"
   ]
  },
  {
   "cell_type": "code",
   "execution_count": null,
   "metadata": {},
   "outputs": [],
   "source": [
    "def area_rectangle(length=10, bredth=50):\n",
    "    #Docstring\n",
    "    \"\"\"\n",
    "    A docstring is a string at the beggining of a function, explaining the function.\n",
    "    This function takes 2 paramenter length and bredth and calculate the area of rectangle.\n",
    "    \"\"\"\n",
    "    return length*bredth"
   ]
  },
  {
   "cell_type": "code",
   "execution_count": null,
   "metadata": {},
   "outputs": [],
   "source": [
    "print(area_rectangle.__doc__)"
   ]
  },
  {
   "cell_type": "code",
   "execution_count": null,
   "metadata": {},
   "outputs": [],
   "source": [
    "area_rectangle(10, 20)"
   ]
  },
  {
   "cell_type": "markdown",
   "metadata": {},
   "source": [
    "Very often the terms parameter and argument are used synonymously, but there is a clear difference. Parameters are inside functions or procedures, while arguments are used in procedure calls, i.e. the values passed to the function at run-time."
   ]
  },
  {
   "cell_type": "markdown",
   "metadata": {},
   "source": [
    "### Parameter passing in functions"
   ]
  },
  {
   "cell_type": "markdown",
   "metadata": {},
   "source": [
    "Python uses a mechanism, which is known as \"Call-by-Object\", sometimes also called \"Call by Object Reference\" or \"Call by Sharing\".\n",
    "\n",
    "\n",
    "If you pass immutable arguments like integers, strings or tuples to a function, the passing acts like call-by-value (from C/C++). The object reference is passed to the function parameters. They can't be changed within the function, because they can't be changed at all, i.e. they are immutable. It's different, if we pass mutable arguments. They are also passed by object reference, but they can be changed in place within the function. If we pass a list to a function, we have to consider two cases: Elements of a list can be changed in place, i.e. the list will be changed even in the caller's scope. If a new list is assigned to the name, the old list will not be affected, i.e. the list in the caller's scope will remain untouched."
   ]
  },
  {
   "cell_type": "code",
   "execution_count": 12,
   "metadata": {},
   "outputs": [
    {
     "name": "stdout",
     "output_type": "stream",
     "text": [
      "25 10969568\n",
      "From Demo  :   25 10969568\n",
      "From Demo  :   4 10968896\n",
      "25 10969568\n"
     ]
    }
   ],
   "source": [
    "def demo(something):\n",
    "    print(\"From Demo  :  \", something, id(something))\n",
    "    something = 4\n",
    "    print(\"From Demo  :  \", something, id(something))\n",
    "    \n",
    "example = 25\n",
    "print(example, id(example))\n",
    "demo(example)\n",
    "print(example, id(example))"
   ]
  },
  {
   "cell_type": "markdown",
   "metadata": {},
   "source": [
    "The id() function, takes an object as a parameter. id(obj) returns the \"identity\" of the object \"obj\". This identity, the return value of the function, is an integer which is unique and constant for this object during its lifetime"
   ]
  },
  {
   "cell_type": "code",
   "execution_count": 15,
   "metadata": {},
   "outputs": [
    {
     "name": "stdout",
     "output_type": "stream",
     "text": [
      "[25, 4, 'hell', 'oh'] 140615981918920\n",
      "From Demo  :   [25, 4, 'hell', 'oh'] 140615981918920\n",
      "From Demo  :   [25, 4, 'hell', 'oh', 4, 24, 'Hell', 'No'] 140615981918920\n",
      "[25, 4, 'hell', 'oh', 4, 24, 'Hell', 'No'] 140615981918920\n"
     ]
    }
   ],
   "source": [
    "def demo(something):\n",
    "    print(\"From Demo  :  \", something, id(something))\n",
    "    #in-place concatenation\n",
    "    something += [4, 24, \"Hell\", \"No\"]\n",
    "    print(\"From Demo  :  \", something, id(something))\n",
    "\n",
    "\n",
    "example = [25, 4, \"hell\", \"oh\"]\n",
    "print(example, id(example))\n",
    "demo(example)\n",
    "print(example, id(example))"
   ]
  },
  {
   "cell_type": "markdown",
   "metadata": {},
   "source": [
    "Above can be prevented by passing copy of the list"
   ]
  },
  {
   "cell_type": "code",
   "execution_count": 16,
   "metadata": {},
   "outputs": [
    {
     "name": "stdout",
     "output_type": "stream",
     "text": [
      "[25, 4, 'hell', 'oh'] 140615981936904\n",
      "From Demo  :   [25, 4, 'hell', 'oh'] 140615981918920\n",
      "From Demo  :   [25, 4, 'hell', 'oh', 4, 24, 'Hell', 'No'] 140615981918920\n",
      "[25, 4, 'hell', 'oh'] 140615981936904\n"
     ]
    }
   ],
   "source": [
    "def demo(something):\n",
    "    print(\"From Demo  :  \", something, id(something))\n",
    "    #in-place concatenation\n",
    "    something += [4, 24, \"Hell\", \"No\"]\n",
    "    print(\"From Demo  :  \", something, id(something))\n",
    "\n",
    "\n",
    "example = [25, 4, \"hell\", \"oh\"]\n",
    "print(example, id(example))\n",
    "demo(example[:])\n",
    "print(example, id(example))"
   ]
  },
  {
   "cell_type": "markdown",
   "metadata": {},
   "source": [
    "### Global and Local Scope"
   ]
  },
  {
   "cell_type": "code",
   "execution_count": null,
   "metadata": {},
   "outputs": [],
   "source": [
    "# No Local variable in the scope of function f()\n",
    "\n",
    "def f(): \n",
    "    print(s)\n",
    "    \n",
    "\n",
    "s = \"Python\"\n",
    "f()"
   ]
  },
  {
   "cell_type": "code",
   "execution_count": null,
   "metadata": {},
   "outputs": [],
   "source": [
    "# Local variable s in the scope of function f() and out of the scope of f()\n",
    "\n",
    "def f(): \n",
    "    s = \"C++\"\n",
    "    print(s)\n",
    "    \n",
    "\n",
    "s = \"Python\"\n",
    "f()"
   ]
  },
  {
   "cell_type": "code",
   "execution_count": null,
   "metadata": {},
   "outputs": [],
   "source": [
    "s = \"Python\"\n",
    "f()\n",
    "print(s)"
   ]
  },
  {
   "cell_type": "code",
   "execution_count": null,
   "metadata": {},
   "outputs": [],
   "source": [
    "def f(): \n",
    "    print(s)\n",
    "    s = \"C++\"\n",
    "    print(s)\n",
    "\n",
    "\n",
    "s = \"Python\" \n",
    "f()\n",
    "print(s)"
   ]
  },
  {
   "cell_type": "markdown",
   "metadata": {},
   "source": [
    "The variable s is ambigious in f(), i.e. in the first print in f() the global s could be used with the value \"Python\". After this we define a local variable s with the assignment s = \"C++\""
   ]
  },
  {
   "cell_type": "code",
   "execution_count": null,
   "metadata": {},
   "outputs": [],
   "source": [
    "def f(): \n",
    "    global s\n",
    "    print(s)\n",
    "    s = \"C++\"\n",
    "    print(s)\n",
    "\n",
    "\n",
    "s = \"Python\" \n",
    "f()\n",
    "print(s)"
   ]
  },
  {
   "cell_type": "markdown",
   "metadata": {},
   "source": [
    "Variable s is made global inside the function f(). Therefore anything we do to s inside of the function body of f is done to the global variable s outside of f."
   ]
  },
  {
   "cell_type": "markdown",
   "metadata": {},
   "source": [
    "### Passing arbitrary number of Parameters\n",
    "\n",
    "The asterisk \"*\" is used in Python to define a variable number of arguments. The asterisk character has to precede a variable identifier in the parameter list."
   ]
  },
  {
   "cell_type": "code",
   "execution_count": null,
   "metadata": {},
   "outputs": [],
   "source": [
    "def return_product(*values):\n",
    "    prod = 1\n",
    "    for ele in values:\n",
    "        prod *= ele\n",
    "    \n",
    "    return prod\n",
    "\n",
    "lst = [2, 5, 8, 6]\n",
    "print(return_product(*lst))"
   ]
  },
  {
   "cell_type": "markdown",
   "metadata": {},
   "source": [
    "### Passing arbitrary number of keyword parameters"
   ]
  },
  {
   "cell_type": "code",
   "execution_count": 17,
   "metadata": {},
   "outputs": [
    {
     "name": "stdout",
     "output_type": "stream",
     "text": [
      "nlqqS NwNSf\n"
     ]
    }
   ],
   "source": [
    "def encrypt_message(sent, **kwargs):\n",
    "    new = \"\"\n",
    "    for char in sent:\n",
    "        if char in kwargs.keys():\n",
    "            new += kwargs[char]\n",
    "        else:\n",
    "            new += char\n",
    "    print(new)\n",
    "    \n",
    "from string import ascii_letters\n",
    "from random import sample\n",
    "\n",
    "alphabets = ascii_letters\n",
    "permuted_alphabets = sample(alphabets, len(alphabets))\n",
    "\n",
    "# Merges two list into an iterator instance\n",
    "# Dsicussed in detail later\n",
    "encrypt_dict = dict(zip(alphabets, permuted_alphabets))\n",
    "\n",
    "encrypt_message(\"hello idiot\", **encrypt_dict)"
   ]
  },
  {
   "cell_type": "markdown",
   "metadata": {},
   "source": [
    "**NOTE:** Function names are references to functions and that we can assign multiple names to the same function."
   ]
  },
  {
   "cell_type": "code",
   "execution_count": 45,
   "metadata": {},
   "outputs": [
    {
     "name": "stdout",
     "output_type": "stream",
     "text": [
      "Hello Harry\n",
      "Hello Ronald\n"
     ]
    }
   ],
   "source": [
    "say_hello = greetings\n",
    "\n",
    "greetings(\"Harry\")\n",
    "say_hello(\"Ronald\")"
   ]
  },
  {
   "cell_type": "markdown",
   "metadata": {},
   "source": [
    "And either of the reference can be deleted"
   ]
  },
  {
   "cell_type": "markdown",
   "metadata": {},
   "source": [
    "### Print formatting\n",
    "\n",
    "print(value1, ..., sep=' ', end='\\n', file=sys.stdout, flush=False)"
   ]
  },
  {
   "cell_type": "code",
   "execution_count": null,
   "metadata": {},
   "outputs": [],
   "source": [
    "print(\"Area : \", area_rectangle(100, 20))"
   ]
  },
  {
   "cell_type": "code",
   "execution_count": null,
   "metadata": {},
   "outputs": [],
   "source": [
    "print(\"Area\", area_rectangle(100, 20), sep='  :  ', end=' meter square\\n')"
   ]
  },
  {
   "cell_type": "code",
   "execution_count": null,
   "metadata": {},
   "outputs": [],
   "source": [
    "print(\"Area for length {} and bredth {}: {}\".format(100, 20, area_rectangle(100, 20)))\n",
    "print(\"Price of {0:5d} square feet land is Rs. {1:8.2f}\".format(area_rectangle(10, 20), 100020.50))"
   ]
  },
  {
   "cell_type": "code",
   "execution_count": null,
   "metadata": {},
   "outputs": [],
   "source": [
    "import sys\n",
    "\n",
    "# output into standard output\n",
    "print(\"Fine Output\", file=sys.stdout)\n",
    "\n",
    "# output into standard error\n",
    "print(\"System Error !!\", file=sys.stderr)"
   ]
  },
  {
   "cell_type": "markdown",
   "metadata": {},
   "source": [
    "## Conditional Execution\n",
    "A decision must be made when the script or program comes to a point where there is a selection of actions, i.e. different calculations from which to choose.\n",
    "\n",
    "The decision, in most cases, depends on the value of variables or arithmetic expressions. These expressions are evaluated using the Boolean True or False values. The instructions for decision making are called conditional statements.<br>"
   ]
  },
  {
   "cell_type": "code",
   "execution_count": null,
   "metadata": {},
   "outputs": [],
   "source": [
    "x = 100\n",
    "if x % 10 == 0:\n",
    "    pass  # Equivalent to do nothing\n",
    "#Must have atleast one statement inside the block"
   ]
  },
  {
   "cell_type": "code",
   "execution_count": null,
   "metadata": {},
   "outputs": [],
   "source": [
    "x = 0\n",
    "if x > 0:\n",
    "    print(\"Positive\")\n",
    "elif x < 0:\n",
    "    print(\"Negitive\")\n",
    "else:\n",
    "    pass"
   ]
  },
  {
   "cell_type": "markdown",
   "metadata": {},
   "source": [
    "#### Ternary if statement"
   ]
  },
  {
   "cell_type": "code",
   "execution_count": null,
   "metadata": {},
   "outputs": [],
   "source": [
    "inside_city_limits = True\n",
    "maximum_speed = 50 if inside_city_limits else 100\n",
    "print(maximum_speed)"
   ]
  },
  {
   "cell_type": "markdown",
   "metadata": {},
   "source": [
    "## Recursion\n",
    "\n",
    "Recursion is a method of programming or coding a problem, in which a function calls itself one or more times in its body. Usually, it is returning the return value of this function call. If a function definition satisfies the condition of recursion, we call this function a recursive function."
   ]
  },
  {
   "cell_type": "code",
   "execution_count": null,
   "metadata": {},
   "outputs": [],
   "source": [
    "import time  #built in module for time\n",
    "\n",
    "#Make sure to include base condition, otherwise the function will call itself infinitely.\n",
    "def countdown(n):\n",
    "    #Base condition or termination Condition\n",
    "    if n <= 0:\n",
    "        print(\"Go Go Go...!\")\n",
    "    else:\n",
    "        print(n)\n",
    "        time.sleep(1)\n",
    "        countdown(n-1)\n",
    "        \n",
    "countdown(3)"
   ]
  },
  {
   "cell_type": "markdown",
   "metadata": {},
   "source": [
    "## User-input\n",
    "\n",
    "The input of the user will be returned as a string without any changes. If this raw input has to be transformed into another data type needed by the algorithm, we can use either a casting function or the eval function."
   ]
  },
  {
   "cell_type": "code",
   "execution_count": null,
   "metadata": {},
   "outputs": [],
   "source": [
    "num = input(\"Enter a number: \")\n",
    "print(num, type(num))"
   ]
  },
  {
   "cell_type": "markdown",
   "metadata": {},
   "source": [
    "#### eval()\n",
    "The eval function evaluates the “String” like a python expression and returns the result as an integer."
   ]
  },
  {
   "cell_type": "code",
   "execution_count": null,
   "metadata": {},
   "outputs": [],
   "source": [
    "num = eval(input(\"Enter a number: \"))\n",
    "print(num, type(num))"
   ]
  },
  {
   "cell_type": "markdown",
   "metadata": {},
   "source": [
    "#### Explicit type-casting"
   ]
  },
  {
   "cell_type": "code",
   "execution_count": null,
   "metadata": {},
   "outputs": [],
   "source": [
    "#By default type of the entered input is string\n",
    "num = int(input(\"Enter a number: \"))\n",
    "#int() requires input string must contains digits only, if not then, it will prompt runtime error\n",
    "print(num, type(num))"
   ]
  },
  {
   "cell_type": "markdown",
   "metadata": {},
   "source": [
    "## Error Handling"
   ]
  },
  {
   "cell_type": "code",
   "execution_count": null,
   "metadata": {},
   "outputs": [],
   "source": [
    "try:\n",
    "    num = int(input(\"Enter a number between 0 and 9:\\t\")) # \\t is a special character for tab-space\n",
    "    if num % 2 == 0:\n",
    "        print(\"{} is Even\".format(num))\n",
    "    else:\n",
    "        print(\"{} is Odd\".format(num))\n",
    "except Exception as e:\n",
    "    print(e)"
   ]
  },
  {
   "cell_type": "markdown",
   "metadata": {},
   "source": [
    "## Assignment and Updation"
   ]
  },
  {
   "cell_type": "code",
   "execution_count": null,
   "metadata": {},
   "outputs": [],
   "source": [
    "c = 10"
   ]
  },
  {
   "cell_type": "code",
   "execution_count": null,
   "metadata": {},
   "outputs": [],
   "source": [
    "c = c + 10\n",
    "c"
   ]
  },
  {
   "cell_type": "code",
   "execution_count": null,
   "metadata": {},
   "outputs": [],
   "source": [
    "c += 10  #Verify for other operators\n",
    "#Another way to write formatted print statement\n",
    "print(\"Result is %d\" % (c))"
   ]
  },
  {
   "cell_type": "markdown",
   "metadata": {},
   "source": [
    "## Loop\n",
    "\n",
    "Many algorithms make it necessary for a programming language to have a construction which makes it possible to carry out a sequence of statements repeatedly. The code within the loop, i.e. the code carried out repeatedly, is called the body of the loop."
   ]
  },
  {
   "cell_type": "markdown",
   "metadata": {},
   "source": [
    "### While"
   ]
  },
  {
   "cell_type": "code",
   "execution_count": null,
   "metadata": {},
   "outputs": [],
   "source": [
    "n = 10\n",
    "while(n != 0):\n",
    "    print(n)\n",
    "    n -= 1\n",
    "print(\"Done..!\")"
   ]
  },
  {
   "cell_type": "markdown",
   "metadata": {},
   "source": [
    "#### break, continue, pass"
   ]
  },
  {
   "cell_type": "code",
   "execution_count": null,
   "metadata": {},
   "outputs": [],
   "source": [
    "#break: jump out of the loop\n",
    "n = 10\n",
    "while(n != 0):\n",
    "    if n >= 5:\n",
    "        print(n)\n",
    "    else:\n",
    "        break\n",
    "    n -= 1\n",
    "print(\"Done..!\")"
   ]
  },
  {
   "cell_type": "code",
   "execution_count": null,
   "metadata": {},
   "outputs": [],
   "source": [
    "#continue: to skip the following code for a particular iteration\n",
    "n = 10\n",
    "while(n != 0):\n",
    "    if n%3 == 0:\n",
    "        n -= 1\n",
    "        continue\n",
    "    print(n)\n",
    "    n -= 1\n",
    "print(\"Done..!\")\n",
    "\n",
    "#Try commenting n-=1 inside the if block; And see what happens"
   ]
  },
  {
   "cell_type": "code",
   "execution_count": null,
   "metadata": {},
   "outputs": [],
   "source": [
    "#pass: Do Nothing\n",
    "n = 10\n",
    "while(n != 0):\n",
    "    if n%3 == 0:\n",
    "        pass\n",
    "    else:\n",
    "        print(n)\n",
    "    n -= 1\n",
    "print(\"Done..!\")\n",
    "\n",
    "#Compare with execution of continue."
   ]
  },
  {
   "cell_type": "markdown",
   "metadata": {},
   "source": [
    "### for\n",
    "\n",
    "for loop is a programming language statement, i.e. an iteration statement, which allows a code block to be repeated a certain number of times."
   ]
  },
  {
   "cell_type": "code",
   "execution_count": null,
   "metadata": {},
   "outputs": [],
   "source": [
    "# Use help('range') to know more about the function\n",
    "language = [\"c\", \"C++\", \"JavaScript\", \"Python\"]\n",
    "for l in language:\n",
    "    print(l)"
   ]
  },
  {
   "cell_type": "markdown",
   "metadata": {},
   "source": [
    "#### range() function\n",
    "\n",
    "The built-in function range() is the right function to iterate over a sequence of numbers. It generates an iterator of arithmetic progressions"
   ]
  },
  {
   "cell_type": "code",
   "execution_count": null,
   "metadata": {},
   "outputs": [],
   "source": [
    "range(0,5)"
   ]
  },
  {
   "cell_type": "markdown",
   "metadata": {},
   "source": [
    "range(n) generates an iterator to progress the integer numbers starting with 0 and ending with (n -1). To produce the list with these numbers, we have to cast range() with the list(),"
   ]
  },
  {
   "cell_type": "code",
   "execution_count": null,
   "metadata": {},
   "outputs": [],
   "source": [
    "list(range(0, 5))"
   ]
  },
  {
   "cell_type": "code",
   "execution_count": null,
   "metadata": {},
   "outputs": [],
   "source": [
    "# range(begin,end, step)\n",
    "for i in range(0,10,2):\n",
    "    print(i)"
   ]
  },
  {
   "cell_type": "markdown",
   "metadata": {},
   "source": [
    "## Strings\n",
    "\n",
    "A string in Python consists of a series or sequence of characters - letters, numbers, and special characters. Strings can be subscripted or indexed. Similar to C, the first character of a string has the index 0."
   ]
  },
  {
   "cell_type": "code",
   "execution_count": null,
   "metadata": {},
   "outputs": [],
   "source": [
    "greetings = \"Hello Mr. President\""
   ]
  },
  {
   "cell_type": "code",
   "execution_count": null,
   "metadata": {},
   "outputs": [],
   "source": [
    "#multiline string\n",
    "#\\n --> new line\n",
    "multi = \"\"\" Hello, How are you?\n",
    "Hi, I am fine. Thank You.\"\"\"\n",
    "multi"
   ]
  },
  {
   "cell_type": "code",
   "execution_count": null,
   "metadata": {},
   "outputs": [],
   "source": [
    "#Accessing an element at any location. Index starts from 0 and goes upto length-1\n",
    "#Any exprsession or variable, resulting into integer can be used as an index\n",
    "greetings[4]"
   ]
  },
  {
   "cell_type": "code",
   "execution_count": null,
   "metadata": {},
   "outputs": [],
   "source": [
    "#Negitive Indexes\n",
    "greetings[-1]"
   ]
  },
  {
   "cell_type": "markdown",
   "metadata": {},
   "source": [
    "### Length of a string"
   ]
  },
  {
   "cell_type": "code",
   "execution_count": null,
   "metadata": {},
   "outputs": [],
   "source": [
    "#len() built-in function\n",
    "len(greetings)"
   ]
  },
  {
   "cell_type": "markdown",
   "metadata": {},
   "source": [
    "### Traversing a string"
   ]
  },
  {
   "cell_type": "code",
   "execution_count": null,
   "metadata": {},
   "outputs": [],
   "source": [
    "prefixes = 'JKLMNOP'\n",
    "suffix = \"ack\"\n",
    "for char in prefixes:\n",
    "    print(char+suffix)"
   ]
  },
  {
   "cell_type": "markdown",
   "metadata": {},
   "source": [
    "### String Sicing"
   ]
  },
  {
   "cell_type": "code",
   "execution_count": null,
   "metadata": {},
   "outputs": [],
   "source": [
    "#[n:m] :: nth character included and mth character excluded\n",
    "greetings[3:8]"
   ]
  },
  {
   "cell_type": "code",
   "execution_count": null,
   "metadata": {},
   "outputs": [],
   "source": [
    "greetings[:8]"
   ]
  },
  {
   "cell_type": "code",
   "execution_count": null,
   "metadata": {},
   "outputs": [],
   "source": [
    "greetings[3:]"
   ]
  },
  {
   "cell_type": "code",
   "execution_count": null,
   "metadata": {},
   "outputs": [],
   "source": [
    "#third arguement is step size\n",
    "greetings[0:10:2]\n",
    "#Check what negitive stepsize can do"
   ]
  },
  {
   "cell_type": "markdown",
   "metadata": {},
   "source": [
    "### Strings are immutable"
   ]
  },
  {
   "cell_type": "code",
   "execution_count": null,
   "metadata": {},
   "outputs": [],
   "source": [
    "#greetings[0] = 'F'"
   ]
  },
  {
   "cell_type": "markdown",
   "metadata": {},
   "source": [
    "### String Methods"
   ]
  },
  {
   "cell_type": "code",
   "execution_count": null,
   "metadata": {},
   "outputs": [],
   "source": [
    "string = 'TaDaa'"
   ]
  },
  {
   "cell_type": "code",
   "execution_count": null,
   "metadata": {},
   "outputs": [],
   "source": [
    "string.lower()"
   ]
  },
  {
   "cell_type": "code",
   "execution_count": null,
   "metadata": {},
   "outputs": [],
   "source": [
    "string.upper()"
   ]
  },
  {
   "cell_type": "code",
   "execution_count": null,
   "metadata": {},
   "outputs": [],
   "source": [
    "string.capitalize()"
   ]
  },
  {
   "cell_type": "code",
   "execution_count": null,
   "metadata": {},
   "outputs": [],
   "source": [
    "string.find('a')"
   ]
  },
  {
   "cell_type": "code",
   "execution_count": null,
   "metadata": {},
   "outputs": [],
   "source": [
    "string.replace('a', 'o')"
   ]
  },
  {
   "cell_type": "code",
   "execution_count": null,
   "metadata": {},
   "outputs": [],
   "source": [
    "#Removes extra space from left and right\n",
    "#check out for rstrip and lstrip\n",
    "'  Hello. '.strip()"
   ]
  },
  {
   "cell_type": "markdown",
   "metadata": {},
   "source": [
    "Check out more at  https://docs.python.org/3/library/stdtypes.html#string-methods"
   ]
  },
  {
   "cell_type": "markdown",
   "metadata": {},
   "source": [
    "## List\n",
    "Lists are a sequence of values and related to arrays of programming languages like C, C++ or Java, but Python lists are by far more flexible and powerful than \"classical\" arrays. For example, not all the items in a list need to have the same type. Furthermore, lists can grow in a program run, while in C the size of an array has to be fixed at compile time. . Element in a list can be of any type. <br>\n",
    "Lists are comma serpared values enclosed ina Square brackets."
   ]
  },
  {
   "cell_type": "code",
   "execution_count": null,
   "metadata": {},
   "outputs": [],
   "source": [
    "student = ['Rohan', 20, 8.5, True, ['Football', 'Table Tennis']]\n",
    "student"
   ]
  },
  {
   "cell_type": "code",
   "execution_count": null,
   "metadata": {},
   "outputs": [],
   "source": [
    "#Empty List\n",
    "[]"
   ]
  },
  {
   "cell_type": "code",
   "execution_count": null,
   "metadata": {},
   "outputs": [],
   "source": [
    "#Another way to create. using built-in function\n",
    "l = list()\n",
    "type(l)"
   ]
  },
  {
   "cell_type": "code",
   "execution_count": null,
   "metadata": {},
   "outputs": [],
   "source": [
    "#List element are accessing is similar to accessing characters in string\n",
    "student[3]"
   ]
  },
  {
   "cell_type": "markdown",
   "metadata": {},
   "source": [
    "### Length of a list"
   ]
  },
  {
   "cell_type": "code",
   "execution_count": null,
   "metadata": {},
   "outputs": [],
   "source": [
    "len(student)"
   ]
  },
  {
   "cell_type": "markdown",
   "metadata": {},
   "source": [
    "### Lists are mutable"
   ]
  },
  {
   "cell_type": "code",
   "execution_count": null,
   "metadata": {},
   "outputs": [],
   "source": [
    "student[1] = 21\n",
    "student"
   ]
  },
  {
   "cell_type": "markdown",
   "metadata": {},
   "source": [
    "### List traversing"
   ]
  },
  {
   "cell_type": "code",
   "execution_count": null,
   "metadata": {},
   "outputs": [],
   "source": [
    "for elem in student:\n",
    "    print(elem)"
   ]
  },
  {
   "cell_type": "markdown",
   "metadata": {},
   "source": [
    "### List Operation"
   ]
  },
  {
   "cell_type": "code",
   "execution_count": null,
   "metadata": {},
   "outputs": [],
   "source": [
    "#Concatenation\n",
    "[1,2,3]+[4,5,6]"
   ]
  },
  {
   "cell_type": "code",
   "execution_count": null,
   "metadata": {},
   "outputs": [],
   "source": [
    "#Repetition\n",
    "[1,2,3]*5"
   ]
  },
  {
   "cell_type": "markdown",
   "metadata": {},
   "source": [
    "### List Slicing"
   ]
  },
  {
   "cell_type": "code",
   "execution_count": null,
   "metadata": {},
   "outputs": [],
   "source": [
    "lst = [1,2,3]*5\n",
    "lst[4:9]"
   ]
  },
  {
   "cell_type": "code",
   "execution_count": null,
   "metadata": {},
   "outputs": [],
   "source": [
    "lst[8:]"
   ]
  },
  {
   "cell_type": "code",
   "execution_count": null,
   "metadata": {},
   "outputs": [],
   "source": [
    "lst[:8]"
   ]
  },
  {
   "cell_type": "markdown",
   "metadata": {},
   "source": [
    "### List-methods"
   ]
  },
  {
   "cell_type": "code",
   "execution_count": null,
   "metadata": {},
   "outputs": [],
   "source": [
    "#Adding an element to the end of the list\n",
    "student.append(['Python', 'C++'])\n",
    "student"
   ]
  },
  {
   "cell_type": "code",
   "execution_count": null,
   "metadata": {},
   "outputs": [],
   "source": [
    "#Appending all the elements of another list\n",
    "student.extend([180, 85])\n",
    "student"
   ]
  },
  {
   "cell_type": "code",
   "execution_count": null,
   "metadata": {},
   "outputs": [],
   "source": [
    "#The method \"index\" can be used to find the position of an element within a list\n",
    "print(student.index(['Football', 'Table Tennis']))\n",
    "\n",
    "#It returns the first index of the value x. A ValueError will be raised, if the value is not present. \n",
    "#If the optional parameter i is given, the search will start at the index i. If j is also given, the search will stop at position j."
   ]
  },
  {
   "cell_type": "code",
   "execution_count": null,
   "metadata": {},
   "outputs": [],
   "source": [
    "print(student.index(['Football', 'Table Tennis'], 0, 5))"
   ]
  },
  {
   "cell_type": "code",
   "execution_count": null,
   "metadata": {},
   "outputs": [],
   "source": [
    "# insert method is used to add elements to arbitrary positions inside of a list\n",
    "student.insert(3, 'A+')\n",
    "student"
   ]
  },
  {
   "cell_type": "code",
   "execution_count": null,
   "metadata": {},
   "outputs": [],
   "source": [
    "#Inplace sorting\n",
    "#sort arranges in ascending order\n",
    "name = ['j', 'o', 'h', 'n']\n",
    "name.sort()\n",
    "name\n",
    "#There is another method 'sorted'. Explore!\n",
    "#Check what happens, name = name.sort()"
   ]
  },
  {
   "cell_type": "markdown",
   "metadata": {},
   "source": [
    "Check out more at  https://docs.python.org/3/library/stdtypes.html#mutable-sequence-types"
   ]
  },
  {
   "cell_type": "markdown",
   "metadata": {},
   "source": [
    "### List Comprehension"
   ]
  },
  {
   "cell_type": "code",
   "execution_count": null,
   "metadata": {},
   "outputs": [],
   "source": [
    "[elem for elem in lst if elem % 2 != 0]"
   ]
  },
  {
   "cell_type": "markdown",
   "metadata": {},
   "source": [
    "### Deleting elements"
   ]
  },
  {
   "cell_type": "code",
   "execution_count": null,
   "metadata": {},
   "outputs": [],
   "source": [
    "#'pop' returns the (i)th element of a list \"lst\". The element will be removed from the list as well.\n",
    "ele_pop = student.pop(-3)\n",
    "student, ele_pop\n",
    "# The method 'pop' raises an IndexError exception, if the list is empty or the index is out of range.\n",
    "# The method 'pop' can be called without an argument. In this case, the last element will be returned. "
   ]
  },
  {
   "cell_type": "code",
   "execution_count": null,
   "metadata": {},
   "outputs": [],
   "source": [
    "#Using del\n",
    "del lst[3]\n",
    "lst"
   ]
  },
  {
   "cell_type": "code",
   "execution_count": null,
   "metadata": {},
   "outputs": [],
   "source": [
    "del lst[3:]\n",
    "lst"
   ]
  },
  {
   "cell_type": "code",
   "execution_count": null,
   "metadata": {},
   "outputs": [],
   "source": [
    "#returns None\n",
    "student.remove(True)\n",
    "student"
   ]
  },
  {
   "cell_type": "markdown",
   "metadata": {},
   "source": [
    "### List and String"
   ]
  },
  {
   "cell_type": "code",
   "execution_count": null,
   "metadata": {},
   "outputs": [],
   "source": [
    "#string in list of character\n",
    "list(greetings)"
   ]
  },
  {
   "cell_type": "code",
   "execution_count": null,
   "metadata": {},
   "outputs": [],
   "source": [
    "#String to list of words\n",
    "#can also split on any character/special-symbol, check documentation\n",
    "greetings.split()"
   ]
  },
  {
   "cell_type": "code",
   "execution_count": null,
   "metadata": {},
   "outputs": [],
   "source": [
    "#joing list of strings into a sentence\n",
    "#string method\n",
    "' & '.join(student[3])"
   ]
  },
  {
   "cell_type": "markdown",
   "metadata": {},
   "source": [
    "### Interesting List  Excercise "
   ]
  },
  {
   "cell_type": "code",
   "execution_count": null,
   "metadata": {},
   "outputs": [],
   "source": [
    "lst1 = [1,2,3]\n",
    "lst2 = lst1"
   ]
  },
  {
   "cell_type": "code",
   "execution_count": null,
   "metadata": {},
   "outputs": [],
   "source": [
    "lst1"
   ]
  },
  {
   "cell_type": "code",
   "execution_count": null,
   "metadata": {},
   "outputs": [],
   "source": [
    "lst2"
   ]
  },
  {
   "cell_type": "code",
   "execution_count": null,
   "metadata": {},
   "outputs": [],
   "source": [
    "lst2[1] = 0"
   ]
  },
  {
   "cell_type": "code",
   "execution_count": null,
   "metadata": {},
   "outputs": [],
   "source": [
    "lst1"
   ]
  },
  {
   "cell_type": "code",
   "execution_count": null,
   "metadata": {},
   "outputs": [],
   "source": [
    "lst2"
   ]
  },
  {
   "cell_type": "markdown",
   "metadata": {},
   "source": [
    "Let's see, what has happened in detail in the previous lines of code. We assigned a new value to the second element of lst2, i.e. the element with the index 1. The list of lst1 has been \"automatically\" changed as well beca use we don't have two lists: We have only two names for the same list!<br>\n",
    "\n",
    "The explanation is that we didn't assign a new object to lst2. We changed lst2 inside or as it is usually called \"in-place\". Both variables \"lst1\" and \"lst2\" still point to the same list object.<br>\n",
    "The above problem is known as **shallow copy**."
   ]
  },
  {
   "cell_type": "code",
   "execution_count": null,
   "metadata": {},
   "outputs": [],
   "source": [
    "id(lst1), id(lst2)"
   ]
  },
  {
   "cell_type": "code",
   "execution_count": null,
   "metadata": {},
   "outputs": [],
   "source": [
    "# Solution to shallow copy :: deep copy\n",
    "from copy import deepcopy\n",
    "lst1 = [1,2,3]\n",
    "lst2 = deepcopy(lst1)\n",
    "print(lst1)\n",
    "print(lst2)\n",
    "print(id(lst1), id(lst2))\n",
    "\n",
    "lst2[1] = 0\n",
    "print(lst1)\n",
    "print(lst2)"
   ]
  },
  {
   "cell_type": "markdown",
   "metadata": {},
   "source": [
    "## Dictionaries\n",
    "<br>\n",
    "Dictionaries are the Python implementation of an associative array. Associative arrays/Dictionaries consist of (key, value) pairs, such that each possible key appears at most once in the collection. Any key of the dictionary is associated (or mapped) to a value. The values of a dictionary can be any type of Python data. So, dictionaries are unordered key-value-pairs. Dictionaries are implemented as hash tables.<br>\n",
    "Key must be something immutable (integers, floats, strings, tuples) and Value could be anything."
   ]
  },
  {
   "cell_type": "code",
   "execution_count": null,
   "metadata": {},
   "outputs": [],
   "source": [
    "#Empty Dictionary\n",
    "eng2hnd = {}\n",
    "eng2hnd"
   ]
  },
  {
   "cell_type": "code",
   "execution_count": null,
   "metadata": {},
   "outputs": [],
   "source": [
    "type(eng2hnd)"
   ]
  },
  {
   "cell_type": "code",
   "execution_count": null,
   "metadata": {},
   "outputs": [],
   "source": [
    "#key:value\n",
    "#Every element in the dictionary is inthe form of key-value pair\n",
    "eng2hnd = {'one':'ek', 'two':'do', 'three':'teen', 'four':'chaar'}\n",
    "eng2hnd"
   ]
  },
  {
   "cell_type": "code",
   "execution_count": null,
   "metadata": {},
   "outputs": [],
   "source": [
    "#adding a new item in the dictionary\n",
    "eng2hnd['five'] = 'paanch'\n",
    "eng2hnd"
   ]
  },
  {
   "cell_type": "code",
   "execution_count": null,
   "metadata": {},
   "outputs": [],
   "source": [
    "#Another way to create. using built-in function\n",
    "d = dict()\n",
    "type(d)"
   ]
  },
  {
   "cell_type": "markdown",
   "metadata": {},
   "source": [
    "The order of the key-value pair might not be same in the dictionary. Do you think this can create problem? Yes/No. Why?"
   ]
  },
  {
   "cell_type": "markdown",
   "metadata": {},
   "source": [
    "Keys of a dictionary are unique. In casse a keys is defined multiple times, the value of the last \"wins\""
   ]
  },
  {
   "cell_type": "code",
   "execution_count": null,
   "metadata": {},
   "outputs": [],
   "source": [
    "eng2hnd['five'] = 'paach'\n",
    "eng2hnd"
   ]
  },
  {
   "cell_type": "markdown",
   "metadata": {},
   "source": [
    "### length of a Dictionary"
   ]
  },
  {
   "cell_type": "code",
   "execution_count": null,
   "metadata": {},
   "outputs": [],
   "source": [
    "len(eng2hnd)"
   ]
  },
  {
   "cell_type": "code",
   "execution_count": null,
   "metadata": {},
   "outputs": [],
   "source": [
    "#To check whether something is key in a dictionary keys or not\n",
    "'one' in eng2hnd"
   ]
  },
  {
   "cell_type": "code",
   "execution_count": null,
   "metadata": {},
   "outputs": [],
   "source": [
    "#To check whether something is key in a dictionary values or not\n",
    "'uno' in eng2hnd.values()"
   ]
  },
  {
   "cell_type": "markdown",
   "metadata": {},
   "source": [
    "### Traversing a dictionary"
   ]
  },
  {
   "cell_type": "code",
   "execution_count": null,
   "metadata": {},
   "outputs": [],
   "source": [
    "for key in eng2hnd:\n",
    "    print(key, eng2hnd[key])"
   ]
  },
  {
   "cell_type": "code",
   "execution_count": null,
   "metadata": {},
   "outputs": [],
   "source": [
    "for key in eng2hnd.keys():\n",
    "    print(key)"
   ]
  },
  {
   "cell_type": "code",
   "execution_count": null,
   "metadata": {},
   "outputs": [],
   "source": [
    "for val in eng2hnd.values():\n",
    "    print(val)"
   ]
  },
  {
   "cell_type": "code",
   "execution_count": null,
   "metadata": {},
   "outputs": [],
   "source": [
    "for key, val in eng2hnd.items():\n",
    "    print(key, val)"
   ]
  },
  {
   "cell_type": "markdown",
   "metadata": {},
   "source": [
    "### Clearing a Dictionary"
   ]
  },
  {
   "cell_type": "code",
   "execution_count": null,
   "metadata": {},
   "outputs": [],
   "source": [
    "eng2hnd.clear()\n",
    "print(eng2hnd)"
   ]
  },
  {
   "cell_type": "markdown",
   "metadata": {},
   "source": [
    "### Concatenating or Merging 2 dictionaries\n",
    "\n",
    "The update method update() merges the keys and values of one dictionary into another, overwriting values of the same key"
   ]
  },
  {
   "cell_type": "code",
   "execution_count": null,
   "metadata": {},
   "outputs": [],
   "source": [
    "knowledge = {\"Frank\": {\"Java\"}, \"Monica\":{\"C\",\"C++\"}}\n",
    "knowledge2 = {\"Guido\":{\"Python\"}, \"Frank\":{\"Perl\", \"Python\"}}\n",
    "knowledge.update(knowledge2)\n",
    "knowledge"
   ]
  },
  {
   "cell_type": "markdown",
   "metadata": {},
   "source": [
    "Check more on dictionaries at https://docs.python.org/3/library/stdtypes.html#dict"
   ]
  },
  {
   "cell_type": "markdown",
   "metadata": {},
   "source": [
    "## Tuples\n",
    "<br>\n",
    "A tuple is an immutable list, i.e. a tuple cannot be changed in any way, once it has been created. A tuple is defined analogously to lists, except the set of elements is enclosed in parentheses instead of square brackets. The rules for indices are the same as for lists. Once a tuple has been created, you can't add elements to a tuple or remove elements from a tuple."
   ]
  },
  {
   "cell_type": "code",
   "execution_count": null,
   "metadata": {},
   "outputs": [],
   "source": [
    "tup = ('a', 'b', 'c', 'd')\n",
    "tup"
   ]
  },
  {
   "cell_type": "code",
   "execution_count": null,
   "metadata": {},
   "outputs": [],
   "source": [
    "type(tup)"
   ]
  },
  {
   "cell_type": "code",
   "execution_count": null,
   "metadata": {},
   "outputs": [],
   "source": [
    "#Not necesasry to enclose in a paranthesis\n",
    "tup = 'a', 'b', 'c', 'd'\n",
    "tup"
   ]
  },
  {
   "cell_type": "code",
   "execution_count": null,
   "metadata": {},
   "outputs": [],
   "source": [
    "#Another way to create. using built-in function\n",
    "t = tuple()\n",
    "type(t)"
   ]
  },
  {
   "cell_type": "code",
   "execution_count": null,
   "metadata": {},
   "outputs": [],
   "source": [
    "#Accessing values of tuple\n",
    "tup[2]"
   ]
  },
  {
   "cell_type": "markdown",
   "metadata": {},
   "source": [
    "### Length of a tuple"
   ]
  },
  {
   "cell_type": "code",
   "execution_count": null,
   "metadata": {},
   "outputs": [],
   "source": [
    "len(tup)"
   ]
  },
  {
   "cell_type": "markdown",
   "metadata": {},
   "source": [
    "### Tuple Slicing"
   ]
  },
  {
   "cell_type": "code",
   "execution_count": null,
   "metadata": {},
   "outputs": [],
   "source": [
    "tup[1:3]"
   ]
  },
  {
   "cell_type": "code",
   "execution_count": null,
   "metadata": {},
   "outputs": [],
   "source": [
    "tup[:2]"
   ]
  },
  {
   "cell_type": "code",
   "execution_count": null,
   "metadata": {},
   "outputs": [],
   "source": [
    "tup[1:]"
   ]
  },
  {
   "cell_type": "markdown",
   "metadata": {},
   "source": [
    "### Tuple Operations"
   ]
  },
  {
   "cell_type": "code",
   "execution_count": null,
   "metadata": {},
   "outputs": [],
   "source": [
    "tup = tup + ('e', 'f', 'g')\n",
    "tup"
   ]
  },
  {
   "cell_type": "code",
   "execution_count": null,
   "metadata": {},
   "outputs": [],
   "source": [
    "tup * 2"
   ]
  },
  {
   "cell_type": "markdown",
   "metadata": {},
   "source": [
    "### Return Multiple values"
   ]
  },
  {
   "cell_type": "code",
   "execution_count": null,
   "metadata": {},
   "outputs": [],
   "source": [
    "#Following from function\n",
    "type(operations(10, 2))"
   ]
  },
  {
   "cell_type": "code",
   "execution_count": null,
   "metadata": {},
   "outputs": [],
   "source": [
    "#built-in function returning multiple values\n",
    "divmod(25,4)"
   ]
  },
  {
   "cell_type": "markdown",
   "metadata": {},
   "source": [
    "### List, Tuple, and Dictionary"
   ]
  },
  {
   "cell_type": "code",
   "execution_count": null,
   "metadata": {},
   "outputs": [],
   "source": [
    "#enumerate: travels elemnts and its indices together.\n",
    "#For every item returns tuple of 2 item, index and the element itself\n",
    "lst = list(enumerate('abcde'))\n",
    "lst"
   ]
  },
  {
   "cell_type": "code",
   "execution_count": null,
   "metadata": {},
   "outputs": [],
   "source": [
    "dct = dict(lst)\n",
    "dct"
   ]
  },
  {
   "cell_type": "markdown",
   "metadata": {},
   "source": [
    "Check out more on Tuples at https://docs.python.org/3/tutorial/datastructures.html#tuples-and-sequences"
   ]
  },
  {
   "cell_type": "markdown",
   "metadata": {},
   "source": [
    "## Set\n",
    "\n",
    "A set contains an unordered collection of unique and immutable objects. The set data type is, as the name implies, a Python implementation of the sets as they are known from mathematics. This explains, why sets unlike lists or tuples can't have multiple occurrences of the same element.<br>\n",
    "Create a set by calling the built-in set function with a sequence or another iterable object:"
   ]
  },
  {
   "cell_type": "code",
   "execution_count": null,
   "metadata": {},
   "outputs": [],
   "source": [
    "x = set([\"Perl\", \"Python\", \"Java\"])\n",
    "x, type(x)"
   ]
  },
  {
   "cell_type": "code",
   "execution_count": null,
   "metadata": {},
   "outputs": [],
   "source": [
    "x = {\"Perl\", \"Python\", \"Java\"}\n",
    "x, type(x)"
   ]
  },
  {
   "cell_type": "code",
   "execution_count": null,
   "metadata": {},
   "outputs": [],
   "source": [
    "cities = set((\"Paris\", \"Mumbai\", \"London\",\"Berlin\",\"Paris\",\"New York\"))\n",
    "cities"
   ]
  },
  {
   "cell_type": "markdown",
   "metadata": {},
   "source": [
    "No doubles occur in the resulting set of cities."
   ]
  },
  {
   "cell_type": "markdown",
   "metadata": {},
   "source": [
    "### Set Operation"
   ]
  },
  {
   "cell_type": "markdown",
   "metadata": {},
   "source": [
    "#### add()\n",
    "A method which adds an element to a set."
   ]
  },
  {
   "cell_type": "code",
   "execution_count": null,
   "metadata": {},
   "outputs": [],
   "source": [
    "colours = {\"red\",\"green\"}\n",
    "print(colours)\n",
    "colours.add(\"yellow\")\n",
    "print(colours)"
   ]
  },
  {
   "cell_type": "markdown",
   "metadata": {},
   "source": [
    "#### clear()\n",
    "\n",
    "All elements will be removed from a set."
   ]
  },
  {
   "cell_type": "code",
   "execution_count": null,
   "metadata": {},
   "outputs": [],
   "source": [
    "cities = {\"Mumbai\", \"Delhi\", \"Bangalore\"}\n",
    "cities.clear()\n",
    "cities"
   ]
  },
  {
   "cell_type": "markdown",
   "metadata": {},
   "source": [
    "#### difference()\n",
    "\n",
    "This method returns the difference of two or more sets as a new set."
   ]
  },
  {
   "cell_type": "code",
   "execution_count": null,
   "metadata": {},
   "outputs": [],
   "source": [
    "x = {\"a\",\"b\",\"c\",\"d\",\"e\"}\n",
    "y = {\"b\",\"c\"}\n",
    "z = {\"c\",\"f\"}\n",
    "print(x.difference(y)) \n",
    "print(x - z)"
   ]
  },
  {
   "cell_type": "markdown",
   "metadata": {},
   "source": [
    "#### union(s)\n",
    "\n",
    "This method returns the union of two sets as a new set, i.e. all elements that are in either set."
   ]
  },
  {
   "cell_type": "code",
   "execution_count": null,
   "metadata": {},
   "outputs": [],
   "source": [
    "print(x.union(z))"
   ]
  },
  {
   "cell_type": "markdown",
   "metadata": {},
   "source": [
    "#### intersection(s)\n",
    "\n",
    "Returns the intersection of the instance set and the set s as a new set. In other words, a set with all the elements which are contained in both sets is returned."
   ]
  },
  {
   "cell_type": "code",
   "execution_count": null,
   "metadata": {},
   "outputs": [],
   "source": [
    "print(x.intersection(y))"
   ]
  },
  {
   "cell_type": "markdown",
   "metadata": {},
   "source": [
    "Check out more on Sets at https://docs.python.org/3/tutorial/datastructures.html#sets"
   ]
  },
  {
   "cell_type": "markdown",
   "metadata": {},
   "source": [
    "### zip() function\n",
    "Merges two list into an iterator instance, which can later be converted into dictionaries."
   ]
  },
  {
   "cell_type": "code",
   "execution_count": 33,
   "metadata": {},
   "outputs": [],
   "source": [
    "dishes = [\"pizza\", \"samosa\", \"tacos\", \"hamburger\"]\n",
    "countries = [\"Italy\", \"India\", \"Mexico\", \"USA\"]"
   ]
  },
  {
   "cell_type": "code",
   "execution_count": 34,
   "metadata": {},
   "outputs": [
    {
     "data": {
      "text/plain": [
       "<zip at 0x7fe3b5436448>"
      ]
     },
     "execution_count": 34,
     "metadata": {},
     "output_type": "execute_result"
    }
   ],
   "source": [
    "country_specialities_iterator = zip(countries, dishes)\n",
    "country_specialities_iterator"
   ]
  },
  {
   "cell_type": "code",
   "execution_count": 35,
   "metadata": {},
   "outputs": [
    {
     "name": "stdout",
     "output_type": "stream",
     "text": [
      "('pizza', 'Italy')\n",
      "('samosa', 'India')\n",
      "('tacos', 'Mexico')\n",
      "('hamburger', 'USA')\n"
     ]
    }
   ],
   "source": [
    "for elem in zip(dishes, countries):\n",
    "    print(elem)"
   ]
  },
  {
   "cell_type": "code",
   "execution_count": 36,
   "metadata": {},
   "outputs": [
    {
     "data": {
      "text/plain": [
       "[('Italy', 'pizza'),\n",
       " ('India', 'samosa'),\n",
       " ('Mexico', 'tacos'),\n",
       " ('USA', 'hamburger')]"
      ]
     },
     "execution_count": 36,
     "metadata": {},
     "output_type": "execute_result"
    }
   ],
   "source": [
    "#  list of two-tuples, where the first components are seen as keys and the second components as values\n",
    "country_specialities_list = list(country_specialities_iterator)\n",
    "country_specialities_list"
   ]
  },
  {
   "cell_type": "code",
   "execution_count": 37,
   "metadata": {},
   "outputs": [
    {
     "name": "stdout",
     "output_type": "stream",
     "text": [
      "Italy pizza\n",
      "India samosa\n",
      "Mexico tacos\n",
      "USA hamburger\n"
     ]
    }
   ],
   "source": [
    "#Iterating over 2 lists simultaneously\n",
    "for country, dish in zip(countries, dishes):\n",
    "    print(country, dish)"
   ]
  },
  {
   "cell_type": "code",
   "execution_count": 38,
   "metadata": {},
   "outputs": [
    {
     "name": "stdout",
     "output_type": "stream",
     "text": [
      "{'Italy': 'pizza', 'India': 'samosa', 'Mexico': 'tacos', 'USA': 'hamburger'}\n"
     ]
    }
   ],
   "source": [
    "country_specialities_dict = dict(country_specialities_list)\n",
    "print(country_specialities_dict)"
   ]
  },
  {
   "cell_type": "code",
   "execution_count": 39,
   "metadata": {},
   "outputs": [
    {
     "data": {
      "text/plain": [
       "{}"
      ]
     },
     "execution_count": 39,
     "metadata": {},
     "output_type": "execute_result"
    }
   ],
   "source": [
    "dict(country_specialities_iterator) "
   ]
  },
  {
   "cell_type": "markdown",
   "metadata": {},
   "source": [
    "You have to keep in mind that iterators exhaust themselves, if they are used. Therefore, I have declared dishes and countries again."
   ]
  },
  {
   "cell_type": "code",
   "execution_count": 40,
   "metadata": {},
   "outputs": [
    {
     "data": {
      "text/plain": [
       "{'Italy': 'pizza',\n",
       " 'Germany': 'sauerkraut',\n",
       " 'Spain': 'paella',\n",
       " 'USA': 'hamburger'}"
      ]
     },
     "execution_count": 40,
     "metadata": {},
     "output_type": "execute_result"
    }
   ],
   "source": [
    "#An easy alternative to convert 2 list into a dictionary without converting them into list of tuples\n",
    "dishes = [\"pizza\", \"sauerkraut\", \"paella\", \"hamburger\"]\n",
    "countries = [\"Italy\", \"Germany\", \"Spain\", \"USA\"]\n",
    "dict(zip(countries, dishes)) "
   ]
  },
  {
   "cell_type": "markdown",
   "metadata": {},
   "source": [
    "**NOTE:**\n",
    "\n",
    "1. All the above examples for zip considers only 2 iterables (list, in our examples), but zip can have an arbitrary number of iterable arguments.\n",
    "\n",
    "2. The use of zip is not restricted to lists and tuples. It can be applied to all iterable objects like lists, tuples, strings, dictionaries, sets, range and many more.\n",
    "\n",
    "3. If the Lengths of iterables are different, zip will stop producing an output as soon as one of the argument sequences is exhausted."
   ]
  },
  {
   "cell_type": "markdown",
   "metadata": {},
   "source": [
    "#### Another usage of zip"
   ]
  },
  {
   "cell_type": "code",
   "execution_count": 41,
   "metadata": {},
   "outputs": [
    {
     "name": "stdout",
     "output_type": "stream",
     "text": [
      "('Mumbai', 'Delhi', 'Chennai', 'Kolkata', 'Bangalore', 'Hyderabad')\n",
      "(415367, 201818, 177654, 139111, 133883, 111851)\n"
     ]
    }
   ],
   "source": [
    "cities_and_population = [(\"Mumbai\", 415367),\n",
    "                         (\"Delhi\", 201818),\n",
    "                         (\"Chennai\", 177654),\n",
    "                         (\"Kolkata\", 139111),\n",
    "                         (\"Bangalore\", 133883),\n",
    "                         (\"Hyderabad\", 111851)]\n",
    "\n",
    "# * operator is used here to unpack the list\n",
    "cities, population = list(zip(*cities_and_population))\n",
    "print(cities)\n",
    "print(population)"
   ]
  },
  {
   "cell_type": "markdown",
   "metadata": {},
   "source": [
    "## File I/O"
   ]
  },
  {
   "cell_type": "code",
   "execution_count": null,
   "metadata": {},
   "outputs": [],
   "source": [
    "#open a file\n",
    "#open(filename, mode)\n",
    "#r - read\n",
    "#w - write\n",
    "file_object = open('../pythonFiles/script.py', 'r')\n",
    "file_object"
   ]
  },
  {
   "cell_type": "code",
   "execution_count": null,
   "metadata": {},
   "outputs": [],
   "source": [
    "#Reads the entire file and return the result as a string\n",
    "file_object.read()"
   ]
  },
  {
   "cell_type": "code",
   "execution_count": null,
   "metadata": {},
   "outputs": [],
   "source": [
    "#reads the file until it encounters newline character and returns the result as a string\n",
    "file_object.readline()"
   ]
  },
  {
   "cell_type": "code",
   "execution_count": null,
   "metadata": {},
   "outputs": [],
   "source": [
    "file_object.close()"
   ]
  },
  {
   "cell_type": "code",
   "execution_count": null,
   "metadata": {},
   "outputs": [],
   "source": [
    "#If file already exists, opening in the write mode clears all the previous content.\n",
    "#If the file doesn't exist, creates a new one.\n",
    "#The arguement of write has to be string\n",
    "fobj = open('hello.txt', 'w')\n",
    "fobj.write(\"Hello\\n\")\n",
    "fobj.write(\"Welcome to area %d.\\n\" % (51))\n",
    "fobj.close()"
   ]
  },
  {
   "cell_type": "code",
   "execution_count": null,
   "metadata": {},
   "outputs": [],
   "source": [
    "#explore other modes\n",
    "help('open')"
   ]
  },
  {
   "cell_type": "code",
   "execution_count": null,
   "metadata": {},
   "outputs": [],
   "source": [
    "#Another way to open a file using with keyword.\n",
    "#File automatically gets closed, once you come out of the with block\n",
    "with open('hello.txt', 'r') as fobj:\n",
    "    for line in fobj:\n",
    "        print(line.strip())"
   ]
  },
  {
   "cell_type": "markdown",
   "metadata": {},
   "source": [
    "## os and sys module\n",
    "<br>\n",
    "os module : https://docs.python.org/3/library/os.html#module-os <br>\n",
    "sys module : https://docs.python.org/3/library/sys.html"
   ]
  },
  {
   "cell_type": "code",
   "execution_count": null,
   "metadata": {},
   "outputs": [],
   "source": [
    "import os"
   ]
  },
  {
   "cell_type": "code",
   "execution_count": null,
   "metadata": {},
   "outputs": [],
   "source": [
    "#returns path of the current working directory\n",
    "cwd = os.getcwd()\n",
    "print(cwd)"
   ]
  },
  {
   "cell_type": "code",
   "execution_count": null,
   "metadata": {},
   "outputs": [],
   "source": [
    "#get the absolute path of a file\n",
    "os.path.abspath('hello.txt')"
   ]
  },
  {
   "cell_type": "code",
   "execution_count": null,
   "metadata": {},
   "outputs": [],
   "source": [
    "#check whether file or directory exists\n",
    "os.path.exists('script.py')"
   ]
  },
  {
   "cell_type": "code",
   "execution_count": null,
   "metadata": {},
   "outputs": [],
   "source": [
    "#checks whether it's directory\n",
    "#'isfile' checks whether file or not\n",
    "os.path.isdir('./../CS242')"
   ]
  },
  {
   "cell_type": "code",
   "execution_count": null,
   "metadata": {},
   "outputs": [],
   "source": [
    "os.listdir()"
   ]
  },
  {
   "cell_type": "code",
   "execution_count": null,
   "metadata": {},
   "outputs": [],
   "source": [
    "path = os.path.join(cwd, 'script.py')\n",
    "path"
   ]
  },
  {
   "cell_type": "code",
   "execution_count": null,
   "metadata": {},
   "outputs": [],
   "source": [
    "#to execute commands from the python program\n",
    "# check this link  https://docs.python.org/3/library/os.html#os.system\n",
    "os.system('ls -la > ls.txt')"
   ]
  },
  {
   "cell_type": "code",
   "execution_count": null,
   "metadata": {},
   "outputs": [],
   "source": [
    "#For command-line arguement\n",
    "#Check file cmd.py\n",
    "!python cmd.py roger that "
   ]
  },
  {
   "cell_type": "markdown",
   "metadata": {},
   "source": [
    "# Necessary References\n",
    "1. https://docs.python.org/3/tutorial/\n",
    "2. https://www.python-course.eu/python3_course.php"
   ]
  },
  {
   "cell_type": "code",
   "execution_count": null,
   "metadata": {},
   "outputs": [],
   "source": []
  }
 ],
 "metadata": {
  "kernelspec": {
   "display_name": "Python 3",
   "language": "python",
   "name": "python3"
  },
  "language_info": {
   "codemirror_mode": {
    "name": "ipython",
    "version": 3
   },
   "file_extension": ".py",
   "mimetype": "text/x-python",
   "name": "python",
   "nbconvert_exporter": "python",
   "pygments_lexer": "ipython3",
   "version": "3.6.8"
  }
 },
 "nbformat": 4,
 "nbformat_minor": 2
}
