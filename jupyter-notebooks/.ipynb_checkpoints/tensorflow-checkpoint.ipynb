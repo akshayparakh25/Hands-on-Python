{
 "cells": [
  {
   "cell_type": "markdown",
   "metadata": {},
   "source": [
    "# Tensorflow \n",
    "Open source library for numerical computation using data flow graph. Created and Maintained by Google.<br><br>\n",
    "Tensorflow got it's name from **tensor**, array of arbitrary dmensions. Using Tensorflow, one can manipulate tensors with higher dimensions."
   ]
  },
  {
   "cell_type": "markdown",
   "metadata": {},
   "source": [
    "## Why Tensorflow?\n",
    "1. Efficient\n",
    "2. Scalable\n",
    "3. Maintainable\n",
    "4. Portable\n",
    "5. Flexible\n",
    "6. Visualization in TensorBoard\n",
    "7. Easy to save and restore models"
   ]
  },
  {
   "cell_type": "code",
   "execution_count": 1,
   "metadata": {},
   "outputs": [],
   "source": [
    "import os\n",
    "os.environ['TF_CPP_MIN_LOG_LEVEL']='2'\n",
    "import tensorflow as tf"
   ]
  },
  {
   "cell_type": "markdown",
   "metadata": {},
   "source": [
    "## How Tensorflow works?\n",
    "Tensorflow operations creates, destroys, and manipulates tensors. All the computation can be operations can be easily visualized using *computation graph* or *data flow graph*.<br>\n",
    "Graph's **nodes** are operations and **edges** are tensors. Tensors flows through graph, and gets manipulated at each node by an operation."
   ]
  },
  {
   "cell_type": "markdown",
   "metadata": {},
   "source": [
    "### Tensor\n",
    "A tensor is an n-d array,\n",
    "* 0-d tensor : scalar\n",
    "* 1-d tensor : vector\n",
    "* 2-d tensor : matrix\n",
    "<br>\n",
    "\n",
    "A tensor can be defined as a constant or a variable."
   ]
  },
  {
   "cell_type": "markdown",
   "metadata": {},
   "source": [
    "### Constants"
   ]
  },
  {
   "cell_type": "code",
   "execution_count": 2,
   "metadata": {},
   "outputs": [],
   "source": [
    "s = tf.constant(24)  #scalar\n",
    "v = tf.constant([1, 2, 3, 4], dtype=tf.int64, name='vector')  #vector\n",
    "m = tf.constant([[1,2], [3,4]]) #matrix"
   ]
  },
  {
   "cell_type": "markdown",
   "metadata": {},
   "source": [
    "## Using tf.Session() to evaluate the graph\n",
    "A Session object encapsulates the environment in which memory is allocated for storing values of variables, operations are executed, and tensors are evaluated."
   ]
  },
  {
   "cell_type": "code",
   "execution_count": 3,
   "metadata": {},
   "outputs": [
    {
     "name": "stdout",
     "output_type": "stream",
     "text": [
      "Tensor(\"add:0\", shape=(), dtype=int32)\n",
      "20\n"
     ]
    }
   ],
   "source": [
    "#Creating a graph\n",
    "g = tf.Graph()\n",
    "\n",
    "#Setting the generated graph as default graph\n",
    "with g.as_default():\n",
    "    x = tf.constant(5, name=\"x\")\n",
    "    y = tf.constant(4, name=\"y\")\n",
    "    \n",
    "    add = tf.add(x, y, name=\"add\")\n",
    "    mul = tf.multiply(x, y, name=\"mul\")\n",
    "    \n",
    "    with tf.Session() as sess:\n",
    "        print(add)\n",
    "        print(mul.eval())"
   ]
  },
  {
   "cell_type": "code",
   "execution_count": 4,
   "metadata": {},
   "outputs": [
    {
     "name": "stdout",
     "output_type": "stream",
     "text": [
      "9\n",
      "20\n"
     ]
    }
   ],
   "source": [
    "g = tf.Graph()\n",
    "\n",
    "with g.as_default():\n",
    "    x = tf.constant(5, name=\"x\")\n",
    "    y = tf.constant(4, name=\"y\")\n",
    "    \n",
    "    add = tf.add(x, y, name=\"add\")\n",
    "    mul = tf.multiply(x, y, name=\"mul\")\n",
    "    \n",
    "    with tf.Session() as sess:\n",
    "        #sess.run(fetchees) will help you fetch multiple values, eval() cannot.\n",
    "        a, m = sess.run(fetches=[add, mul])\n",
    "        print(a)\n",
    "        print(m)"
   ]
  },
  {
   "cell_type": "markdown",
   "metadata": {},
   "source": [
    "### Variables"
   ]
  },
  {
   "cell_type": "code",
   "execution_count": 5,
   "metadata": {},
   "outputs": [],
   "source": [
    "#Creating variable using Variable object\n",
    "v_s = tf.Variable(5)\n",
    "v_v = tf.Variable([1, 2, 3, 4], dtype=tf.int32)\n",
    "v_m = tf.Variable(tf.zeros([25,4]), dtype=tf.float32, name=\"matrix\")"
   ]
  },
  {
   "cell_type": "code",
   "execution_count": 6,
   "metadata": {},
   "outputs": [],
   "source": [
    "#Creating variable with tf.get_variable method\n",
    "Weights = tf.get_variable(\"Weights\", shape=(25,4), initializer=tf.random_uniform_initializer())\n",
    "Bias = tf.get_variable(\"Bias\", initializer=tf.random.normal([25]))"
   ]
  },
  {
   "cell_type": "code",
   "execution_count": 7,
   "metadata": {},
   "outputs": [
    {
     "name": "stdout",
     "output_type": "stream",
     "text": [
      "[[0.34350646 0.33833265 0.75628734 0.4500023 ]\n",
      " [0.02540982 0.71085286 0.65855587 0.32486475]\n",
      " [0.6389915  0.3175521  0.84606886 0.19097507]\n",
      " [0.74661875 0.3421458  0.21408343 0.63781583]\n",
      " [0.7706108  0.82470274 0.12970495 0.44853222]\n",
      " [0.919502   0.30483985 0.14477563 0.6133863 ]\n",
      " [0.44039035 0.6276661  0.7050879  0.5163424 ]\n",
      " [0.13808393 0.46506095 0.12952662 0.33227468]\n",
      " [0.7555884  0.13518822 0.3071636  0.89661825]\n",
      " [0.9474244  0.6978165  0.04504657 0.15322518]\n",
      " [0.8394331  0.89770997 0.16151357 0.42281651]\n",
      " [0.08213115 0.45684075 0.9336457  0.6236304 ]\n",
      " [0.16283453 0.93193233 0.6385757  0.67523277]\n",
      " [0.51819766 0.19045436 0.77945685 0.7206881 ]\n",
      " [0.6155902  0.17824209 0.3938861  0.7934011 ]\n",
      " [0.2574706  0.2918527  0.16782343 0.6654911 ]\n",
      " [0.37140942 0.40660024 0.05919933 0.23272097]\n",
      " [0.78530574 0.42289507 0.8403815  0.41183448]\n",
      " [0.2510593  0.31820548 0.61292946 0.77452624]\n",
      " [0.6080928  0.6414499  0.98620033 0.9477831 ]\n",
      " [0.4915943  0.29814577 0.65285194 0.68719304]\n",
      " [0.8055645  0.02312577 0.08239782 0.177647  ]\n",
      " [0.17982543 0.3312744  0.9374782  0.51707935]\n",
      " [0.26490533 0.17758453 0.2651651  0.79223895]\n",
      " [0.9259459  0.16224647 0.83821523 0.06169009]]\n",
      "[ 0.5608448  -1.0719867   1.2711192  -0.20869282  1.1020887   0.73456305\n",
      " -0.3453843   0.47277868 -0.49197006  1.3698392   0.56360114  0.75123364\n",
      "  0.77032423 -0.718771   -0.1788172   1.1113582   0.0284193  -0.791857\n",
      " -0.8394347  -0.6483732   1.1359087  -0.9072702  -0.37217396  0.29099548\n",
      " -0.5772851 ]\n"
     ]
    }
   ],
   "source": [
    "g = tf.Graph()\n",
    "\n",
    "with g.as_default():\n",
    "    weights = tf.get_variable(\"Weights\", shape=(25,4), initializer=tf.random_uniform_initializer())\n",
    "    bias = tf.get_variable(\"Bias\", initializer=tf.random.normal([25]))\n",
    "    \n",
    "    with tf.Session() as sess:\n",
    "        #initialising all variables at once\n",
    "        sess.run(tf.global_variables_initializer())\n",
    "        print(weights.eval())\n",
    "        print(sess.run(bias))"
   ]
  },
  {
   "cell_type": "markdown",
   "metadata": {},
   "source": [
    "## Visualizing Graphs using TensorBoard"
   ]
  },
  {
   "cell_type": "code",
   "execution_count": 8,
   "metadata": {},
   "outputs": [
    {
     "name": "stdout",
     "output_type": "stream",
     "text": [
      "9 20\n"
     ]
    }
   ],
   "source": [
    "x = tf.constant(5, name=\"x\")\n",
    "y = tf.constant(4, name=\"y\")\n",
    "\n",
    "add = tf.add(x, y, name=\"add\")\n",
    "mul = tf.multiply(x, y, name=\"mul\")\n",
    "\n",
    "with tf.Session() as sess:\n",
    "    #Creates the summary writer\n",
    "    #After graph definition\n",
    "    #Before Session\n",
    "    #Since we not created a graph explicitly,\n",
    "    #Every operation is being done on default_graph\n",
    "    writer = tf.summary.FileWriter('./graphs', tf.get_default_graph())\n",
    "    a, m = sess.run(fetches=[add, mul])\n",
    "    print(a, m)\n",
    "    \n",
    "#To access graph in Tensorboard\n",
    "#0. Copy the code. Add import tensorflow as tf (at the top). Save the file as tboard.py.\n",
    "#1. Open terminal. Run python(or python3) tboard.py.\n",
    "#2. Check for graphs folder in the same directory. \n",
    "#3. If it is present. Run: tensorboard --logdir=\"./graphs\" --port 6006\n",
    "#4. Open browser and go to: http://localhost:6006/"
   ]
  },
  {
   "cell_type": "code",
   "execution_count": 9,
   "metadata": {},
   "outputs": [],
   "source": [
    "#If you are using Jypyter Notebook, You can try the following command (uncomment next line)\n",
    "#!tensorboard --logdir=\"./graphs\" --port 6008\n",
    "#Open browser and go to: http://localhost:6006/"
   ]
  },
  {
   "cell_type": "markdown",
   "metadata": {},
   "source": [
    "### Placeholders\n",
    "A placeholder is simply a variable that we will assign data to at a later date. It allows us to create our operations and build our computation graph, without needing the data.\n",
    "<br>\n",
    "Placeholders are simplest way to load data, but it is not efficient for loading large data. You can go for estimators or other options that follows in eager execution mode or tensorflow==2.x"
   ]
  },
  {
   "cell_type": "code",
   "execution_count": 10,
   "metadata": {},
   "outputs": [],
   "source": [
    "#creating a placeholder\n",
    "inputs = tf.placeholder(shape=[25,4], dtype=tf.float32)"
   ]
  },
  {
   "cell_type": "code",
   "execution_count": 11,
   "metadata": {},
   "outputs": [],
   "source": [
    "a = tf.placeholder(tf.float32, shape=[3])\n",
    "b = tf.constant([5, 5, 5], tf.float32)"
   ]
  },
  {
   "cell_type": "code",
   "execution_count": 12,
   "metadata": {},
   "outputs": [],
   "source": [
    "add = a+b"
   ]
  },
  {
   "cell_type": "code",
   "execution_count": 13,
   "metadata": {},
   "outputs": [
    {
     "name": "stdout",
     "output_type": "stream",
     "text": [
      "[9. 9. 9.]\n"
     ]
    }
   ],
   "source": [
    "#Value to the placeholder is provided during the run\n",
    "#Using feed_dict\n",
    "with tf.Session() as sess:\n",
    "    res = sess.run(add, feed_dict={a:[4,4,4]})\n",
    "    print(res)"
   ]
  },
  {
   "cell_type": "markdown",
   "metadata": {},
   "source": [
    "#### An example to show how Placeholders and Variables are created in data flow graph"
   ]
  },
  {
   "cell_type": "code",
   "execution_count": 14,
   "metadata": {},
   "outputs": [
    {
     "name": "stdout",
     "output_type": "stream",
     "text": [
      "WARNING:tensorflow:From /home/labpc/.local/lib/python3.6/site-packages/tensorflow/python/util/tf_should_use.py:189: initialize_all_variables (from tensorflow.python.ops.variables) is deprecated and will be removed after 2017-03-02.\n",
      "Instructions for updating:\n",
      "Use `tf.global_variables_initializer` instead.\n",
      "[[  2.9174511   4.3855824   3.1261866   3.9074776   3.7847152   3.3323941\n",
      "    2.3778398   2.646811    4.37407     3.9334633   5.0492387   2.6997836\n",
      "    2.4670763   3.2723951   4.342623    2.7103739   5.57252     5.7602525\n",
      "    4.1131573   4.7178316   1.8845667   4.1045294   3.9944193   2.6857514\n",
      "    1.9909171]\n",
      " [ 12.211422   13.679554   12.420157   13.201448   13.078687   12.626365\n",
      "   11.671811   11.940783   13.668041   13.227434   14.343209   11.993754\n",
      "   11.761047   12.566366   13.636594   12.004345   14.866491   15.054224\n",
      "   13.407128   14.011803   11.178537   13.3985     13.28839    11.979723\n",
      "   11.284888 ]\n",
      " [ 21.505394   22.973526   21.71413    22.49542    22.372658   21.920338\n",
      "   20.965782   21.234755   22.962013   22.521406   23.637182   21.287727\n",
      "   21.05502    21.860338   22.930567   21.298317   24.160463   24.348196\n",
      "   22.7011     23.305775   20.47251    22.692472   22.582363   21.273695\n",
      "   20.57886  ]\n",
      " [ 30.799366   32.267498   31.008102   31.789392   31.66663    31.21431\n",
      "   30.259754   30.528727   32.255985   31.815378   32.931152   30.5817\n",
      "   30.348991   31.15431    32.224537   30.592289   33.454433   33.642166\n",
      "   31.995071   32.599747   29.766481   31.986444   31.876335   30.567667\n",
      "   29.872831 ]\n",
      " [ 40.093338   41.56147    40.302074   41.083366   40.9606     40.50828\n",
      "   39.553726   39.822697   41.549957   41.109352   42.225124   39.87567\n",
      "   39.642963   40.44828    41.51851    39.88626    42.748405   42.93614\n",
      "   41.289043   41.89372    39.060455   41.28042    41.170307   39.861637\n",
      "   39.166805 ]\n",
      " [ 49.387306   50.85544    49.596043   50.377335   50.25457    49.80225\n",
      "   48.847694   49.116665   50.843925   50.40332    51.519093   49.16964\n",
      "   48.93693    49.74225    50.812477   49.18023    52.042374   52.230106\n",
      "   50.58301    51.187687   48.354424   50.574387   50.464275   49.155605\n",
      "   48.460773 ]\n",
      " [ 58.681282   60.149414   58.89002    59.67131    59.548546   59.096226\n",
      "   58.14167    58.41064    60.1379     59.697296   60.81307    58.463615\n",
      "   58.230907   59.036224   60.106453   58.474205   61.33635    61.524082\n",
      "   59.876987   60.481663   57.6484     59.868362   59.75825    58.44958\n",
      "   57.75475  ]\n",
      " [ 67.97525    69.44338    68.18398    68.96528    68.842514   68.39019\n",
      "   67.43564    67.70461    69.43187    68.991264   70.10704    67.75758\n",
      "   67.52488    68.33019    69.40042    67.76817    70.63032    70.818054\n",
      "   69.17096    69.775635   66.94237    69.16233    69.052216   67.74355\n",
      "   67.04871  ]\n",
      " [ 77.269226   78.73736    77.47796    78.259254   78.13649    77.684166\n",
      "   76.729614   76.99859    78.725845   78.28524    79.40102    77.05156\n",
      "   76.818855   77.62417    78.6944     77.06215    79.92429    80.11203\n",
      "   78.464935   79.06961    76.23634    78.45631    78.34619    77.03753\n",
      "   76.34269  ]\n",
      " [ 86.56319    88.03132    86.77192    87.553215   87.43045    86.97813\n",
      "   86.023575   86.29255    88.019806   87.5792     88.69498    86.34552\n",
      "   86.112816   86.91813    87.98836    86.35611    89.218254   89.40599\n",
      "   87.758896   88.36357    85.530304   87.75027    87.64015    86.33149\n",
      "   85.63665  ]\n",
      " [ 95.85717    97.3253     96.0659     96.8472     96.724434   96.27211\n",
      "   95.31756    95.58653    97.31379    96.873184   97.98896    95.6395\n",
      "   95.4068     96.21211    97.28234    95.65009    98.51224    98.699974\n",
      "   97.05288    97.657555   94.82429    97.04425    96.934135   95.62547\n",
      "   94.93063  ]\n",
      " [105.15113   106.61926   105.35986   106.14116   106.018394  105.56607\n",
      "  104.61152   104.88049   106.60775   106.167145  107.28292   104.933464\n",
      "  104.70076   105.50607   106.5763    104.94405   107.8062    107.993935\n",
      "  106.34684   106.951515  104.11825   106.33821   106.228096  104.91943\n",
      "  104.224594 ]\n",
      " [114.44511   115.91324   114.65384   115.435135  115.31237   114.86005\n",
      "  113.905495  114.17447   115.901726  115.46112   116.5769    114.22744\n",
      "  113.994736  114.80005   115.87028   114.23803   117.100174  117.28791\n",
      "  115.640816  116.24549   113.412224  115.63219   115.52207   114.21341\n",
      "  113.51857  ]\n",
      " [123.73909   125.20722   123.94782   124.72912   124.60635   124.15403\n",
      "  123.19948   123.46845   125.19571   124.755104  125.87088   123.52142\n",
      "  123.28872   124.09403   125.16426   123.53201   126.39416   126.581894\n",
      "  124.9348    125.539474  122.70621   124.92617   124.816055  123.50739\n",
      "  122.81255  ]\n",
      " [133.03304   134.50116   133.24178   134.02306   133.9003    133.44798\n",
      "  132.49342   132.76239   134.48965   134.04904   135.16483   132.81537\n",
      "  132.58266   133.38799   134.4582    132.82596   135.68811   135.87584\n",
      "  134.22874   134.83342   132.00015   134.22011   134.11      132.80133\n",
      "  132.1065   ]\n",
      " [142.32703   143.79515   142.53577   143.31705   143.19429   142.74197\n",
      "  141.78741   142.05638   143.78365   143.34303   144.45882   142.10936\n",
      "  141.87665   142.68198   143.7522    142.11995   144.9821    145.16983\n",
      "  143.52274   144.12741   141.29414   143.5141    143.40399   142.09532\n",
      "  141.4005   ]\n",
      " [151.62099   153.08911   151.82973   152.61101   152.48825   152.03593\n",
      "  151.08138   151.35034   153.0776    152.637     153.75278   151.40332\n",
      "  151.17061   151.97594   153.04616   151.41391   154.27606   154.46379\n",
      "  152.8167    153.42137   150.5881    152.80806   152.69795   151.38928\n",
      "  150.69446  ]\n",
      " [160.91496   162.38309   161.1237    161.90498   161.78223   161.32991\n",
      "  160.37535   160.64432   162.37158   161.93097   163.04675   160.6973\n",
      "  160.46458   161.26991   162.34013   160.70789   163.57004   163.75777\n",
      "  162.11067   162.71535   159.88208   162.10204   161.99193   160.68326\n",
      "  159.98843  ]\n",
      " [170.20894   171.67706   170.41768   171.19896   171.0762    170.62389\n",
      "  169.66933   169.9383    171.66556   171.22495   172.34073   169.99127\n",
      "  169.75856   170.56389   171.63411   170.00186   172.86401   173.05174\n",
      "  171.40465   172.00932   169.17606   171.39601   171.2859    169.97723\n",
      "  169.28241  ]\n",
      " [179.50291   180.97104   179.71165   180.49294   180.37018   179.91786\n",
      "  178.9633    179.23227   180.95953   180.51892   181.6347    179.28525\n",
      "  179.05254   179.85786   180.92809   179.29584   182.15799   182.34572\n",
      "  180.69862   181.3033    178.47003   180.68999   180.57988   179.27121\n",
      "  178.57639  ]\n",
      " [188.79689   190.26501   189.00563   189.78691   189.66415   189.21184\n",
      "  188.25728   188.52625   190.25351   189.8129    190.92868   188.57922\n",
      "  188.34651   189.15184   190.22206   188.58981   191.45197   191.6397\n",
      "  189.9926    190.59727   187.764     189.98396   189.87386   188.56519\n",
      "  187.87036  ]\n",
      " [198.09085   199.55898   198.29959   199.08087   198.95811   198.5058\n",
      "  197.55124   197.8202    199.54747   199.10686   200.22264   197.87318\n",
      "  197.64047   198.4458    199.51602   197.88377   200.74593   200.93365\n",
      "  199.28656   199.89124   197.05797   199.27792   199.16782   197.85915\n",
      "  197.16432  ]\n",
      " [207.38481   208.85294   207.59355   208.37483   208.25208   207.79976\n",
      "  206.8452    207.11417   208.84143   208.40082   209.5166    207.16714\n",
      "  206.93443   207.73976   208.80998   207.17773   210.03989   210.22762\n",
      "  208.58052   209.1852    206.35193   208.57188   208.46178   207.1531\n",
      "  206.45828  ]\n",
      " [216.6788    218.14693   216.88754   217.66882   217.54607   217.09375\n",
      "  216.13919   216.40816   218.13542   217.69481   218.8106    216.46114\n",
      "  216.22842   217.03375   218.10397   216.47173   219.33388   219.5216\n",
      "  217.87451   218.47919   215.64592   217.86588   217.75577   216.4471\n",
      "  215.75227  ]\n",
      " [225.97276   227.44089   226.1815    226.96278   226.84003   226.38771\n",
      "  225.43315   225.70212   227.42938   226.98877   228.10455   225.7551\n",
      "  225.52238   226.32771   227.39793   225.76569   228.62784   228.81557\n",
      "  227.16847   227.77315   224.93988   227.15984   227.04973   225.74106\n",
      "  225.04623  ]]\n"
     ]
    }
   ],
   "source": [
    "import numpy as np\n",
    "\n",
    "inp_data = np.linspace(0, 100, 100, dtype=np.float32).reshape(25,4)\n",
    "\n",
    "y = tf.matmul(inputs, tf.transpose(Weights)) + Bias\n",
    "\n",
    "with tf.Session() as sess:\n",
    "    writer = tf.summary.FileWriter('./graphs_linear', tf.get_default_graph())\n",
    "    sess.run(tf.initialize_all_variables())\n",
    "    res = sess.run(y, feed_dict={inputs:inp_data})\n",
    "    print(res)"
   ]
  },
  {
   "cell_type": "code",
   "execution_count": null,
   "metadata": {},
   "outputs": [],
   "source": []
  }
 ],
 "metadata": {
  "kernelspec": {
   "display_name": "Python 3",
   "language": "python",
   "name": "python3"
  },
  "language_info": {
   "codemirror_mode": {
    "name": "ipython",
    "version": 3
   },
   "file_extension": ".py",
   "mimetype": "text/x-python",
   "name": "python",
   "nbconvert_exporter": "python",
   "pygments_lexer": "ipython3",
   "version": "3.6.5"
  }
 },
 "nbformat": 4,
 "nbformat_minor": 2
}
