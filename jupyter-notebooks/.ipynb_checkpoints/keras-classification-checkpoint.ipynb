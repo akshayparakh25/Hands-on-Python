{
 "cells": [
  {
   "cell_type": "code",
   "execution_count": 1,
   "metadata": {},
   "outputs": [
    {
     "name": "stderr",
     "output_type": "stream",
     "text": [
      "Using TensorFlow backend.\n",
      "/home/akshay/venv/lib/python3.6/site-packages/tensorflow/python/framework/dtypes.py:516: FutureWarning: Passing (type, 1) or '1type' as a synonym of type is deprecated; in a future version of numpy, it will be understood as (type, (1,)) / '(1,)type'.\n",
      "  _np_qint8 = np.dtype([(\"qint8\", np.int8, 1)])\n",
      "/home/akshay/venv/lib/python3.6/site-packages/tensorflow/python/framework/dtypes.py:517: FutureWarning: Passing (type, 1) or '1type' as a synonym of type is deprecated; in a future version of numpy, it will be understood as (type, (1,)) / '(1,)type'.\n",
      "  _np_quint8 = np.dtype([(\"quint8\", np.uint8, 1)])\n",
      "/home/akshay/venv/lib/python3.6/site-packages/tensorflow/python/framework/dtypes.py:518: FutureWarning: Passing (type, 1) or '1type' as a synonym of type is deprecated; in a future version of numpy, it will be understood as (type, (1,)) / '(1,)type'.\n",
      "  _np_qint16 = np.dtype([(\"qint16\", np.int16, 1)])\n",
      "/home/akshay/venv/lib/python3.6/site-packages/tensorflow/python/framework/dtypes.py:519: FutureWarning: Passing (type, 1) or '1type' as a synonym of type is deprecated; in a future version of numpy, it will be understood as (type, (1,)) / '(1,)type'.\n",
      "  _np_quint16 = np.dtype([(\"quint16\", np.uint16, 1)])\n",
      "/home/akshay/venv/lib/python3.6/site-packages/tensorflow/python/framework/dtypes.py:520: FutureWarning: Passing (type, 1) or '1type' as a synonym of type is deprecated; in a future version of numpy, it will be understood as (type, (1,)) / '(1,)type'.\n",
      "  _np_qint32 = np.dtype([(\"qint32\", np.int32, 1)])\n",
      "/home/akshay/venv/lib/python3.6/site-packages/tensorflow/python/framework/dtypes.py:525: FutureWarning: Passing (type, 1) or '1type' as a synonym of type is deprecated; in a future version of numpy, it will be understood as (type, (1,)) / '(1,)type'.\n",
      "  np_resource = np.dtype([(\"resource\", np.ubyte, 1)])\n",
      "/home/akshay/venv/lib/python3.6/site-packages/tensorboard/compat/tensorflow_stub/dtypes.py:541: FutureWarning: Passing (type, 1) or '1type' as a synonym of type is deprecated; in a future version of numpy, it will be understood as (type, (1,)) / '(1,)type'.\n",
      "  _np_qint8 = np.dtype([(\"qint8\", np.int8, 1)])\n",
      "/home/akshay/venv/lib/python3.6/site-packages/tensorboard/compat/tensorflow_stub/dtypes.py:542: FutureWarning: Passing (type, 1) or '1type' as a synonym of type is deprecated; in a future version of numpy, it will be understood as (type, (1,)) / '(1,)type'.\n",
      "  _np_quint8 = np.dtype([(\"quint8\", np.uint8, 1)])\n",
      "/home/akshay/venv/lib/python3.6/site-packages/tensorboard/compat/tensorflow_stub/dtypes.py:543: FutureWarning: Passing (type, 1) or '1type' as a synonym of type is deprecated; in a future version of numpy, it will be understood as (type, (1,)) / '(1,)type'.\n",
      "  _np_qint16 = np.dtype([(\"qint16\", np.int16, 1)])\n",
      "/home/akshay/venv/lib/python3.6/site-packages/tensorboard/compat/tensorflow_stub/dtypes.py:544: FutureWarning: Passing (type, 1) or '1type' as a synonym of type is deprecated; in a future version of numpy, it will be understood as (type, (1,)) / '(1,)type'.\n",
      "  _np_quint16 = np.dtype([(\"quint16\", np.uint16, 1)])\n",
      "/home/akshay/venv/lib/python3.6/site-packages/tensorboard/compat/tensorflow_stub/dtypes.py:545: FutureWarning: Passing (type, 1) or '1type' as a synonym of type is deprecated; in a future version of numpy, it will be understood as (type, (1,)) / '(1,)type'.\n",
      "  _np_qint32 = np.dtype([(\"qint32\", np.int32, 1)])\n",
      "/home/akshay/venv/lib/python3.6/site-packages/tensorboard/compat/tensorflow_stub/dtypes.py:550: FutureWarning: Passing (type, 1) or '1type' as a synonym of type is deprecated; in a future version of numpy, it will be understood as (type, (1,)) / '(1,)type'.\n",
      "  np_resource = np.dtype([(\"resource\", np.ubyte, 1)])\n"
     ]
    }
   ],
   "source": [
    "import pandas as pd\n",
    "import numpy as np\n",
    "import keras\n",
    "import matplotlib.pyplot as plt\n",
    "import seaborn as sns\n",
    "import tensorflow as tf\n",
    "\n",
    "pd.options.display.max_rows = 10\n",
    "pd.options.display.float_format = \"{:.1f}\".format"
   ]
  },
  {
   "cell_type": "code",
   "execution_count": 2,
   "metadata": {},
   "outputs": [
    {
     "data": {
      "text/html": [
       "<div>\n",
       "<style scoped>\n",
       "    .dataframe tbody tr th:only-of-type {\n",
       "        vertical-align: middle;\n",
       "    }\n",
       "\n",
       "    .dataframe tbody tr th {\n",
       "        vertical-align: top;\n",
       "    }\n",
       "\n",
       "    .dataframe thead th {\n",
       "        text-align: right;\n",
       "    }\n",
       "</style>\n",
       "<table border=\"1\" class=\"dataframe\">\n",
       "  <thead>\n",
       "    <tr style=\"text-align: right;\">\n",
       "      <th></th>\n",
       "      <th>type</th>\n",
       "      <th>fixed acidity</th>\n",
       "      <th>volatile acidity</th>\n",
       "      <th>citric acid</th>\n",
       "      <th>residual sugar</th>\n",
       "      <th>chlorides</th>\n",
       "      <th>free sulfur dioxide</th>\n",
       "      <th>total sulfur dioxide</th>\n",
       "      <th>density</th>\n",
       "      <th>pH</th>\n",
       "      <th>sulphates</th>\n",
       "      <th>alcohol</th>\n",
       "      <th>quality</th>\n",
       "    </tr>\n",
       "  </thead>\n",
       "  <tbody>\n",
       "    <tr>\n",
       "      <td>0</td>\n",
       "      <td>white</td>\n",
       "      <td>7.0</td>\n",
       "      <td>0.3</td>\n",
       "      <td>0.4</td>\n",
       "      <td>20.7</td>\n",
       "      <td>0.0</td>\n",
       "      <td>45.0</td>\n",
       "      <td>170.0</td>\n",
       "      <td>1.0</td>\n",
       "      <td>3.0</td>\n",
       "      <td>0.5</td>\n",
       "      <td>8.8</td>\n",
       "      <td>6</td>\n",
       "    </tr>\n",
       "    <tr>\n",
       "      <td>1</td>\n",
       "      <td>white</td>\n",
       "      <td>6.3</td>\n",
       "      <td>0.3</td>\n",
       "      <td>0.3</td>\n",
       "      <td>1.6</td>\n",
       "      <td>0.0</td>\n",
       "      <td>14.0</td>\n",
       "      <td>132.0</td>\n",
       "      <td>1.0</td>\n",
       "      <td>3.3</td>\n",
       "      <td>0.5</td>\n",
       "      <td>9.5</td>\n",
       "      <td>6</td>\n",
       "    </tr>\n",
       "    <tr>\n",
       "      <td>2</td>\n",
       "      <td>white</td>\n",
       "      <td>8.1</td>\n",
       "      <td>0.3</td>\n",
       "      <td>0.4</td>\n",
       "      <td>6.9</td>\n",
       "      <td>0.1</td>\n",
       "      <td>30.0</td>\n",
       "      <td>97.0</td>\n",
       "      <td>1.0</td>\n",
       "      <td>3.3</td>\n",
       "      <td>0.4</td>\n",
       "      <td>10.1</td>\n",
       "      <td>6</td>\n",
       "    </tr>\n",
       "    <tr>\n",
       "      <td>3</td>\n",
       "      <td>white</td>\n",
       "      <td>7.2</td>\n",
       "      <td>0.2</td>\n",
       "      <td>0.3</td>\n",
       "      <td>8.5</td>\n",
       "      <td>0.1</td>\n",
       "      <td>47.0</td>\n",
       "      <td>186.0</td>\n",
       "      <td>1.0</td>\n",
       "      <td>3.2</td>\n",
       "      <td>0.4</td>\n",
       "      <td>9.9</td>\n",
       "      <td>6</td>\n",
       "    </tr>\n",
       "    <tr>\n",
       "      <td>4</td>\n",
       "      <td>white</td>\n",
       "      <td>7.2</td>\n",
       "      <td>0.2</td>\n",
       "      <td>0.3</td>\n",
       "      <td>8.5</td>\n",
       "      <td>0.1</td>\n",
       "      <td>47.0</td>\n",
       "      <td>186.0</td>\n",
       "      <td>1.0</td>\n",
       "      <td>3.2</td>\n",
       "      <td>0.4</td>\n",
       "      <td>9.9</td>\n",
       "      <td>6</td>\n",
       "    </tr>\n",
       "  </tbody>\n",
       "</table>\n",
       "</div>"
      ],
      "text/plain": [
       "    type  fixed acidity  volatile acidity  citric acid  residual sugar  \\\n",
       "0  white            7.0               0.3          0.4            20.7   \n",
       "1  white            6.3               0.3          0.3             1.6   \n",
       "2  white            8.1               0.3          0.4             6.9   \n",
       "3  white            7.2               0.2          0.3             8.5   \n",
       "4  white            7.2               0.2          0.3             8.5   \n",
       "\n",
       "   chlorides  free sulfur dioxide  total sulfur dioxide  density  pH  \\\n",
       "0        0.0                 45.0                 170.0      1.0 3.0   \n",
       "1        0.0                 14.0                 132.0      1.0 3.3   \n",
       "2        0.1                 30.0                  97.0      1.0 3.3   \n",
       "3        0.1                 47.0                 186.0      1.0 3.2   \n",
       "4        0.1                 47.0                 186.0      1.0 3.2   \n",
       "\n",
       "   sulphates  alcohol  quality  \n",
       "0        0.5      8.8        6  \n",
       "1        0.5      9.5        6  \n",
       "2        0.4     10.1        6  \n",
       "3        0.4      9.9        6  \n",
       "4        0.4      9.9        6  "
      ]
     },
     "execution_count": 2,
     "metadata": {},
     "output_type": "execute_result"
    }
   ],
   "source": [
    "data = pd.read_csv('./../data/wine-quality/winequalityN.csv')\n",
    "data.head()"
   ]
  },
  {
   "cell_type": "markdown",
   "metadata": {},
   "source": [
    "Identify number of unique categories in target variable: quality"
   ]
  },
  {
   "cell_type": "code",
   "execution_count": 3,
   "metadata": {},
   "outputs": [
    {
     "data": {
      "text/plain": [
       "array(['white', 'red'], dtype=object)"
      ]
     },
     "execution_count": 3,
     "metadata": {},
     "output_type": "execute_result"
    }
   ],
   "source": [
    "data.type.unique()"
   ]
  },
  {
   "cell_type": "code",
   "execution_count": 4,
   "metadata": {},
   "outputs": [
    {
     "data": {
      "text/plain": [
       "(6497, 13)"
      ]
     },
     "execution_count": 4,
     "metadata": {},
     "output_type": "execute_result"
    }
   ],
   "source": [
    "data.shape"
   ]
  },
  {
   "cell_type": "code",
   "execution_count": 5,
   "metadata": {},
   "outputs": [
    {
     "data": {
      "text/html": [
       "<div>\n",
       "<style scoped>\n",
       "    .dataframe tbody tr th:only-of-type {\n",
       "        vertical-align: middle;\n",
       "    }\n",
       "\n",
       "    .dataframe tbody tr th {\n",
       "        vertical-align: top;\n",
       "    }\n",
       "\n",
       "    .dataframe thead th {\n",
       "        text-align: right;\n",
       "    }\n",
       "</style>\n",
       "<table border=\"1\" class=\"dataframe\">\n",
       "  <thead>\n",
       "    <tr style=\"text-align: right;\">\n",
       "      <th></th>\n",
       "      <th>fixed acidity</th>\n",
       "      <th>volatile acidity</th>\n",
       "      <th>citric acid</th>\n",
       "      <th>residual sugar</th>\n",
       "      <th>chlorides</th>\n",
       "      <th>free sulfur dioxide</th>\n",
       "      <th>total sulfur dioxide</th>\n",
       "      <th>density</th>\n",
       "      <th>pH</th>\n",
       "      <th>sulphates</th>\n",
       "      <th>alcohol</th>\n",
       "      <th>quality</th>\n",
       "    </tr>\n",
       "  </thead>\n",
       "  <tbody>\n",
       "    <tr>\n",
       "      <td>count</td>\n",
       "      <td>6487.0</td>\n",
       "      <td>6489.0</td>\n",
       "      <td>6494.0</td>\n",
       "      <td>6495.0</td>\n",
       "      <td>6495.0</td>\n",
       "      <td>6497.0</td>\n",
       "      <td>6497.0</td>\n",
       "      <td>6497.0</td>\n",
       "      <td>6488.0</td>\n",
       "      <td>6493.0</td>\n",
       "      <td>6497.0</td>\n",
       "      <td>6497.0</td>\n",
       "    </tr>\n",
       "    <tr>\n",
       "      <td>mean</td>\n",
       "      <td>7.2</td>\n",
       "      <td>0.3</td>\n",
       "      <td>0.3</td>\n",
       "      <td>5.4</td>\n",
       "      <td>0.1</td>\n",
       "      <td>30.5</td>\n",
       "      <td>115.7</td>\n",
       "      <td>1.0</td>\n",
       "      <td>3.2</td>\n",
       "      <td>0.5</td>\n",
       "      <td>10.5</td>\n",
       "      <td>5.8</td>\n",
       "    </tr>\n",
       "    <tr>\n",
       "      <td>std</td>\n",
       "      <td>1.3</td>\n",
       "      <td>0.2</td>\n",
       "      <td>0.1</td>\n",
       "      <td>4.8</td>\n",
       "      <td>0.0</td>\n",
       "      <td>17.7</td>\n",
       "      <td>56.5</td>\n",
       "      <td>0.0</td>\n",
       "      <td>0.2</td>\n",
       "      <td>0.1</td>\n",
       "      <td>1.2</td>\n",
       "      <td>0.9</td>\n",
       "    </tr>\n",
       "    <tr>\n",
       "      <td>min</td>\n",
       "      <td>3.8</td>\n",
       "      <td>0.1</td>\n",
       "      <td>0.0</td>\n",
       "      <td>0.6</td>\n",
       "      <td>0.0</td>\n",
       "      <td>1.0</td>\n",
       "      <td>6.0</td>\n",
       "      <td>1.0</td>\n",
       "      <td>2.7</td>\n",
       "      <td>0.2</td>\n",
       "      <td>8.0</td>\n",
       "      <td>3.0</td>\n",
       "    </tr>\n",
       "    <tr>\n",
       "      <td>25%</td>\n",
       "      <td>6.4</td>\n",
       "      <td>0.2</td>\n",
       "      <td>0.2</td>\n",
       "      <td>1.8</td>\n",
       "      <td>0.0</td>\n",
       "      <td>17.0</td>\n",
       "      <td>77.0</td>\n",
       "      <td>1.0</td>\n",
       "      <td>3.1</td>\n",
       "      <td>0.4</td>\n",
       "      <td>9.5</td>\n",
       "      <td>5.0</td>\n",
       "    </tr>\n",
       "    <tr>\n",
       "      <td>50%</td>\n",
       "      <td>7.0</td>\n",
       "      <td>0.3</td>\n",
       "      <td>0.3</td>\n",
       "      <td>3.0</td>\n",
       "      <td>0.0</td>\n",
       "      <td>29.0</td>\n",
       "      <td>118.0</td>\n",
       "      <td>1.0</td>\n",
       "      <td>3.2</td>\n",
       "      <td>0.5</td>\n",
       "      <td>10.3</td>\n",
       "      <td>6.0</td>\n",
       "    </tr>\n",
       "    <tr>\n",
       "      <td>75%</td>\n",
       "      <td>7.7</td>\n",
       "      <td>0.4</td>\n",
       "      <td>0.4</td>\n",
       "      <td>8.1</td>\n",
       "      <td>0.1</td>\n",
       "      <td>41.0</td>\n",
       "      <td>156.0</td>\n",
       "      <td>1.0</td>\n",
       "      <td>3.3</td>\n",
       "      <td>0.6</td>\n",
       "      <td>11.3</td>\n",
       "      <td>6.0</td>\n",
       "    </tr>\n",
       "    <tr>\n",
       "      <td>max</td>\n",
       "      <td>15.9</td>\n",
       "      <td>1.6</td>\n",
       "      <td>1.7</td>\n",
       "      <td>65.8</td>\n",
       "      <td>0.6</td>\n",
       "      <td>289.0</td>\n",
       "      <td>440.0</td>\n",
       "      <td>1.0</td>\n",
       "      <td>4.0</td>\n",
       "      <td>2.0</td>\n",
       "      <td>14.9</td>\n",
       "      <td>9.0</td>\n",
       "    </tr>\n",
       "  </tbody>\n",
       "</table>\n",
       "</div>"
      ],
      "text/plain": [
       "       fixed acidity  volatile acidity  citric acid  residual sugar  \\\n",
       "count         6487.0            6489.0       6494.0          6495.0   \n",
       "mean             7.2               0.3          0.3             5.4   \n",
       "std              1.3               0.2          0.1             4.8   \n",
       "min              3.8               0.1          0.0             0.6   \n",
       "25%              6.4               0.2          0.2             1.8   \n",
       "50%              7.0               0.3          0.3             3.0   \n",
       "75%              7.7               0.4          0.4             8.1   \n",
       "max             15.9               1.6          1.7            65.8   \n",
       "\n",
       "       chlorides  free sulfur dioxide  total sulfur dioxide  density     pH  \\\n",
       "count     6495.0               6497.0                6497.0   6497.0 6488.0   \n",
       "mean         0.1                 30.5                 115.7      1.0    3.2   \n",
       "std          0.0                 17.7                  56.5      0.0    0.2   \n",
       "min          0.0                  1.0                   6.0      1.0    2.7   \n",
       "25%          0.0                 17.0                  77.0      1.0    3.1   \n",
       "50%          0.0                 29.0                 118.0      1.0    3.2   \n",
       "75%          0.1                 41.0                 156.0      1.0    3.3   \n",
       "max          0.6                289.0                 440.0      1.0    4.0   \n",
       "\n",
       "       sulphates  alcohol  quality  \n",
       "count     6493.0   6497.0   6497.0  \n",
       "mean         0.5     10.5      5.8  \n",
       "std          0.1      1.2      0.9  \n",
       "min          0.2      8.0      3.0  \n",
       "25%          0.4      9.5      5.0  \n",
       "50%          0.5     10.3      6.0  \n",
       "75%          0.6     11.3      6.0  \n",
       "max          2.0     14.9      9.0  "
      ]
     },
     "execution_count": 5,
     "metadata": {},
     "output_type": "execute_result"
    }
   ],
   "source": [
    "data.describe()"
   ]
  },
  {
   "cell_type": "markdown",
   "metadata": {},
   "source": [
    "#### Checking for any NaN entries"
   ]
  },
  {
   "cell_type": "code",
   "execution_count": 6,
   "metadata": {},
   "outputs": [
    {
     "data": {
      "text/plain": [
       "type                 0\n",
       "fixed acidity       10\n",
       "volatile acidity     8\n",
       "citric acid          3\n",
       "residual sugar       2\n",
       "                    ..\n",
       "density              0\n",
       "pH                   9\n",
       "sulphates            4\n",
       "alcohol              0\n",
       "quality              0\n",
       "Length: 13, dtype: int64"
      ]
     },
     "execution_count": 6,
     "metadata": {},
     "output_type": "execute_result"
    }
   ],
   "source": [
    "data.isnull().sum()"
   ]
  },
  {
   "cell_type": "code",
   "execution_count": 7,
   "metadata": {},
   "outputs": [
    {
     "data": {
      "text/plain": [
       "type                0\n",
       "fixed acidity       0\n",
       "volatile acidity    0\n",
       "citric acid         0\n",
       "residual sugar      0\n",
       "                   ..\n",
       "density             0\n",
       "pH                  0\n",
       "sulphates           0\n",
       "alcohol             0\n",
       "quality             0\n",
       "Length: 13, dtype: int64"
      ]
     },
     "execution_count": 7,
     "metadata": {},
     "output_type": "execute_result"
    }
   ],
   "source": [
    "data = data.fillna(0.0)\n",
    "data.isnull().sum()"
   ]
  },
  {
   "cell_type": "markdown",
   "metadata": {},
   "source": [
    "#### Seperating features and target"
   ]
  },
  {
   "cell_type": "code",
   "execution_count": 8,
   "metadata": {},
   "outputs": [],
   "source": [
    "data_cols = data.columns\n",
    "features = data[data_cols[data_cols != 'type']]\n",
    "n_cols = features.shape[1]\n",
    "target = data['type']"
   ]
  },
  {
   "cell_type": "markdown",
   "metadata": {},
   "source": [
    "#### Normalizing features"
   ]
  },
  {
   "cell_type": "code",
   "execution_count": 9,
   "metadata": {},
   "outputs": [
    {
     "data": {
      "text/html": [
       "<div>\n",
       "<style scoped>\n",
       "    .dataframe tbody tr th:only-of-type {\n",
       "        vertical-align: middle;\n",
       "    }\n",
       "\n",
       "    .dataframe tbody tr th {\n",
       "        vertical-align: top;\n",
       "    }\n",
       "\n",
       "    .dataframe thead th {\n",
       "        text-align: right;\n",
       "    }\n",
       "</style>\n",
       "<table border=\"1\" class=\"dataframe\">\n",
       "  <thead>\n",
       "    <tr style=\"text-align: right;\">\n",
       "      <th></th>\n",
       "      <th>fixed acidity</th>\n",
       "      <th>volatile acidity</th>\n",
       "      <th>citric acid</th>\n",
       "      <th>residual sugar</th>\n",
       "      <th>chlorides</th>\n",
       "      <th>free sulfur dioxide</th>\n",
       "      <th>total sulfur dioxide</th>\n",
       "      <th>density</th>\n",
       "      <th>pH</th>\n",
       "      <th>sulphates</th>\n",
       "      <th>alcohol</th>\n",
       "      <th>quality</th>\n",
       "    </tr>\n",
       "  </thead>\n",
       "  <tbody>\n",
       "    <tr>\n",
       "      <td>0</td>\n",
       "      <td>-0.2</td>\n",
       "      <td>-0.4</td>\n",
       "      <td>0.3</td>\n",
       "      <td>3.2</td>\n",
       "      <td>-0.3</td>\n",
       "      <td>0.8</td>\n",
       "      <td>1.0</td>\n",
       "      <td>2.1</td>\n",
       "      <td>-1.1</td>\n",
       "      <td>-0.5</td>\n",
       "      <td>-1.4</td>\n",
       "      <td>0.2</td>\n",
       "    </tr>\n",
       "    <tr>\n",
       "      <td>1</td>\n",
       "      <td>-0.7</td>\n",
       "      <td>-0.2</td>\n",
       "      <td>0.1</td>\n",
       "      <td>-0.8</td>\n",
       "      <td>-0.2</td>\n",
       "      <td>-0.9</td>\n",
       "      <td>0.3</td>\n",
       "      <td>-0.2</td>\n",
       "      <td>0.4</td>\n",
       "      <td>-0.3</td>\n",
       "      <td>-0.8</td>\n",
       "      <td>0.2</td>\n",
       "    </tr>\n",
       "    <tr>\n",
       "      <td>2</td>\n",
       "      <td>0.7</td>\n",
       "      <td>-0.4</td>\n",
       "      <td>0.6</td>\n",
       "      <td>0.3</td>\n",
       "      <td>-0.2</td>\n",
       "      <td>-0.0</td>\n",
       "      <td>-0.3</td>\n",
       "      <td>0.1</td>\n",
       "      <td>0.2</td>\n",
       "      <td>-0.6</td>\n",
       "      <td>-0.3</td>\n",
       "      <td>0.2</td>\n",
       "    </tr>\n",
       "    <tr>\n",
       "      <td>3</td>\n",
       "      <td>-0.0</td>\n",
       "      <td>-0.7</td>\n",
       "      <td>0.0</td>\n",
       "      <td>0.6</td>\n",
       "      <td>0.1</td>\n",
       "      <td>0.9</td>\n",
       "      <td>1.2</td>\n",
       "      <td>0.3</td>\n",
       "      <td>-0.1</td>\n",
       "      <td>-0.9</td>\n",
       "      <td>-0.5</td>\n",
       "      <td>0.2</td>\n",
       "    </tr>\n",
       "    <tr>\n",
       "      <td>4</td>\n",
       "      <td>-0.0</td>\n",
       "      <td>-0.7</td>\n",
       "      <td>0.0</td>\n",
       "      <td>0.6</td>\n",
       "      <td>0.1</td>\n",
       "      <td>0.9</td>\n",
       "      <td>1.2</td>\n",
       "      <td>0.3</td>\n",
       "      <td>-0.1</td>\n",
       "      <td>-0.9</td>\n",
       "      <td>-0.5</td>\n",
       "      <td>0.2</td>\n",
       "    </tr>\n",
       "  </tbody>\n",
       "</table>\n",
       "</div>"
      ],
      "text/plain": [
       "   fixed acidity  volatile acidity  citric acid  residual sugar  chlorides  \\\n",
       "0           -0.2              -0.4          0.3             3.2       -0.3   \n",
       "1           -0.7              -0.2          0.1            -0.8       -0.2   \n",
       "2            0.7              -0.4          0.6             0.3       -0.2   \n",
       "3           -0.0              -0.7          0.0             0.6        0.1   \n",
       "4           -0.0              -0.7          0.0             0.6        0.1   \n",
       "\n",
       "   free sulfur dioxide  total sulfur dioxide  density   pH  sulphates  \\\n",
       "0                  0.8                   1.0      2.1 -1.1       -0.5   \n",
       "1                 -0.9                   0.3     -0.2  0.4       -0.3   \n",
       "2                 -0.0                  -0.3      0.1  0.2       -0.6   \n",
       "3                  0.9                   1.2      0.3 -0.1       -0.9   \n",
       "4                  0.9                   1.2      0.3 -0.1       -0.9   \n",
       "\n",
       "   alcohol  quality  \n",
       "0     -1.4      0.2  \n",
       "1     -0.8      0.2  \n",
       "2     -0.3      0.2  \n",
       "3     -0.5      0.2  \n",
       "4     -0.5      0.2  "
      ]
     },
     "execution_count": 9,
     "metadata": {},
     "output_type": "execute_result"
    }
   ],
   "source": [
    "features = (features - features.mean()) / features.std()\n",
    "features.head()"
   ]
  },
  {
   "cell_type": "code",
   "execution_count": 10,
   "metadata": {},
   "outputs": [
    {
     "data": {
      "text/plain": [
       "0    white\n",
       "1    white\n",
       "2    white\n",
       "3    white\n",
       "4    white\n",
       "Name: type, dtype: object"
      ]
     },
     "execution_count": 10,
     "metadata": {},
     "output_type": "execute_result"
    }
   ],
   "source": [
    "target.head()"
   ]
  },
  {
   "cell_type": "code",
   "execution_count": 11,
   "metadata": {},
   "outputs": [
    {
     "data": {
      "text/plain": [
       "0       1\n",
       "1       1\n",
       "2       1\n",
       "3       1\n",
       "4       1\n",
       "       ..\n",
       "6492    0\n",
       "6493    0\n",
       "6494    0\n",
       "6495    0\n",
       "6496    0\n",
       "Name: type, Length: 6497, dtype: int64"
      ]
     },
     "execution_count": 11,
     "metadata": {},
     "output_type": "execute_result"
    }
   ],
   "source": [
    "# We cannot use string white and red as categories directly\n",
    "# We will encode them\n",
    "# white: 1\n",
    "# red: 0\n",
    "target = target.replace('white',1)\n",
    "target = target.replace('red', 0)\n",
    "target"
   ]
  },
  {
   "cell_type": "markdown",
   "metadata": {},
   "source": [
    "### Dividing the data into train and test"
   ]
  },
  {
   "cell_type": "code",
   "execution_count": 12,
   "metadata": {},
   "outputs": [],
   "source": [
    "from sklearn.model_selection import train_test_split\n",
    "\n",
    "features_train, features_test, target_train, target_test = train_test_split(features, target,\n",
    "                                                                            test_size=0.20, random_state=42)"
   ]
  },
  {
   "cell_type": "code",
   "execution_count": 13,
   "metadata": {},
   "outputs": [],
   "source": [
    "from keras.models import Sequential\n",
    "from keras.layers import Dense\n",
    "from keras.utils import to_categorical"
   ]
  },
  {
   "cell_type": "code",
   "execution_count": 14,
   "metadata": {},
   "outputs": [],
   "source": [
    "target_train = to_categorical(target_train)"
   ]
  },
  {
   "cell_type": "code",
   "execution_count": 15,
   "metadata": {},
   "outputs": [],
   "source": [
    "target_test = to_categorical(target_test)"
   ]
  },
  {
   "cell_type": "code",
   "execution_count": 16,
   "metadata": {},
   "outputs": [
    {
     "data": {
      "text/plain": [
       "2"
      ]
     },
     "execution_count": 16,
     "metadata": {},
     "output_type": "execute_result"
    }
   ],
   "source": [
    "num_class = target_train.shape[1]\n",
    "num_class"
   ]
  },
  {
   "cell_type": "markdown",
   "metadata": {},
   "source": [
    "### Building a Sequential Model"
   ]
  },
  {
   "cell_type": "code",
   "execution_count": 17,
   "metadata": {},
   "outputs": [],
   "source": [
    "def classification():\n",
    "    model = Sequential()\n",
    "    #Adding layers to the model\n",
    "    # 2 hidden layers of 5 units eacha\n",
    "    model.add(Dense(5, activation='relu', input_shape=(n_cols,)))\n",
    "    model.add(Dense(5, activation='relu'))\n",
    "    model.add(Dense(num_class, activation='softmax'))\n",
    "    \n",
    "    model.compile(optimizer='adam', \n",
    "                  loss='categorical_crossentropy',\n",
    "                  metrics=['accuracy'])\n",
    "    return model"
   ]
  },
  {
   "cell_type": "markdown",
   "metadata": {},
   "source": [
    "### Training the model"
   ]
  },
  {
   "cell_type": "code",
   "execution_count": 18,
   "metadata": {},
   "outputs": [
    {
     "name": "stdout",
     "output_type": "stream",
     "text": [
      "WARNING:tensorflow:From /home/akshay/venv/lib/python3.6/site-packages/keras/backend/tensorflow_backend.py:422: The name tf.global_variables is deprecated. Please use tf.compat.v1.global_variables instead.\n",
      "\n",
      "Train on 4157 samples, validate on 1040 samples\n",
      "Epoch 1/50\n",
      "4157/4157 [==============================] - 0s 64us/step - loss: 0.5643 - accuracy: 0.7794 - val_loss: 0.4240 - val_accuracy: 0.8442\n",
      "Epoch 2/50\n",
      "4157/4157 [==============================] - 0s 38us/step - loss: 0.3069 - accuracy: 0.8706 - val_loss: 0.2367 - val_accuracy: 0.9115\n",
      "Epoch 3/50\n",
      "4157/4157 [==============================] - 0s 44us/step - loss: 0.1609 - accuracy: 0.9324 - val_loss: 0.1471 - val_accuracy: 0.9654\n",
      "Epoch 4/50\n",
      "4157/4157 [==============================] - 0s 39us/step - loss: 0.0799 - accuracy: 0.9808 - val_loss: 0.1141 - val_accuracy: 0.9846\n",
      "Epoch 5/50\n",
      "4157/4157 [==============================] - 0s 37us/step - loss: 0.0539 - accuracy: 0.9894 - val_loss: 0.1050 - val_accuracy: 0.9875\n",
      "Epoch 6/50\n",
      "4157/4157 [==============================] - 0s 36us/step - loss: 0.0447 - accuracy: 0.9909 - val_loss: 0.1025 - val_accuracy: 0.9885\n",
      "Epoch 7/50\n",
      "4157/4157 [==============================] - 0s 39us/step - loss: 0.0398 - accuracy: 0.9918 - val_loss: 0.1013 - val_accuracy: 0.9885\n",
      "Epoch 8/50\n",
      "4157/4157 [==============================] - 0s 37us/step - loss: 0.0365 - accuracy: 0.9928 - val_loss: 0.0990 - val_accuracy: 0.9894\n",
      "Epoch 9/50\n",
      "4157/4157 [==============================] - 0s 38us/step - loss: 0.0341 - accuracy: 0.9933 - val_loss: 0.0978 - val_accuracy: 0.9904\n",
      "Epoch 10/50\n",
      "4157/4157 [==============================] - 0s 38us/step - loss: 0.0324 - accuracy: 0.9933 - val_loss: 0.0960 - val_accuracy: 0.9904\n",
      "Epoch 11/50\n",
      "4157/4157 [==============================] - 0s 39us/step - loss: 0.0308 - accuracy: 0.9937 - val_loss: 0.0949 - val_accuracy: 0.9923\n",
      "Epoch 12/50\n",
      "4157/4157 [==============================] - 0s 37us/step - loss: 0.0291 - accuracy: 0.9940 - val_loss: 0.0938 - val_accuracy: 0.9913\n",
      "Epoch 13/50\n",
      "4157/4157 [==============================] - 0s 39us/step - loss: 0.0278 - accuracy: 0.9940 - val_loss: 0.0932 - val_accuracy: 0.9923\n",
      "Epoch 14/50\n",
      "4157/4157 [==============================] - 0s 38us/step - loss: 0.0270 - accuracy: 0.9949 - val_loss: 0.0918 - val_accuracy: 0.9923\n",
      "Epoch 15/50\n",
      "4157/4157 [==============================] - 0s 39us/step - loss: 0.0260 - accuracy: 0.9952 - val_loss: 0.0904 - val_accuracy: 0.9923\n",
      "Epoch 16/50\n",
      "4157/4157 [==============================] - 0s 43us/step - loss: 0.0252 - accuracy: 0.9954 - val_loss: 0.0882 - val_accuracy: 0.9923\n",
      "Epoch 17/50\n",
      "4157/4157 [==============================] - 0s 39us/step - loss: 0.0245 - accuracy: 0.9954 - val_loss: 0.0865 - val_accuracy: 0.9923\n",
      "Epoch 18/50\n",
      "4157/4157 [==============================] - 0s 41us/step - loss: 0.0239 - accuracy: 0.9954 - val_loss: 0.0853 - val_accuracy: 0.9923\n",
      "Epoch 19/50\n",
      "4157/4157 [==============================] - 0s 40us/step - loss: 0.0233 - accuracy: 0.9954 - val_loss: 0.0834 - val_accuracy: 0.9923\n",
      "Epoch 20/50\n",
      "4157/4157 [==============================] - 0s 40us/step - loss: 0.0228 - accuracy: 0.9957 - val_loss: 0.0813 - val_accuracy: 0.9923\n",
      "Epoch 21/50\n",
      "4157/4157 [==============================] - 0s 40us/step - loss: 0.0223 - accuracy: 0.9957 - val_loss: 0.0798 - val_accuracy: 0.9923\n",
      "Epoch 22/50\n",
      "4157/4157 [==============================] - 0s 39us/step - loss: 0.0218 - accuracy: 0.9959 - val_loss: 0.0786 - val_accuracy: 0.9923\n",
      "Epoch 23/50\n",
      "4157/4157 [==============================] - 0s 40us/step - loss: 0.0215 - accuracy: 0.9959 - val_loss: 0.0770 - val_accuracy: 0.9923\n",
      "Epoch 24/50\n",
      "4157/4157 [==============================] - 0s 40us/step - loss: 0.0209 - accuracy: 0.9959 - val_loss: 0.0748 - val_accuracy: 0.9923\n",
      "Epoch 25/50\n",
      "4157/4157 [==============================] - 0s 47us/step - loss: 0.0206 - accuracy: 0.9959 - val_loss: 0.0736 - val_accuracy: 0.9923\n",
      "Epoch 26/50\n",
      "4157/4157 [==============================] - 0s 53us/step - loss: 0.0202 - accuracy: 0.9962 - val_loss: 0.0729 - val_accuracy: 0.9933\n",
      "Epoch 27/50\n",
      "4157/4157 [==============================] - 0s 49us/step - loss: 0.0200 - accuracy: 0.9962 - val_loss: 0.0711 - val_accuracy: 0.9933\n",
      "Epoch 28/50\n",
      "4157/4157 [==============================] - 0s 47us/step - loss: 0.0197 - accuracy: 0.9962 - val_loss: 0.0702 - val_accuracy: 0.9933\n",
      "Epoch 29/50\n",
      "4157/4157 [==============================] - 0s 40us/step - loss: 0.0194 - accuracy: 0.9962 - val_loss: 0.0692 - val_accuracy: 0.9933\n",
      "Epoch 30/50\n",
      "4157/4157 [==============================] - 0s 40us/step - loss: 0.0191 - accuracy: 0.9966 - val_loss: 0.0685 - val_accuracy: 0.9933\n",
      "Epoch 31/50\n",
      "4157/4157 [==============================] - 0s 40us/step - loss: 0.0188 - accuracy: 0.9962 - val_loss: 0.0669 - val_accuracy: 0.9933\n",
      "Epoch 32/50\n",
      "4157/4157 [==============================] - 0s 41us/step - loss: 0.0184 - accuracy: 0.9964 - val_loss: 0.0667 - val_accuracy: 0.9933\n",
      "Epoch 33/50\n",
      "4157/4157 [==============================] - 0s 39us/step - loss: 0.0182 - accuracy: 0.9962 - val_loss: 0.0654 - val_accuracy: 0.9933\n",
      "Epoch 34/50\n",
      "4157/4157 [==============================] - 0s 41us/step - loss: 0.0181 - accuracy: 0.9964 - val_loss: 0.0643 - val_accuracy: 0.9933\n",
      "Epoch 35/50\n",
      "4157/4157 [==============================] - 0s 39us/step - loss: 0.0178 - accuracy: 0.9964 - val_loss: 0.0624 - val_accuracy: 0.9933\n",
      "Epoch 36/50\n",
      "4157/4157 [==============================] - 0s 38us/step - loss: 0.0176 - accuracy: 0.9964 - val_loss: 0.0612 - val_accuracy: 0.9933\n",
      "Epoch 37/50\n",
      "4157/4157 [==============================] - 0s 38us/step - loss: 0.0174 - accuracy: 0.9964 - val_loss: 0.0616 - val_accuracy: 0.9933\n",
      "Epoch 38/50\n",
      "4157/4157 [==============================] - 0s 38us/step - loss: 0.0171 - accuracy: 0.9966 - val_loss: 0.0608 - val_accuracy: 0.9933\n",
      "Epoch 39/50\n",
      "4157/4157 [==============================] - 0s 39us/step - loss: 0.0170 - accuracy: 0.9964 - val_loss: 0.0595 - val_accuracy: 0.9933\n",
      "Epoch 40/50\n",
      "4157/4157 [==============================] - 0s 39us/step - loss: 0.0167 - accuracy: 0.9966 - val_loss: 0.0585 - val_accuracy: 0.9933\n",
      "Epoch 41/50\n",
      "4157/4157 [==============================] - 0s 36us/step - loss: 0.0166 - accuracy: 0.9964 - val_loss: 0.0580 - val_accuracy: 0.9933\n",
      "Epoch 42/50\n",
      "4157/4157 [==============================] - 0s 41us/step - loss: 0.0164 - accuracy: 0.9964 - val_loss: 0.0578 - val_accuracy: 0.9933\n",
      "Epoch 43/50\n",
      "4157/4157 [==============================] - 0s 41us/step - loss: 0.0162 - accuracy: 0.9964 - val_loss: 0.0567 - val_accuracy: 0.9933\n",
      "Epoch 44/50\n",
      "4157/4157 [==============================] - 0s 39us/step - loss: 0.0159 - accuracy: 0.9966 - val_loss: 0.0567 - val_accuracy: 0.9933\n",
      "Epoch 45/50\n",
      "4157/4157 [==============================] - 0s 41us/step - loss: 0.0157 - accuracy: 0.9966 - val_loss: 0.0546 - val_accuracy: 0.9933\n",
      "Epoch 46/50\n",
      "4157/4157 [==============================] - 0s 39us/step - loss: 0.0156 - accuracy: 0.9966 - val_loss: 0.0539 - val_accuracy: 0.9933\n",
      "Epoch 47/50\n",
      "4157/4157 [==============================] - 0s 41us/step - loss: 0.0154 - accuracy: 0.9966 - val_loss: 0.0543 - val_accuracy: 0.9933\n",
      "Epoch 48/50\n",
      "4157/4157 [==============================] - 0s 39us/step - loss: 0.0152 - accuracy: 0.9969 - val_loss: 0.0538 - val_accuracy: 0.9933\n",
      "Epoch 49/50\n",
      "4157/4157 [==============================] - 0s 41us/step - loss: 0.0150 - accuracy: 0.9966 - val_loss: 0.0527 - val_accuracy: 0.9933\n",
      "Epoch 50/50\n",
      "4157/4157 [==============================] - 0s 39us/step - loss: 0.0149 - accuracy: 0.9969 - val_loss: 0.0524 - val_accuracy: 0.9933\n"
     ]
    }
   ],
   "source": [
    "model = classification()\n",
    "history = model.fit(features_train, target_train, epochs=50, validation_split=0.2)"
   ]
  },
  {
   "cell_type": "code",
   "execution_count": 19,
   "metadata": {},
   "outputs": [
    {
     "data": {
      "text/html": [
       "<div>\n",
       "<style scoped>\n",
       "    .dataframe tbody tr th:only-of-type {\n",
       "        vertical-align: middle;\n",
       "    }\n",
       "\n",
       "    .dataframe tbody tr th {\n",
       "        vertical-align: top;\n",
       "    }\n",
       "\n",
       "    .dataframe thead th {\n",
       "        text-align: right;\n",
       "    }\n",
       "</style>\n",
       "<table border=\"1\" class=\"dataframe\">\n",
       "  <thead>\n",
       "    <tr style=\"text-align: right;\">\n",
       "      <th></th>\n",
       "      <th>val_loss</th>\n",
       "      <th>val_accuracy</th>\n",
       "      <th>loss</th>\n",
       "      <th>accuracy</th>\n",
       "    </tr>\n",
       "  </thead>\n",
       "  <tbody>\n",
       "    <tr>\n",
       "      <td>0</td>\n",
       "      <td>0.4</td>\n",
       "      <td>0.8</td>\n",
       "      <td>0.6</td>\n",
       "      <td>0.8</td>\n",
       "    </tr>\n",
       "    <tr>\n",
       "      <td>1</td>\n",
       "      <td>0.2</td>\n",
       "      <td>0.9</td>\n",
       "      <td>0.3</td>\n",
       "      <td>0.9</td>\n",
       "    </tr>\n",
       "    <tr>\n",
       "      <td>2</td>\n",
       "      <td>0.1</td>\n",
       "      <td>1.0</td>\n",
       "      <td>0.2</td>\n",
       "      <td>0.9</td>\n",
       "    </tr>\n",
       "    <tr>\n",
       "      <td>3</td>\n",
       "      <td>0.1</td>\n",
       "      <td>1.0</td>\n",
       "      <td>0.1</td>\n",
       "      <td>1.0</td>\n",
       "    </tr>\n",
       "    <tr>\n",
       "      <td>4</td>\n",
       "      <td>0.1</td>\n",
       "      <td>1.0</td>\n",
       "      <td>0.1</td>\n",
       "      <td>1.0</td>\n",
       "    </tr>\n",
       "    <tr>\n",
       "      <td>...</td>\n",
       "      <td>...</td>\n",
       "      <td>...</td>\n",
       "      <td>...</td>\n",
       "      <td>...</td>\n",
       "    </tr>\n",
       "    <tr>\n",
       "      <td>45</td>\n",
       "      <td>0.1</td>\n",
       "      <td>1.0</td>\n",
       "      <td>0.0</td>\n",
       "      <td>1.0</td>\n",
       "    </tr>\n",
       "    <tr>\n",
       "      <td>46</td>\n",
       "      <td>0.1</td>\n",
       "      <td>1.0</td>\n",
       "      <td>0.0</td>\n",
       "      <td>1.0</td>\n",
       "    </tr>\n",
       "    <tr>\n",
       "      <td>47</td>\n",
       "      <td>0.1</td>\n",
       "      <td>1.0</td>\n",
       "      <td>0.0</td>\n",
       "      <td>1.0</td>\n",
       "    </tr>\n",
       "    <tr>\n",
       "      <td>48</td>\n",
       "      <td>0.1</td>\n",
       "      <td>1.0</td>\n",
       "      <td>0.0</td>\n",
       "      <td>1.0</td>\n",
       "    </tr>\n",
       "    <tr>\n",
       "      <td>49</td>\n",
       "      <td>0.1</td>\n",
       "      <td>1.0</td>\n",
       "      <td>0.0</td>\n",
       "      <td>1.0</td>\n",
       "    </tr>\n",
       "  </tbody>\n",
       "</table>\n",
       "<p>50 rows × 4 columns</p>\n",
       "</div>"
      ],
      "text/plain": [
       "    val_loss  val_accuracy  loss  accuracy\n",
       "0        0.4           0.8   0.6       0.8\n",
       "1        0.2           0.9   0.3       0.9\n",
       "2        0.1           1.0   0.2       0.9\n",
       "3        0.1           1.0   0.1       1.0\n",
       "4        0.1           1.0   0.1       1.0\n",
       "..       ...           ...   ...       ...\n",
       "45       0.1           1.0   0.0       1.0\n",
       "46       0.1           1.0   0.0       1.0\n",
       "47       0.1           1.0   0.0       1.0\n",
       "48       0.1           1.0   0.0       1.0\n",
       "49       0.1           1.0   0.0       1.0\n",
       "\n",
       "[50 rows x 4 columns]"
      ]
     },
     "execution_count": 19,
     "metadata": {},
     "output_type": "execute_result"
    }
   ],
   "source": [
    "hist = pd.DataFrame(history.history)\n",
    "hist"
   ]
  },
  {
   "cell_type": "markdown",
   "metadata": {},
   "source": [
    "### Plotting training versur Validation Loss\n",
    "The two loss curves and the final loss values should be almost identical."
   ]
  },
  {
   "cell_type": "code",
   "execution_count": 20,
   "metadata": {},
   "outputs": [
    {
     "data": {
      "image/png": "[encoded data removed]",
      "text/plain": [
       "<Figure size 864x432 with 2 Axes>"
      ]
     },
     "metadata": {
      "needs_background": "light"
     },
     "output_type": "display_data"
    }
   ],
   "source": [
    "plt.figure(figsize=(12,6))\n",
    "\n",
    "ax0 = plt.subplot(1,2,1)\n",
    "ax0.set_title('Training Loss Vs Validataion Loss')\n",
    "ax0 = sns.lineplot(history.epoch, hist.loss, label='Training Loss')\n",
    "ax0 = sns.lineplot(history.epoch, hist.val_loss, label='Validation Loss')\n",
    "ax0.set_xlabel('Epochs')\n",
    "ax0.set_ylabel('Loss')\n",
    "\n",
    "ax1 = plt.subplot(1,2,2)\n",
    "ax1.set_title('Training Accuracy Vs Validataion Accuracy')\n",
    "ax1 = sns.lineplot(history.epoch, hist.accuracy, label='Training Accuracy')\n",
    "ax1 = sns.lineplot(history.epoch, hist.val_accuracy, label='Validation Accuracy')\n",
    "ax1.set_xlabel('Epochs')\n",
    "ax1.set_ylabel('Accuracy')\n",
    "plt.show()"
   ]
  },
  {
   "cell_type": "markdown",
   "metadata": {},
   "source": [
    "### Testing the model"
   ]
  },
  {
   "cell_type": "code",
   "execution_count": 21,
   "metadata": {},
   "outputs": [
    {
     "name": "stdout",
     "output_type": "stream",
     "text": [
      "1300/1300 [==============================] - 0s 23us/step\n",
      "Model's loss on test data : 0.022494553838355035 \n",
      "Model's accuracy on test data : 0.9961538314819336\n"
     ]
    }
   ],
   "source": [
    "#model.evaluate returns test loss or list of scalars (if the model has multiple outputs and/or metrics)\n",
    "evaluation = model.evaluate(features_test, target_test)\n",
    "print(\"Model's loss on test data : {} \\nModel's accuracy on test data : {}\".format(evaluation[0], evaluation[1]))"
   ]
  },
  {
   "cell_type": "markdown",
   "metadata": {},
   "source": [
    "### Saving the learned Model"
   ]
  },
  {
   "cell_type": "code",
   "execution_count": 22,
   "metadata": {},
   "outputs": [
    {
     "ename": "FileNotFoundError",
     "evalue": "[Errno 2] No such file or directory: './models/keras-classificaton'",
     "output_type": "error",
     "traceback": [
      "\u001b[0;31m---------------------------------------------------------------------------\u001b[0m",
      "\u001b[0;31mFileNotFoundError\u001b[0m                         Traceback (most recent call last)",
      "\u001b[0;32m<ipython-input-22-7aa3097670db>\u001b[0m in \u001b[0;36m<module>\u001b[0;34m\u001b[0m\n\u001b[1;32m      1\u001b[0m \u001b[0;32mimport\u001b[0m \u001b[0mos\u001b[0m\u001b[0;34m\u001b[0m\u001b[0;34m\u001b[0m\u001b[0m\n\u001b[1;32m      2\u001b[0m \u001b[0;32mif\u001b[0m \u001b[0;32mnot\u001b[0m \u001b[0mos\u001b[0m\u001b[0;34m.\u001b[0m\u001b[0mpath\u001b[0m\u001b[0;34m.\u001b[0m\u001b[0misdir\u001b[0m\u001b[0;34m(\u001b[0m\u001b[0;34m'./models/keras-classificaton'\u001b[0m\u001b[0;34m)\u001b[0m\u001b[0;34m:\u001b[0m\u001b[0;34m\u001b[0m\u001b[0;34m\u001b[0m\u001b[0m\n\u001b[0;32m----> 3\u001b[0;31m     \u001b[0mos\u001b[0m\u001b[0;34m.\u001b[0m\u001b[0mmkdir\u001b[0m\u001b[0;34m(\u001b[0m\u001b[0;34m'./models/keras-classificaton'\u001b[0m\u001b[0;34m)\u001b[0m\u001b[0;34m\u001b[0m\u001b[0;34m\u001b[0m\u001b[0m\n\u001b[0m\u001b[1;32m      4\u001b[0m \u001b[0mmodel\u001b[0m\u001b[0;34m.\u001b[0m\u001b[0msave\u001b[0m\u001b[0;34m(\u001b[0m\u001b[0;34m'./models/keras-classificaton/classification.h5'\u001b[0m\u001b[0;34m)\u001b[0m\u001b[0;34m\u001b[0m\u001b[0;34m\u001b[0m\u001b[0m\n",
      "\u001b[0;31mFileNotFoundError\u001b[0m: [Errno 2] No such file or directory: './models/keras-classificaton'"
     ]
    }
   ],
   "source": [
    "import os\n",
    "if not os.path.isdir('./models/keras-classificaton'):\n",
    "    os.mkdir('./models/keras-classificaton')\n",
    "model.save('./models/keras-classificaton/classification.h5')"
   ]
  },
  {
   "cell_type": "markdown",
   "metadata": {},
   "source": [
    "### Loading the pre-trained model"
   ]
  },
  {
   "cell_type": "code",
   "execution_count": null,
   "metadata": {},
   "outputs": [],
   "source": [
    "from keras.models import load_model\n",
    "pretrained_model = load_model('./models/keras-classificaton/classification.h5')\n",
    "pretrained_model"
   ]
  },
  {
   "cell_type": "code",
   "execution_count": null,
   "metadata": {},
   "outputs": [],
   "source": [
    "pretrained_model.evaluate(features_test, target_test)"
   ]
  },
  {
   "cell_type": "markdown",
   "metadata": {},
   "source": [
    "### Prediction from learned model\n",
    "Softmax outputs the probability of each class, and sum of probability of all the class equals to 1 for each instance"
   ]
  },
  {
   "cell_type": "code",
   "execution_count": null,
   "metadata": {},
   "outputs": [],
   "source": [
    "predictions = model.predict(features_test)\n",
    "predictions"
   ]
  },
  {
   "cell_type": "code",
   "execution_count": null,
   "metadata": {},
   "outputs": [],
   "source": []
  }
 ],
 "metadata": {
  "kernelspec": {
   "display_name": "Python 3",
   "language": "python",
   "name": "python3"
  },
  "language_info": {
   "codemirror_mode": {
    "name": "ipython",
    "version": 3
   },
   "file_extension": ".py",
   "mimetype": "text/x-python",
   "name": "python",
   "nbconvert_exporter": "python",
   "pygments_lexer": "ipython3",
   "version": "3.6.8"
  }
 },
 "nbformat": 4,
 "nbformat_minor": 2
}
